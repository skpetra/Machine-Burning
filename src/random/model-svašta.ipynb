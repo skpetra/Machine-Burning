{
 "cells": [
  {
   "cell_type": "markdown",
   "metadata": {},
   "source": [
    "<h1><center> Klasifikator </center></h1>"
   ]
  },
  {
   "cell_type": "markdown",
   "metadata": {},
   "source": [
    " <center>\n",
    "    <h1><center>Microsoft malware classification</center></h1>\n",
    "    <i>Klasifikacija zlonamjernog softvera</i> \n",
    "    <br><br>\n",
    "    PRIRODOSLOVNO MATEMATIČKI FAKULTET - MATEMATIČKI ODSJEK <br>\n",
    "    <b>Lipanj 2020.</b> \n",
    "    <br><br>\n",
    "    <i>Stanišić Matea, Škrabo Petra, Terzanović Mateja, Tolja Margarita</i>  \n",
    "</center>\n",
    "\n",
    "***"
   ]
  },
  {
   "cell_type": "markdown",
   "metadata": {},
   "source": [
    "Potrebno je u anaconda prompt-u instalirati xgboost s:<br>\n",
    "<code>conda install -c anaconda py-xgboost</code>"
   ]
  },
  {
   "cell_type": "markdown",
   "metadata": {},
   "source": [
    "### Priprema"
   ]
  },
  {
   "cell_type": "code",
   "execution_count": 1,
   "metadata": {},
   "outputs": [],
   "source": [
    "# potrebni paketi\n",
    "import numpy as np\n",
    "from numpy import mean\n",
    "from numpy import std\n",
    "from numpy import loadtxt\n",
    "import pandas as pd\n",
    "import matplotlib.pyplot as plt\n",
    "import matplotlib.cm as cm\n",
    "from matplotlib import pyplot\n",
    "from IPython.core.pylabtools import figsize\n",
    "from collections import Counter\n",
    "import random\n",
    "\n",
    "import xgboost as xgb\n",
    "from xgboost import XGBClassifier\n",
    "from sklearn.metrics import precision_score, log_loss, accuracy_score\n",
    "from sklearn.model_selection import train_test_split, cross_val_score, RepeatedStratifiedKFold, StratifiedKFold, RandomizedSearchCV\n",
    "from sklearn.ensemble import RandomForestClassifier, ExtraTreesClassifier, BaggingClassifier\n",
    "from sklearn.metrics import confusion_matrix\n",
    "from imblearn.over_sampling import RandomOverSampler, SMOTE, ADASYN\n",
    "from imblearn.under_sampling import RandomUnderSampler\n",
    "from sklearn.utils import class_weight"
   ]
  },
  {
   "cell_type": "code",
   "execution_count": 71,
   "metadata": {},
   "outputs": [],
   "source": [
    "# učitavanje svih značajki iz training skupa\n",
    "features = pd.read_csv(\"https://raw.githubusercontent.com/mateastanisic/lfs/master/merged_all_features.csv\")"
   ]
  },
  {
   "cell_type": "code",
   "execution_count": null,
   "metadata": {},
   "outputs": [],
   "source": [
    "# učitavanje svih značajki iz testing skupa\n",
    "#features_test = pd.read_csv(\"https://raw.githubusercontent.com/mateastanisic/lfs/master/merged_test_features.csv\")"
   ]
  },
  {
   "cell_type": "code",
   "execution_count": 74,
   "metadata": {},
   "outputs": [],
   "source": [
    "# učitavanje svih značajki iz training skupa\n",
    "#selected_features = pd.read_csv('feature_selection_cv5')\n",
    "#selected_features = pd.read_csv('selected_features_pca_train_cv2.csv')\n",
    "selected_features = pd.read_csv('selected_features_rfc_train_cv2.csv')"
   ]
  },
  {
   "cell_type": "code",
   "execution_count": 4,
   "metadata": {},
   "outputs": [
    {
     "data": {
      "text/html": [
       "<div>\n",
       "<style scoped>\n",
       "    .dataframe tbody tr th:only-of-type {\n",
       "        vertical-align: middle;\n",
       "    }\n",
       "\n",
       "    .dataframe tbody tr th {\n",
       "        vertical-align: top;\n",
       "    }\n",
       "\n",
       "    .dataframe thead th {\n",
       "        text-align: right;\n",
       "    }\n",
       "</style>\n",
       "<table border=\"1\" class=\"dataframe\">\n",
       "  <thead>\n",
       "    <tr style=\"text-align: right;\">\n",
       "      <th></th>\n",
       "      <th>Id</th>\n",
       "      <th>Class</th>\n",
       "      <th>byte_1G_00</th>\n",
       "      <th>byte_1G_01</th>\n",
       "      <th>byte_1G_02</th>\n",
       "      <th>byte_1G_03</th>\n",
       "      <th>byte_1G_04</th>\n",
       "      <th>byte_1G_05</th>\n",
       "      <th>byte_1G_06</th>\n",
       "      <th>byte_1G_07</th>\n",
       "      <th>...</th>\n",
       "      <th>visualc</th>\n",
       "      <th>___security_cookie</th>\n",
       "      <th>assume</th>\n",
       "      <th>callvirtualalloc</th>\n",
       "      <th>exportedentry</th>\n",
       "      <th>hardware</th>\n",
       "      <th>hkey_current_user</th>\n",
       "      <th>hkey_local_machine</th>\n",
       "      <th>sp-analysisfailed</th>\n",
       "      <th>unableto</th>\n",
       "    </tr>\n",
       "  </thead>\n",
       "  <tbody>\n",
       "    <tr>\n",
       "      <th>0</th>\n",
       "      <td>01kcPWA9K2BOxQeS5Rju</td>\n",
       "      <td>1</td>\n",
       "      <td>21091</td>\n",
       "      <td>1213</td>\n",
       "      <td>726</td>\n",
       "      <td>817</td>\n",
       "      <td>1257</td>\n",
       "      <td>625</td>\n",
       "      <td>550</td>\n",
       "      <td>523</td>\n",
       "      <td>...</td>\n",
       "      <td>0</td>\n",
       "      <td>0</td>\n",
       "      <td>0</td>\n",
       "      <td>0</td>\n",
       "      <td>0</td>\n",
       "      <td>0</td>\n",
       "      <td>0</td>\n",
       "      <td>0</td>\n",
       "      <td>0</td>\n",
       "      <td>0</td>\n",
       "    </tr>\n",
       "    <tr>\n",
       "      <th>1</th>\n",
       "      <td>04EjIdbPV5e1XroFOpiN</td>\n",
       "      <td>1</td>\n",
       "      <td>40030</td>\n",
       "      <td>1980</td>\n",
       "      <td>1226</td>\n",
       "      <td>1193</td>\n",
       "      <td>1971</td>\n",
       "      <td>1096</td>\n",
       "      <td>961</td>\n",
       "      <td>755</td>\n",
       "      <td>...</td>\n",
       "      <td>0</td>\n",
       "      <td>0</td>\n",
       "      <td>0</td>\n",
       "      <td>0</td>\n",
       "      <td>0</td>\n",
       "      <td>0</td>\n",
       "      <td>0</td>\n",
       "      <td>0</td>\n",
       "      <td>0</td>\n",
       "      <td>0</td>\n",
       "    </tr>\n",
       "    <tr>\n",
       "      <th>2</th>\n",
       "      <td>05EeG39MTRrI6VY21DPd</td>\n",
       "      <td>1</td>\n",
       "      <td>19419</td>\n",
       "      <td>955</td>\n",
       "      <td>693</td>\n",
       "      <td>656</td>\n",
       "      <td>832</td>\n",
       "      <td>463</td>\n",
       "      <td>370</td>\n",
       "      <td>510</td>\n",
       "      <td>...</td>\n",
       "      <td>0</td>\n",
       "      <td>0</td>\n",
       "      <td>0</td>\n",
       "      <td>0</td>\n",
       "      <td>0</td>\n",
       "      <td>0</td>\n",
       "      <td>0</td>\n",
       "      <td>0</td>\n",
       "      <td>0</td>\n",
       "      <td>0</td>\n",
       "    </tr>\n",
       "    <tr>\n",
       "      <th>3</th>\n",
       "      <td>05rJTUWYAKNegBk2wE8X</td>\n",
       "      <td>1</td>\n",
       "      <td>79568</td>\n",
       "      <td>6445</td>\n",
       "      <td>3143</td>\n",
       "      <td>2517</td>\n",
       "      <td>4982</td>\n",
       "      <td>1824</td>\n",
       "      <td>2125</td>\n",
       "      <td>2964</td>\n",
       "      <td>...</td>\n",
       "      <td>0</td>\n",
       "      <td>0</td>\n",
       "      <td>2</td>\n",
       "      <td>0</td>\n",
       "      <td>0</td>\n",
       "      <td>0</td>\n",
       "      <td>0</td>\n",
       "      <td>0</td>\n",
       "      <td>0</td>\n",
       "      <td>0</td>\n",
       "    </tr>\n",
       "    <tr>\n",
       "      <th>4</th>\n",
       "      <td>0AnoOZDNbPXIr2MRBSCJ</td>\n",
       "      <td>1</td>\n",
       "      <td>25791</td>\n",
       "      <td>1202</td>\n",
       "      <td>569</td>\n",
       "      <td>750</td>\n",
       "      <td>948</td>\n",
       "      <td>456</td>\n",
       "      <td>405</td>\n",
       "      <td>517</td>\n",
       "      <td>...</td>\n",
       "      <td>0</td>\n",
       "      <td>0</td>\n",
       "      <td>0</td>\n",
       "      <td>0</td>\n",
       "      <td>0</td>\n",
       "      <td>0</td>\n",
       "      <td>0</td>\n",
       "      <td>0</td>\n",
       "      <td>0</td>\n",
       "      <td>0</td>\n",
       "    </tr>\n",
       "  </tbody>\n",
       "</table>\n",
       "<p>5 rows × 1695 columns</p>\n",
       "</div>"
      ],
      "text/plain": [
       "                     Id  Class  byte_1G_00  byte_1G_01  byte_1G_02  \\\n",
       "0  01kcPWA9K2BOxQeS5Rju      1       21091        1213         726   \n",
       "1  04EjIdbPV5e1XroFOpiN      1       40030        1980        1226   \n",
       "2  05EeG39MTRrI6VY21DPd      1       19419         955         693   \n",
       "3  05rJTUWYAKNegBk2wE8X      1       79568        6445        3143   \n",
       "4  0AnoOZDNbPXIr2MRBSCJ      1       25791        1202         569   \n",
       "\n",
       "   byte_1G_03  byte_1G_04  byte_1G_05  byte_1G_06  byte_1G_07  ...  visualc  \\\n",
       "0         817        1257         625         550         523  ...        0   \n",
       "1        1193        1971        1096         961         755  ...        0   \n",
       "2         656         832         463         370         510  ...        0   \n",
       "3        2517        4982        1824        2125        2964  ...        0   \n",
       "4         750         948         456         405         517  ...        0   \n",
       "\n",
       "   ___security_cookie  assume  callvirtualalloc  exportedentry  hardware  \\\n",
       "0                   0       0                 0              0         0   \n",
       "1                   0       0                 0              0         0   \n",
       "2                   0       0                 0              0         0   \n",
       "3                   0       2                 0              0         0   \n",
       "4                   0       0                 0              0         0   \n",
       "\n",
       "   hkey_current_user  hkey_local_machine  sp-analysisfailed  unableto  \n",
       "0                  0                   0                  0         0  \n",
       "1                  0                   0                  0         0  \n",
       "2                  0                   0                  0         0  \n",
       "3                  0                   0                  0         0  \n",
       "4                  0                   0                  0         0  \n",
       "\n",
       "[5 rows x 1695 columns]"
      ]
     },
     "execution_count": 4,
     "metadata": {},
     "output_type": "execute_result"
    }
   ],
   "source": [
    "features.head()"
   ]
  },
  {
   "cell_type": "code",
   "execution_count": 5,
   "metadata": {},
   "outputs": [
    {
     "data": {
      "text/html": [
       "<div>\n",
       "<style scoped>\n",
       "    .dataframe tbody tr th:only-of-type {\n",
       "        vertical-align: middle;\n",
       "    }\n",
       "\n",
       "    .dataframe tbody tr th {\n",
       "        vertical-align: top;\n",
       "    }\n",
       "\n",
       "    .dataframe thead th {\n",
       "        text-align: right;\n",
       "    }\n",
       "</style>\n",
       "<table border=\"1\" class=\"dataframe\">\n",
       "  <thead>\n",
       "    <tr style=\"text-align: right;\">\n",
       "      <th></th>\n",
       "      <th>Unnamed: 0</th>\n",
       "      <th>assume</th>\n",
       "      <th>_acmdln</th>\n",
       "      <th>asm_md_filesize</th>\n",
       "      <th>asm_md_loc</th>\n",
       "      <th>asm_opcodes_call</th>\n",
       "      <th>asm_opcodes_cmp</th>\n",
       "      <th>asm_opcodes_db</th>\n",
       "      <th>asm_opcodes_endp</th>\n",
       "      <th>asm_opcodes_jmp</th>\n",
       "      <th>...</th>\n",
       "      <th>byte_1G_cf</th>\n",
       "      <th>ent_q_diffs_14</th>\n",
       "      <th>byte_1G_dc</th>\n",
       "      <th>byte_1G_9a</th>\n",
       "      <th>asm_opcodes_shr</th>\n",
       "      <th>byte_1G_96</th>\n",
       "      <th>byte_1G_ef</th>\n",
       "      <th>byte_1G_06</th>\n",
       "      <th>byte_1G_d7</th>\n",
       "      <th>byte_1G_8e</th>\n",
       "    </tr>\n",
       "  </thead>\n",
       "  <tbody>\n",
       "    <tr>\n",
       "      <th>0</th>\n",
       "      <td>0</td>\n",
       "      <td>0</td>\n",
       "      <td>0</td>\n",
       "      <td>14726</td>\n",
       "      <td>1276</td>\n",
       "      <td>53</td>\n",
       "      <td>15</td>\n",
       "      <td>139</td>\n",
       "      <td>14</td>\n",
       "      <td>12</td>\n",
       "      <td>...</td>\n",
       "      <td>344</td>\n",
       "      <td>0.013045</td>\n",
       "      <td>522</td>\n",
       "      <td>331</td>\n",
       "      <td>0</td>\n",
       "      <td>375</td>\n",
       "      <td>340</td>\n",
       "      <td>550</td>\n",
       "      <td>403</td>\n",
       "      <td>342</td>\n",
       "    </tr>\n",
       "    <tr>\n",
       "      <th>1</th>\n",
       "      <td>1</td>\n",
       "      <td>0</td>\n",
       "      <td>0</td>\n",
       "      <td>606128</td>\n",
       "      <td>64610</td>\n",
       "      <td>2900</td>\n",
       "      <td>1585</td>\n",
       "      <td>4154</td>\n",
       "      <td>732</td>\n",
       "      <td>1434</td>\n",
       "      <td>...</td>\n",
       "      <td>427</td>\n",
       "      <td>0.063953</td>\n",
       "      <td>421</td>\n",
       "      <td>314</td>\n",
       "      <td>44</td>\n",
       "      <td>267</td>\n",
       "      <td>359</td>\n",
       "      <td>961</td>\n",
       "      <td>307</td>\n",
       "      <td>383</td>\n",
       "    </tr>\n",
       "    <tr>\n",
       "      <th>2</th>\n",
       "      <td>2</td>\n",
       "      <td>0</td>\n",
       "      <td>0</td>\n",
       "      <td>133226</td>\n",
       "      <td>15897</td>\n",
       "      <td>461</td>\n",
       "      <td>320</td>\n",
       "      <td>2949</td>\n",
       "      <td>235</td>\n",
       "      <td>145</td>\n",
       "      <td>...</td>\n",
       "      <td>601</td>\n",
       "      <td>0.045263</td>\n",
       "      <td>328</td>\n",
       "      <td>206</td>\n",
       "      <td>7</td>\n",
       "      <td>182</td>\n",
       "      <td>394</td>\n",
       "      <td>370</td>\n",
       "      <td>481</td>\n",
       "      <td>226</td>\n",
       "    </tr>\n",
       "    <tr>\n",
       "      <th>3</th>\n",
       "      <td>3</td>\n",
       "      <td>2</td>\n",
       "      <td>0</td>\n",
       "      <td>1906854</td>\n",
       "      <td>231388</td>\n",
       "      <td>10686</td>\n",
       "      <td>7071</td>\n",
       "      <td>20682</td>\n",
       "      <td>2214</td>\n",
       "      <td>4605</td>\n",
       "      <td>...</td>\n",
       "      <td>1020</td>\n",
       "      <td>0.007357</td>\n",
       "      <td>1385</td>\n",
       "      <td>670</td>\n",
       "      <td>375</td>\n",
       "      <td>730</td>\n",
       "      <td>1243</td>\n",
       "      <td>2125</td>\n",
       "      <td>1150</td>\n",
       "      <td>988</td>\n",
       "    </tr>\n",
       "    <tr>\n",
       "      <th>4</th>\n",
       "      <td>4</td>\n",
       "      <td>0</td>\n",
       "      <td>0</td>\n",
       "      <td>131451</td>\n",
       "      <td>16827</td>\n",
       "      <td>462</td>\n",
       "      <td>539</td>\n",
       "      <td>3276</td>\n",
       "      <td>98</td>\n",
       "      <td>240</td>\n",
       "      <td>...</td>\n",
       "      <td>384</td>\n",
       "      <td>0.021719</td>\n",
       "      <td>293</td>\n",
       "      <td>255</td>\n",
       "      <td>69</td>\n",
       "      <td>240</td>\n",
       "      <td>310</td>\n",
       "      <td>405</td>\n",
       "      <td>310</td>\n",
       "      <td>298</td>\n",
       "    </tr>\n",
       "  </tbody>\n",
       "</table>\n",
       "<p>5 rows × 187 columns</p>\n",
       "</div>"
      ],
      "text/plain": [
       "   Unnamed: 0  assume  _acmdln  asm_md_filesize  asm_md_loc  asm_opcodes_call  \\\n",
       "0           0       0        0            14726        1276                53   \n",
       "1           1       0        0           606128       64610              2900   \n",
       "2           2       0        0           133226       15897               461   \n",
       "3           3       2        0          1906854      231388             10686   \n",
       "4           4       0        0           131451       16827               462   \n",
       "\n",
       "   asm_opcodes_cmp  asm_opcodes_db  asm_opcodes_endp  asm_opcodes_jmp  ...  \\\n",
       "0               15             139                14               12  ...   \n",
       "1             1585            4154               732             1434  ...   \n",
       "2              320            2949               235              145  ...   \n",
       "3             7071           20682              2214             4605  ...   \n",
       "4              539            3276                98              240  ...   \n",
       "\n",
       "   byte_1G_cf  ent_q_diffs_14  byte_1G_dc  byte_1G_9a  asm_opcodes_shr  \\\n",
       "0         344        0.013045         522         331                0   \n",
       "1         427        0.063953         421         314               44   \n",
       "2         601        0.045263         328         206                7   \n",
       "3        1020        0.007357        1385         670              375   \n",
       "4         384        0.021719         293         255               69   \n",
       "\n",
       "   byte_1G_96  byte_1G_ef  byte_1G_06  byte_1G_d7  byte_1G_8e  \n",
       "0         375         340         550         403         342  \n",
       "1         267         359         961         307         383  \n",
       "2         182         394         370         481         226  \n",
       "3         730        1243        2125        1150         988  \n",
       "4         240         310         405         310         298  \n",
       "\n",
       "[5 rows x 187 columns]"
      ]
     },
     "execution_count": 5,
     "metadata": {},
     "output_type": "execute_result"
    }
   ],
   "source": [
    "selected_features.head()"
   ]
  },
  {
   "cell_type": "code",
   "execution_count": 6,
   "metadata": {},
   "outputs": [],
   "source": [
    "#razdvajanje kategorija značajki\n",
    "one_gram_features = features.iloc[:,2:258]\n",
    "metadata_bytes_features = features.iloc[:,258:260]\n",
    "entropy_features = features.iloc[:,260:462]\n",
    "image_features = features.iloc[:,462:514]\n",
    "string_length_features = features.iloc[:,514:630]\n",
    "metadata_asm_features = features.iloc[:,630:632]\n",
    "symbols_features = features.iloc[:,632:639]\n",
    "opcode_features = features.iloc[:,639:732]\n",
    "reg_features = features.iloc[:,732:758]\n",
    "section_features = features.iloc[:,758:782]\n",
    "dd_features = features.iloc[:,782:806]\n",
    "api_features = features.iloc[:,806:1600]\n",
    "key_features = features.iloc[:,1600:1695]"
   ]
  },
  {
   "cell_type": "code",
   "execution_count": 7,
   "metadata": {},
   "outputs": [],
   "source": [
    "#postavljanje seed-a za podjelu podataka na train i test\n",
    "seed = 42"
   ]
  },
  {
   "cell_type": "code",
   "execution_count": 28,
   "metadata": {},
   "outputs": [],
   "source": [
    "X=selected_features.iloc[:,1:187]\n",
    "y=features.iloc[:,1]"
   ]
  },
  {
   "cell_type": "markdown",
   "metadata": {},
   "source": [
    "### random forest\n",
    "\n"
   ]
  },
  {
   "cell_type": "code",
   "execution_count": null,
   "metadata": {},
   "outputs": [],
   "source": [
    "def random_forest(X_train, X_test, y_train):\n",
    "    clf = RandomForestClassifier(n_estimators=50)\n",
    "    clf.fit(X_train, y_train)\n",
    "    pred_class = clf.predict(X_test)\n",
    "    pred_prob = clf.predict_proba(X_test)\n",
    "    \n",
    "    return pred_class,pred_prob\n",
    "    "
   ]
  },
  {
   "cell_type": "markdown",
   "metadata": {},
   "source": [
    "### extra tree"
   ]
  },
  {
   "cell_type": "code",
   "execution_count": null,
   "metadata": {},
   "outputs": [],
   "source": [
    "def extra_tree(X_train, X_test, y_train):\n",
    "    clf = ExtraTreesClassifier(n_estimators=50)\n",
    "    param_grid = {\n",
    "        'n_estimators': [200, 700],\n",
    "        'max_features': ['auto', 'sqrt', 'log2']\n",
    "    }\n",
    "    clf.fit(X_train, y_train)\n",
    "    pred_class = clf.predict(X_test)\n",
    "    pred_prob = clf.predict_proba(X_test)\n",
    "    \n",
    "    return pred_class,pred_prob"
   ]
  },
  {
   "cell_type": "markdown",
   "metadata": {},
   "source": [
    "### XGBClassifier"
   ]
  },
  {
   "cell_type": "code",
   "execution_count": 13,
   "metadata": {},
   "outputs": [],
   "source": [
    "#početni parametri za XGBClassifier\n",
    "params = {}\n",
    "params['n_estimators'] = 50\n",
    "params['learning_rate'] = 0.5\n",
    "params['max_depth'] = 5\n",
    "params['colsample_bytree'] = 0.5\n",
    "params['objective'] = 'multi:softprob'\n",
    "params['eval_metric'] = 'mlogloss'"
   ]
  },
  {
   "cell_type": "code",
   "execution_count": 14,
   "metadata": {},
   "outputs": [],
   "source": [
    "def xgboost_basic_cl(X_train, X_test, y_train):\n",
    "    \n",
    "    y_train = [int(x-1) for x in y_train]\n",
    "    exgb_classifier = xgb.XGBClassifier()\n",
    "    exgb_classifier.set_params(**params)\n",
    "    exgb_classifier.fit(X_train, y_train)\n",
    "    \n",
    "    preds = exgb_classifier.predict_proba(X_test)\n",
    "    best_preds = exgb_classifier.predict(X_test)\n",
    "    return best_preds, preds"
   ]
  },
  {
   "cell_type": "code",
   "execution_count": 15,
   "metadata": {},
   "outputs": [],
   "source": [
    "def xgboost_weighted_cl(X_train, X_test, y_train):\n",
    "    class_weights = list(class_weight.compute_class_weight('balanced', np.unique(features['Class']),features['Class']))\n",
    "    w_array = np.ones(y_train.shape[0], dtype = 'float')\n",
    "    for i, val in enumerate(y_train):\n",
    "        w_array[i] = class_weights[val-1]\n",
    "      \n",
    "    y_train = [int(x-1) for x in y_train]\n",
    "    \n",
    "    exgb_classifier = xgb.XGBClassifier()\n",
    "    exgb_classifier.set_params(**params)\n",
    "    exgb_classifier.fit(X_train, y_train, sample_weight=w_array)\n",
    "\n",
    "    preds = exgb_classifier.predict_proba(X_test)\n",
    "    best_preds = exgb_classifier.predict(X_test)\n",
    "    return best_preds, preds"
   ]
  },
  {
   "cell_type": "markdown",
   "metadata": {},
   "source": [
    "###  confusion matrix"
   ]
  },
  {
   "cell_type": "code",
   "execution_count": 16,
   "metadata": {},
   "outputs": [],
   "source": [
    "#funkcija koja računa i crta matricu konfuzije\n",
    "def make_and_plot_confusion_matrix(y_test, best_preds):\n",
    "    names = ['class 1', 'class 2','class 3', 'class 4', 'class 5','class 6', 'class 7', 'class 8', 'class 9']\n",
    "    cm = confusion_matrix(y_test, best_preds)\n",
    "    cm = cm.astype('float') / cm.sum(axis=1)[:, np.newaxis]\n",
    "    \n",
    "    norm_conf = []\n",
    "    for i in cm:\n",
    "        a = 0\n",
    "        tmp_arr = []\n",
    "        a = sum(i, 0)\n",
    "        for j in i:\n",
    "            tmp_arr.append(float(j)/float(a))\n",
    "        norm_conf.append(tmp_arr)\n",
    "\n",
    "    fig = plt.figure(figsize(10, 10))\n",
    "    plt.clf()\n",
    "    ax = fig.add_subplot(111)\n",
    "    ax.set_aspect(1)\n",
    "    \n",
    "    res = ax.imshow(np.array(norm_conf), cmap=plt.cm.Blues, interpolation='nearest')\n",
    "\n",
    "    width = len(cm)\n",
    "    height = len(cm[0])\n",
    "\n",
    "    for x in range(width):\n",
    "        for y in range(height):\n",
    "            ax.annotate(str(format(round(cm[x][y], 2))), xy=(y, x), horizontalalignment='center', verticalalignment='center')\n",
    "    plt.title('Confusion matrix')\n",
    "    cb = fig.colorbar(res)\n",
    "    plt.xticks(range(width), names)\n",
    "    plt.yticks(range(height), names)"
   ]
  },
  {
   "cell_type": "markdown",
   "metadata": {},
   "source": [
    "### iteracije"
   ]
  },
  {
   "cell_type": "code",
   "execution_count": 187,
   "metadata": {},
   "outputs": [
    {
     "name": "stdout",
     "output_type": "stream",
     "text": [
      "[0]\ttrain-merror:0.091244\ttrain-mlogloss:1.25458\teval-merror:0.099663\teval-mlogloss:1.2587\n",
      "Multiple eval metrics have been passed: 'eval-mlogloss' will be used for early stopping.\n",
      "\n",
      "Will train until eval-mlogloss hasn't improved in 20 rounds.\n",
      "[1]\ttrain-merror:0.064686\ttrain-mlogloss:0.942098\teval-merror:0.073597\teval-mlogloss:0.952889\n",
      "[2]\ttrain-merror:0.046148\ttrain-mlogloss:0.725049\teval-merror:0.058571\teval-mlogloss:0.741228\n",
      "[3]\ttrain-merror:0.039705\ttrain-mlogloss:0.571801\teval-merror:0.051211\teval-mlogloss:0.590367\n",
      "[4]\ttrain-merror:0.037733\ttrain-mlogloss:0.467121\teval-merror:0.048145\teval-mlogloss:0.488904\n",
      "[5]\ttrain-merror:0.031554\ttrain-mlogloss:0.380244\teval-merror:0.041705\teval-mlogloss:0.405489\n",
      "[6]\ttrain-merror:0.029056\ttrain-mlogloss:0.315508\teval-merror:0.038332\teval-mlogloss:0.343099\n",
      "[7]\ttrain-merror:0.028267\ttrain-mlogloss:0.267502\teval-merror:0.036799\teval-mlogloss:0.296315\n",
      "[8]\ttrain-merror:0.025901\ttrain-mlogloss:0.230397\teval-merror:0.035572\teval-mlogloss:0.261521\n",
      "[9]\ttrain-merror:0.021956\ttrain-mlogloss:0.1991\teval-merror:0.032505\teval-mlogloss:0.232045\n",
      "[10]\ttrain-merror:0.021036\ttrain-mlogloss:0.173299\teval-merror:0.032199\teval-mlogloss:0.206748\n",
      "[11]\ttrain-merror:0.018275\ttrain-mlogloss:0.150045\teval-merror:0.028519\teval-mlogloss:0.185039\n",
      "[12]\ttrain-merror:0.017881\ttrain-mlogloss:0.131695\teval-merror:0.028826\teval-mlogloss:0.167557\n",
      "[13]\ttrain-merror:0.01604\ttrain-mlogloss:0.115421\teval-merror:0.027906\teval-mlogloss:0.152885\n",
      "[14]\ttrain-merror:0.013673\ttrain-mlogloss:0.102945\teval-merror:0.026372\teval-mlogloss:0.140884\n",
      "[15]\ttrain-merror:0.012622\ttrain-mlogloss:0.090991\teval-merror:0.024532\teval-mlogloss:0.129409\n",
      "[16]\ttrain-merror:0.011044\ttrain-mlogloss:0.080982\teval-merror:0.023306\teval-mlogloss:0.120111\n",
      "[17]\ttrain-merror:0.009992\ttrain-mlogloss:0.072386\teval-merror:0.024226\teval-mlogloss:0.112305\n",
      "[18]\ttrain-merror:0.007363\ttrain-mlogloss:0.065561\teval-merror:0.022999\teval-mlogloss:0.105853\n",
      "[19]\ttrain-merror:0.006311\ttrain-mlogloss:0.059308\teval-merror:0.021159\teval-mlogloss:0.100053\n",
      "[20]\ttrain-merror:0.005785\ttrain-mlogloss:0.053819\teval-merror:0.019933\teval-mlogloss:0.094602\n",
      "[21]\ttrain-merror:0.004996\ttrain-mlogloss:0.048662\teval-merror:0.020546\teval-mlogloss:0.09044\n",
      "[22]\ttrain-merror:0.004733\ttrain-mlogloss:0.044443\teval-merror:0.020239\teval-mlogloss:0.087041\n",
      "[23]\ttrain-merror:0.004076\ttrain-mlogloss:0.040382\teval-merror:0.018399\teval-mlogloss:0.083832\n",
      "[24]\ttrain-merror:0.003418\ttrain-mlogloss:0.03689\teval-merror:0.018706\teval-mlogloss:0.080776\n",
      "[25]\ttrain-merror:0.002892\ttrain-mlogloss:0.033871\teval-merror:0.018706\teval-mlogloss:0.078323\n",
      "[26]\ttrain-merror:0.00263\ttrain-mlogloss:0.031199\teval-merror:0.017479\teval-mlogloss:0.075671\n",
      "[27]\ttrain-merror:0.002367\ttrain-mlogloss:0.02879\teval-merror:0.017479\teval-mlogloss:0.073694\n",
      "[28]\ttrain-merror:0.002104\ttrain-mlogloss:0.026342\teval-merror:0.017786\teval-mlogloss:0.071136\n",
      "[29]\ttrain-merror:0.001709\ttrain-mlogloss:0.02427\teval-merror:0.017479\teval-mlogloss:0.068909\n",
      "[30]\ttrain-merror:0.001709\ttrain-mlogloss:0.022245\teval-merror:0.016866\teval-mlogloss:0.066577\n",
      "[31]\ttrain-merror:0.001446\ttrain-mlogloss:0.020684\teval-merror:0.017173\teval-mlogloss:0.065037\n",
      "[32]\ttrain-merror:0.001052\ttrain-mlogloss:0.019034\teval-merror:0.017479\teval-mlogloss:0.063536\n",
      "[33]\ttrain-merror:0.000789\ttrain-mlogloss:0.017647\teval-merror:0.017479\teval-mlogloss:0.061987\n",
      "[34]\ttrain-merror:0.000526\ttrain-mlogloss:0.016459\teval-merror:0.017173\teval-mlogloss:0.060568\n",
      "[35]\ttrain-merror:0.000394\ttrain-mlogloss:0.015285\teval-merror:0.016866\teval-mlogloss:0.059451\n",
      "[36]\ttrain-merror:0.000394\ttrain-mlogloss:0.014207\teval-merror:0.016253\teval-mlogloss:0.058629\n",
      "[37]\ttrain-merror:0.000394\ttrain-mlogloss:0.013277\teval-merror:0.016559\teval-mlogloss:0.057669\n",
      "[38]\ttrain-merror:0.000263\ttrain-mlogloss:0.012478\teval-merror:0.016559\teval-mlogloss:0.056473\n",
      "[39]\ttrain-merror:0.000263\ttrain-mlogloss:0.011632\teval-merror:0.015946\teval-mlogloss:0.055505\n",
      "[40]\ttrain-merror:0.000263\ttrain-mlogloss:0.010979\teval-merror:0.015333\teval-mlogloss:0.054768\n",
      "[41]\ttrain-merror:0.000131\ttrain-mlogloss:0.010303\teval-merror:0.015026\teval-mlogloss:0.054048\n",
      "[42]\ttrain-merror:0.000131\ttrain-mlogloss:0.009488\teval-merror:0.015026\teval-mlogloss:0.053154\n",
      "[43]\ttrain-merror:0\ttrain-mlogloss:0.008823\teval-merror:0.015026\teval-mlogloss:0.052761\n",
      "[44]\ttrain-merror:0\ttrain-mlogloss:0.008358\teval-merror:0.014413\teval-mlogloss:0.05212\n",
      "[45]\ttrain-merror:0\ttrain-mlogloss:0.007857\teval-merror:0.014413\teval-mlogloss:0.051573\n",
      "[46]\ttrain-merror:0\ttrain-mlogloss:0.007398\teval-merror:0.014413\teval-mlogloss:0.051114\n",
      "[47]\ttrain-merror:0\ttrain-mlogloss:0.006944\teval-merror:0.015026\teval-mlogloss:0.050595\n",
      "[48]\ttrain-merror:0\ttrain-mlogloss:0.006574\teval-merror:0.015026\teval-mlogloss:0.050266\n",
      "[49]\ttrain-merror:0\ttrain-mlogloss:0.006183\teval-merror:0.014106\teval-mlogloss:0.049743\n",
      "[50]\ttrain-merror:0\ttrain-mlogloss:0.005848\teval-merror:0.013799\teval-mlogloss:0.049314\n",
      "[51]\ttrain-merror:0\ttrain-mlogloss:0.005524\teval-merror:0.013493\teval-mlogloss:0.048599\n",
      "[52]\ttrain-merror:0\ttrain-mlogloss:0.005218\teval-merror:0.014719\teval-mlogloss:0.048166\n",
      "[53]\ttrain-merror:0\ttrain-mlogloss:0.004989\teval-merror:0.014413\teval-mlogloss:0.047872\n",
      "[54]\ttrain-merror:0\ttrain-mlogloss:0.00474\teval-merror:0.014719\teval-mlogloss:0.048005\n",
      "[55]\ttrain-merror:0\ttrain-mlogloss:0.004546\teval-merror:0.014719\teval-mlogloss:0.047588\n",
      "[56]\ttrain-merror:0\ttrain-mlogloss:0.004307\teval-merror:0.014719\teval-mlogloss:0.047457\n",
      "[57]\ttrain-merror:0\ttrain-mlogloss:0.004084\teval-merror:0.014413\teval-mlogloss:0.047206\n",
      "[58]\ttrain-merror:0\ttrain-mlogloss:0.0039\teval-merror:0.014413\teval-mlogloss:0.046998\n",
      "[59]\ttrain-merror:0\ttrain-mlogloss:0.003721\teval-merror:0.014106\teval-mlogloss:0.047001\n",
      "[60]\ttrain-merror:0\ttrain-mlogloss:0.00357\teval-merror:0.014413\teval-mlogloss:0.046732\n",
      "[61]\ttrain-merror:0\ttrain-mlogloss:0.00343\teval-merror:0.014413\teval-mlogloss:0.04638\n",
      "[62]\ttrain-merror:0\ttrain-mlogloss:0.003284\teval-merror:0.014413\teval-mlogloss:0.046268\n",
      "[63]\ttrain-merror:0\ttrain-mlogloss:0.003136\teval-merror:0.014413\teval-mlogloss:0.046251\n",
      "[64]\ttrain-merror:0\ttrain-mlogloss:0.00301\teval-merror:0.014413\teval-mlogloss:0.046074\n",
      "[65]\ttrain-merror:0\ttrain-mlogloss:0.00288\teval-merror:0.013799\teval-mlogloss:0.045674\n",
      "[66]\ttrain-merror:0\ttrain-mlogloss:0.002786\teval-merror:0.014106\teval-mlogloss:0.045567\n",
      "[67]\ttrain-merror:0\ttrain-mlogloss:0.002688\teval-merror:0.014106\teval-mlogloss:0.045287\n",
      "[68]\ttrain-merror:0\ttrain-mlogloss:0.002593\teval-merror:0.014106\teval-mlogloss:0.04508\n",
      "[69]\ttrain-merror:0\ttrain-mlogloss:0.002508\teval-merror:0.014106\teval-mlogloss:0.045121\n",
      "[70]\ttrain-merror:0\ttrain-mlogloss:0.002426\teval-merror:0.014106\teval-mlogloss:0.04492\n",
      "[71]\ttrain-merror:0\ttrain-mlogloss:0.002345\teval-merror:0.013493\teval-mlogloss:0.044827\n",
      "[72]\ttrain-merror:0\ttrain-mlogloss:0.002264\teval-merror:0.014106\teval-mlogloss:0.044801\n",
      "[73]\ttrain-merror:0\ttrain-mlogloss:0.002193\teval-merror:0.014413\teval-mlogloss:0.044498\n",
      "[74]\ttrain-merror:0\ttrain-mlogloss:0.002128\teval-merror:0.014413\teval-mlogloss:0.04453\n",
      "[75]\ttrain-merror:0\ttrain-mlogloss:0.002067\teval-merror:0.014106\teval-mlogloss:0.044191\n",
      "[76]\ttrain-merror:0\ttrain-mlogloss:0.002002\teval-merror:0.014106\teval-mlogloss:0.044075\n",
      "[77]\ttrain-merror:0\ttrain-mlogloss:0.001943\teval-merror:0.013799\teval-mlogloss:0.04399\n",
      "[78]\ttrain-merror:0\ttrain-mlogloss:0.001899\teval-merror:0.014106\teval-mlogloss:0.044037\n",
      "[79]\ttrain-merror:0\ttrain-mlogloss:0.001853\teval-merror:0.013799\teval-mlogloss:0.043895\n",
      "[80]\ttrain-merror:0\ttrain-mlogloss:0.001799\teval-merror:0.014106\teval-mlogloss:0.044028\n",
      "[81]\ttrain-merror:0\ttrain-mlogloss:0.001758\teval-merror:0.013799\teval-mlogloss:0.043992\n",
      "[82]\ttrain-merror:0\ttrain-mlogloss:0.001711\teval-merror:0.013493\teval-mlogloss:0.04402\n",
      "[83]\ttrain-merror:0\ttrain-mlogloss:0.001667\teval-merror:0.013493\teval-mlogloss:0.044055\n",
      "[84]\ttrain-merror:0\ttrain-mlogloss:0.001633\teval-merror:0.013493\teval-mlogloss:0.04402\n",
      "[85]\ttrain-merror:0\ttrain-mlogloss:0.001599\teval-merror:0.013799\teval-mlogloss:0.043949\n",
      "[86]\ttrain-merror:0\ttrain-mlogloss:0.001567\teval-merror:0.013799\teval-mlogloss:0.043837\n",
      "[87]\ttrain-merror:0\ttrain-mlogloss:0.001533\teval-merror:0.013799\teval-mlogloss:0.043725\n",
      "[88]\ttrain-merror:0\ttrain-mlogloss:0.001497\teval-merror:0.013493\teval-mlogloss:0.043578\n"
     ]
    },
    {
     "name": "stdout",
     "output_type": "stream",
     "text": [
      "[89]\ttrain-merror:0\ttrain-mlogloss:0.001466\teval-merror:0.013799\teval-mlogloss:0.043592\n",
      "[90]\ttrain-merror:0\ttrain-mlogloss:0.00144\teval-merror:0.013799\teval-mlogloss:0.043678\n",
      "[91]\ttrain-merror:0\ttrain-mlogloss:0.001414\teval-merror:0.013799\teval-mlogloss:0.043779\n",
      "[92]\ttrain-merror:0\ttrain-mlogloss:0.001388\teval-merror:0.013799\teval-mlogloss:0.043684\n",
      "[93]\ttrain-merror:0\ttrain-mlogloss:0.001365\teval-merror:0.013799\teval-mlogloss:0.043754\n",
      "[94]\ttrain-merror:0\ttrain-mlogloss:0.001342\teval-merror:0.014106\teval-mlogloss:0.043836\n",
      "[95]\ttrain-merror:0\ttrain-mlogloss:0.001322\teval-merror:0.014106\teval-mlogloss:0.043903\n",
      "[96]\ttrain-merror:0\ttrain-mlogloss:0.001299\teval-merror:0.013799\teval-mlogloss:0.043969\n",
      "[97]\ttrain-merror:0\ttrain-mlogloss:0.001283\teval-merror:0.013799\teval-mlogloss:0.043956\n",
      "[98]\ttrain-merror:0\ttrain-mlogloss:0.001263\teval-merror:0.013799\teval-mlogloss:0.043815\n",
      "[99]\ttrain-merror:0\ttrain-mlogloss:0.00124\teval-merror:0.013799\teval-mlogloss:0.043634\n",
      "[100]\ttrain-merror:0\ttrain-mlogloss:0.001222\teval-merror:0.013493\teval-mlogloss:0.043574\n",
      "[101]\ttrain-merror:0\ttrain-mlogloss:0.001207\teval-merror:0.013493\teval-mlogloss:0.043455\n",
      "[102]\ttrain-merror:0\ttrain-mlogloss:0.001189\teval-merror:0.013493\teval-mlogloss:0.043531\n",
      "[103]\ttrain-merror:0\ttrain-mlogloss:0.001172\teval-merror:0.013186\teval-mlogloss:0.043424\n",
      "[104]\ttrain-merror:0\ttrain-mlogloss:0.001156\teval-merror:0.013493\teval-mlogloss:0.04334\n",
      "[105]\ttrain-merror:0\ttrain-mlogloss:0.001142\teval-merror:0.013493\teval-mlogloss:0.043308\n",
      "[106]\ttrain-merror:0\ttrain-mlogloss:0.00113\teval-merror:0.013493\teval-mlogloss:0.043257\n",
      "[107]\ttrain-merror:0\ttrain-mlogloss:0.001116\teval-merror:0.013493\teval-mlogloss:0.043177\n",
      "[108]\ttrain-merror:0\ttrain-mlogloss:0.001103\teval-merror:0.013493\teval-mlogloss:0.043191\n",
      "[109]\ttrain-merror:0\ttrain-mlogloss:0.001089\teval-merror:0.013493\teval-mlogloss:0.043139\n",
      "[110]\ttrain-merror:0\ttrain-mlogloss:0.001075\teval-merror:0.013493\teval-mlogloss:0.043206\n",
      "[111]\ttrain-merror:0\ttrain-mlogloss:0.001065\teval-merror:0.013493\teval-mlogloss:0.043182\n",
      "[112]\ttrain-merror:0\ttrain-mlogloss:0.001052\teval-merror:0.013493\teval-mlogloss:0.043251\n",
      "[113]\ttrain-merror:0\ttrain-mlogloss:0.001043\teval-merror:0.013799\teval-mlogloss:0.0433\n",
      "[114]\ttrain-merror:0\ttrain-mlogloss:0.001029\teval-merror:0.013493\teval-mlogloss:0.043194\n",
      "[115]\ttrain-merror:0\ttrain-mlogloss:0.001019\teval-merror:0.013493\teval-mlogloss:0.043175\n",
      "[116]\ttrain-merror:0\ttrain-mlogloss:0.00101\teval-merror:0.013493\teval-mlogloss:0.043091\n",
      "[117]\ttrain-merror:0\ttrain-mlogloss:0.000999\teval-merror:0.013493\teval-mlogloss:0.043088\n",
      "[118]\ttrain-merror:0\ttrain-mlogloss:0.000989\teval-merror:0.013493\teval-mlogloss:0.043063\n",
      "[119]\ttrain-merror:0\ttrain-mlogloss:0.000979\teval-merror:0.013493\teval-mlogloss:0.043121\n",
      "[120]\ttrain-merror:0\ttrain-mlogloss:0.000969\teval-merror:0.013493\teval-mlogloss:0.043097\n",
      "[121]\ttrain-merror:0\ttrain-mlogloss:0.00096\teval-merror:0.013493\teval-mlogloss:0.043082\n",
      "[122]\ttrain-merror:0\ttrain-mlogloss:0.000949\teval-merror:0.013186\teval-mlogloss:0.043087\n",
      "[123]\ttrain-merror:0\ttrain-mlogloss:0.000942\teval-merror:0.013186\teval-mlogloss:0.043183\n",
      "[124]\ttrain-merror:0\ttrain-mlogloss:0.000935\teval-merror:0.013493\teval-mlogloss:0.043143\n",
      "[125]\ttrain-merror:0\ttrain-mlogloss:0.000927\teval-merror:0.013493\teval-mlogloss:0.043189\n",
      "[126]\ttrain-merror:0\ttrain-mlogloss:0.000921\teval-merror:0.013493\teval-mlogloss:0.043118\n",
      "[127]\ttrain-merror:0\ttrain-mlogloss:0.000914\teval-merror:0.013493\teval-mlogloss:0.043078\n",
      "[128]\ttrain-merror:0\ttrain-mlogloss:0.000907\teval-merror:0.013493\teval-mlogloss:0.043076\n",
      "[129]\ttrain-merror:0\ttrain-mlogloss:0.000898\teval-merror:0.013493\teval-mlogloss:0.043083\n",
      "[130]\ttrain-merror:0\ttrain-mlogloss:0.000892\teval-merror:0.013186\teval-mlogloss:0.043077\n",
      "[131]\ttrain-merror:0\ttrain-mlogloss:0.000885\teval-merror:0.013186\teval-mlogloss:0.043083\n",
      "[132]\ttrain-merror:0\ttrain-mlogloss:0.000878\teval-merror:0.013186\teval-mlogloss:0.043074\n",
      "[133]\ttrain-merror:0\ttrain-mlogloss:0.000871\teval-merror:0.013186\teval-mlogloss:0.043084\n",
      "[134]\ttrain-merror:0\ttrain-mlogloss:0.000866\teval-merror:0.013186\teval-mlogloss:0.043078\n",
      "[135]\ttrain-merror:0\ttrain-mlogloss:0.00086\teval-merror:0.013186\teval-mlogloss:0.043084\n",
      "[136]\ttrain-merror:0\ttrain-mlogloss:0.000854\teval-merror:0.013186\teval-mlogloss:0.043158\n",
      "[137]\ttrain-merror:0\ttrain-mlogloss:0.000847\teval-merror:0.012879\teval-mlogloss:0.043102\n",
      "[138]\ttrain-merror:0\ttrain-mlogloss:0.000842\teval-merror:0.012879\teval-mlogloss:0.043142\n",
      "Stopping. Best iteration:\n",
      "[118]\ttrain-merror:0\ttrain-mlogloss:0.000989\teval-merror:0.013493\teval-mlogloss:0.043063\n",
      "\n"
     ]
    }
   ],
   "source": [
    "#promatramo što se događa kako raste broj iteracija\n",
    "X_train, X_test, y_train, y_test = train_test_split( X, features['Class'], test_size=0.3, random_state=47)\n",
    "y_train = [int(x-1) for x in y_train]\n",
    "y_test = [int(x-1) for x in y_test]\n",
    "\n",
    "dtrain = xgb.DMatrix(X_train, label=y_train)\n",
    "dtest = xgb.DMatrix(X_test, label=y_test)\n",
    "watchlist = [(dtrain, 'train'), (dtest, 'eval')]\n",
    "results=dict()\n",
    "evals = (dtest,y_test)\n",
    "bst = xgb.train(param, dtrain, 300, early_stopping_rounds=20, evals=watchlist, evals_result=results, verbose_eval=True)\n"
   ]
  },
  {
   "cell_type": "code",
   "execution_count": 154,
   "metadata": {},
   "outputs": [
    {
     "data": {
      "image/png": "[encoded data removed]",
      "text/plain": [
       "<Figure size 720x720 with 1 Axes>"
      ]
     },
     "metadata": {
      "needs_background": "light"
     },
     "output_type": "display_data"
    },
    {
     "data": {
      "image/png": "[encoded data removed]",
      "text/plain": [
       "<Figure size 720x720 with 1 Axes>"
      ]
     },
     "metadata": {
      "needs_background": "light"
     },
     "output_type": "display_data"
    }
   ],
   "source": [
    "epochs = len(results['train']['merror'])\n",
    "x_axis = range(0, epochs)\n",
    "# plot log loss\n",
    "fig, ax = pyplot.subplots()\n",
    "ax.plot(x_axis, results['train']['mlogloss'], label='Train')\n",
    "ax.plot(x_axis, results['eval']['mlogloss'], label='Test')\n",
    "ax.legend()\n",
    "pyplot.ylabel('Log Loss')\n",
    "pyplot.title('XGBoost Log Loss')\n",
    "pyplot.show()\n",
    "# plot classification error\n",
    "fig, ax = pyplot.subplots()\n",
    "ax.plot(x_axis, results['train']['merror'], label='Train')\n",
    "ax.plot(x_axis, results['eval']['merror'], label='Test')\n",
    "ax.legend()\n",
    "pyplot.ylabel('Classification Error')\n",
    "pyplot.title('XGBoost Classification Error')\n",
    "pyplot.show()"
   ]
  },
  {
   "cell_type": "markdown",
   "metadata": {},
   "source": [
    "### iteracije za XGBClassifier"
   ]
  },
  {
   "cell_type": "code",
   "execution_count": 29,
   "metadata": {},
   "outputs": [
    {
     "name": "stdout",
     "output_type": "stream",
     "text": [
      "[0]\tvalidation_0-merror:0.017355\tvalidation_0-mlogloss:0.567808\tvalidation_1-merror:0.024532\tvalidation_1-mlogloss:0.585672\n",
      "Multiple eval metrics have been passed: 'validation_1-mlogloss' will be used for early stopping.\n",
      "\n",
      "Will train until validation_1-mlogloss hasn't improved in 15 rounds.\n",
      "[1]\tvalidation_0-merror:0.006705\tvalidation_0-mlogloss:0.334902\tvalidation_1-merror:0.01196\tvalidation_1-mlogloss:0.355346\n",
      "[2]\tvalidation_0-merror:0.004865\tvalidation_0-mlogloss:0.2052\tvalidation_1-merror:0.010426\tvalidation_1-mlogloss:0.227883\n",
      "[3]\tvalidation_0-merror:0.003024\tvalidation_0-mlogloss:0.128997\tvalidation_1-merror:0.0092\tvalidation_1-mlogloss:0.151882\n",
      "[4]\tvalidation_0-merror:0.001972\tvalidation_0-mlogloss:0.081279\tvalidation_1-merror:0.008893\tvalidation_1-mlogloss:0.104902\n",
      "[5]\tvalidation_0-merror:0.001183\tvalidation_0-mlogloss:0.051999\tvalidation_1-merror:0.009506\tvalidation_1-mlogloss:0.076436\n",
      "[6]\tvalidation_0-merror:0.000789\tvalidation_0-mlogloss:0.033536\tvalidation_1-merror:0.00828\tvalidation_1-mlogloss:0.056934\n",
      "[7]\tvalidation_0-merror:0.000394\tvalidation_0-mlogloss:0.021901\tvalidation_1-merror:0.00828\tvalidation_1-mlogloss:0.044433\n",
      "[8]\tvalidation_0-merror:0.000131\tvalidation_0-mlogloss:0.014696\tvalidation_1-merror:0.007666\tvalidation_1-mlogloss:0.036642\n",
      "[9]\tvalidation_0-merror:0\tvalidation_0-mlogloss:0.010091\tvalidation_1-merror:0.00736\tvalidation_1-mlogloss:0.030538\n",
      "[10]\tvalidation_0-merror:0\tvalidation_0-mlogloss:0.007197\tvalidation_1-merror:0.007053\tvalidation_1-mlogloss:0.026766\n",
      "[11]\tvalidation_0-merror:0\tvalidation_0-mlogloss:0.005284\tvalidation_1-merror:0.006746\tvalidation_1-mlogloss:0.023905\n",
      "[12]\tvalidation_0-merror:0\tvalidation_0-mlogloss:0.004024\tvalidation_1-merror:0.006746\tvalidation_1-mlogloss:0.022558\n",
      "[13]\tvalidation_0-merror:0\tvalidation_0-mlogloss:0.003207\tvalidation_1-merror:0.00644\tvalidation_1-mlogloss:0.021581\n",
      "[14]\tvalidation_0-merror:0\tvalidation_0-mlogloss:0.002613\tvalidation_1-merror:0.00644\tvalidation_1-mlogloss:0.020845\n",
      "[15]\tvalidation_0-merror:0\tvalidation_0-mlogloss:0.002188\tvalidation_1-merror:0.00644\tvalidation_1-mlogloss:0.020535\n",
      "[16]\tvalidation_0-merror:0\tvalidation_0-mlogloss:0.001885\tvalidation_1-merror:0.005826\tvalidation_1-mlogloss:0.01976\n",
      "[17]\tvalidation_0-merror:0\tvalidation_0-mlogloss:0.001655\tvalidation_1-merror:0.005826\tvalidation_1-mlogloss:0.019152\n",
      "[18]\tvalidation_0-merror:0\tvalidation_0-mlogloss:0.001484\tvalidation_1-merror:0.006133\tvalidation_1-mlogloss:0.018969\n",
      "[19]\tvalidation_0-merror:0\tvalidation_0-mlogloss:0.001349\tvalidation_1-merror:0.005826\tvalidation_1-mlogloss:0.018924\n",
      "[20]\tvalidation_0-merror:0\tvalidation_0-mlogloss:0.001234\tvalidation_1-merror:0.00552\tvalidation_1-mlogloss:0.018568\n",
      "[21]\tvalidation_0-merror:0\tvalidation_0-mlogloss:0.001141\tvalidation_1-merror:0.00552\tvalidation_1-mlogloss:0.018604\n",
      "[22]\tvalidation_0-merror:0\tvalidation_0-mlogloss:0.001083\tvalidation_1-merror:0.00552\tvalidation_1-mlogloss:0.01859\n",
      "[23]\tvalidation_0-merror:0\tvalidation_0-mlogloss:0.001032\tvalidation_1-merror:0.005213\tvalidation_1-mlogloss:0.018452\n",
      "[24]\tvalidation_0-merror:0\tvalidation_0-mlogloss:0.000991\tvalidation_1-merror:0.005213\tvalidation_1-mlogloss:0.018445\n",
      "[25]\tvalidation_0-merror:0\tvalidation_0-mlogloss:0.000956\tvalidation_1-merror:0.005213\tvalidation_1-mlogloss:0.018484\n",
      "[26]\tvalidation_0-merror:0\tvalidation_0-mlogloss:0.000919\tvalidation_1-merror:0.00552\tvalidation_1-mlogloss:0.018451\n",
      "[27]\tvalidation_0-merror:0\tvalidation_0-mlogloss:0.00089\tvalidation_1-merror:0.005213\tvalidation_1-mlogloss:0.018278\n",
      "[28]\tvalidation_0-merror:0\tvalidation_0-mlogloss:0.000867\tvalidation_1-merror:0.005213\tvalidation_1-mlogloss:0.018225\n",
      "[29]\tvalidation_0-merror:0\tvalidation_0-mlogloss:0.000845\tvalidation_1-merror:0.0046\tvalidation_1-mlogloss:0.018169\n",
      "[30]\tvalidation_0-merror:0\tvalidation_0-mlogloss:0.000825\tvalidation_1-merror:0.004906\tvalidation_1-mlogloss:0.018255\n",
      "[31]\tvalidation_0-merror:0\tvalidation_0-mlogloss:0.000808\tvalidation_1-merror:0.005213\tvalidation_1-mlogloss:0.018266\n",
      "[32]\tvalidation_0-merror:0\tvalidation_0-mlogloss:0.000791\tvalidation_1-merror:0.004906\tvalidation_1-mlogloss:0.018322\n",
      "[33]\tvalidation_0-merror:0\tvalidation_0-mlogloss:0.000776\tvalidation_1-merror:0.004906\tvalidation_1-mlogloss:0.018366\n",
      "[34]\tvalidation_0-merror:0\tvalidation_0-mlogloss:0.000762\tvalidation_1-merror:0.0046\tvalidation_1-mlogloss:0.01827\n",
      "[35]\tvalidation_0-merror:0\tvalidation_0-mlogloss:0.000748\tvalidation_1-merror:0.0046\tvalidation_1-mlogloss:0.01825\n",
      "[36]\tvalidation_0-merror:0\tvalidation_0-mlogloss:0.000731\tvalidation_1-merror:0.0046\tvalidation_1-mlogloss:0.018293\n",
      "[37]\tvalidation_0-merror:0\tvalidation_0-mlogloss:0.00072\tvalidation_1-merror:0.0046\tvalidation_1-mlogloss:0.018308\n",
      "[38]\tvalidation_0-merror:0\tvalidation_0-mlogloss:0.00071\tvalidation_1-merror:0.004906\tvalidation_1-mlogloss:0.01831\n",
      "[39]\tvalidation_0-merror:0\tvalidation_0-mlogloss:0.000701\tvalidation_1-merror:0.004906\tvalidation_1-mlogloss:0.018362\n",
      "[40]\tvalidation_0-merror:0\tvalidation_0-mlogloss:0.000693\tvalidation_1-merror:0.004906\tvalidation_1-mlogloss:0.018363\n",
      "[41]\tvalidation_0-merror:0\tvalidation_0-mlogloss:0.000683\tvalidation_1-merror:0.004906\tvalidation_1-mlogloss:0.01833\n",
      "[42]\tvalidation_0-merror:0\tvalidation_0-mlogloss:0.000675\tvalidation_1-merror:0.004906\tvalidation_1-mlogloss:0.018316\n",
      "[43]\tvalidation_0-merror:0\tvalidation_0-mlogloss:0.000668\tvalidation_1-merror:0.004906\tvalidation_1-mlogloss:0.0183\n",
      "[44]\tvalidation_0-merror:0\tvalidation_0-mlogloss:0.000661\tvalidation_1-merror:0.004906\tvalidation_1-mlogloss:0.018232\n",
      "Stopping. Best iteration:\n",
      "[29]\tvalidation_0-merror:0\tvalidation_0-mlogloss:0.000845\tvalidation_1-merror:0.0046\tvalidation_1-mlogloss:0.018169\n",
      "\n"
     ]
    },
    {
     "data": {
      "text/plain": [
       "XGBClassifier(base_score=0.5, booster='gbtree', colsample_bylevel=1,\n",
       "              colsample_bynode=1, colsample_bytree=0.5, gamma=0,\n",
       "              learning_rate=0.5, max_delta_step=0, max_depth=5,\n",
       "              min_child_weight=1, missing=None, n_estimators=300, n_jobs=1,\n",
       "              nthread=None, objective='multi:softprob', random_state=0,\n",
       "              reg_alpha=0, reg_lambda=1, scale_pos_weight=1, seed=None,\n",
       "              silent=None, subsample=1, verbosity=1)"
      ]
     },
     "execution_count": 29,
     "metadata": {},
     "output_type": "execute_result"
    }
   ],
   "source": [
    "X_train, X_test, y_train, y_test = train_test_split( X, features['Class'], test_size=0.3, random_state=47)\n",
    "eval_set = [(X_train, y_train), (X_test, y_test)]\n",
    "\n",
    "model = xgb.XGBClassifier()\n",
    "params['n_estimators'] = 300\n",
    "model.set_params(**params)\n",
    "model.fit(X_train, y_train, early_stopping_rounds=15, eval_metric=[\"merror\", \"mlogloss\"], eval_set=eval_set, verbose=True)\n",
    "\n"
   ]
  },
  {
   "cell_type": "code",
   "execution_count": 30,
   "metadata": {},
   "outputs": [
    {
     "data": {
      "image/png": "[encoded data removed]",
      "text/plain": [
       "<Figure size 432x288 with 1 Axes>"
      ]
     },
     "metadata": {
      "needs_background": "light"
     },
     "output_type": "display_data"
    },
    {
     "data": {
      "image/png": "[encoded data removed]",
      "text/plain": [
       "<Figure size 432x288 with 1 Axes>"
      ]
     },
     "metadata": {
      "needs_background": "light"
     },
     "output_type": "display_data"
    }
   ],
   "source": [
    "# retrieve performance metrics\n",
    "results = model.evals_result()\n",
    "epochs = len(results['validation_0']['merror'])\n",
    "x_axis = range(0, epochs)\n",
    "# plot log loss\n",
    "fig, ax = pyplot.subplots()\n",
    "ax.plot(x_axis, results['validation_0']['mlogloss'], label='Train')\n",
    "ax.plot(x_axis, results['validation_1']['mlogloss'], label='Test')\n",
    "ax.legend()\n",
    "pyplot.ylabel('Log Loss')\n",
    "pyplot.title('XGBoost Log Loss')\n",
    "pyplot.show()\n",
    "# plot classification error\n",
    "fig, ax = pyplot.subplots()\n",
    "ax.plot(x_axis, results['validation_0']['merror'], label='Train')\n",
    "ax.plot(x_axis, results['validation_1']['merror'], label='Test')\n",
    "ax.legend()\n",
    "pyplot.ylabel('Classification Error')\n",
    "pyplot.title('XGBoost Classification Error')\n",
    "pyplot.show()"
   ]
  },
  {
   "cell_type": "code",
   "execution_count": 31,
   "metadata": {},
   "outputs": [],
   "source": [
    "params['n_estimators'] = 29"
   ]
  },
  {
   "cell_type": "markdown",
   "metadata": {},
   "source": [
    "Mislim da sada stvarno mogu zaključiti da su gornja dva pristupa jednaka. Mnogo puta su mi ispadali dosta drugačiji rezultati,\n",
    "ali sam zaključila da te to zbog razlike u parametrima. Neki se drugačije zovu, neki se koriste skroz drugačije. Za sada nek \n",
    "stoje oba pristupa pa ćemo vidjeti koji je najzgodniji za korištenje na kraju. Ne znam više gdje se labele trebaju smanjit \n",
    "za 1, a gdje ne. Isprike što nisam konzistentna."
   ]
  },
  {
   "cell_type": "markdown",
   "metadata": {},
   "source": [
    "### testiranje parametara"
   ]
  },
  {
   "cell_type": "code",
   "execution_count": 34,
   "metadata": {},
   "outputs": [],
   "source": [
    "model_XGB = xgb.XGBClassifier(n_estimators =29, objective= 'multi:softprob')"
   ]
  },
  {
   "cell_type": "code",
   "execution_count": 35,
   "metadata": {},
   "outputs": [],
   "source": [
    "max_depth_range = list(range(3,10))\n",
    "\n",
    "learning_rate_range = list(range(1, 5))\n",
    "learning_rate_range = [x / 10 for x in learning_rate_range]\n",
    "#learning_rate_range.append(0.01)\n",
    "\n",
    "colsample_bytree_range = list(range(5, 10))\n",
    "colsample_bytree_range = [x / 10 for x in colsample_bytree_range]\n",
    "\n",
    "#gamma_range = list()\n",
    "#gamma_range.append(0)\n",
    "#gamma_range.append(1)\n",
    "#gamma_range.append(5)\n",
    "\n",
    "param_ranges = dict(learning_rate = learning_rate_range,\n",
    "                      max_depth=max_depth_range,\n",
    "                     colsample_bytree=colsample_bytree_range)"
   ]
  },
  {
   "cell_type": "code",
   "execution_count": 36,
   "metadata": {},
   "outputs": [
    {
     "data": {
      "text/plain": [
       "RandomizedSearchCV(cv=10, error_score=nan,\n",
       "                   estimator=XGBClassifier(base_score=0.5, booster='gbtree',\n",
       "                                           colsample_bylevel=1,\n",
       "                                           colsample_bynode=1,\n",
       "                                           colsample_bytree=1, gamma=0,\n",
       "                                           learning_rate=0.1, max_delta_step=0,\n",
       "                                           max_depth=3, min_child_weight=1,\n",
       "                                           missing=None, n_estimators=29,\n",
       "                                           n_jobs=1, nthread=None,\n",
       "                                           objective='multi:softprob',\n",
       "                                           random_state=0, reg_alpha=0,\n",
       "                                           reg_lambda=1, scale_pos_weight=1,\n",
       "                                           seed=None, silent=None, subsample=1,\n",
       "                                           verbosity=1),\n",
       "                   iid='deprecated', n_iter=20, n_jobs=None,\n",
       "                   param_distributions={'colsample_bytree': [0.5, 0.6, 0.7, 0.8,\n",
       "                                                             0.9],\n",
       "                                        'learning_rate': [0.1, 0.2, 0.3, 0.4],\n",
       "                                        'max_depth': [3, 4, 5, 6, 7, 8, 9]},\n",
       "                   pre_dispatch='2*n_jobs', random_state=5, refit=True,\n",
       "                   return_train_score=False, scoring='accuracy', verbose=0)"
      ]
     },
     "execution_count": 36,
     "metadata": {},
     "output_type": "execute_result"
    }
   ],
   "source": [
    "# koristimo RandomizedSearchCV za testiranje parametara\n",
    "rand_search = RandomizedSearchCV(model_XGB, param_ranges, cv=10, scoring='accuracy', n_iter=20, random_state=5, return_train_score=False)\n",
    "rand_search.fit(X, y)"
   ]
  },
  {
   "cell_type": "code",
   "execution_count": 37,
   "metadata": {},
   "outputs": [
    {
     "data": {
      "text/html": [
       "<div>\n",
       "<style scoped>\n",
       "    .dataframe tbody tr th:only-of-type {\n",
       "        vertical-align: middle;\n",
       "    }\n",
       "\n",
       "    .dataframe tbody tr th {\n",
       "        vertical-align: top;\n",
       "    }\n",
       "\n",
       "    .dataframe thead th {\n",
       "        text-align: right;\n",
       "    }\n",
       "</style>\n",
       "<table border=\"1\" class=\"dataframe\">\n",
       "  <thead>\n",
       "    <tr style=\"text-align: right;\">\n",
       "      <th></th>\n",
       "      <th>mean_test_score</th>\n",
       "      <th>params</th>\n",
       "    </tr>\n",
       "  </thead>\n",
       "  <tbody>\n",
       "    <tr>\n",
       "      <th>0</th>\n",
       "      <td>0.995767</td>\n",
       "      <td>{'max_depth': 4, 'learning_rate': 0.3, 'colsample_bytree': 0.6}</td>\n",
       "    </tr>\n",
       "    <tr>\n",
       "      <th>1</th>\n",
       "      <td>0.994663</td>\n",
       "      <td>{'max_depth': 7, 'learning_rate': 0.1, 'colsample_bytree': 0.7}</td>\n",
       "    </tr>\n",
       "    <tr>\n",
       "      <th>2</th>\n",
       "      <td>0.995583</td>\n",
       "      <td>{'max_depth': 9, 'learning_rate': 0.3, 'colsample_bytree': 0.6}</td>\n",
       "    </tr>\n",
       "    <tr>\n",
       "      <th>3</th>\n",
       "      <td>0.994203</td>\n",
       "      <td>{'max_depth': 8, 'learning_rate': 0.1, 'colsample_bytree': 0.9}</td>\n",
       "    </tr>\n",
       "    <tr>\n",
       "      <th>4</th>\n",
       "      <td>0.996043</td>\n",
       "      <td>{'max_depth': 8, 'learning_rate': 0.4, 'colsample_bytree': 0.6}</td>\n",
       "    </tr>\n",
       "    <tr>\n",
       "      <th>5</th>\n",
       "      <td>0.995767</td>\n",
       "      <td>{'max_depth': 6, 'learning_rate': 0.2, 'colsample_bytree': 0.7}</td>\n",
       "    </tr>\n",
       "    <tr>\n",
       "      <th>6</th>\n",
       "      <td>0.995767</td>\n",
       "      <td>{'max_depth': 6, 'learning_rate': 0.2, 'colsample_bytree': 0.8}</td>\n",
       "    </tr>\n",
       "    <tr>\n",
       "      <th>7</th>\n",
       "      <td>0.995951</td>\n",
       "      <td>{'max_depth': 5, 'learning_rate': 0.4, 'colsample_bytree': 0.5}</td>\n",
       "    </tr>\n",
       "    <tr>\n",
       "      <th>8</th>\n",
       "      <td>0.994755</td>\n",
       "      <td>{'max_depth': 8, 'learning_rate': 0.1, 'colsample_bytree': 0.8}</td>\n",
       "    </tr>\n",
       "    <tr>\n",
       "      <th>9</th>\n",
       "      <td>0.995859</td>\n",
       "      <td>{'max_depth': 7, 'learning_rate': 0.4, 'colsample_bytree': 0.5}</td>\n",
       "    </tr>\n",
       "    <tr>\n",
       "      <th>10</th>\n",
       "      <td>0.995583</td>\n",
       "      <td>{'max_depth': 7, 'learning_rate': 0.3, 'colsample_bytree': 0.8}</td>\n",
       "    </tr>\n",
       "    <tr>\n",
       "      <th>11</th>\n",
       "      <td>0.995767</td>\n",
       "      <td>{'max_depth': 3, 'learning_rate': 0.4, 'colsample_bytree': 0.5}</td>\n",
       "    </tr>\n",
       "    <tr>\n",
       "      <th>12</th>\n",
       "      <td>0.995767</td>\n",
       "      <td>{'max_depth': 8, 'learning_rate': 0.3, 'colsample_bytree': 0.7}</td>\n",
       "    </tr>\n",
       "    <tr>\n",
       "      <th>13</th>\n",
       "      <td>0.995215</td>\n",
       "      <td>{'max_depth': 8, 'learning_rate': 0.2, 'colsample_bytree': 0.6}</td>\n",
       "    </tr>\n",
       "    <tr>\n",
       "      <th>14</th>\n",
       "      <td>0.995399</td>\n",
       "      <td>{'max_depth': 8, 'learning_rate': 0.2, 'colsample_bytree': 0.5}</td>\n",
       "    </tr>\n",
       "    <tr>\n",
       "      <th>15</th>\n",
       "      <td>0.996319</td>\n",
       "      <td>{'max_depth': 4, 'learning_rate': 0.4, 'colsample_bytree': 0.6}</td>\n",
       "    </tr>\n",
       "    <tr>\n",
       "      <th>16</th>\n",
       "      <td>0.995583</td>\n",
       "      <td>{'max_depth': 6, 'learning_rate': 0.2, 'colsample_bytree': 0.5}</td>\n",
       "    </tr>\n",
       "    <tr>\n",
       "      <th>17</th>\n",
       "      <td>0.995675</td>\n",
       "      <td>{'max_depth': 9, 'learning_rate': 0.4, 'colsample_bytree': 0.8}</td>\n",
       "    </tr>\n",
       "    <tr>\n",
       "      <th>18</th>\n",
       "      <td>0.995951</td>\n",
       "      <td>{'max_depth': 7, 'learning_rate': 0.4, 'colsample_bytree': 0.8}</td>\n",
       "    </tr>\n",
       "    <tr>\n",
       "      <th>19</th>\n",
       "      <td>0.995307</td>\n",
       "      <td>{'max_depth': 7, 'learning_rate': 0.3, 'colsample_bytree': 0.7}</td>\n",
       "    </tr>\n",
       "  </tbody>\n",
       "</table>\n",
       "</div>"
      ],
      "text/plain": [
       "    mean_test_score  \\\n",
       "0          0.995767   \n",
       "1          0.994663   \n",
       "2          0.995583   \n",
       "3          0.994203   \n",
       "4          0.996043   \n",
       "5          0.995767   \n",
       "6          0.995767   \n",
       "7          0.995951   \n",
       "8          0.994755   \n",
       "9          0.995859   \n",
       "10         0.995583   \n",
       "11         0.995767   \n",
       "12         0.995767   \n",
       "13         0.995215   \n",
       "14         0.995399   \n",
       "15         0.996319   \n",
       "16         0.995583   \n",
       "17         0.995675   \n",
       "18         0.995951   \n",
       "19         0.995307   \n",
       "\n",
       "                                                             params  \n",
       "0   {'max_depth': 4, 'learning_rate': 0.3, 'colsample_bytree': 0.6}  \n",
       "1   {'max_depth': 7, 'learning_rate': 0.1, 'colsample_bytree': 0.7}  \n",
       "2   {'max_depth': 9, 'learning_rate': 0.3, 'colsample_bytree': 0.6}  \n",
       "3   {'max_depth': 8, 'learning_rate': 0.1, 'colsample_bytree': 0.9}  \n",
       "4   {'max_depth': 8, 'learning_rate': 0.4, 'colsample_bytree': 0.6}  \n",
       "5   {'max_depth': 6, 'learning_rate': 0.2, 'colsample_bytree': 0.7}  \n",
       "6   {'max_depth': 6, 'learning_rate': 0.2, 'colsample_bytree': 0.8}  \n",
       "7   {'max_depth': 5, 'learning_rate': 0.4, 'colsample_bytree': 0.5}  \n",
       "8   {'max_depth': 8, 'learning_rate': 0.1, 'colsample_bytree': 0.8}  \n",
       "9   {'max_depth': 7, 'learning_rate': 0.4, 'colsample_bytree': 0.5}  \n",
       "10  {'max_depth': 7, 'learning_rate': 0.3, 'colsample_bytree': 0.8}  \n",
       "11  {'max_depth': 3, 'learning_rate': 0.4, 'colsample_bytree': 0.5}  \n",
       "12  {'max_depth': 8, 'learning_rate': 0.3, 'colsample_bytree': 0.7}  \n",
       "13  {'max_depth': 8, 'learning_rate': 0.2, 'colsample_bytree': 0.6}  \n",
       "14  {'max_depth': 8, 'learning_rate': 0.2, 'colsample_bytree': 0.5}  \n",
       "15  {'max_depth': 4, 'learning_rate': 0.4, 'colsample_bytree': 0.6}  \n",
       "16  {'max_depth': 6, 'learning_rate': 0.2, 'colsample_bytree': 0.5}  \n",
       "17  {'max_depth': 9, 'learning_rate': 0.4, 'colsample_bytree': 0.8}  \n",
       "18  {'max_depth': 7, 'learning_rate': 0.4, 'colsample_bytree': 0.8}  \n",
       "19  {'max_depth': 7, 'learning_rate': 0.3, 'colsample_bytree': 0.7}  "
      ]
     },
     "execution_count": 37,
     "metadata": {},
     "output_type": "execute_result"
    }
   ],
   "source": [
    "pd.set_option('display.max_colwidth', None)\n",
    "pd.DataFrame(rand_search.cv_results_)[['mean_test_score', 'params']]\n"
   ]
  },
  {
   "cell_type": "code",
   "execution_count": 38,
   "metadata": {},
   "outputs": [
    {
     "name": "stdout",
     "output_type": "stream",
     "text": [
      "0.996319130660188\n",
      "{'max_depth': 4, 'learning_rate': 0.4, 'colsample_bytree': 0.6}\n"
     ]
    }
   ],
   "source": [
    "# dohvaćanje najboljih parametara\n",
    "print(rand_search.best_score_)\n",
    "print(rand_search.best_params_)\n",
    "param3=rand_search.best_params_\n",
    "param3['n_estimators'] = 50 \n",
    "param3['objective'] = 'multi:softprob'"
   ]
  },
  {
   "cell_type": "markdown",
   "metadata": {},
   "source": [
    "### isto samo s neg_log_loss"
   ]
  },
  {
   "cell_type": "code",
   "execution_count": 40,
   "metadata": {},
   "outputs": [
    {
     "data": {
      "text/plain": [
       "RandomizedSearchCV(cv=5, error_score=nan,\n",
       "                   estimator=XGBClassifier(base_score=0.5, booster='gbtree',\n",
       "                                           colsample_bylevel=1,\n",
       "                                           colsample_bynode=1,\n",
       "                                           colsample_bytree=1, gamma=0,\n",
       "                                           learning_rate=0.1, max_delta_step=0,\n",
       "                                           max_depth=3, min_child_weight=1,\n",
       "                                           missing=None, n_estimators=29,\n",
       "                                           n_jobs=1, nthread=None,\n",
       "                                           objective='multi:softprob',\n",
       "                                           random_state=0, reg_alpha=0,\n",
       "                                           reg_lambda=1, scale_pos_weight=1,\n",
       "                                           seed=None, silent=None, subsample=1,\n",
       "                                           verbosity=1),\n",
       "                   iid='deprecated', n_iter=20, n_jobs=None,\n",
       "                   param_distributions={'colsample_bytree': [0.5, 0.6, 0.7, 0.8,\n",
       "                                                             0.9],\n",
       "                                        'learning_rate': [0.1, 0.2, 0.3, 0.4],\n",
       "                                        'max_depth': [3, 4, 5, 6, 7, 8, 9]},\n",
       "                   pre_dispatch='2*n_jobs', random_state=5, refit=True,\n",
       "                   return_train_score=False, scoring='neg_log_loss', verbose=0)"
      ]
     },
     "execution_count": 40,
     "metadata": {},
     "output_type": "execute_result"
    }
   ],
   "source": [
    "# koristimo RandomizedSearchCV za testiranje parametara\n",
    "# neg_log_los je bolji što je veći(suprotno od logloss). Ovdje se ne može koristiti logloss\n",
    "rand_search = RandomizedSearchCV(model_XGB, param_ranges, cv=5, scoring='neg_log_loss', n_iter=20, random_state=5, return_train_score=False)\n",
    "rand_search.fit(X, y)"
   ]
  },
  {
   "cell_type": "code",
   "execution_count": 41,
   "metadata": {},
   "outputs": [
    {
     "data": {
      "text/html": [
       "<div>\n",
       "<style scoped>\n",
       "    .dataframe tbody tr th:only-of-type {\n",
       "        vertical-align: middle;\n",
       "    }\n",
       "\n",
       "    .dataframe tbody tr th {\n",
       "        vertical-align: top;\n",
       "    }\n",
       "\n",
       "    .dataframe thead th {\n",
       "        text-align: right;\n",
       "    }\n",
       "</style>\n",
       "<table border=\"1\" class=\"dataframe\">\n",
       "  <thead>\n",
       "    <tr style=\"text-align: right;\">\n",
       "      <th></th>\n",
       "      <th>mean_test_score</th>\n",
       "      <th>params</th>\n",
       "    </tr>\n",
       "  </thead>\n",
       "  <tbody>\n",
       "    <tr>\n",
       "      <th>0</th>\n",
       "      <td>-0.016356</td>\n",
       "      <td>{'max_depth': 4, 'learning_rate': 0.3, 'colsample_bytree': 0.6}</td>\n",
       "    </tr>\n",
       "    <tr>\n",
       "      <th>1</th>\n",
       "      <td>-0.106314</td>\n",
       "      <td>{'max_depth': 7, 'learning_rate': 0.1, 'colsample_bytree': 0.7}</td>\n",
       "    </tr>\n",
       "    <tr>\n",
       "      <th>2</th>\n",
       "      <td>-0.016813</td>\n",
       "      <td>{'max_depth': 9, 'learning_rate': 0.3, 'colsample_bytree': 0.6}</td>\n",
       "    </tr>\n",
       "    <tr>\n",
       "      <th>3</th>\n",
       "      <td>-0.108095</td>\n",
       "      <td>{'max_depth': 8, 'learning_rate': 0.1, 'colsample_bytree': 0.9}</td>\n",
       "    </tr>\n",
       "    <tr>\n",
       "      <th>4</th>\n",
       "      <td>-0.015279</td>\n",
       "      <td>{'max_depth': 8, 'learning_rate': 0.4, 'colsample_bytree': 0.6}</td>\n",
       "    </tr>\n",
       "    <tr>\n",
       "      <th>5</th>\n",
       "      <td>-0.023353</td>\n",
       "      <td>{'max_depth': 6, 'learning_rate': 0.2, 'colsample_bytree': 0.7}</td>\n",
       "    </tr>\n",
       "    <tr>\n",
       "      <th>6</th>\n",
       "      <td>-0.023798</td>\n",
       "      <td>{'max_depth': 6, 'learning_rate': 0.2, 'colsample_bytree': 0.8}</td>\n",
       "    </tr>\n",
       "    <tr>\n",
       "      <th>7</th>\n",
       "      <td>-0.015653</td>\n",
       "      <td>{'max_depth': 5, 'learning_rate': 0.4, 'colsample_bytree': 0.5}</td>\n",
       "    </tr>\n",
       "    <tr>\n",
       "      <th>8</th>\n",
       "      <td>-0.106519</td>\n",
       "      <td>{'max_depth': 8, 'learning_rate': 0.1, 'colsample_bytree': 0.8}</td>\n",
       "    </tr>\n",
       "    <tr>\n",
       "      <th>9</th>\n",
       "      <td>-0.015661</td>\n",
       "      <td>{'max_depth': 7, 'learning_rate': 0.4, 'colsample_bytree': 0.5}</td>\n",
       "    </tr>\n",
       "    <tr>\n",
       "      <th>10</th>\n",
       "      <td>-0.017216</td>\n",
       "      <td>{'max_depth': 7, 'learning_rate': 0.3, 'colsample_bytree': 0.8}</td>\n",
       "    </tr>\n",
       "    <tr>\n",
       "      <th>11</th>\n",
       "      <td>-0.015855</td>\n",
       "      <td>{'max_depth': 3, 'learning_rate': 0.4, 'colsample_bytree': 0.5}</td>\n",
       "    </tr>\n",
       "    <tr>\n",
       "      <th>12</th>\n",
       "      <td>-0.016722</td>\n",
       "      <td>{'max_depth': 8, 'learning_rate': 0.3, 'colsample_bytree': 0.7}</td>\n",
       "    </tr>\n",
       "    <tr>\n",
       "      <th>13</th>\n",
       "      <td>-0.024027</td>\n",
       "      <td>{'max_depth': 8, 'learning_rate': 0.2, 'colsample_bytree': 0.6}</td>\n",
       "    </tr>\n",
       "    <tr>\n",
       "      <th>14</th>\n",
       "      <td>-0.023937</td>\n",
       "      <td>{'max_depth': 8, 'learning_rate': 0.2, 'colsample_bytree': 0.5}</td>\n",
       "    </tr>\n",
       "    <tr>\n",
       "      <th>15</th>\n",
       "      <td>-0.014560</td>\n",
       "      <td>{'max_depth': 4, 'learning_rate': 0.4, 'colsample_bytree': 0.6}</td>\n",
       "    </tr>\n",
       "    <tr>\n",
       "      <th>16</th>\n",
       "      <td>-0.023482</td>\n",
       "      <td>{'max_depth': 6, 'learning_rate': 0.2, 'colsample_bytree': 0.5}</td>\n",
       "    </tr>\n",
       "    <tr>\n",
       "      <th>17</th>\n",
       "      <td>-0.016463</td>\n",
       "      <td>{'max_depth': 9, 'learning_rate': 0.4, 'colsample_bytree': 0.8}</td>\n",
       "    </tr>\n",
       "    <tr>\n",
       "      <th>18</th>\n",
       "      <td>-0.016106</td>\n",
       "      <td>{'max_depth': 7, 'learning_rate': 0.4, 'colsample_bytree': 0.8}</td>\n",
       "    </tr>\n",
       "    <tr>\n",
       "      <th>19</th>\n",
       "      <td>-0.016064</td>\n",
       "      <td>{'max_depth': 7, 'learning_rate': 0.3, 'colsample_bytree': 0.7}</td>\n",
       "    </tr>\n",
       "  </tbody>\n",
       "</table>\n",
       "</div>"
      ],
      "text/plain": [
       "    mean_test_score  \\\n",
       "0         -0.016356   \n",
       "1         -0.106314   \n",
       "2         -0.016813   \n",
       "3         -0.108095   \n",
       "4         -0.015279   \n",
       "5         -0.023353   \n",
       "6         -0.023798   \n",
       "7         -0.015653   \n",
       "8         -0.106519   \n",
       "9         -0.015661   \n",
       "10        -0.017216   \n",
       "11        -0.015855   \n",
       "12        -0.016722   \n",
       "13        -0.024027   \n",
       "14        -0.023937   \n",
       "15        -0.014560   \n",
       "16        -0.023482   \n",
       "17        -0.016463   \n",
       "18        -0.016106   \n",
       "19        -0.016064   \n",
       "\n",
       "                                                             params  \n",
       "0   {'max_depth': 4, 'learning_rate': 0.3, 'colsample_bytree': 0.6}  \n",
       "1   {'max_depth': 7, 'learning_rate': 0.1, 'colsample_bytree': 0.7}  \n",
       "2   {'max_depth': 9, 'learning_rate': 0.3, 'colsample_bytree': 0.6}  \n",
       "3   {'max_depth': 8, 'learning_rate': 0.1, 'colsample_bytree': 0.9}  \n",
       "4   {'max_depth': 8, 'learning_rate': 0.4, 'colsample_bytree': 0.6}  \n",
       "5   {'max_depth': 6, 'learning_rate': 0.2, 'colsample_bytree': 0.7}  \n",
       "6   {'max_depth': 6, 'learning_rate': 0.2, 'colsample_bytree': 0.8}  \n",
       "7   {'max_depth': 5, 'learning_rate': 0.4, 'colsample_bytree': 0.5}  \n",
       "8   {'max_depth': 8, 'learning_rate': 0.1, 'colsample_bytree': 0.8}  \n",
       "9   {'max_depth': 7, 'learning_rate': 0.4, 'colsample_bytree': 0.5}  \n",
       "10  {'max_depth': 7, 'learning_rate': 0.3, 'colsample_bytree': 0.8}  \n",
       "11  {'max_depth': 3, 'learning_rate': 0.4, 'colsample_bytree': 0.5}  \n",
       "12  {'max_depth': 8, 'learning_rate': 0.3, 'colsample_bytree': 0.7}  \n",
       "13  {'max_depth': 8, 'learning_rate': 0.2, 'colsample_bytree': 0.6}  \n",
       "14  {'max_depth': 8, 'learning_rate': 0.2, 'colsample_bytree': 0.5}  \n",
       "15  {'max_depth': 4, 'learning_rate': 0.4, 'colsample_bytree': 0.6}  \n",
       "16  {'max_depth': 6, 'learning_rate': 0.2, 'colsample_bytree': 0.5}  \n",
       "17  {'max_depth': 9, 'learning_rate': 0.4, 'colsample_bytree': 0.8}  \n",
       "18  {'max_depth': 7, 'learning_rate': 0.4, 'colsample_bytree': 0.8}  \n",
       "19  {'max_depth': 7, 'learning_rate': 0.3, 'colsample_bytree': 0.7}  "
      ]
     },
     "execution_count": 41,
     "metadata": {},
     "output_type": "execute_result"
    }
   ],
   "source": [
    "pd.set_option('display.max_colwidth', None)\n",
    "pd.DataFrame(rand_search.cv_results_)[['mean_test_score', 'params']]\n"
   ]
  },
  {
   "cell_type": "code",
   "execution_count": 46,
   "metadata": {
    "scrolled": true
   },
   "outputs": [
    {
     "name": "stdout",
     "output_type": "stream",
     "text": [
      "-0.014560415009167601\n",
      "{'max_depth': 4, 'learning_rate': 0.4, 'colsample_bytree': 0.6, 'n_estimators': 29, 'objective': 'multi:softprob'}\n"
     ]
    }
   ],
   "source": [
    "# dohvaćanje najboljih parametara\n",
    "print(rand_search.best_score_)\n",
    "print(rand_search.best_params_)\n",
    "param4=rand_search.best_params_\n",
    "param4['n_estimators'] = 29 \n",
    "param4['objective'] = 'multi:softprob'"
   ]
  },
  {
   "cell_type": "markdown",
   "metadata": {},
   "source": [
    "Dobili smo jednak rezultat za accuracy i za logloss tako da ćemo uzeti te parametre"
   ]
  },
  {
   "cell_type": "code",
   "execution_count": 47,
   "metadata": {},
   "outputs": [
    {
     "data": {
      "text/plain": [
       "{'max_depth': 4,\n",
       " 'learning_rate': 0.4,\n",
       " 'colsample_bytree': 0.6,\n",
       " 'n_estimators': 29,\n",
       " 'objective': 'multi:softprob'}"
      ]
     },
     "execution_count": 47,
     "metadata": {},
     "output_type": "execute_result"
    }
   ],
   "source": [
    "params=param4\n",
    "params"
   ]
  },
  {
   "cell_type": "markdown",
   "metadata": {},
   "source": [
    "<br>\n",
    "<br>"
   ]
  },
  {
   "cell_type": "markdown",
   "metadata": {},
   "source": [
    "# XGboost proveden na svim značajkama"
   ]
  },
  {
   "cell_type": "code",
   "execution_count": 48,
   "metadata": {},
   "outputs": [
    {
     "name": "stdout",
     "output_type": "stream",
     "text": [
      "Logloss:0.01836673800688013\n",
      "Accuracy:0.9954001839926403\n"
     ]
    },
    {
     "data": {
      "image/png": "[encoded data removed]",
      "text/plain": [
       "<Figure size 720x720 with 2 Axes>"
      ]
     },
     "metadata": {
      "needs_background": "light"
     },
     "output_type": "display_data"
    }
   ],
   "source": [
    "#xgboost na svim značajkama\n",
    "\n",
    "#ovakav postupak se ponavlja puno puta pa je ovdje detaljnije komentiran\n",
    "#prvo definiramo što nam je dataset i onda ga podijelimo na train i test\n",
    "X_all=features.iloc[:,2:1695]\n",
    "X_train, X_test, y_train, y_test = train_test_split( X_all, features['Class'], test_size=0.3, random_state=seed)\n",
    "#pozovemo funkciju koja nam vrati predictions, pred[0]=klasa, pred[1]=vjerojatnosti\n",
    "pred = xgboost_basic_cl(X_train, X_test, y_train)\n",
    "#trebamo shift-ati klase i u y_test\n",
    "y_test = [int(x-1) for x in y_test]\n",
    "#računamo logloss(on uzima vjerojatnosti) i točnost(uzima klase)\n",
    "score_log = log_loss(y_test,pred[1],eps=1e-15)\n",
    "score_acc = accuracy_score(y_test, pred[0])\n",
    "print('Logloss:' + str(score_log))\n",
    "print('Accuracy:' + str(score_acc))\n",
    "#matrici konfuzije šaljemo prave i predviđene klase skupa za testiranje\n",
    "make_and_plot_confusion_matrix(y_test,pred[0])"
   ]
  },
  {
   "cell_type": "code",
   "execution_count": 49,
   "metadata": {},
   "outputs": [],
   "source": [
    "def pomocna_fja(data):\n",
    "    X_train, X_test, y_train, y_test = train_test_split( data, features['Class'], test_size=0.3, random_state=seed)\n",
    "    pred = xgboost_basic_cl(X_train, X_test, y_train)\n",
    "    y_test = [int(x-1) for x in y_test]\n",
    "    score_log = log_loss(y_test,pred[1],eps=1e-15)\n",
    "    score_acc = accuracy_score(y_test, pred[0])\n",
    "    sve.append((score_log,score_acc))\n",
    "    cm = confusion_matrix(y_test, pred[0])\n",
    "    cm = cm.astype('float') / cm.sum(axis=1)[:, np.newaxis]\n",
    "    cm_diagonal.append(cm.diagonal())"
   ]
  },
  {
   "cell_type": "code",
   "execution_count": 50,
   "metadata": {},
   "outputs": [],
   "source": [
    "#xgboost na svakoj kategoriji značajki posebno (samo informativno)\n",
    "sve = []\n",
    "cm_diagonal =[]\n",
    "\n",
    "pomocna_fja(one_gram_features)\n",
    "pomocna_fja(metadata_bytes_features)\n",
    "pomocna_fja(entropy_features)\n",
    "pomocna_fja(image_features)\n",
    "pomocna_fja(string_length_features)\n",
    "pomocna_fja(metadata_asm_features)\n",
    "pomocna_fja(symbols_features)\n",
    "pomocna_fja(opcode_features)\n",
    "pomocna_fja(reg_features)\n",
    "pomocna_fja(section_features)\n",
    "pomocna_fja(dd_features)\n",
    "pomocna_fja(api_features)\n",
    "pomocna_fja(key_features)"
   ]
  },
  {
   "cell_type": "code",
   "execution_count": 51,
   "metadata": {},
   "outputs": [
    {
     "data": {
      "text/html": [
       "<div>\n",
       "<style scoped>\n",
       "    .dataframe tbody tr th:only-of-type {\n",
       "        vertical-align: middle;\n",
       "    }\n",
       "\n",
       "    .dataframe tbody tr th {\n",
       "        vertical-align: top;\n",
       "    }\n",
       "\n",
       "    .dataframe thead th {\n",
       "        text-align: right;\n",
       "    }\n",
       "</style>\n",
       "<table border=\"1\" class=\"dataframe\">\n",
       "  <thead>\n",
       "    <tr style=\"text-align: right;\">\n",
       "      <th></th>\n",
       "      <th>log_loss</th>\n",
       "      <th>accuracy_score</th>\n",
       "    </tr>\n",
       "  </thead>\n",
       "  <tbody>\n",
       "    <tr>\n",
       "      <th>0</th>\n",
       "      <td>0.058458</td>\n",
       "      <td>0.982827</td>\n",
       "    </tr>\n",
       "    <tr>\n",
       "      <th>1</th>\n",
       "      <td>0.506387</td>\n",
       "      <td>0.830420</td>\n",
       "    </tr>\n",
       "    <tr>\n",
       "      <th>2</th>\n",
       "      <td>0.048115</td>\n",
       "      <td>0.987734</td>\n",
       "    </tr>\n",
       "    <tr>\n",
       "      <th>3</th>\n",
       "      <td>0.119277</td>\n",
       "      <td>0.966575</td>\n",
       "    </tr>\n",
       "    <tr>\n",
       "      <th>4</th>\n",
       "      <td>0.079762</td>\n",
       "      <td>0.975468</td>\n",
       "    </tr>\n",
       "    <tr>\n",
       "      <th>5</th>\n",
       "      <td>0.513223</td>\n",
       "      <td>0.834713</td>\n",
       "    </tr>\n",
       "    <tr>\n",
       "      <th>6</th>\n",
       "      <td>0.145524</td>\n",
       "      <td>0.961668</td>\n",
       "    </tr>\n",
       "    <tr>\n",
       "      <th>7</th>\n",
       "      <td>0.042271</td>\n",
       "      <td>0.989574</td>\n",
       "    </tr>\n",
       "    <tr>\n",
       "      <th>8</th>\n",
       "      <td>0.090743</td>\n",
       "      <td>0.974854</td>\n",
       "    </tr>\n",
       "    <tr>\n",
       "      <th>9</th>\n",
       "      <td>1.927036</td>\n",
       "      <td>0.257590</td>\n",
       "    </tr>\n",
       "    <tr>\n",
       "      <th>10</th>\n",
       "      <td>1.933041</td>\n",
       "      <td>0.258203</td>\n",
       "    </tr>\n",
       "    <tr>\n",
       "      <th>11</th>\n",
       "      <td>0.057428</td>\n",
       "      <td>0.983134</td>\n",
       "    </tr>\n",
       "    <tr>\n",
       "      <th>12</th>\n",
       "      <td>0.034564</td>\n",
       "      <td>0.991414</td>\n",
       "    </tr>\n",
       "  </tbody>\n",
       "</table>\n",
       "</div>"
      ],
      "text/plain": [
       "    log_loss  accuracy_score\n",
       "0   0.058458        0.982827\n",
       "1   0.506387        0.830420\n",
       "2   0.048115        0.987734\n",
       "3   0.119277        0.966575\n",
       "4   0.079762        0.975468\n",
       "5   0.513223        0.834713\n",
       "6   0.145524        0.961668\n",
       "7   0.042271        0.989574\n",
       "8   0.090743        0.974854\n",
       "9   1.927036        0.257590\n",
       "10  1.933041        0.258203\n",
       "11  0.057428        0.983134\n",
       "12  0.034564        0.991414"
      ]
     },
     "execution_count": 51,
     "metadata": {},
     "output_type": "execute_result"
    }
   ],
   "source": [
    "#tablica rezultata\n",
    "pd.DataFrame(sve, columns=['log_loss','accuracy_score'])"
   ]
  },
  {
   "cell_type": "code",
   "execution_count": 52,
   "metadata": {
    "scrolled": true
   },
   "outputs": [
    {
     "name": "stdout",
     "output_type": "stream",
     "text": [
      "0.98\t0.99\t1.0\t1.0\t0.92\t0.96\t0.95\t0.94\t0.99\t\n",
      "0.82\t0.8\t0.98\t0.91\t0.08\t0.55\t0.69\t0.8\t0.76\t\n",
      "0.99\t1.0\t1.0\t0.99\t0.83\t0.98\t0.98\t0.95\t0.99\t\n",
      "0.95\t0.99\t0.99\t0.97\t0.58\t0.89\t0.97\t0.93\t0.98\t\n",
      "0.97\t0.99\t1.0\t0.99\t0.75\t0.96\t0.92\t0.92\t0.99\t\n",
      "0.65\t0.83\t0.99\t0.7\t0.25\t0.68\t0.9\t0.77\t0.94\t\n",
      "0.92\t0.98\t1.0\t0.96\t0.58\t0.93\t0.96\t0.91\t0.98\t\n",
      "0.99\t1.0\t1.0\t0.99\t0.92\t0.97\t0.99\t0.96\t0.99\t\n",
      "0.95\t0.99\t0.99\t0.97\t0.83\t0.95\t0.99\t0.94\t0.99\t\n",
      "0.04\t0.26\t0.69\t0.0\t0.0\t0.01\t0.01\t0.0\t0.02\t\n",
      "0.03\t0.24\t0.71\t0.0\t0.0\t0.01\t0.0\t0.03\t0.02\t\n",
      "0.99\t1.0\t1.0\t0.99\t0.67\t0.98\t0.97\t0.92\t0.99\t\n",
      "0.99\t1.0\t1.0\t1.0\t0.92\t0.98\t0.97\t0.98\t1.0\t\n"
     ]
    }
   ],
   "source": [
    "#dijagonale pripadnih matrica konfizije\n",
    "#iz toga možemo vidjeti točnost po klasama za svaku kategoriju feature-a\n",
    "for list1 in cm_diagonal:\n",
    "    for element in list1:\n",
    "        print(str(format(round(element, 2))), end =\"\\t\")\n",
    "    print('')"
   ]
  },
  {
   "cell_type": "markdown",
   "metadata": {},
   "source": [
    "### Dalje radimo na selektiranim značajkama <br>"
   ]
  },
  {
   "cell_type": "code",
   "execution_count": 53,
   "metadata": {},
   "outputs": [
    {
     "name": "stdout",
     "output_type": "stream",
     "text": [
      "Logloss:0.014188086485510962\n",
      "Accuracy:0.9954001839926403\n"
     ]
    },
    {
     "data": {
      "image/png": "[encoded data removed]",
      "text/plain": [
       "<Figure size 720x720 with 2 Axes>"
      ]
     },
     "metadata": {
      "needs_background": "light"
     },
     "output_type": "display_data"
    }
   ],
   "source": [
    "#xgboost na selektiranim značajkama\n",
    "X_train, X_test, y_train, y_test = train_test_split( X, features['Class'], test_size=0.3, random_state=seed)\n",
    "pred = xgboost_basic_cl(X_train, X_test, y_train)\n",
    "\n",
    "y_test = [int(x-1) for x in y_test]\n",
    "score_log = log_loss(y_test,pred[1],eps=1e-15)\n",
    "score_acc = accuracy_score(y_test, pred[0])\n",
    "\n",
    "print('Logloss:' + str(score_log))\n",
    "print('Accuracy:' + str(score_acc))\n",
    "\n",
    "make_and_plot_confusion_matrix(y_test,pred[0])"
   ]
  },
  {
   "cell_type": "markdown",
   "metadata": {},
   "source": [
    "## Pokušaji rješavanja nebalasiranosti podataka"
   ]
  },
  {
   "cell_type": "markdown",
   "metadata": {},
   "source": [
    "### dodavanje težina u XGboost"
   ]
  },
  {
   "cell_type": "code",
   "execution_count": 54,
   "metadata": {},
   "outputs": [
    {
     "name": "stdout",
     "output_type": "stream",
     "text": [
      "Logloss:0.016514342745579034\n",
      "Accuracy:0.9950935295921497\n"
     ]
    },
    {
     "data": {
      "image/png": "[encoded data removed]",
      "text/plain": [
       "<Figure size 720x720 with 2 Axes>"
      ]
     },
     "metadata": {
      "needs_background": "light"
     },
     "output_type": "display_data"
    }
   ],
   "source": [
    "#xgboost sa dodanim težinama\n",
    "X_train, X_test, y_train, y_test = train_test_split( X, features['Class'], test_size=0.3, random_state=seed)\n",
    "pred = xgboost_weighted_cl(X_train, X_test, y_train)\n",
    "\n",
    "y_test = [int(x-1) for x in y_test]\n",
    "score_log = log_loss(y_test,pred[1],eps=1e-15)\n",
    "score_acc = accuracy_score(y_test, pred[0])\n",
    "\n",
    "print('Logloss:' + str(score_log))\n",
    "print('Accuracy:' + str(score_acc))\n",
    "\n",
    "make_and_plot_confusion_matrix(y_test,pred[0])"
   ]
  },
  {
   "cell_type": "markdown",
   "metadata": {},
   "source": [
    "### oversampling"
   ]
  },
  {
   "cell_type": "code",
   "execution_count": 56,
   "metadata": {},
   "outputs": [
    {
     "name": "stdout",
     "output_type": "stream",
     "text": [
      "[(1, 2041), (2, 2041), (3, 2041), (4, 2041), (5, 2041), (6, 2041), (7, 2041), (8, 2041), (9, 2041)]\n",
      "Logloss:0.01644777895396448\n",
      "Accuracy:0.9944802207911684\n"
     ]
    },
    {
     "data": {
      "image/png": "[encoded data removed]",
      "text/plain": [
       "<Figure size 720x720 with 2 Axes>"
      ]
     },
     "metadata": {
      "needs_background": "light"
     },
     "output_type": "display_data"
    }
   ],
   "source": [
    "#RandomOverSampler\n",
    "X_train, X_test, y_train, y_test = train_test_split( X, features['Class'], test_size=0.3, random_state=seed)\n",
    "ros = RandomOverSampler(random_state=0)\n",
    "X_train, y_train = ros.fit_resample(X_train, y_train)\n",
    "print(sorted(Counter(y_train).items()))\n",
    "pred = xgboost_basic_cl(X_train, X_test, y_train)\n",
    "\n",
    "y_test = [int(x-1) for x in y_test]\n",
    "score_log = log_loss(y_test,pred[1],eps=1e-15)\n",
    "score_acc = accuracy_score(y_test, pred[0])\n",
    "\n",
    "print('Logloss:' + str(score_log))\n",
    "print('Accuracy:' + str(score_acc))\n",
    "\n",
    "make_and_plot_confusion_matrix(y_test,pred[0])"
   ]
  },
  {
   "cell_type": "code",
   "execution_count": 57,
   "metadata": {
    "scrolled": true
   },
   "outputs": [
    {
     "name": "stdout",
     "output_type": "stream",
     "text": [
      "[(1, 2041), (2, 2041), (3, 2041), (4, 2041), (5, 2041), (6, 2041), (7, 2041), (8, 2041), (9, 2041)]\n",
      "Logloss:0.017321224962518502\n",
      "Accuracy:0.9954001839926403\n"
     ]
    },
    {
     "data": {
      "image/png": "[encoded data removed]",
      "text/plain": [
       "<Figure size 720x720 with 2 Axes>"
      ]
     },
     "metadata": {
      "needs_background": "light"
     },
     "output_type": "display_data"
    }
   ],
   "source": [
    "#SMOTE\n",
    "X_train, X_test, y_train, y_test = train_test_split( X, features['Class'], test_size=0.3, random_state=seed)\n",
    "X_train, y_train = SMOTE().fit_resample(X_train, y_train)\n",
    "print(sorted(Counter(y_train).items()))\n",
    "\n",
    "pred = xgboost_basic_cl(X_train, X_test, y_train)\n",
    "\n",
    "y_test = [int(x-1) for x in y_test]\n",
    "score_log = log_loss(y_test,pred[1],eps=1e-15)\n",
    "score_acc = accuracy_score(y_test, pred[0])\n",
    "\n",
    "print('Logloss:' + str(score_log))\n",
    "print('Accuracy:' + str(score_acc))\n",
    "\n",
    "make_and_plot_confusion_matrix(y_test,pred[0])\n"
   ]
  },
  {
   "cell_type": "code",
   "execution_count": 58,
   "metadata": {},
   "outputs": [
    {
     "name": "stdout",
     "output_type": "stream",
     "text": [
      "[(1, 2041), (2, 2041), (3, 2041), (4, 2041), (5, 2041), (6, 2041), (7, 2041), (8, 2041), (9, 2041)]\n",
      "Logloss:0.0185378678315028\n",
      "Accuracy:0.9941735663906777\n"
     ]
    },
    {
     "data": {
      "image/png": "[encoded data removed]",
      "text/plain": [
       "<Figure size 720x720 with 2 Axes>"
      ]
     },
     "metadata": {
      "needs_background": "light"
     },
     "output_type": "display_data"
    }
   ],
   "source": [
    "#SMOTE+težine\n",
    "X_train, X_test, y_train, y_test = train_test_split( X, features['Class'], test_size=0.3, random_state=seed)\n",
    "X_train, y_train = SMOTE().fit_resample(X_train, y_train)\n",
    "print(sorted(Counter(y_train).items()))\n",
    "\n",
    "pred = xgboost_weighted_cl(X_train, X_test, y_train)\n",
    "\n",
    "y_test = [int(x-1) for x in y_test]\n",
    "score_log = log_loss(y_test,pred[1],eps=1e-15)\n",
    "score_acc = accuracy_score(y_test, pred[0])\n",
    "\n",
    "print('Logloss:' + str(score_log))\n",
    "print('Accuracy:' + str(score_acc))\n",
    "\n",
    "make_and_plot_confusion_matrix(y_test,pred[0])"
   ]
  },
  {
   "cell_type": "code",
   "execution_count": 59,
   "metadata": {},
   "outputs": [
    {
     "name": "stdout",
     "output_type": "stream",
     "text": [
      "[(1, 2035), (2, 2059), (3, 2041), (4, 2040), (5, 2040), (6, 2042), (7, 2043), (8, 2050), (9, 2045)]\n",
      "Logloss:0.01979448343379491\n",
      "Accuracy:0.994786875191659\n"
     ]
    },
    {
     "data": {
      "image/png": "[encoded data removed]",
      "text/plain": [
       "<Figure size 720x720 with 2 Axes>"
      ]
     },
     "metadata": {
      "needs_background": "light"
     },
     "output_type": "display_data"
    }
   ],
   "source": [
    "#ADASYN\n",
    "X_train, X_test, y_train, y_test = train_test_split( X, features['Class'], test_size=0.3, random_state=seed)\n",
    "X_train, y_train = ADASYN().fit_resample(X_train, y_train)\n",
    "print(sorted(Counter(y_train).items()))\n",
    "\n",
    "pred = xgboost_basic_cl(X_train, X_test, y_train)\n",
    "\n",
    "y_test = [int(x-1) for x in y_test]\n",
    "score_log = log_loss(y_test,pred[1],eps=1e-15)\n",
    "score_acc = accuracy_score(y_test, pred[0])\n",
    "\n",
    "print('Logloss:' + str(score_log))\n",
    "print('Accuracy:' + str(score_acc))\n",
    "\n",
    "make_and_plot_confusion_matrix(y_test,pred[0])"
   ]
  },
  {
   "cell_type": "code",
   "execution_count": 60,
   "metadata": {
    "scrolled": true
   },
   "outputs": [
    {
     "name": "stdout",
     "output_type": "stream",
     "text": [
      "[(1, 2035), (2, 2059), (3, 2041), (4, 2040), (5, 2040), (6, 2042), (7, 2043), (8, 2050), (9, 2045)]\n",
      "Logloss:0.020810325834023813\n",
      "Accuracy:0.9944802207911684\n"
     ]
    },
    {
     "data": {
      "image/png": "[encoded data removed]",
      "text/plain": [
       "<Figure size 720x720 with 2 Axes>"
      ]
     },
     "metadata": {
      "needs_background": "light"
     },
     "output_type": "display_data"
    }
   ],
   "source": [
    "#ADASYN+težine\n",
    "X_train, X_test, y_train, y_test = train_test_split( X, features['Class'], test_size=0.3, random_state=seed)\n",
    "X_train, y_train = ADASYN().fit_resample(X_train, y_train)\n",
    "print(sorted(Counter(y_train).items()))\n",
    "\n",
    "pred = xgboost_weighted_cl(X_train, X_test, y_train)\n",
    "\n",
    "y_test = [int(x-1) for x in y_test]\n",
    "score_log = log_loss(y_test,pred[1],eps=1e-15)\n",
    "score_acc = accuracy_score(y_test, pred[0])\n",
    "\n",
    "print('Logloss:' + str(score_log))\n",
    "print('Accuracy:' + str(score_acc))\n",
    "\n",
    "make_and_plot_confusion_matrix(y_test,pred[0])"
   ]
  },
  {
   "cell_type": "markdown",
   "metadata": {},
   "source": [
    "### undersample"
   ]
  },
  {
   "cell_type": "code",
   "execution_count": 62,
   "metadata": {},
   "outputs": [
    {
     "name": "stdout",
     "output_type": "stream",
     "text": [
      "[(1, 1063), (2, 1746), (3, 30), (4, 337), (5, 30), (6, 523), (7, 283), (8, 865), (9, 718)]\n",
      "Logloss:0.02639847548154238\n",
      "Accuracy:0.9911070223857712\n"
     ]
    },
    {
     "data": {
      "image/png": "[encoded data removed]",
      "text/plain": [
       "<Figure size 720x720 with 2 Axes>"
      ]
     },
     "metadata": {
      "needs_background": "light"
     },
     "output_type": "display_data"
    }
   ],
   "source": [
    "#RandomUnderSampler\n",
    "X_train, X_test, y_train, y_test = train_test_split( X, features['Class'], test_size=0.3, random_state=seed)\n",
    "undersample = RandomUnderSampler(sampling_strategy='majority')\n",
    "X_train, y_train = undersample.fit_resample(X_train, y_train)\n",
    "print(sorted(Counter(y_train).items()))\n",
    "\n",
    "pred = xgboost_basic_cl(X_train, X_test, y_train)\n",
    "\n",
    "y_test = [int(x-1) for x in y_test]\n",
    "score_log = log_loss(y_test,pred[1],eps=1e-15)\n",
    "score_acc = accuracy_score(y_test, pred[0])\n",
    "\n",
    "print('Logloss:' + str(score_log))\n",
    "print('Accuracy:' + str(score_acc))\n",
    "\n",
    "make_and_plot_confusion_matrix(y_test,pred[0])"
   ]
  },
  {
   "cell_type": "markdown",
   "metadata": {},
   "source": [
    "## bagging"
   ]
  },
  {
   "cell_type": "code",
   "execution_count": 64,
   "metadata": {
    "scrolled": true
   },
   "outputs": [
    {
     "name": "stdout",
     "output_type": "stream",
     "text": [
      "Logloss:0.019146150081762035\n",
      "Accuracy:0.9932536031892057\n"
     ]
    },
    {
     "data": {
      "image/png": "[encoded data removed]",
      "text/plain": [
       "<Figure size 720x720 with 2 Axes>"
      ]
     },
     "metadata": {
      "needs_background": "light"
     },
     "output_type": "display_data"
    }
   ],
   "source": [
    "#BaggingClassifier iz sklearn-a, ali čini mi se da moramo koristit XGBClassifier()\n",
    "X_train, X_test, y_train, y_test = train_test_split( X, features['Class'], test_size=0.3, random_state=seed)\n",
    "\n",
    "exgb_classifier = xgb.XGBClassifier()\n",
    "exgb_classifier.set_params(**params)\n",
    "\n",
    "y_train = [int(x-1) for x in y_train]\n",
    "y_test = [int(x-1) for x in y_test]\n",
    "\n",
    "model = BaggingClassifier(base_estimator=exgb_classifier, n_estimators=10, random_state=seed)\n",
    "model.fit(X_train, y_train)\n",
    "\n",
    "pred=model.predict(X_test)\n",
    "pred_prob=model.predict_proba(X_test)\n",
    "\n",
    "score_log = log_loss(y_test,pred_prob,eps=1e-15)\n",
    "score_acc = accuracy_score(y_test, pred)\n",
    "\n",
    "print('Logloss:' + str(score_log))\n",
    "print('Accuracy:' + str(score_acc))\n",
    "\n",
    "make_and_plot_confusion_matrix(y_test,pred)"
   ]
  },
  {
   "cell_type": "markdown",
   "metadata": {},
   "source": [
    "### ručni kvazi-bagging"
   ]
  },
  {
   "cell_type": "code",
   "execution_count": 122,
   "metadata": {},
   "outputs": [],
   "source": [
    "def bagging_custom(n_bags, test_index, train_index, train_X, test_X, train_y):\n",
    "    \n",
    "    bags = n_bags#broj bag-ova\n",
    "    test_pred_prob = np.zeros((len(test_index),9))\n",
    "    for bg in range(bags):\n",
    "        #new_train_index je prvo samo izmješani train_index\n",
    "        new_train_index = random.sample(list(train_index), int(len(train_index) * 1.))\n",
    "        #dodajemo mi nasumične brojeve iz train_index (s ponavljanjem)\n",
    "        for i in range(int(len(train_index) * 1.)):\n",
    "            new_train_index.append(random.choice(train_index))\n",
    "\n",
    "        train_X=X.iloc[new_train_index,:]\n",
    "        train_y=y.iloc[new_train_index]\n",
    "\n",
    "        exgb_classifier = xgb.XGBClassifier()\n",
    "        exgb_classifier.set_params(**params)\n",
    "        exgb_classifier.fit(train_X, train_y, eval_metric= 'mlogloss')   \n",
    "        preds = exgb_classifier.predict_proba(test_X) \n",
    "\n",
    "        print(\"Bag \" + str(bg+1))\n",
    "        \n",
    "        #zbrajamo vjerojatnosti od svih bag-ova\n",
    "        test_pred_prob += preds\n",
    "    #izračunamo prosječne vjerojatnosti pa onda klase\n",
    "    pred_prob = test_pred_prob / bags\n",
    "    best_preds = np.asarray([np.argmax(line) for line in pred_prob])\n",
    "    return best_preds, pred_prob"
   ]
  },
  {
   "cell_type": "markdown",
   "metadata": {},
   "source": [
    "### kfold"
   ]
  },
  {
   "cell_type": "code",
   "execution_count": 123,
   "metadata": {
    "scrolled": true
   },
   "outputs": [
    {
     "name": "stdout",
     "output_type": "stream",
     "text": [
      "Bag 1\n",
      "Bag 2\n",
      "Bag 3\n",
      "Bag 4\n",
      "Bag 5\n",
      "Bag 6\n",
      "Bag 7\n",
      "Bag 8\n",
      "Bag 9\n",
      "Bag 10\n",
      "-----------------------------------\n",
      "FOLD 1\n",
      "Logloss:0.010988666751496894\n",
      "Accuracy:0.9954001839926403\n",
      "Missed! actual=2 predicted=1\n",
      "Missed! actual=3 predicted=9\n",
      "Missed! actual=4 predicted=8\n",
      "Missed! actual=5 predicted=8\n",
      "Missed! actual=8 predicted=1\n",
      "Missed! actual=8 predicted=7\n",
      "Missed! actual=8 predicted=1\n",
      "Missed! actual=8 predicted=4\n",
      "Missed! actual=9 predicted=7\n",
      "Missed! actual=9 predicted=1\n",
      "Bag 1\n",
      "Bag 2\n",
      "Bag 3\n",
      "Bag 4\n",
      "Bag 5\n",
      "Bag 6\n",
      "Bag 7\n",
      "Bag 8\n",
      "Bag 9\n",
      "Bag 10\n",
      "-----------------------------------\n",
      "FOLD 2\n",
      "Logloss:0.014372354018684055\n",
      "Accuracy:0.9967801287948482\n",
      "Missed! actual=2 predicted=8\n",
      "Missed! actual=2 predicted=8\n",
      "Missed! actual=8 predicted=2\n",
      "Missed! actual=8 predicted=1\n",
      "Missed! actual=9 predicted=6\n",
      "Missed! actual=9 predicted=6\n",
      "Missed! actual=9 predicted=8\n",
      "Bag 1\n",
      "Bag 2\n",
      "Bag 3\n",
      "Bag 4\n",
      "Bag 5\n",
      "Bag 6\n",
      "Bag 7\n",
      "Bag 8\n"
     ]
    },
    {
     "ename": "KeyboardInterrupt",
     "evalue": "",
     "output_type": "error",
     "traceback": [
      "\u001b[1;31m---------------------------------------------------------------------------\u001b[0m",
      "\u001b[1;31mKeyboardInterrupt\u001b[0m                         Traceback (most recent call last)",
      "\u001b[1;32m<ipython-input-123-506d6b020ee7>\u001b[0m in \u001b[0;36m<module>\u001b[1;34m\u001b[0m\n\u001b[0;32m     15\u001b[0m     \u001b[0mtest_y\u001b[0m\u001b[1;33m=\u001b[0m\u001b[0my\u001b[0m\u001b[1;33m.\u001b[0m\u001b[0miloc\u001b[0m\u001b[1;33m[\u001b[0m\u001b[0mtest_index\u001b[0m\u001b[1;33m]\u001b[0m\u001b[1;33m\u001b[0m\u001b[1;33m\u001b[0m\u001b[0m\n\u001b[0;32m     16\u001b[0m     \u001b[1;31m#----------\u001b[0m\u001b[1;33m\u001b[0m\u001b[1;33m\u001b[0m\u001b[1;33m\u001b[0m\u001b[0m\n\u001b[1;32m---> 17\u001b[1;33m     \u001b[0mpred\u001b[0m \u001b[1;33m=\u001b[0m \u001b[0mbagging_custom\u001b[0m\u001b[1;33m(\u001b[0m\u001b[1;36m10\u001b[0m\u001b[1;33m,\u001b[0m \u001b[0mtest_index\u001b[0m\u001b[1;33m,\u001b[0m \u001b[0mtrain_index\u001b[0m\u001b[1;33m,\u001b[0m \u001b[0mtrain_X\u001b[0m\u001b[1;33m,\u001b[0m \u001b[0mtest_X\u001b[0m\u001b[1;33m,\u001b[0m \u001b[0mtrain_y\u001b[0m\u001b[1;33m)\u001b[0m\u001b[1;33m\u001b[0m\u001b[1;33m\u001b[0m\u001b[0m\n\u001b[0m\u001b[0;32m     18\u001b[0m     \u001b[1;31m#----------\u001b[0m\u001b[1;33m\u001b[0m\u001b[1;33m\u001b[0m\u001b[1;33m\u001b[0m\u001b[0m\n\u001b[0;32m     19\u001b[0m     \u001b[0mtest_y\u001b[0m \u001b[1;33m=\u001b[0m \u001b[1;33m[\u001b[0m\u001b[0mint\u001b[0m\u001b[1;33m(\u001b[0m\u001b[0mx\u001b[0m\u001b[1;33m-\u001b[0m\u001b[1;36m1\u001b[0m\u001b[1;33m)\u001b[0m \u001b[1;32mfor\u001b[0m \u001b[0mx\u001b[0m \u001b[1;32min\u001b[0m \u001b[0mtest_y\u001b[0m\u001b[1;33m]\u001b[0m\u001b[1;33m\u001b[0m\u001b[1;33m\u001b[0m\u001b[0m\n",
      "\u001b[1;32m<ipython-input-122-b86a4b3b0536>\u001b[0m in \u001b[0;36mbagging_custom\u001b[1;34m(n_bags, test_index, train_index, train_X, test_X, train_y)\u001b[0m\n\u001b[0;32m     15\u001b[0m         \u001b[0mexgb_classifier\u001b[0m \u001b[1;33m=\u001b[0m \u001b[0mxgb\u001b[0m\u001b[1;33m.\u001b[0m\u001b[0mXGBClassifier\u001b[0m\u001b[1;33m(\u001b[0m\u001b[1;33m)\u001b[0m\u001b[1;33m\u001b[0m\u001b[1;33m\u001b[0m\u001b[0m\n\u001b[0;32m     16\u001b[0m         \u001b[0mexgb_classifier\u001b[0m\u001b[1;33m.\u001b[0m\u001b[0mset_params\u001b[0m\u001b[1;33m(\u001b[0m\u001b[1;33m**\u001b[0m\u001b[0mparams\u001b[0m\u001b[1;33m)\u001b[0m\u001b[1;33m\u001b[0m\u001b[1;33m\u001b[0m\u001b[0m\n\u001b[1;32m---> 17\u001b[1;33m         \u001b[0mexgb_classifier\u001b[0m\u001b[1;33m.\u001b[0m\u001b[0mfit\u001b[0m\u001b[1;33m(\u001b[0m\u001b[0mtrain_X\u001b[0m\u001b[1;33m,\u001b[0m \u001b[0mtrain_y\u001b[0m\u001b[1;33m,\u001b[0m \u001b[0meval_metric\u001b[0m\u001b[1;33m=\u001b[0m \u001b[1;34m'mlogloss'\u001b[0m\u001b[1;33m)\u001b[0m\u001b[1;33m\u001b[0m\u001b[1;33m\u001b[0m\u001b[0m\n\u001b[0m\u001b[0;32m     18\u001b[0m         \u001b[0mpreds\u001b[0m \u001b[1;33m=\u001b[0m \u001b[0mexgb_classifier\u001b[0m\u001b[1;33m.\u001b[0m\u001b[0mpredict_proba\u001b[0m\u001b[1;33m(\u001b[0m\u001b[0mtest_X\u001b[0m\u001b[1;33m)\u001b[0m\u001b[1;33m\u001b[0m\u001b[1;33m\u001b[0m\u001b[0m\n\u001b[0;32m     19\u001b[0m \u001b[1;33m\u001b[0m\u001b[0m\n",
      "\u001b[1;32m~\\anaconda3\\lib\\site-packages\\xgboost\\sklearn.py\u001b[0m in \u001b[0;36mfit\u001b[1;34m(self, X, y, sample_weight, eval_set, eval_metric, early_stopping_rounds, verbose, xgb_model, sample_weight_eval_set, callbacks)\u001b[0m\n\u001b[0;32m    730\u001b[0m                               \u001b[0mevals_result\u001b[0m\u001b[1;33m=\u001b[0m\u001b[0mevals_result\u001b[0m\u001b[1;33m,\u001b[0m \u001b[0mobj\u001b[0m\u001b[1;33m=\u001b[0m\u001b[0mobj\u001b[0m\u001b[1;33m,\u001b[0m \u001b[0mfeval\u001b[0m\u001b[1;33m=\u001b[0m\u001b[0mfeval\u001b[0m\u001b[1;33m,\u001b[0m\u001b[1;33m\u001b[0m\u001b[1;33m\u001b[0m\u001b[0m\n\u001b[0;32m    731\u001b[0m                               \u001b[0mverbose_eval\u001b[0m\u001b[1;33m=\u001b[0m\u001b[0mverbose\u001b[0m\u001b[1;33m,\u001b[0m \u001b[0mxgb_model\u001b[0m\u001b[1;33m=\u001b[0m\u001b[0mxgb_model\u001b[0m\u001b[1;33m,\u001b[0m\u001b[1;33m\u001b[0m\u001b[1;33m\u001b[0m\u001b[0m\n\u001b[1;32m--> 732\u001b[1;33m                               callbacks=callbacks)\n\u001b[0m\u001b[0;32m    733\u001b[0m \u001b[1;33m\u001b[0m\u001b[0m\n\u001b[0;32m    734\u001b[0m         \u001b[0mself\u001b[0m\u001b[1;33m.\u001b[0m\u001b[0mobjective\u001b[0m \u001b[1;33m=\u001b[0m \u001b[0mxgb_options\u001b[0m\u001b[1;33m[\u001b[0m\u001b[1;34m\"objective\"\u001b[0m\u001b[1;33m]\u001b[0m\u001b[1;33m\u001b[0m\u001b[1;33m\u001b[0m\u001b[0m\n",
      "\u001b[1;32m~\\anaconda3\\lib\\site-packages\\xgboost\\training.py\u001b[0m in \u001b[0;36mtrain\u001b[1;34m(params, dtrain, num_boost_round, evals, obj, feval, maximize, early_stopping_rounds, evals_result, verbose_eval, xgb_model, callbacks, learning_rates)\u001b[0m\n\u001b[0;32m    214\u001b[0m                            \u001b[0mevals\u001b[0m\u001b[1;33m=\u001b[0m\u001b[0mevals\u001b[0m\u001b[1;33m,\u001b[0m\u001b[1;33m\u001b[0m\u001b[1;33m\u001b[0m\u001b[0m\n\u001b[0;32m    215\u001b[0m                            \u001b[0mobj\u001b[0m\u001b[1;33m=\u001b[0m\u001b[0mobj\u001b[0m\u001b[1;33m,\u001b[0m \u001b[0mfeval\u001b[0m\u001b[1;33m=\u001b[0m\u001b[0mfeval\u001b[0m\u001b[1;33m,\u001b[0m\u001b[1;33m\u001b[0m\u001b[1;33m\u001b[0m\u001b[0m\n\u001b[1;32m--> 216\u001b[1;33m                            xgb_model=xgb_model, callbacks=callbacks)\n\u001b[0m\u001b[0;32m    217\u001b[0m \u001b[1;33m\u001b[0m\u001b[0m\n\u001b[0;32m    218\u001b[0m \u001b[1;33m\u001b[0m\u001b[0m\n",
      "\u001b[1;32m~\\anaconda3\\lib\\site-packages\\xgboost\\training.py\u001b[0m in \u001b[0;36m_train_internal\u001b[1;34m(params, dtrain, num_boost_round, evals, obj, feval, xgb_model, callbacks)\u001b[0m\n\u001b[0;32m     72\u001b[0m         \u001b[1;31m# Skip the first update if it is a recovery step.\u001b[0m\u001b[1;33m\u001b[0m\u001b[1;33m\u001b[0m\u001b[1;33m\u001b[0m\u001b[0m\n\u001b[0;32m     73\u001b[0m         \u001b[1;32mif\u001b[0m \u001b[0mversion\u001b[0m \u001b[1;33m%\u001b[0m \u001b[1;36m2\u001b[0m \u001b[1;33m==\u001b[0m \u001b[1;36m0\u001b[0m\u001b[1;33m:\u001b[0m\u001b[1;33m\u001b[0m\u001b[1;33m\u001b[0m\u001b[0m\n\u001b[1;32m---> 74\u001b[1;33m             \u001b[0mbst\u001b[0m\u001b[1;33m.\u001b[0m\u001b[0mupdate\u001b[0m\u001b[1;33m(\u001b[0m\u001b[0mdtrain\u001b[0m\u001b[1;33m,\u001b[0m \u001b[0mi\u001b[0m\u001b[1;33m,\u001b[0m \u001b[0mobj\u001b[0m\u001b[1;33m)\u001b[0m\u001b[1;33m\u001b[0m\u001b[1;33m\u001b[0m\u001b[0m\n\u001b[0m\u001b[0;32m     75\u001b[0m             \u001b[0mbst\u001b[0m\u001b[1;33m.\u001b[0m\u001b[0msave_rabit_checkpoint\u001b[0m\u001b[1;33m(\u001b[0m\u001b[1;33m)\u001b[0m\u001b[1;33m\u001b[0m\u001b[1;33m\u001b[0m\u001b[0m\n\u001b[0;32m     76\u001b[0m             \u001b[0mversion\u001b[0m \u001b[1;33m+=\u001b[0m \u001b[1;36m1\u001b[0m\u001b[1;33m\u001b[0m\u001b[1;33m\u001b[0m\u001b[0m\n",
      "\u001b[1;32m~\\anaconda3\\lib\\site-packages\\xgboost\\core.py\u001b[0m in \u001b[0;36mupdate\u001b[1;34m(self, dtrain, iteration, fobj)\u001b[0m\n\u001b[0;32m   1107\u001b[0m         \u001b[1;32mif\u001b[0m \u001b[0mfobj\u001b[0m \u001b[1;32mis\u001b[0m \u001b[1;32mNone\u001b[0m\u001b[1;33m:\u001b[0m\u001b[1;33m\u001b[0m\u001b[1;33m\u001b[0m\u001b[0m\n\u001b[0;32m   1108\u001b[0m             _check_call(_LIB.XGBoosterUpdateOneIter(self.handle, ctypes.c_int(iteration),\n\u001b[1;32m-> 1109\u001b[1;33m                                                     dtrain.handle))\n\u001b[0m\u001b[0;32m   1110\u001b[0m         \u001b[1;32melse\u001b[0m\u001b[1;33m:\u001b[0m\u001b[1;33m\u001b[0m\u001b[1;33m\u001b[0m\u001b[0m\n\u001b[0;32m   1111\u001b[0m             \u001b[0mpred\u001b[0m \u001b[1;33m=\u001b[0m \u001b[0mself\u001b[0m\u001b[1;33m.\u001b[0m\u001b[0mpredict\u001b[0m\u001b[1;33m(\u001b[0m\u001b[0mdtrain\u001b[0m\u001b[1;33m)\u001b[0m\u001b[1;33m\u001b[0m\u001b[1;33m\u001b[0m\u001b[0m\n",
      "\u001b[1;31mKeyboardInterrupt\u001b[0m: "
     ]
    }
   ],
   "source": [
    "kfold = StratifiedKFold(n_splits = 5, shuffle = True, random_state = 1000)\n",
    "\n",
    "predicted = []\n",
    "original = []\n",
    "log_losses = []\n",
    "accuracies = []\n",
    "fold_counter = 0\n",
    "misclassified_counter = 1\n",
    "for train_index, test_index in kfold.split(X,y):\n",
    "    fold_counter += 1\n",
    "    train_X=X.iloc[train_index,:]\n",
    "    train_y=y.iloc[train_index]\n",
    "    test_X=X.iloc[test_index,:]\n",
    "    test_y=y.iloc[test_index]\n",
    "    #----------\n",
    "    pred = bagging_custom(10, test_index, train_index, train_X, test_X, train_y) \n",
    "    #----------\n",
    "    test_y = [int(x-1) for x in test_y]\n",
    "    \n",
    "    score_log = log_loss(test_y,pred[1],eps=1e-15)\n",
    "    score_acc = accuracy_score(test_y, pred[0])\n",
    "\n",
    "    log_losses.append(score_log)\n",
    "    accuracies.append(score_acc)\n",
    "    \n",
    "    predicted.extend(pred[0])\n",
    "    original.extend(test_y)\n",
    "    \n",
    "    print('-----------------------------------')\n",
    "    print('FOLD '+ str(fold_counter))\n",
    "    print('Logloss:' + str(score_log))\n",
    "    print('Accuracy:' + str(score_acc))\n",
    "\n",
    "    for i in range(len(pred[0])):\n",
    "        if pred[0][i] != test_y[i]:\n",
    "            print ('Missed! ' + 'actual='+str(test_y[i]+1) + ' predicted='+str(pred[0][i]+1))\n",
    "            misclassified_counter += 1\n",
    "\n",
    "predicted = np.array(predicted)\n",
    "original = np.array(original)\n",
    "print ('===========================================')\n",
    "print('In total {} misclassified samples'.format(misclassified_counter-1))\n",
    "print('Accuracy mean : ' + str(np.mean(accuracies)))\n",
    "print('log loss mean : ' + str(np.mean(log_losses)))\n"
   ]
  },
  {
   "cell_type": "markdown",
   "metadata": {},
   "source": [
    "# kraj"
   ]
  },
  {
   "cell_type": "code",
   "execution_count": 69,
   "metadata": {},
   "outputs": [],
   "source": [
    "# load Id column of testset\n",
    "md5hash_test = pd.read_csv(\"https://raw.githubusercontent.com/mateastanisic/lfs/master/md5hash_test.csv\")\n",
    "# drop first colum that was left -> fix this and save dataframe without that column\n",
    "md5hash_test.drop(['Unnamed: 0'], axis=1, inplace=True)"
   ]
  },
  {
   "cell_type": "code",
   "execution_count": 75,
   "metadata": {},
   "outputs": [],
   "source": [
    "selected_features_test = pd.read_csv('selected_features_rfc_test_cv2.csv')"
   ]
  },
  {
   "cell_type": "code",
   "execution_count": 112,
   "metadata": {},
   "outputs": [
    {
     "name": "stdout",
     "output_type": "stream",
     "text": [
      "Bag 1\n",
      "Bag 2\n",
      "Bag 3\n",
      "Bag 4\n",
      "Bag 5\n",
      "Bag 6\n",
      "Bag 7\n",
      "Bag 8\n",
      "Bag 9\n",
      "Bag 10\n"
     ]
    }
   ],
   "source": [
    "X_test=selected_features_test.iloc[:,1:10873]\n",
    "train_index=X.iloc[:,0]\n",
    "test_index=selected_features_test.iloc[:,0]\n",
    "\n",
    "pred = bagging_custom(10, test_index, train_index, X, X_test, y) \n"
   ]
  },
  {
   "cell_type": "markdown",
   "metadata": {},
   "source": [
    "# submission\n",
    "bez headera"
   ]
  },
  {
   "cell_type": "code",
   "execution_count": 114,
   "metadata": {
    "scrolled": true
   },
   "outputs": [
    {
     "data": {
      "text/html": [
       "<div>\n",
       "<style scoped>\n",
       "    .dataframe tbody tr th:only-of-type {\n",
       "        vertical-align: middle;\n",
       "    }\n",
       "\n",
       "    .dataframe tbody tr th {\n",
       "        vertical-align: top;\n",
       "    }\n",
       "\n",
       "    .dataframe thead th {\n",
       "        text-align: right;\n",
       "    }\n",
       "</style>\n",
       "<table border=\"1\" class=\"dataframe\">\n",
       "  <thead>\n",
       "    <tr style=\"text-align: right;\">\n",
       "      <th></th>\n",
       "      <th>0</th>\n",
       "      <th>1</th>\n",
       "      <th>2</th>\n",
       "      <th>3</th>\n",
       "      <th>4</th>\n",
       "      <th>5</th>\n",
       "      <th>6</th>\n",
       "      <th>7</th>\n",
       "      <th>8</th>\n",
       "    </tr>\n",
       "  </thead>\n",
       "  <tbody>\n",
       "    <tr>\n",
       "      <th>0</th>\n",
       "      <td>0.000232</td>\n",
       "      <td>0.000235</td>\n",
       "      <td>0.000194</td>\n",
       "      <td>0.000189</td>\n",
       "      <td>0.996269</td>\n",
       "      <td>0.001132</td>\n",
       "      <td>0.000516</td>\n",
       "      <td>0.000890</td>\n",
       "      <td>0.000341</td>\n",
       "    </tr>\n",
       "    <tr>\n",
       "      <th>1</th>\n",
       "      <td>0.000069</td>\n",
       "      <td>0.000142</td>\n",
       "      <td>0.000056</td>\n",
       "      <td>0.000055</td>\n",
       "      <td>0.998794</td>\n",
       "      <td>0.000235</td>\n",
       "      <td>0.000281</td>\n",
       "      <td>0.000187</td>\n",
       "      <td>0.000183</td>\n",
       "    </tr>\n",
       "    <tr>\n",
       "      <th>2</th>\n",
       "      <td>0.000150</td>\n",
       "      <td>0.000196</td>\n",
       "      <td>0.000106</td>\n",
       "      <td>0.000145</td>\n",
       "      <td>0.998160</td>\n",
       "      <td>0.000257</td>\n",
       "      <td>0.000282</td>\n",
       "      <td>0.000514</td>\n",
       "      <td>0.000188</td>\n",
       "    </tr>\n",
       "    <tr>\n",
       "      <th>3</th>\n",
       "      <td>0.003723</td>\n",
       "      <td>0.006853</td>\n",
       "      <td>0.003120</td>\n",
       "      <td>0.004150</td>\n",
       "      <td>0.939744</td>\n",
       "      <td>0.015020</td>\n",
       "      <td>0.003415</td>\n",
       "      <td>0.019795</td>\n",
       "      <td>0.004180</td>\n",
       "    </tr>\n",
       "    <tr>\n",
       "      <th>4</th>\n",
       "      <td>0.000017</td>\n",
       "      <td>0.000014</td>\n",
       "      <td>0.999821</td>\n",
       "      <td>0.000015</td>\n",
       "      <td>0.000037</td>\n",
       "      <td>0.000026</td>\n",
       "      <td>0.000024</td>\n",
       "      <td>0.000024</td>\n",
       "      <td>0.000022</td>\n",
       "    </tr>\n",
       "    <tr>\n",
       "      <th>...</th>\n",
       "      <td>...</td>\n",
       "      <td>...</td>\n",
       "      <td>...</td>\n",
       "      <td>...</td>\n",
       "      <td>...</td>\n",
       "      <td>...</td>\n",
       "      <td>...</td>\n",
       "      <td>...</td>\n",
       "      <td>...</td>\n",
       "    </tr>\n",
       "    <tr>\n",
       "      <th>10868</th>\n",
       "      <td>0.000011</td>\n",
       "      <td>0.000009</td>\n",
       "      <td>0.999891</td>\n",
       "      <td>0.000010</td>\n",
       "      <td>0.000022</td>\n",
       "      <td>0.000015</td>\n",
       "      <td>0.000014</td>\n",
       "      <td>0.000014</td>\n",
       "      <td>0.000014</td>\n",
       "    </tr>\n",
       "    <tr>\n",
       "      <th>10869</th>\n",
       "      <td>0.000023</td>\n",
       "      <td>0.000138</td>\n",
       "      <td>0.000023</td>\n",
       "      <td>0.000043</td>\n",
       "      <td>0.000046</td>\n",
       "      <td>0.000046</td>\n",
       "      <td>0.999606</td>\n",
       "      <td>0.000048</td>\n",
       "      <td>0.000027</td>\n",
       "    </tr>\n",
       "    <tr>\n",
       "      <th>10870</th>\n",
       "      <td>0.000009</td>\n",
       "      <td>0.000009</td>\n",
       "      <td>0.999892</td>\n",
       "      <td>0.000010</td>\n",
       "      <td>0.000017</td>\n",
       "      <td>0.000016</td>\n",
       "      <td>0.000021</td>\n",
       "      <td>0.000011</td>\n",
       "      <td>0.000015</td>\n",
       "    </tr>\n",
       "    <tr>\n",
       "      <th>10871</th>\n",
       "      <td>0.000017</td>\n",
       "      <td>0.999795</td>\n",
       "      <td>0.000018</td>\n",
       "      <td>0.000011</td>\n",
       "      <td>0.000022</td>\n",
       "      <td>0.000019</td>\n",
       "      <td>0.000015</td>\n",
       "      <td>0.000031</td>\n",
       "      <td>0.000073</td>\n",
       "    </tr>\n",
       "    <tr>\n",
       "      <th>10872</th>\n",
       "      <td>0.000014</td>\n",
       "      <td>0.000014</td>\n",
       "      <td>0.000010</td>\n",
       "      <td>0.000011</td>\n",
       "      <td>0.000014</td>\n",
       "      <td>0.000029</td>\n",
       "      <td>0.000010</td>\n",
       "      <td>0.999861</td>\n",
       "      <td>0.000036</td>\n",
       "    </tr>\n",
       "  </tbody>\n",
       "</table>\n",
       "<p>10873 rows × 9 columns</p>\n",
       "</div>"
      ],
      "text/plain": [
       "              0         1         2         3         4         5         6  \\\n",
       "0      0.000232  0.000235  0.000194  0.000189  0.996269  0.001132  0.000516   \n",
       "1      0.000069  0.000142  0.000056  0.000055  0.998794  0.000235  0.000281   \n",
       "2      0.000150  0.000196  0.000106  0.000145  0.998160  0.000257  0.000282   \n",
       "3      0.003723  0.006853  0.003120  0.004150  0.939744  0.015020  0.003415   \n",
       "4      0.000017  0.000014  0.999821  0.000015  0.000037  0.000026  0.000024   \n",
       "...         ...       ...       ...       ...       ...       ...       ...   \n",
       "10868  0.000011  0.000009  0.999891  0.000010  0.000022  0.000015  0.000014   \n",
       "10869  0.000023  0.000138  0.000023  0.000043  0.000046  0.000046  0.999606   \n",
       "10870  0.000009  0.000009  0.999892  0.000010  0.000017  0.000016  0.000021   \n",
       "10871  0.000017  0.999795  0.000018  0.000011  0.000022  0.000019  0.000015   \n",
       "10872  0.000014  0.000014  0.000010  0.000011  0.000014  0.000029  0.000010   \n",
       "\n",
       "              7         8  \n",
       "0      0.000890  0.000341  \n",
       "1      0.000187  0.000183  \n",
       "2      0.000514  0.000188  \n",
       "3      0.019795  0.004180  \n",
       "4      0.000024  0.000022  \n",
       "...         ...       ...  \n",
       "10868  0.000014  0.000014  \n",
       "10869  0.000048  0.000027  \n",
       "10870  0.000011  0.000015  \n",
       "10871  0.000031  0.000073  \n",
       "10872  0.999861  0.000036  \n",
       "\n",
       "[10873 rows x 9 columns]"
      ]
     },
     "execution_count": 114,
     "metadata": {},
     "output_type": "execute_result"
    }
   ],
   "source": [
    "df = pd.DataFrame(pred[1])\n",
    "result = pd.concat([md5hash_test, df], axis=1, sort=False)\n",
    "result.to_csv('submisson.csv')"
   ]
  },
  {
   "cell_type": "markdown",
   "metadata": {},
   "source": [
    "### stacking\n",
    "vjv nepotrebno"
   ]
  },
  {
   "cell_type": "code",
   "execution_count": 305,
   "metadata": {
    "scrolled": true
   },
   "outputs": [
    {
     "name": "stdout",
     "output_type": "stream",
     "text": [
      ">rfc 0.984 (0.002)\n",
      ">etc 0.984 (0.002)\n",
      ">xgb 0.976 (0.003)\n"
     ]
    },
    {
     "data": {
      "image/png": "[encoded data removed]",
      "text/plain": [
       "<Figure size 432x360 with 1 Axes>"
      ]
     },
     "metadata": {
      "needs_background": "light"
     },
     "output_type": "display_data"
    }
   ],
   "source": [
    "#prvo, evaluacija svakog modela kojeg ćemo koristiti u stackingu posebno\n",
    "\n",
    "#lista modela\n",
    "def get_models():\n",
    "    models = dict()\n",
    "    models['rfc'] = RandomForestClassifier(n_estimators=50, n_jobs=4)\n",
    "    models['etc'] = ExtraTreesClassifier(n_estimators=50, n_jobs=4)\n",
    "    models['xgb'] =xgb.XGBClassifier(**params)\n",
    "    return models\n",
    " \n",
    "# evaluacija modela s cross-validation\n",
    "def evaluate_model(model):\n",
    "    cv = RepeatedStratifiedKFold(n_splits=5, n_repeats=3, random_state=1)\n",
    "    scores = cross_val_score(model, X, y, scoring='accuracy', cv=cv, n_jobs=-1, error_score='raise')\n",
    "    return scores\n",
    "\n",
    "models = get_models()\n",
    "results, names = list(), list()\n",
    "for name, model in models.items():\n",
    "    scores = evaluate_model(model)\n",
    "    results.append(scores)\n",
    "    names.append(name)\n",
    "    print('>%s %.3f (%.3f)' % (name, mean(scores), std(scores)))\n",
    "# boxplot točnosti\n",
    "fig = plt.subplots(figsize=(6, 5))\n",
    "pyplot.boxplot(results, labels=names, showmeans=True)\n",
    "pyplot.show()"
   ]
  },
  {
   "cell_type": "code",
   "execution_count": 247,
   "metadata": {},
   "outputs": [
    {
     "ename": "KeyboardInterrupt",
     "evalue": "",
     "output_type": "error",
     "traceback": [
      "\u001b[1;31m---------------------------------------------------------------------------\u001b[0m",
      "\u001b[1;31mKeyboardInterrupt\u001b[0m                         Traceback (most recent call last)",
      "\u001b[1;32m<ipython-input-247-43602cd651a4>\u001b[0m in \u001b[0;36m<module>\u001b[1;34m\u001b[0m\n\u001b[0;32m     30\u001b[0m \u001b[0my_test\u001b[0m \u001b[1;33m=\u001b[0m \u001b[1;33m[\u001b[0m\u001b[0mint\u001b[0m\u001b[1;33m(\u001b[0m\u001b[0mx\u001b[0m\u001b[1;33m-\u001b[0m\u001b[1;36m1\u001b[0m\u001b[1;33m)\u001b[0m \u001b[1;32mfor\u001b[0m \u001b[0mx\u001b[0m \u001b[1;32min\u001b[0m \u001b[0my_test\u001b[0m\u001b[1;33m]\u001b[0m\u001b[1;33m\u001b[0m\u001b[1;33m\u001b[0m\u001b[0m\n\u001b[0;32m     31\u001b[0m \u001b[0mmodel\u001b[0m\u001b[1;33m=\u001b[0m\u001b[0mget_stacking\u001b[0m\u001b[1;33m(\u001b[0m\u001b[1;33m)\u001b[0m\u001b[1;33m\u001b[0m\u001b[1;33m\u001b[0m\u001b[0m\n\u001b[1;32m---> 32\u001b[1;33m \u001b[0mmodel\u001b[0m\u001b[1;33m.\u001b[0m\u001b[0mfit\u001b[0m\u001b[1;33m(\u001b[0m\u001b[0mX_train\u001b[0m\u001b[1;33m,\u001b[0m \u001b[0my_train\u001b[0m\u001b[1;33m)\u001b[0m\u001b[1;33m\u001b[0m\u001b[1;33m\u001b[0m\u001b[0m\n\u001b[0m\u001b[0;32m     33\u001b[0m \u001b[1;33m\u001b[0m\u001b[0m\n\u001b[0;32m     34\u001b[0m \u001b[0mpred\u001b[0m \u001b[1;33m=\u001b[0m \u001b[0mmodel\u001b[0m\u001b[1;33m.\u001b[0m\u001b[0mpredict\u001b[0m\u001b[1;33m(\u001b[0m\u001b[0mX_test\u001b[0m\u001b[1;33m)\u001b[0m\u001b[1;33m\u001b[0m\u001b[1;33m\u001b[0m\u001b[0m\n",
      "\u001b[1;32m~\\anaconda3\\lib\\site-packages\\sklearn\\ensemble\\_stacking.py\u001b[0m in \u001b[0;36mfit\u001b[1;34m(self, X, y, sample_weight)\u001b[0m\n\u001b[0;32m    411\u001b[0m         \u001b[0mself\u001b[0m\u001b[1;33m.\u001b[0m\u001b[0m_le\u001b[0m \u001b[1;33m=\u001b[0m \u001b[0mLabelEncoder\u001b[0m\u001b[1;33m(\u001b[0m\u001b[1;33m)\u001b[0m\u001b[1;33m.\u001b[0m\u001b[0mfit\u001b[0m\u001b[1;33m(\u001b[0m\u001b[0my\u001b[0m\u001b[1;33m)\u001b[0m\u001b[1;33m\u001b[0m\u001b[1;33m\u001b[0m\u001b[0m\n\u001b[0;32m    412\u001b[0m         \u001b[0mself\u001b[0m\u001b[1;33m.\u001b[0m\u001b[0mclasses_\u001b[0m \u001b[1;33m=\u001b[0m \u001b[0mself\u001b[0m\u001b[1;33m.\u001b[0m\u001b[0m_le\u001b[0m\u001b[1;33m.\u001b[0m\u001b[0mclasses_\u001b[0m\u001b[1;33m\u001b[0m\u001b[1;33m\u001b[0m\u001b[0m\n\u001b[1;32m--> 413\u001b[1;33m         \u001b[1;32mreturn\u001b[0m \u001b[0msuper\u001b[0m\u001b[1;33m(\u001b[0m\u001b[1;33m)\u001b[0m\u001b[1;33m.\u001b[0m\u001b[0mfit\u001b[0m\u001b[1;33m(\u001b[0m\u001b[0mX\u001b[0m\u001b[1;33m,\u001b[0m \u001b[0mself\u001b[0m\u001b[1;33m.\u001b[0m\u001b[0m_le\u001b[0m\u001b[1;33m.\u001b[0m\u001b[0mtransform\u001b[0m\u001b[1;33m(\u001b[0m\u001b[0my\u001b[0m\u001b[1;33m)\u001b[0m\u001b[1;33m,\u001b[0m \u001b[0msample_weight\u001b[0m\u001b[1;33m)\u001b[0m\u001b[1;33m\u001b[0m\u001b[1;33m\u001b[0m\u001b[0m\n\u001b[0m\u001b[0;32m    414\u001b[0m \u001b[1;33m\u001b[0m\u001b[0m\n\u001b[0;32m    415\u001b[0m     \u001b[1;33m@\u001b[0m\u001b[0mif_delegate_has_method\u001b[0m\u001b[1;33m(\u001b[0m\u001b[0mdelegate\u001b[0m\u001b[1;33m=\u001b[0m\u001b[1;34m'final_estimator_'\u001b[0m\u001b[1;33m)\u001b[0m\u001b[1;33m\u001b[0m\u001b[1;33m\u001b[0m\u001b[0m\n",
      "\u001b[1;32m~\\anaconda3\\lib\\site-packages\\sklearn\\ensemble\\_stacking.py\u001b[0m in \u001b[0;36mfit\u001b[1;34m(self, X, y, sample_weight)\u001b[0m\n\u001b[0;32m    139\u001b[0m         self.estimators_ = Parallel(n_jobs=self.n_jobs)(\n\u001b[0;32m    140\u001b[0m             \u001b[0mdelayed\u001b[0m\u001b[1;33m(\u001b[0m\u001b[0m_parallel_fit_estimator\u001b[0m\u001b[1;33m)\u001b[0m\u001b[1;33m(\u001b[0m\u001b[0mclone\u001b[0m\u001b[1;33m(\u001b[0m\u001b[0mest\u001b[0m\u001b[1;33m)\u001b[0m\u001b[1;33m,\u001b[0m \u001b[0mX\u001b[0m\u001b[1;33m,\u001b[0m \u001b[0my\u001b[0m\u001b[1;33m,\u001b[0m \u001b[0msample_weight\u001b[0m\u001b[1;33m)\u001b[0m\u001b[1;33m\u001b[0m\u001b[1;33m\u001b[0m\u001b[0m\n\u001b[1;32m--> 141\u001b[1;33m             \u001b[1;32mfor\u001b[0m \u001b[0mest\u001b[0m \u001b[1;32min\u001b[0m \u001b[0mall_estimators\u001b[0m \u001b[1;32mif\u001b[0m \u001b[0mest\u001b[0m \u001b[1;33m!=\u001b[0m \u001b[1;34m'drop'\u001b[0m\u001b[1;33m\u001b[0m\u001b[1;33m\u001b[0m\u001b[0m\n\u001b[0m\u001b[0;32m    142\u001b[0m         )\n\u001b[0;32m    143\u001b[0m \u001b[1;33m\u001b[0m\u001b[0m\n",
      "\u001b[1;32m~\\anaconda3\\lib\\site-packages\\joblib\\parallel.py\u001b[0m in \u001b[0;36m__call__\u001b[1;34m(self, iterable)\u001b[0m\n\u001b[0;32m   1005\u001b[0m                 \u001b[0mself\u001b[0m\u001b[1;33m.\u001b[0m\u001b[0m_iterating\u001b[0m \u001b[1;33m=\u001b[0m \u001b[0mself\u001b[0m\u001b[1;33m.\u001b[0m\u001b[0m_original_iterator\u001b[0m \u001b[1;32mis\u001b[0m \u001b[1;32mnot\u001b[0m \u001b[1;32mNone\u001b[0m\u001b[1;33m\u001b[0m\u001b[1;33m\u001b[0m\u001b[0m\n\u001b[0;32m   1006\u001b[0m \u001b[1;33m\u001b[0m\u001b[0m\n\u001b[1;32m-> 1007\u001b[1;33m             \u001b[1;32mwhile\u001b[0m \u001b[0mself\u001b[0m\u001b[1;33m.\u001b[0m\u001b[0mdispatch_one_batch\u001b[0m\u001b[1;33m(\u001b[0m\u001b[0miterator\u001b[0m\u001b[1;33m)\u001b[0m\u001b[1;33m:\u001b[0m\u001b[1;33m\u001b[0m\u001b[1;33m\u001b[0m\u001b[0m\n\u001b[0m\u001b[0;32m   1008\u001b[0m                 \u001b[1;32mpass\u001b[0m\u001b[1;33m\u001b[0m\u001b[1;33m\u001b[0m\u001b[0m\n\u001b[0;32m   1009\u001b[0m \u001b[1;33m\u001b[0m\u001b[0m\n",
      "\u001b[1;32m~\\anaconda3\\lib\\site-packages\\joblib\\parallel.py\u001b[0m in \u001b[0;36mdispatch_one_batch\u001b[1;34m(self, iterator)\u001b[0m\n\u001b[0;32m    833\u001b[0m                 \u001b[1;32mreturn\u001b[0m \u001b[1;32mFalse\u001b[0m\u001b[1;33m\u001b[0m\u001b[1;33m\u001b[0m\u001b[0m\n\u001b[0;32m    834\u001b[0m             \u001b[1;32melse\u001b[0m\u001b[1;33m:\u001b[0m\u001b[1;33m\u001b[0m\u001b[1;33m\u001b[0m\u001b[0m\n\u001b[1;32m--> 835\u001b[1;33m                 \u001b[0mself\u001b[0m\u001b[1;33m.\u001b[0m\u001b[0m_dispatch\u001b[0m\u001b[1;33m(\u001b[0m\u001b[0mtasks\u001b[0m\u001b[1;33m)\u001b[0m\u001b[1;33m\u001b[0m\u001b[1;33m\u001b[0m\u001b[0m\n\u001b[0m\u001b[0;32m    836\u001b[0m                 \u001b[1;32mreturn\u001b[0m \u001b[1;32mTrue\u001b[0m\u001b[1;33m\u001b[0m\u001b[1;33m\u001b[0m\u001b[0m\n\u001b[0;32m    837\u001b[0m \u001b[1;33m\u001b[0m\u001b[0m\n",
      "\u001b[1;32m~\\anaconda3\\lib\\site-packages\\joblib\\parallel.py\u001b[0m in \u001b[0;36m_dispatch\u001b[1;34m(self, batch)\u001b[0m\n\u001b[0;32m    752\u001b[0m         \u001b[1;32mwith\u001b[0m \u001b[0mself\u001b[0m\u001b[1;33m.\u001b[0m\u001b[0m_lock\u001b[0m\u001b[1;33m:\u001b[0m\u001b[1;33m\u001b[0m\u001b[1;33m\u001b[0m\u001b[0m\n\u001b[0;32m    753\u001b[0m             \u001b[0mjob_idx\u001b[0m \u001b[1;33m=\u001b[0m \u001b[0mlen\u001b[0m\u001b[1;33m(\u001b[0m\u001b[0mself\u001b[0m\u001b[1;33m.\u001b[0m\u001b[0m_jobs\u001b[0m\u001b[1;33m)\u001b[0m\u001b[1;33m\u001b[0m\u001b[1;33m\u001b[0m\u001b[0m\n\u001b[1;32m--> 754\u001b[1;33m             \u001b[0mjob\u001b[0m \u001b[1;33m=\u001b[0m \u001b[0mself\u001b[0m\u001b[1;33m.\u001b[0m\u001b[0m_backend\u001b[0m\u001b[1;33m.\u001b[0m\u001b[0mapply_async\u001b[0m\u001b[1;33m(\u001b[0m\u001b[0mbatch\u001b[0m\u001b[1;33m,\u001b[0m \u001b[0mcallback\u001b[0m\u001b[1;33m=\u001b[0m\u001b[0mcb\u001b[0m\u001b[1;33m)\u001b[0m\u001b[1;33m\u001b[0m\u001b[1;33m\u001b[0m\u001b[0m\n\u001b[0m\u001b[0;32m    755\u001b[0m             \u001b[1;31m# A job can complete so quickly than its callback is\u001b[0m\u001b[1;33m\u001b[0m\u001b[1;33m\u001b[0m\u001b[1;33m\u001b[0m\u001b[0m\n\u001b[0;32m    756\u001b[0m             \u001b[1;31m# called before we get here, causing self._jobs to\u001b[0m\u001b[1;33m\u001b[0m\u001b[1;33m\u001b[0m\u001b[1;33m\u001b[0m\u001b[0m\n",
      "\u001b[1;32m~\\anaconda3\\lib\\site-packages\\joblib\\_parallel_backends.py\u001b[0m in \u001b[0;36mapply_async\u001b[1;34m(self, func, callback)\u001b[0m\n\u001b[0;32m    207\u001b[0m     \u001b[1;32mdef\u001b[0m \u001b[0mapply_async\u001b[0m\u001b[1;33m(\u001b[0m\u001b[0mself\u001b[0m\u001b[1;33m,\u001b[0m \u001b[0mfunc\u001b[0m\u001b[1;33m,\u001b[0m \u001b[0mcallback\u001b[0m\u001b[1;33m=\u001b[0m\u001b[1;32mNone\u001b[0m\u001b[1;33m)\u001b[0m\u001b[1;33m:\u001b[0m\u001b[1;33m\u001b[0m\u001b[1;33m\u001b[0m\u001b[0m\n\u001b[0;32m    208\u001b[0m         \u001b[1;34m\"\"\"Schedule a func to be run\"\"\"\u001b[0m\u001b[1;33m\u001b[0m\u001b[1;33m\u001b[0m\u001b[0m\n\u001b[1;32m--> 209\u001b[1;33m         \u001b[0mresult\u001b[0m \u001b[1;33m=\u001b[0m \u001b[0mImmediateResult\u001b[0m\u001b[1;33m(\u001b[0m\u001b[0mfunc\u001b[0m\u001b[1;33m)\u001b[0m\u001b[1;33m\u001b[0m\u001b[1;33m\u001b[0m\u001b[0m\n\u001b[0m\u001b[0;32m    210\u001b[0m         \u001b[1;32mif\u001b[0m \u001b[0mcallback\u001b[0m\u001b[1;33m:\u001b[0m\u001b[1;33m\u001b[0m\u001b[1;33m\u001b[0m\u001b[0m\n\u001b[0;32m    211\u001b[0m             \u001b[0mcallback\u001b[0m\u001b[1;33m(\u001b[0m\u001b[0mresult\u001b[0m\u001b[1;33m)\u001b[0m\u001b[1;33m\u001b[0m\u001b[1;33m\u001b[0m\u001b[0m\n",
      "\u001b[1;32m~\\anaconda3\\lib\\site-packages\\joblib\\_parallel_backends.py\u001b[0m in \u001b[0;36m__init__\u001b[1;34m(self, batch)\u001b[0m\n\u001b[0;32m    588\u001b[0m         \u001b[1;31m# Don't delay the application, to avoid keeping the input\u001b[0m\u001b[1;33m\u001b[0m\u001b[1;33m\u001b[0m\u001b[1;33m\u001b[0m\u001b[0m\n\u001b[0;32m    589\u001b[0m         \u001b[1;31m# arguments in memory\u001b[0m\u001b[1;33m\u001b[0m\u001b[1;33m\u001b[0m\u001b[1;33m\u001b[0m\u001b[0m\n\u001b[1;32m--> 590\u001b[1;33m         \u001b[0mself\u001b[0m\u001b[1;33m.\u001b[0m\u001b[0mresults\u001b[0m \u001b[1;33m=\u001b[0m \u001b[0mbatch\u001b[0m\u001b[1;33m(\u001b[0m\u001b[1;33m)\u001b[0m\u001b[1;33m\u001b[0m\u001b[1;33m\u001b[0m\u001b[0m\n\u001b[0m\u001b[0;32m    591\u001b[0m \u001b[1;33m\u001b[0m\u001b[0m\n\u001b[0;32m    592\u001b[0m     \u001b[1;32mdef\u001b[0m \u001b[0mget\u001b[0m\u001b[1;33m(\u001b[0m\u001b[0mself\u001b[0m\u001b[1;33m)\u001b[0m\u001b[1;33m:\u001b[0m\u001b[1;33m\u001b[0m\u001b[1;33m\u001b[0m\u001b[0m\n",
      "\u001b[1;32m~\\anaconda3\\lib\\site-packages\\joblib\\parallel.py\u001b[0m in \u001b[0;36m__call__\u001b[1;34m(self)\u001b[0m\n\u001b[0;32m    254\u001b[0m         \u001b[1;32mwith\u001b[0m \u001b[0mparallel_backend\u001b[0m\u001b[1;33m(\u001b[0m\u001b[0mself\u001b[0m\u001b[1;33m.\u001b[0m\u001b[0m_backend\u001b[0m\u001b[1;33m,\u001b[0m \u001b[0mn_jobs\u001b[0m\u001b[1;33m=\u001b[0m\u001b[0mself\u001b[0m\u001b[1;33m.\u001b[0m\u001b[0m_n_jobs\u001b[0m\u001b[1;33m)\u001b[0m\u001b[1;33m:\u001b[0m\u001b[1;33m\u001b[0m\u001b[1;33m\u001b[0m\u001b[0m\n\u001b[0;32m    255\u001b[0m             return [func(*args, **kwargs)\n\u001b[1;32m--> 256\u001b[1;33m                     for func, args, kwargs in self.items]\n\u001b[0m\u001b[0;32m    257\u001b[0m \u001b[1;33m\u001b[0m\u001b[0m\n\u001b[0;32m    258\u001b[0m     \u001b[1;32mdef\u001b[0m \u001b[0m__len__\u001b[0m\u001b[1;33m(\u001b[0m\u001b[0mself\u001b[0m\u001b[1;33m)\u001b[0m\u001b[1;33m:\u001b[0m\u001b[1;33m\u001b[0m\u001b[1;33m\u001b[0m\u001b[0m\n",
      "\u001b[1;32m~\\anaconda3\\lib\\site-packages\\joblib\\parallel.py\u001b[0m in \u001b[0;36m<listcomp>\u001b[1;34m(.0)\u001b[0m\n\u001b[0;32m    254\u001b[0m         \u001b[1;32mwith\u001b[0m \u001b[0mparallel_backend\u001b[0m\u001b[1;33m(\u001b[0m\u001b[0mself\u001b[0m\u001b[1;33m.\u001b[0m\u001b[0m_backend\u001b[0m\u001b[1;33m,\u001b[0m \u001b[0mn_jobs\u001b[0m\u001b[1;33m=\u001b[0m\u001b[0mself\u001b[0m\u001b[1;33m.\u001b[0m\u001b[0m_n_jobs\u001b[0m\u001b[1;33m)\u001b[0m\u001b[1;33m:\u001b[0m\u001b[1;33m\u001b[0m\u001b[1;33m\u001b[0m\u001b[0m\n\u001b[0;32m    255\u001b[0m             return [func(*args, **kwargs)\n\u001b[1;32m--> 256\u001b[1;33m                     for func, args, kwargs in self.items]\n\u001b[0m\u001b[0;32m    257\u001b[0m \u001b[1;33m\u001b[0m\u001b[0m\n\u001b[0;32m    258\u001b[0m     \u001b[1;32mdef\u001b[0m \u001b[0m__len__\u001b[0m\u001b[1;33m(\u001b[0m\u001b[0mself\u001b[0m\u001b[1;33m)\u001b[0m\u001b[1;33m:\u001b[0m\u001b[1;33m\u001b[0m\u001b[1;33m\u001b[0m\u001b[0m\n",
      "\u001b[1;32m~\\anaconda3\\lib\\site-packages\\sklearn\\ensemble\\_base.py\u001b[0m in \u001b[0;36m_parallel_fit_estimator\u001b[1;34m(estimator, X, y, sample_weight)\u001b[0m\n\u001b[0;32m     34\u001b[0m             \u001b[1;32mraise\u001b[0m\u001b[1;33m\u001b[0m\u001b[1;33m\u001b[0m\u001b[0m\n\u001b[0;32m     35\u001b[0m     \u001b[1;32melse\u001b[0m\u001b[1;33m:\u001b[0m\u001b[1;33m\u001b[0m\u001b[1;33m\u001b[0m\u001b[0m\n\u001b[1;32m---> 36\u001b[1;33m         \u001b[0mestimator\u001b[0m\u001b[1;33m.\u001b[0m\u001b[0mfit\u001b[0m\u001b[1;33m(\u001b[0m\u001b[0mX\u001b[0m\u001b[1;33m,\u001b[0m \u001b[0my\u001b[0m\u001b[1;33m)\u001b[0m\u001b[1;33m\u001b[0m\u001b[1;33m\u001b[0m\u001b[0m\n\u001b[0m\u001b[0;32m     37\u001b[0m     \u001b[1;32mreturn\u001b[0m \u001b[0mestimator\u001b[0m\u001b[1;33m\u001b[0m\u001b[1;33m\u001b[0m\u001b[0m\n\u001b[0;32m     38\u001b[0m \u001b[1;33m\u001b[0m\u001b[0m\n",
      "\u001b[1;32m~\\anaconda3\\lib\\site-packages\\xgboost\\sklearn.py\u001b[0m in \u001b[0;36mfit\u001b[1;34m(self, X, y, sample_weight, eval_set, eval_metric, early_stopping_rounds, verbose, xgb_model, sample_weight_eval_set, callbacks)\u001b[0m\n\u001b[0;32m    730\u001b[0m                               \u001b[0mevals_result\u001b[0m\u001b[1;33m=\u001b[0m\u001b[0mevals_result\u001b[0m\u001b[1;33m,\u001b[0m \u001b[0mobj\u001b[0m\u001b[1;33m=\u001b[0m\u001b[0mobj\u001b[0m\u001b[1;33m,\u001b[0m \u001b[0mfeval\u001b[0m\u001b[1;33m=\u001b[0m\u001b[0mfeval\u001b[0m\u001b[1;33m,\u001b[0m\u001b[1;33m\u001b[0m\u001b[1;33m\u001b[0m\u001b[0m\n\u001b[0;32m    731\u001b[0m                               \u001b[0mverbose_eval\u001b[0m\u001b[1;33m=\u001b[0m\u001b[0mverbose\u001b[0m\u001b[1;33m,\u001b[0m \u001b[0mxgb_model\u001b[0m\u001b[1;33m=\u001b[0m\u001b[0mxgb_model\u001b[0m\u001b[1;33m,\u001b[0m\u001b[1;33m\u001b[0m\u001b[1;33m\u001b[0m\u001b[0m\n\u001b[1;32m--> 732\u001b[1;33m                               callbacks=callbacks)\n\u001b[0m\u001b[0;32m    733\u001b[0m \u001b[1;33m\u001b[0m\u001b[0m\n\u001b[0;32m    734\u001b[0m         \u001b[0mself\u001b[0m\u001b[1;33m.\u001b[0m\u001b[0mobjective\u001b[0m \u001b[1;33m=\u001b[0m \u001b[0mxgb_options\u001b[0m\u001b[1;33m[\u001b[0m\u001b[1;34m\"objective\"\u001b[0m\u001b[1;33m]\u001b[0m\u001b[1;33m\u001b[0m\u001b[1;33m\u001b[0m\u001b[0m\n",
      "\u001b[1;32m~\\anaconda3\\lib\\site-packages\\xgboost\\training.py\u001b[0m in \u001b[0;36mtrain\u001b[1;34m(params, dtrain, num_boost_round, evals, obj, feval, maximize, early_stopping_rounds, evals_result, verbose_eval, xgb_model, callbacks, learning_rates)\u001b[0m\n\u001b[0;32m    214\u001b[0m                            \u001b[0mevals\u001b[0m\u001b[1;33m=\u001b[0m\u001b[0mevals\u001b[0m\u001b[1;33m,\u001b[0m\u001b[1;33m\u001b[0m\u001b[1;33m\u001b[0m\u001b[0m\n\u001b[0;32m    215\u001b[0m                            \u001b[0mobj\u001b[0m\u001b[1;33m=\u001b[0m\u001b[0mobj\u001b[0m\u001b[1;33m,\u001b[0m \u001b[0mfeval\u001b[0m\u001b[1;33m=\u001b[0m\u001b[0mfeval\u001b[0m\u001b[1;33m,\u001b[0m\u001b[1;33m\u001b[0m\u001b[1;33m\u001b[0m\u001b[0m\n\u001b[1;32m--> 216\u001b[1;33m                            xgb_model=xgb_model, callbacks=callbacks)\n\u001b[0m\u001b[0;32m    217\u001b[0m \u001b[1;33m\u001b[0m\u001b[0m\n\u001b[0;32m    218\u001b[0m \u001b[1;33m\u001b[0m\u001b[0m\n",
      "\u001b[1;32m~\\anaconda3\\lib\\site-packages\\xgboost\\training.py\u001b[0m in \u001b[0;36m_train_internal\u001b[1;34m(params, dtrain, num_boost_round, evals, obj, feval, xgb_model, callbacks)\u001b[0m\n\u001b[0;32m     72\u001b[0m         \u001b[1;31m# Skip the first update if it is a recovery step.\u001b[0m\u001b[1;33m\u001b[0m\u001b[1;33m\u001b[0m\u001b[1;33m\u001b[0m\u001b[0m\n\u001b[0;32m     73\u001b[0m         \u001b[1;32mif\u001b[0m \u001b[0mversion\u001b[0m \u001b[1;33m%\u001b[0m \u001b[1;36m2\u001b[0m \u001b[1;33m==\u001b[0m \u001b[1;36m0\u001b[0m\u001b[1;33m:\u001b[0m\u001b[1;33m\u001b[0m\u001b[1;33m\u001b[0m\u001b[0m\n\u001b[1;32m---> 74\u001b[1;33m             \u001b[0mbst\u001b[0m\u001b[1;33m.\u001b[0m\u001b[0mupdate\u001b[0m\u001b[1;33m(\u001b[0m\u001b[0mdtrain\u001b[0m\u001b[1;33m,\u001b[0m \u001b[0mi\u001b[0m\u001b[1;33m,\u001b[0m \u001b[0mobj\u001b[0m\u001b[1;33m)\u001b[0m\u001b[1;33m\u001b[0m\u001b[1;33m\u001b[0m\u001b[0m\n\u001b[0m\u001b[0;32m     75\u001b[0m             \u001b[0mbst\u001b[0m\u001b[1;33m.\u001b[0m\u001b[0msave_rabit_checkpoint\u001b[0m\u001b[1;33m(\u001b[0m\u001b[1;33m)\u001b[0m\u001b[1;33m\u001b[0m\u001b[1;33m\u001b[0m\u001b[0m\n\u001b[0;32m     76\u001b[0m             \u001b[0mversion\u001b[0m \u001b[1;33m+=\u001b[0m \u001b[1;36m1\u001b[0m\u001b[1;33m\u001b[0m\u001b[1;33m\u001b[0m\u001b[0m\n",
      "\u001b[1;32m~\\anaconda3\\lib\\site-packages\\xgboost\\core.py\u001b[0m in \u001b[0;36mupdate\u001b[1;34m(self, dtrain, iteration, fobj)\u001b[0m\n\u001b[0;32m   1107\u001b[0m         \u001b[1;32mif\u001b[0m \u001b[0mfobj\u001b[0m \u001b[1;32mis\u001b[0m \u001b[1;32mNone\u001b[0m\u001b[1;33m:\u001b[0m\u001b[1;33m\u001b[0m\u001b[1;33m\u001b[0m\u001b[0m\n\u001b[0;32m   1108\u001b[0m             _check_call(_LIB.XGBoosterUpdateOneIter(self.handle, ctypes.c_int(iteration),\n\u001b[1;32m-> 1109\u001b[1;33m                                                     dtrain.handle))\n\u001b[0m\u001b[0;32m   1110\u001b[0m         \u001b[1;32melse\u001b[0m\u001b[1;33m:\u001b[0m\u001b[1;33m\u001b[0m\u001b[1;33m\u001b[0m\u001b[0m\n\u001b[0;32m   1111\u001b[0m             \u001b[0mpred\u001b[0m \u001b[1;33m=\u001b[0m \u001b[0mself\u001b[0m\u001b[1;33m.\u001b[0m\u001b[0mpredict\u001b[0m\u001b[1;33m(\u001b[0m\u001b[0mdtrain\u001b[0m\u001b[1;33m)\u001b[0m\u001b[1;33m\u001b[0m\u001b[1;33m\u001b[0m\u001b[0m\n",
      "\u001b[1;31mKeyboardInterrupt\u001b[0m: "
     ]
    }
   ],
   "source": [
    "# stacking\n",
    "def get_stacking():\n",
    "    # level0 je base models\n",
    "    level0 = list()\n",
    "    level0.append(('rfc', RandomForestClassifier(n_estimators=50, n_jobs=4)))\n",
    "    level0.append(('etc', ExtraTreesClassifier(n_estimators=50, n_jobs=4)))\n",
    "    level0.append(('xgb', xgb.XGBClassifier(**params)))\n",
    "    # level1 je learner model\n",
    "    level1 = LogisticRegression()\n",
    "    # define the stacking ensemble\n",
    "    model = StackingClassifier(estimators=level0, final_estimator=level1, cv=5)\n",
    "    return model\n",
    "\n",
    "X_train, X_test, y_train, y_test = train_test_split( X, features['Class'], test_size=0.3, random_state=47)\n",
    "y_train = [int(x-1) for x in y_train]\n",
    "y_test = [int(x-1) for x in y_test]\n",
    "\n",
    "model=get_stacking()\n",
    "model.fit(X_train, y_train)\n",
    "\n",
    "pred = model.predict(X_test)\n",
    "pred_proba = model.predict_proba(X_test)\n",
    "score_log = log_loss(y_test,pred_proba,eps=1e-15)\n",
    "score_acc = accuracy_score(y_test, pred)\n",
    "\n",
    "print('Logloss:' + str(score_log))\n",
    "print('Accuracy:' + str(score_acc))\n",
    "make_and_plot_confusion_matrix(y_test,pred)"
   ]
  },
  {
   "cell_type": "markdown",
   "metadata": {},
   "source": [
    "### cross-validation za xgboost koristeći xgb.cv"
   ]
  },
  {
   "cell_type": "code",
   "execution_count": 199,
   "metadata": {},
   "outputs": [],
   "source": [
    "#cross-validation s xgboost-om koristeći xgb.cv\n",
    "X_train, X_test, y_train, y_test = train_test_split( X, features['Class'], test_size=0.3, random_state=47)\n",
    "num_round = 50  \n",
    "y_train = [int(x-1) for x in y_train]\n",
    "dtrain = xgb.DMatrix(X_train, label=y_train)\n",
    "\n",
    "res = xgb.cv(param, dtrain, num_round, nfold=5, early_stopping_rounds=10, show_stdv=True)\n",
    "\n",
    "best_nrounds = res.shape[0] - 1\n",
    "cv_mean = res.iloc[-1, 0]\n",
    "cv_std = res.iloc[-1, 1]\n",
    "\n",
    "print('mean %.3f scores %.3f' % (cv_mean, cv_std))"
   ]
  },
  {
   "cell_type": "markdown",
   "metadata": {},
   "source": [
    "<br>\n",
    "<br>\n",
    "<br>\n",
    ".........fails.........."
   ]
  },
  {
   "cell_type": "code",
   "execution_count": 58,
   "metadata": {},
   "outputs": [],
   "source": [
    "#ručno računanje težina (jer mi nešto nije funkcioniralo)\n",
    "#wj=ukupan_broj_primjera/(broj_primjera_u_klasi*broj_klasa)\n",
    "#prvo izračunamo težine klasa, a onda ih pridružimo svakom primjeru\n",
    "#tj. u sample data se nalaze težine svakog primjera iz y_train\n",
    "def create_weights(y_train, largest_class_weight_coef):\n",
    "    classes = np.unique(y_train, axis = 0)\n",
    "    classes.sort()\n",
    "    class_samples = np.bincount(y_train)\n",
    "    total_samples = class_samples.sum()\n",
    "    n_classes = len(class_samples)\n",
    "    weights = total_samples / (n_classes * class_samples * 1.0)\n",
    "    class_weight_dict = {key : value for (key, value) in zip(classes, weights)}\n",
    "    sample_weights = [class_weight_dict[y] for y in y_train]\n",
    "    return sample_weights"
   ]
  }
 ],
 "metadata": {
  "kernelspec": {
   "display_name": "Python 3",
   "language": "python",
   "name": "python3"
  },
  "language_info": {
   "codemirror_mode": {
    "name": "ipython",
    "version": 3
   },
   "file_extension": ".py",
   "mimetype": "text/x-python",
   "name": "python",
   "nbconvert_exporter": "python",
   "pygments_lexer": "ipython3",
   "version": "3.7.6"
  }
 },
 "nbformat": 4,
 "nbformat_minor": 4
}
