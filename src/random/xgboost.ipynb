{
 "cells": [
  {
   "cell_type": "markdown",
   "metadata": {},
   "source": [
    "<h1><center> Klasifikator </center></h1>"
   ]
  },
  {
   "cell_type": "markdown",
   "metadata": {},
   "source": [
    " <center>\n",
    "    <h1><center>Microsoft malware classification</center></h1>\n",
    "    <i>Klasifikacija zlonamjernog softvera</i> \n",
    "    <br><br>\n",
    "    PRIRODOSLOVNO MATEMATIČKI FAKULTET - MATEMATIČKI ODSJEK <br>\n",
    "    <b>Lipanj 2020.</b> \n",
    "    <br><br>\n",
    "    <i>Stanišić Matea, Škrabo Petra, Terzanović Mateja, Tolja Margarita</i>  \n",
    "</center>\n",
    "\n",
    "***"
   ]
  },
  {
   "cell_type": "markdown",
   "metadata": {},
   "source": [
    "Potrebno je u anaconda prompt-u instalirati xgboost s:<br>\n",
    "<code>conda install -c anaconda py-xgboost</code>"
   ]
  },
  {
   "cell_type": "markdown",
   "metadata": {},
   "source": [
    "### Priprema"
   ]
  },
  {
   "cell_type": "code",
   "execution_count": 1,
   "metadata": {},
   "outputs": [],
   "source": [
    "# potrebni paketi\n",
    "import numpy as np\n",
    "from numpy import mean\n",
    "from numpy import std\n",
    "from numpy import loadtxt\n",
    "import pandas as pd\n",
    "import matplotlib.pyplot as plt\n",
    "import matplotlib.cm as cm\n",
    "from matplotlib import pyplot\n",
    "from IPython.core.pylabtools import figsize\n",
    "from collections import Counter\n",
    "import random\n",
    "\n",
    "import xgboost as xgb\n",
    "from xgboost import XGBClassifier\n",
    "from sklearn.metrics import precision_score, log_loss, accuracy_score\n",
    "from sklearn.model_selection import train_test_split, cross_val_score, RepeatedStratifiedKFold, StratifiedKFold, RandomizedSearchCV\n",
    "from sklearn.ensemble import RandomForestClassifier, ExtraTreesClassifier, BaggingClassifier\n",
    "from sklearn.metrics import confusion_matrix\n",
    "from imblearn.over_sampling import RandomOverSampler, SMOTE, ADASYN\n",
    "from imblearn.under_sampling import RandomUnderSampler\n",
    "from sklearn.utils import class_weight"
   ]
  },
  {
   "cell_type": "code",
   "execution_count": 2,
   "metadata": {},
   "outputs": [],
   "source": [
    "# učitavanje svih značajki iz training skupa\n",
    "features = pd.read_csv(\"https://raw.githubusercontent.com/mateastanisic/lfs/master/merged_all_features.csv\")"
   ]
  },
  {
   "cell_type": "code",
   "execution_count": 3,
   "metadata": {},
   "outputs": [],
   "source": [
    "# učitavanje svih značajki iz training skupa\n",
    "selected_features = pd.read_csv('selected_features_pca_train_cv2.csv')"
   ]
  },
  {
   "cell_type": "code",
   "execution_count": 4,
   "metadata": {},
   "outputs": [],
   "source": [
    "selected_features = selected_features[list(selected_features.columns.values[:40])]"
   ]
  },
  {
   "cell_type": "code",
   "execution_count": 5,
   "metadata": {},
   "outputs": [
    {
     "data": {
      "text/html": [
       "<div>\n",
       "<style scoped>\n",
       "    .dataframe tbody tr th:only-of-type {\n",
       "        vertical-align: middle;\n",
       "    }\n",
       "\n",
       "    .dataframe tbody tr th {\n",
       "        vertical-align: top;\n",
       "    }\n",
       "\n",
       "    .dataframe thead th {\n",
       "        text-align: right;\n",
       "    }\n",
       "</style>\n",
       "<table border=\"1\" class=\"dataframe\">\n",
       "  <thead>\n",
       "    <tr style=\"text-align: right;\">\n",
       "      <th></th>\n",
       "      <th>Id</th>\n",
       "      <th>Class</th>\n",
       "      <th>byte_1G_00</th>\n",
       "      <th>byte_1G_01</th>\n",
       "      <th>byte_1G_02</th>\n",
       "      <th>byte_1G_03</th>\n",
       "      <th>byte_1G_04</th>\n",
       "      <th>byte_1G_05</th>\n",
       "      <th>byte_1G_06</th>\n",
       "      <th>byte_1G_07</th>\n",
       "      <th>...</th>\n",
       "      <th>visualc</th>\n",
       "      <th>___security_cookie</th>\n",
       "      <th>assume</th>\n",
       "      <th>callvirtualalloc</th>\n",
       "      <th>exportedentry</th>\n",
       "      <th>hardware</th>\n",
       "      <th>hkey_current_user</th>\n",
       "      <th>hkey_local_machine</th>\n",
       "      <th>sp-analysisfailed</th>\n",
       "      <th>unableto</th>\n",
       "    </tr>\n",
       "  </thead>\n",
       "  <tbody>\n",
       "    <tr>\n",
       "      <th>0</th>\n",
       "      <td>01kcPWA9K2BOxQeS5Rju</td>\n",
       "      <td>1</td>\n",
       "      <td>21091</td>\n",
       "      <td>1213</td>\n",
       "      <td>726</td>\n",
       "      <td>817</td>\n",
       "      <td>1257</td>\n",
       "      <td>625</td>\n",
       "      <td>550</td>\n",
       "      <td>523</td>\n",
       "      <td>...</td>\n",
       "      <td>0</td>\n",
       "      <td>0</td>\n",
       "      <td>0</td>\n",
       "      <td>0</td>\n",
       "      <td>0</td>\n",
       "      <td>0</td>\n",
       "      <td>0</td>\n",
       "      <td>0</td>\n",
       "      <td>0</td>\n",
       "      <td>0</td>\n",
       "    </tr>\n",
       "    <tr>\n",
       "      <th>1</th>\n",
       "      <td>04EjIdbPV5e1XroFOpiN</td>\n",
       "      <td>1</td>\n",
       "      <td>40030</td>\n",
       "      <td>1980</td>\n",
       "      <td>1226</td>\n",
       "      <td>1193</td>\n",
       "      <td>1971</td>\n",
       "      <td>1096</td>\n",
       "      <td>961</td>\n",
       "      <td>755</td>\n",
       "      <td>...</td>\n",
       "      <td>0</td>\n",
       "      <td>0</td>\n",
       "      <td>0</td>\n",
       "      <td>0</td>\n",
       "      <td>0</td>\n",
       "      <td>0</td>\n",
       "      <td>0</td>\n",
       "      <td>0</td>\n",
       "      <td>0</td>\n",
       "      <td>0</td>\n",
       "    </tr>\n",
       "    <tr>\n",
       "      <th>2</th>\n",
       "      <td>05EeG39MTRrI6VY21DPd</td>\n",
       "      <td>1</td>\n",
       "      <td>19419</td>\n",
       "      <td>955</td>\n",
       "      <td>693</td>\n",
       "      <td>656</td>\n",
       "      <td>832</td>\n",
       "      <td>463</td>\n",
       "      <td>370</td>\n",
       "      <td>510</td>\n",
       "      <td>...</td>\n",
       "      <td>0</td>\n",
       "      <td>0</td>\n",
       "      <td>0</td>\n",
       "      <td>0</td>\n",
       "      <td>0</td>\n",
       "      <td>0</td>\n",
       "      <td>0</td>\n",
       "      <td>0</td>\n",
       "      <td>0</td>\n",
       "      <td>0</td>\n",
       "    </tr>\n",
       "    <tr>\n",
       "      <th>3</th>\n",
       "      <td>05rJTUWYAKNegBk2wE8X</td>\n",
       "      <td>1</td>\n",
       "      <td>79568</td>\n",
       "      <td>6445</td>\n",
       "      <td>3143</td>\n",
       "      <td>2517</td>\n",
       "      <td>4982</td>\n",
       "      <td>1824</td>\n",
       "      <td>2125</td>\n",
       "      <td>2964</td>\n",
       "      <td>...</td>\n",
       "      <td>0</td>\n",
       "      <td>0</td>\n",
       "      <td>2</td>\n",
       "      <td>0</td>\n",
       "      <td>0</td>\n",
       "      <td>0</td>\n",
       "      <td>0</td>\n",
       "      <td>0</td>\n",
       "      <td>0</td>\n",
       "      <td>0</td>\n",
       "    </tr>\n",
       "    <tr>\n",
       "      <th>4</th>\n",
       "      <td>0AnoOZDNbPXIr2MRBSCJ</td>\n",
       "      <td>1</td>\n",
       "      <td>25791</td>\n",
       "      <td>1202</td>\n",
       "      <td>569</td>\n",
       "      <td>750</td>\n",
       "      <td>948</td>\n",
       "      <td>456</td>\n",
       "      <td>405</td>\n",
       "      <td>517</td>\n",
       "      <td>...</td>\n",
       "      <td>0</td>\n",
       "      <td>0</td>\n",
       "      <td>0</td>\n",
       "      <td>0</td>\n",
       "      <td>0</td>\n",
       "      <td>0</td>\n",
       "      <td>0</td>\n",
       "      <td>0</td>\n",
       "      <td>0</td>\n",
       "      <td>0</td>\n",
       "    </tr>\n",
       "  </tbody>\n",
       "</table>\n",
       "<p>5 rows × 1695 columns</p>\n",
       "</div>"
      ],
      "text/plain": [
       "                     Id  Class  byte_1G_00  byte_1G_01  byte_1G_02  \\\n",
       "0  01kcPWA9K2BOxQeS5Rju      1       21091        1213         726   \n",
       "1  04EjIdbPV5e1XroFOpiN      1       40030        1980        1226   \n",
       "2  05EeG39MTRrI6VY21DPd      1       19419         955         693   \n",
       "3  05rJTUWYAKNegBk2wE8X      1       79568        6445        3143   \n",
       "4  0AnoOZDNbPXIr2MRBSCJ      1       25791        1202         569   \n",
       "\n",
       "   byte_1G_03  byte_1G_04  byte_1G_05  byte_1G_06  byte_1G_07  ...  visualc  \\\n",
       "0         817        1257         625         550         523  ...        0   \n",
       "1        1193        1971        1096         961         755  ...        0   \n",
       "2         656         832         463         370         510  ...        0   \n",
       "3        2517        4982        1824        2125        2964  ...        0   \n",
       "4         750         948         456         405         517  ...        0   \n",
       "\n",
       "   ___security_cookie  assume  callvirtualalloc  exportedentry  hardware  \\\n",
       "0                   0       0                 0              0         0   \n",
       "1                   0       0                 0              0         0   \n",
       "2                   0       0                 0              0         0   \n",
       "3                   0       2                 0              0         0   \n",
       "4                   0       0                 0              0         0   \n",
       "\n",
       "   hkey_current_user  hkey_local_machine  sp-analysisfailed  unableto  \n",
       "0                  0                   0                  0         0  \n",
       "1                  0                   0                  0         0  \n",
       "2                  0                   0                  0         0  \n",
       "3                  0                   0                  0         0  \n",
       "4                  0                   0                  0         0  \n",
       "\n",
       "[5 rows x 1695 columns]"
      ]
     },
     "execution_count": 5,
     "metadata": {},
     "output_type": "execute_result"
    }
   ],
   "source": [
    "features.head()"
   ]
  },
  {
   "cell_type": "code",
   "execution_count": 6,
   "metadata": {},
   "outputs": [
    {
     "data": {
      "text/html": [
       "<div>\n",
       "<style scoped>\n",
       "    .dataframe tbody tr th:only-of-type {\n",
       "        vertical-align: middle;\n",
       "    }\n",
       "\n",
       "    .dataframe tbody tr th {\n",
       "        vertical-align: top;\n",
       "    }\n",
       "\n",
       "    .dataframe thead th {\n",
       "        text-align: right;\n",
       "    }\n",
       "</style>\n",
       "<table border=\"1\" class=\"dataframe\">\n",
       "  <thead>\n",
       "    <tr style=\"text-align: right;\">\n",
       "      <th></th>\n",
       "      <th>Unnamed: 0</th>\n",
       "      <th>PC1</th>\n",
       "      <th>PC2</th>\n",
       "      <th>PC3</th>\n",
       "      <th>PC4</th>\n",
       "      <th>PC5</th>\n",
       "      <th>PC6</th>\n",
       "      <th>PC7</th>\n",
       "      <th>PC8</th>\n",
       "      <th>PC9</th>\n",
       "      <th>...</th>\n",
       "      <th>PC30</th>\n",
       "      <th>PC31</th>\n",
       "      <th>PC32</th>\n",
       "      <th>PC33</th>\n",
       "      <th>PC34</th>\n",
       "      <th>PC35</th>\n",
       "      <th>PC36</th>\n",
       "      <th>PC37</th>\n",
       "      <th>PC38</th>\n",
       "      <th>PC39</th>\n",
       "    </tr>\n",
       "  </thead>\n",
       "  <tbody>\n",
       "    <tr>\n",
       "      <th>0</th>\n",
       "      <td>0</td>\n",
       "      <td>1.674513</td>\n",
       "      <td>-3.059634</td>\n",
       "      <td>-3.894463</td>\n",
       "      <td>3.289645</td>\n",
       "      <td>0.150883</td>\n",
       "      <td>-1.472087</td>\n",
       "      <td>-0.024001</td>\n",
       "      <td>0.238912</td>\n",
       "      <td>0.142270</td>\n",
       "      <td>...</td>\n",
       "      <td>0.151829</td>\n",
       "      <td>-0.514771</td>\n",
       "      <td>-0.084412</td>\n",
       "      <td>0.068432</td>\n",
       "      <td>0.073591</td>\n",
       "      <td>-0.089930</td>\n",
       "      <td>0.065747</td>\n",
       "      <td>0.070795</td>\n",
       "      <td>0.097492</td>\n",
       "      <td>0.132126</td>\n",
       "    </tr>\n",
       "    <tr>\n",
       "      <th>1</th>\n",
       "      <td>1</td>\n",
       "      <td>5.906251</td>\n",
       "      <td>1.554144</td>\n",
       "      <td>-2.833053</td>\n",
       "      <td>2.938874</td>\n",
       "      <td>0.805299</td>\n",
       "      <td>-3.636518</td>\n",
       "      <td>-0.402669</td>\n",
       "      <td>0.606742</td>\n",
       "      <td>1.311709</td>\n",
       "      <td>...</td>\n",
       "      <td>0.044457</td>\n",
       "      <td>-0.284964</td>\n",
       "      <td>-0.490513</td>\n",
       "      <td>0.064460</td>\n",
       "      <td>-0.248158</td>\n",
       "      <td>0.136959</td>\n",
       "      <td>0.022552</td>\n",
       "      <td>-0.000118</td>\n",
       "      <td>0.120075</td>\n",
       "      <td>0.210595</td>\n",
       "    </tr>\n",
       "    <tr>\n",
       "      <th>2</th>\n",
       "      <td>2</td>\n",
       "      <td>3.221069</td>\n",
       "      <td>-2.617408</td>\n",
       "      <td>-3.272275</td>\n",
       "      <td>2.647972</td>\n",
       "      <td>-0.069620</td>\n",
       "      <td>-4.990653</td>\n",
       "      <td>-0.219473</td>\n",
       "      <td>1.012171</td>\n",
       "      <td>0.981318</td>\n",
       "      <td>...</td>\n",
       "      <td>-0.125125</td>\n",
       "      <td>0.254433</td>\n",
       "      <td>-0.620814</td>\n",
       "      <td>0.336074</td>\n",
       "      <td>-0.126646</td>\n",
       "      <td>0.228267</td>\n",
       "      <td>0.082945</td>\n",
       "      <td>-0.081503</td>\n",
       "      <td>0.223538</td>\n",
       "      <td>0.441006</td>\n",
       "    </tr>\n",
       "    <tr>\n",
       "      <th>3</th>\n",
       "      <td>3</td>\n",
       "      <td>18.763987</td>\n",
       "      <td>17.527091</td>\n",
       "      <td>-0.863160</td>\n",
       "      <td>0.153083</td>\n",
       "      <td>-2.711496</td>\n",
       "      <td>-0.721077</td>\n",
       "      <td>-0.585667</td>\n",
       "      <td>6.261385</td>\n",
       "      <td>-0.466834</td>\n",
       "      <td>...</td>\n",
       "      <td>0.256698</td>\n",
       "      <td>-4.040179</td>\n",
       "      <td>-5.343816</td>\n",
       "      <td>2.850072</td>\n",
       "      <td>-0.593122</td>\n",
       "      <td>0.928882</td>\n",
       "      <td>-0.029514</td>\n",
       "      <td>0.358611</td>\n",
       "      <td>1.513826</td>\n",
       "      <td>2.976356</td>\n",
       "    </tr>\n",
       "    <tr>\n",
       "      <th>4</th>\n",
       "      <td>4</td>\n",
       "      <td>1.093519</td>\n",
       "      <td>-0.463915</td>\n",
       "      <td>-3.847778</td>\n",
       "      <td>1.583634</td>\n",
       "      <td>-2.348521</td>\n",
       "      <td>-0.712134</td>\n",
       "      <td>1.890559</td>\n",
       "      <td>-1.005999</td>\n",
       "      <td>0.738036</td>\n",
       "      <td>...</td>\n",
       "      <td>0.063579</td>\n",
       "      <td>-0.321892</td>\n",
       "      <td>-0.229663</td>\n",
       "      <td>-0.044180</td>\n",
       "      <td>0.407910</td>\n",
       "      <td>0.029281</td>\n",
       "      <td>0.068431</td>\n",
       "      <td>-0.061297</td>\n",
       "      <td>0.152343</td>\n",
       "      <td>0.453407</td>\n",
       "    </tr>\n",
       "  </tbody>\n",
       "</table>\n",
       "<p>5 rows × 40 columns</p>\n",
       "</div>"
      ],
      "text/plain": [
       "   Unnamed: 0        PC1        PC2       PC3       PC4       PC5       PC6  \\\n",
       "0           0   1.674513  -3.059634 -3.894463  3.289645  0.150883 -1.472087   \n",
       "1           1   5.906251   1.554144 -2.833053  2.938874  0.805299 -3.636518   \n",
       "2           2   3.221069  -2.617408 -3.272275  2.647972 -0.069620 -4.990653   \n",
       "3           3  18.763987  17.527091 -0.863160  0.153083 -2.711496 -0.721077   \n",
       "4           4   1.093519  -0.463915 -3.847778  1.583634 -2.348521 -0.712134   \n",
       "\n",
       "        PC7       PC8       PC9  ...      PC30      PC31      PC32      PC33  \\\n",
       "0 -0.024001  0.238912  0.142270  ...  0.151829 -0.514771 -0.084412  0.068432   \n",
       "1 -0.402669  0.606742  1.311709  ...  0.044457 -0.284964 -0.490513  0.064460   \n",
       "2 -0.219473  1.012171  0.981318  ... -0.125125  0.254433 -0.620814  0.336074   \n",
       "3 -0.585667  6.261385 -0.466834  ...  0.256698 -4.040179 -5.343816  2.850072   \n",
       "4  1.890559 -1.005999  0.738036  ...  0.063579 -0.321892 -0.229663 -0.044180   \n",
       "\n",
       "       PC34      PC35      PC36      PC37      PC38      PC39  \n",
       "0  0.073591 -0.089930  0.065747  0.070795  0.097492  0.132126  \n",
       "1 -0.248158  0.136959  0.022552 -0.000118  0.120075  0.210595  \n",
       "2 -0.126646  0.228267  0.082945 -0.081503  0.223538  0.441006  \n",
       "3 -0.593122  0.928882 -0.029514  0.358611  1.513826  2.976356  \n",
       "4  0.407910  0.029281  0.068431 -0.061297  0.152343  0.453407  \n",
       "\n",
       "[5 rows x 40 columns]"
      ]
     },
     "execution_count": 6,
     "metadata": {},
     "output_type": "execute_result"
    }
   ],
   "source": [
    "selected_features.head()"
   ]
  },
  {
   "cell_type": "code",
   "execution_count": 8,
   "metadata": {},
   "outputs": [],
   "source": [
    "#razdvajanje kategorija značajki\n",
    "one_gram_features = features.iloc[:,2:258]\n",
    "metadata_bytes_features = features.iloc[:,258:260]\n",
    "entropy_features = features.iloc[:,260:462]\n",
    "image_features = features.iloc[:,462:514]\n",
    "string_length_features = features.iloc[:,514:630]\n",
    "metadata_asm_features = features.iloc[:,630:632]\n",
    "symbols_features = features.iloc[:,632:639]\n",
    "opcode_features = features.iloc[:,639:732]\n",
    "reg_features = features.iloc[:,732:758]\n",
    "section_features = features.iloc[:,758:782]\n",
    "dd_features = features.iloc[:,782:806]\n",
    "api_features = features.iloc[:,806:1600]\n",
    "key_features = features.iloc[:,1600:1695]"
   ]
  },
  {
   "cell_type": "code",
   "execution_count": 7,
   "metadata": {},
   "outputs": [],
   "source": [
    "#postavljanje seed-a za podjelu podataka na train i test\n",
    "seed = 40"
   ]
  },
  {
   "cell_type": "code",
   "execution_count": 8,
   "metadata": {},
   "outputs": [],
   "source": [
    "X=selected_features.iloc[:,1:187]\n",
    "y=features.iloc[:,1]\n",
    "X_train, X_test, y_train, y_test = train_test_split( X, features['Class'], test_size=0.3, random_state=seed)"
   ]
  },
  {
   "cell_type": "markdown",
   "metadata": {},
   "source": [
    "### XGBClassifier"
   ]
  },
  {
   "cell_type": "code",
   "execution_count": 9,
   "metadata": {},
   "outputs": [],
   "source": [
    "#početni parametri za XGBClassifier, kasnije ćemo ih promijeniti\n",
    "params = {}\n",
    "params['n_estimators'] = 50\n",
    "params['learning_rate'] = 0.5\n",
    "params['max_depth'] = 5\n",
    "params['colsample_bytree'] = 0.5\n",
    "params['objective'] = 'multi:softprob'\n",
    "params['eval_metric'] = 'mlogloss'"
   ]
  },
  {
   "cell_type": "code",
   "execution_count": 10,
   "metadata": {},
   "outputs": [
    {
     "data": {
      "text/plain": [
       "XGBClassifier(base_score=0.5, booster='gbtree', colsample_bylevel=1,\n",
       "              colsample_bynode=1, colsample_bytree=0.5, eval_metric='mlogloss',\n",
       "              gamma=0, learning_rate=0.5, max_delta_step=0, max_depth=5,\n",
       "              min_child_weight=1, missing=None, n_estimators=50, n_jobs=1,\n",
       "              nthread=None, objective='multi:softprob', random_state=0,\n",
       "              reg_alpha=0, reg_lambda=1, scale_pos_weight=1, seed=None,\n",
       "              silent=None, subsample=1, verbosity=1)"
      ]
     },
     "execution_count": 10,
     "metadata": {},
     "output_type": "execute_result"
    }
   ],
   "source": [
    "xgb_classifier = xgb.XGBClassifier()\n",
    "xgb_classifier.set_params(**params)"
   ]
  },
  {
   "cell_type": "code",
   "execution_count": 28,
   "metadata": {},
   "outputs": [],
   "source": [
    "def xgboost_test(model, X_test, y_test):\n",
    "    \n",
    "    preds = model.predict_proba(X_test)\n",
    "\n",
    "    best_preds = model.predict(X_test)\n",
    "\n",
    "    score_log = log_loss(y_test,preds,eps=1e-15)\n",
    "    score_acc = accuracy_score(y_test, best_preds)\n",
    "\n",
    "    print('Logloss:' + str(score_log))\n",
    "    print('Accuracy:' + str(score_acc))\n",
    "\n",
    "    make_and_plot_confusion_matrix(y_test,best_preds)\n"
   ]
  },
  {
   "cell_type": "markdown",
   "metadata": {},
   "source": [
    "###  confusion matrix"
   ]
  },
  {
   "cell_type": "code",
   "execution_count": 12,
   "metadata": {},
   "outputs": [],
   "source": [
    "#funkcija koja računa i crta matricu konfuzije\n",
    "def make_and_plot_confusion_matrix(y_test, best_preds):\n",
    "    names = ['class 1', 'class 2','class 3', 'class 4', 'class 5','class 6', 'class 7', 'class 8', 'class 9']\n",
    "    cm = confusion_matrix(y_test, best_preds)\n",
    "    cm = cm.astype('float') / cm.sum(axis=1)[:, np.newaxis]\n",
    "    \n",
    "    norm_conf = []\n",
    "    for i in cm:\n",
    "        a = 0\n",
    "        tmp_arr = []\n",
    "        a = sum(i, 0)\n",
    "        for j in i:\n",
    "            tmp_arr.append(float(j)/float(a))\n",
    "        norm_conf.append(tmp_arr)\n",
    "\n",
    "    fig = plt.figure(figsize(10, 10))\n",
    "    plt.clf()\n",
    "    ax = fig.add_subplot(111)\n",
    "    ax.set_aspect(1)\n",
    "    \n",
    "    res = ax.imshow(np.array(norm_conf), cmap=plt.cm.Blues, interpolation='nearest')\n",
    "\n",
    "    width = len(cm)\n",
    "    height = len(cm[0])\n",
    "\n",
    "    for x in range(width):\n",
    "        for y in range(height):\n",
    "            ax.annotate(str(format(round(cm[x][y], 2))), xy=(y, x), horizontalalignment='center', verticalalignment='center')\n",
    "    plt.title('Confusion matrix')\n",
    "    cb = fig.colorbar(res)\n",
    "    plt.xticks(range(width), names)\n",
    "    plt.yticks(range(height), names)"
   ]
  },
  {
   "cell_type": "markdown",
   "metadata": {},
   "source": [
    "### iteracije za XGBClassifier"
   ]
  },
  {
   "cell_type": "code",
   "execution_count": 33,
   "metadata": {},
   "outputs": [
    {
     "name": "stdout",
     "output_type": "stream",
     "text": [
      "[0]\tvalidation_0-merror:0.087825\tvalidation_0-mlogloss:1.84827\tvalidation_1-merror:0.097823\tvalidation_1-mlogloss:1.84879\n",
      "Multiple eval metrics have been passed: 'validation_1-mlogloss' will be used for early stopping.\n",
      "\n",
      "Will train until validation_1-mlogloss hasn't improved in 15 rounds.\n",
      "[1]\tvalidation_0-merror:0.083224\tvalidation_0-mlogloss:1.61444\tvalidation_1-merror:0.09353\tvalidation_1-mlogloss:1.61668\n",
      "[2]\tvalidation_0-merror:0.068367\tvalidation_0-mlogloss:1.43304\tvalidation_1-merror:0.081263\tvalidation_1-mlogloss:1.43784\n",
      "[3]\tvalidation_0-merror:0.059164\tvalidation_0-mlogloss:1.28587\tvalidation_1-merror:0.070531\tvalidation_1-mlogloss:1.29197\n",
      "[4]\tvalidation_0-merror:0.053379\tvalidation_0-mlogloss:1.16039\tvalidation_1-merror:0.065011\tvalidation_1-mlogloss:1.16775\n",
      "[5]\tvalidation_0-merror:0.056403\tvalidation_0-mlogloss:1.05204\tvalidation_1-merror:0.066544\tvalidation_1-mlogloss:1.06081\n",
      "[6]\tvalidation_0-merror:0.054036\tvalidation_0-mlogloss:0.958423\tvalidation_1-merror:0.060718\tvalidation_1-mlogloss:0.96839\n",
      "[7]\tvalidation_0-merror:0.050618\tvalidation_0-mlogloss:0.874166\tvalidation_1-merror:0.061331\tvalidation_1-mlogloss:0.885761\n",
      "[8]\tvalidation_0-merror:0.046411\tvalidation_0-mlogloss:0.800272\tvalidation_1-merror:0.057651\tvalidation_1-mlogloss:0.813518\n",
      "[9]\tvalidation_0-merror:0.045227\tvalidation_0-mlogloss:0.734785\tvalidation_1-merror:0.055198\tvalidation_1-mlogloss:0.749327\n",
      "[10]\tvalidation_0-merror:0.044176\tvalidation_0-mlogloss:0.677238\tvalidation_1-merror:0.054584\tvalidation_1-mlogloss:0.69291\n",
      "[11]\tvalidation_0-merror:0.042729\tvalidation_0-mlogloss:0.626455\tvalidation_1-merror:0.052745\tvalidation_1-mlogloss:0.643397\n",
      "[12]\tvalidation_0-merror:0.042072\tvalidation_0-mlogloss:0.58092\tvalidation_1-merror:0.053358\tvalidation_1-mlogloss:0.598619\n",
      "[13]\tvalidation_0-merror:0.040757\tvalidation_0-mlogloss:0.540058\tvalidation_1-merror:0.053051\tvalidation_1-mlogloss:0.55824\n",
      "[14]\tvalidation_0-merror:0.039574\tvalidation_0-mlogloss:0.502995\tvalidation_1-merror:0.052131\tvalidation_1-mlogloss:0.521865\n",
      "[15]\tvalidation_0-merror:0.038391\tvalidation_0-mlogloss:0.468882\tvalidation_1-merror:0.049065\tvalidation_1-mlogloss:0.488568\n",
      "[16]\tvalidation_0-merror:0.038128\tvalidation_0-mlogloss:0.438195\tvalidation_1-merror:0.047225\tvalidation_1-mlogloss:0.458945\n",
      "[17]\tvalidation_0-merror:0.037339\tvalidation_0-mlogloss:0.41008\tvalidation_1-merror:0.047225\tvalidation_1-mlogloss:0.431712\n",
      "[18]\tvalidation_0-merror:0.036945\tvalidation_0-mlogloss:0.384708\tvalidation_1-merror:0.045692\tvalidation_1-mlogloss:0.406674\n",
      "[19]\tvalidation_0-merror:0.036287\tvalidation_0-mlogloss:0.361455\tvalidation_1-merror:0.045692\tvalidation_1-mlogloss:0.38419\n",
      "[20]\tvalidation_0-merror:0.036156\tvalidation_0-mlogloss:0.340584\tvalidation_1-merror:0.045385\tvalidation_1-mlogloss:0.363823\n",
      "[21]\tvalidation_0-merror:0.035104\tvalidation_0-mlogloss:0.321242\tvalidation_1-merror:0.044158\tvalidation_1-mlogloss:0.34521\n",
      "[22]\tvalidation_0-merror:0.033526\tvalidation_0-mlogloss:0.303067\tvalidation_1-merror:0.044465\tvalidation_1-mlogloss:0.327142\n",
      "[23]\tvalidation_0-merror:0.033789\tvalidation_0-mlogloss:0.287392\tvalidation_1-merror:0.043852\tvalidation_1-mlogloss:0.312131\n",
      "[24]\tvalidation_0-merror:0.033395\tvalidation_0-mlogloss:0.272798\tvalidation_1-merror:0.042625\tvalidation_1-mlogloss:0.298074\n",
      "[25]\tvalidation_0-merror:0.032869\tvalidation_0-mlogloss:0.259015\tvalidation_1-merror:0.042318\tvalidation_1-mlogloss:0.285083\n",
      "[26]\tvalidation_0-merror:0.032474\tvalidation_0-mlogloss:0.245926\tvalidation_1-merror:0.042318\tvalidation_1-mlogloss:0.272501\n",
      "[27]\tvalidation_0-merror:0.031686\tvalidation_0-mlogloss:0.233841\tvalidation_1-merror:0.041398\tvalidation_1-mlogloss:0.260768\n",
      "[28]\tvalidation_0-merror:0.03116\tvalidation_0-mlogloss:0.22242\tvalidation_1-merror:0.040478\tvalidation_1-mlogloss:0.249881\n",
      "[29]\tvalidation_0-merror:0.030371\tvalidation_0-mlogloss:0.211664\tvalidation_1-merror:0.039865\tvalidation_1-mlogloss:0.239034\n",
      "[30]\tvalidation_0-merror:0.028793\tvalidation_0-mlogloss:0.202364\tvalidation_1-merror:0.038945\tvalidation_1-mlogloss:0.230181\n",
      "[31]\tvalidation_0-merror:0.02853\tvalidation_0-mlogloss:0.193336\tvalidation_1-merror:0.039252\tvalidation_1-mlogloss:0.221169\n",
      "[32]\tvalidation_0-merror:0.027741\tvalidation_0-mlogloss:0.184788\tvalidation_1-merror:0.037718\tvalidation_1-mlogloss:0.212789\n",
      "[33]\tvalidation_0-merror:0.026821\tvalidation_0-mlogloss:0.176921\tvalidation_1-merror:0.037718\tvalidation_1-mlogloss:0.204972\n",
      "[34]\tvalidation_0-merror:0.026164\tvalidation_0-mlogloss:0.169689\tvalidation_1-merror:0.036799\tvalidation_1-mlogloss:0.197968\n",
      "[35]\tvalidation_0-merror:0.025638\tvalidation_0-mlogloss:0.162663\tvalidation_1-merror:0.036799\tvalidation_1-mlogloss:0.191281\n",
      "[36]\tvalidation_0-merror:0.025506\tvalidation_0-mlogloss:0.15609\tvalidation_1-merror:0.036185\tvalidation_1-mlogloss:0.184617\n",
      "[37]\tvalidation_0-merror:0.02498\tvalidation_0-mlogloss:0.150022\tvalidation_1-merror:0.035879\tvalidation_1-mlogloss:0.178599\n",
      "[38]\tvalidation_0-merror:0.024191\tvalidation_0-mlogloss:0.143936\tvalidation_1-merror:0.034652\tvalidation_1-mlogloss:0.172972\n",
      "[39]\tvalidation_0-merror:0.023797\tvalidation_0-mlogloss:0.138638\tvalidation_1-merror:0.034652\tvalidation_1-mlogloss:0.168173\n",
      "[40]\tvalidation_0-merror:0.022877\tvalidation_0-mlogloss:0.133354\tvalidation_1-merror:0.034959\tvalidation_1-mlogloss:0.163269\n",
      "[41]\tvalidation_0-merror:0.022088\tvalidation_0-mlogloss:0.128343\tvalidation_1-merror:0.035265\tvalidation_1-mlogloss:0.158636\n",
      "[42]\tvalidation_0-merror:0.021562\tvalidation_0-mlogloss:0.123868\tvalidation_1-merror:0.034039\tvalidation_1-mlogloss:0.154381\n",
      "[43]\tvalidation_0-merror:0.021036\tvalidation_0-mlogloss:0.119799\tvalidation_1-merror:0.032812\tvalidation_1-mlogloss:0.150674\n",
      "[44]\tvalidation_0-merror:0.020905\tvalidation_0-mlogloss:0.11539\tvalidation_1-merror:0.032505\tvalidation_1-mlogloss:0.14652\n",
      "[45]\tvalidation_0-merror:0.020773\tvalidation_0-mlogloss:0.111784\tvalidation_1-merror:0.031892\tvalidation_1-mlogloss:0.14315\n",
      "[46]\tvalidation_0-merror:0.020116\tvalidation_0-mlogloss:0.107889\tvalidation_1-merror:0.031279\tvalidation_1-mlogloss:0.139669\n",
      "[47]\tvalidation_0-merror:0.019853\tvalidation_0-mlogloss:0.104189\tvalidation_1-merror:0.031279\tvalidation_1-mlogloss:0.136377\n",
      "[48]\tvalidation_0-merror:0.019195\tvalidation_0-mlogloss:0.101096\tvalidation_1-merror:0.031279\tvalidation_1-mlogloss:0.133654\n",
      "[49]\tvalidation_0-merror:0.018932\tvalidation_0-mlogloss:0.097951\tvalidation_1-merror:0.030052\tvalidation_1-mlogloss:0.131\n",
      "[50]\tvalidation_0-merror:0.018407\tvalidation_0-mlogloss:0.09491\tvalidation_1-merror:0.030052\tvalidation_1-mlogloss:0.128397\n",
      "[51]\tvalidation_0-merror:0.017881\tvalidation_0-mlogloss:0.091954\tvalidation_1-merror:0.029132\tvalidation_1-mlogloss:0.125949\n",
      "[52]\tvalidation_0-merror:0.017749\tvalidation_0-mlogloss:0.08934\tvalidation_1-merror:0.028519\tvalidation_1-mlogloss:0.123411\n",
      "[53]\tvalidation_0-merror:0.016829\tvalidation_0-mlogloss:0.086606\tvalidation_1-merror:0.027599\tvalidation_1-mlogloss:0.121148\n",
      "[54]\tvalidation_0-merror:0.016566\tvalidation_0-mlogloss:0.083985\tvalidation_1-merror:0.027599\tvalidation_1-mlogloss:0.11878\n",
      "[55]\tvalidation_0-merror:0.016303\tvalidation_0-mlogloss:0.081661\tvalidation_1-merror:0.027599\tvalidation_1-mlogloss:0.116759\n",
      "[56]\tvalidation_0-merror:0.015908\tvalidation_0-mlogloss:0.079258\tvalidation_1-merror:0.027599\tvalidation_1-mlogloss:0.114626\n",
      "[57]\tvalidation_0-merror:0.01512\tvalidation_0-mlogloss:0.07713\tvalidation_1-merror:0.027292\tvalidation_1-mlogloss:0.112785\n",
      "[58]\tvalidation_0-merror:0.014988\tvalidation_0-mlogloss:0.07485\tvalidation_1-merror:0.027292\tvalidation_1-mlogloss:0.110649\n",
      "[59]\tvalidation_0-merror:0.014594\tvalidation_0-mlogloss:0.072729\tvalidation_1-merror:0.027292\tvalidation_1-mlogloss:0.10873\n",
      "[60]\tvalidation_0-merror:0.013805\tvalidation_0-mlogloss:0.070726\tvalidation_1-merror:0.027292\tvalidation_1-mlogloss:0.107112\n",
      "[61]\tvalidation_0-merror:0.013542\tvalidation_0-mlogloss:0.068673\tvalidation_1-merror:0.026986\tvalidation_1-mlogloss:0.105276\n",
      "[62]\tvalidation_0-merror:0.013279\tvalidation_0-mlogloss:0.066935\tvalidation_1-merror:0.026986\tvalidation_1-mlogloss:0.103565\n",
      "[63]\tvalidation_0-merror:0.012622\tvalidation_0-mlogloss:0.065159\tvalidation_1-merror:0.026986\tvalidation_1-mlogloss:0.101898\n",
      "[64]\tvalidation_0-merror:0.012359\tvalidation_0-mlogloss:0.063241\tvalidation_1-merror:0.026679\tvalidation_1-mlogloss:0.100213\n"
     ]
    },
    {
     "name": "stdout",
     "output_type": "stream",
     "text": [
      "[65]\tvalidation_0-merror:0.01157\tvalidation_0-mlogloss:0.061614\tvalidation_1-merror:0.026066\tvalidation_1-mlogloss:0.098858\n",
      "[66]\tvalidation_0-merror:0.011044\tvalidation_0-mlogloss:0.060119\tvalidation_1-merror:0.026066\tvalidation_1-mlogloss:0.097427\n",
      "[67]\tvalidation_0-merror:0.010912\tvalidation_0-mlogloss:0.058633\tvalidation_1-merror:0.025452\tvalidation_1-mlogloss:0.096211\n",
      "[68]\tvalidation_0-merror:0.009992\tvalidation_0-mlogloss:0.057044\tvalidation_1-merror:0.024532\tvalidation_1-mlogloss:0.094635\n",
      "[69]\tvalidation_0-merror:0.009729\tvalidation_0-mlogloss:0.05571\tvalidation_1-merror:0.024532\tvalidation_1-mlogloss:0.093424\n",
      "[70]\tvalidation_0-merror:0.009466\tvalidation_0-mlogloss:0.054242\tvalidation_1-merror:0.024532\tvalidation_1-mlogloss:0.092096\n",
      "[71]\tvalidation_0-merror:0.009466\tvalidation_0-mlogloss:0.052994\tvalidation_1-merror:0.024532\tvalidation_1-mlogloss:0.091054\n",
      "[72]\tvalidation_0-merror:0.009203\tvalidation_0-mlogloss:0.051836\tvalidation_1-merror:0.024532\tvalidation_1-mlogloss:0.090093\n",
      "[73]\tvalidation_0-merror:0.009203\tvalidation_0-mlogloss:0.050601\tvalidation_1-merror:0.024226\tvalidation_1-mlogloss:0.088956\n",
      "[74]\tvalidation_0-merror:0.008677\tvalidation_0-mlogloss:0.049393\tvalidation_1-merror:0.024226\tvalidation_1-mlogloss:0.087934\n",
      "[75]\tvalidation_0-merror:0.008546\tvalidation_0-mlogloss:0.048335\tvalidation_1-merror:0.024226\tvalidation_1-mlogloss:0.087012\n",
      "[76]\tvalidation_0-merror:0.008151\tvalidation_0-mlogloss:0.04727\tvalidation_1-merror:0.023919\tvalidation_1-mlogloss:0.086106\n",
      "[77]\tvalidation_0-merror:0.00802\tvalidation_0-mlogloss:0.046229\tvalidation_1-merror:0.023919\tvalidation_1-mlogloss:0.08524\n",
      "[78]\tvalidation_0-merror:0.007757\tvalidation_0-mlogloss:0.045041\tvalidation_1-merror:0.023612\tvalidation_1-mlogloss:0.084192\n",
      "[79]\tvalidation_0-merror:0.007363\tvalidation_0-mlogloss:0.043978\tvalidation_1-merror:0.023306\tvalidation_1-mlogloss:0.083223\n",
      "[80]\tvalidation_0-merror:0.007363\tvalidation_0-mlogloss:0.043009\tvalidation_1-merror:0.023306\tvalidation_1-mlogloss:0.082411\n",
      "[81]\tvalidation_0-merror:0.006968\tvalidation_0-mlogloss:0.042061\tvalidation_1-merror:0.023306\tvalidation_1-mlogloss:0.081512\n",
      "[82]\tvalidation_0-merror:0.006705\tvalidation_0-mlogloss:0.041215\tvalidation_1-merror:0.022079\tvalidation_1-mlogloss:0.080681\n",
      "[83]\tvalidation_0-merror:0.006442\tvalidation_0-mlogloss:0.040386\tvalidation_1-merror:0.022692\tvalidation_1-mlogloss:0.080005\n",
      "[84]\tvalidation_0-merror:0.006574\tvalidation_0-mlogloss:0.039582\tvalidation_1-merror:0.021772\tvalidation_1-mlogloss:0.079469\n",
      "[85]\tvalidation_0-merror:0.006311\tvalidation_0-mlogloss:0.038795\tvalidation_1-merror:0.022079\tvalidation_1-mlogloss:0.078702\n",
      "[86]\tvalidation_0-merror:0.006179\tvalidation_0-mlogloss:0.038004\tvalidation_1-merror:0.022079\tvalidation_1-mlogloss:0.07799\n",
      "[87]\tvalidation_0-merror:0.005916\tvalidation_0-mlogloss:0.037263\tvalidation_1-merror:0.022079\tvalidation_1-mlogloss:0.077505\n",
      "[88]\tvalidation_0-merror:0.005916\tvalidation_0-mlogloss:0.036472\tvalidation_1-merror:0.022079\tvalidation_1-mlogloss:0.076979\n",
      "[89]\tvalidation_0-merror:0.005522\tvalidation_0-mlogloss:0.035752\tvalidation_1-merror:0.022079\tvalidation_1-mlogloss:0.076252\n",
      "[90]\tvalidation_0-merror:0.005259\tvalidation_0-mlogloss:0.035046\tvalidation_1-merror:0.021772\tvalidation_1-mlogloss:0.07571\n",
      "[91]\tvalidation_0-merror:0.005128\tvalidation_0-mlogloss:0.034386\tvalidation_1-merror:0.021466\tvalidation_1-mlogloss:0.075226\n",
      "[92]\tvalidation_0-merror:0.004602\tvalidation_0-mlogloss:0.03362\tvalidation_1-merror:0.021159\tvalidation_1-mlogloss:0.074633\n",
      "[93]\tvalidation_0-merror:0.004339\tvalidation_0-mlogloss:0.032953\tvalidation_1-merror:0.021159\tvalidation_1-mlogloss:0.074003\n",
      "[94]\tvalidation_0-merror:0.004076\tvalidation_0-mlogloss:0.032376\tvalidation_1-merror:0.021159\tvalidation_1-mlogloss:0.073534\n",
      "[95]\tvalidation_0-merror:0.003681\tvalidation_0-mlogloss:0.031722\tvalidation_1-merror:0.020852\tvalidation_1-mlogloss:0.073034\n",
      "[96]\tvalidation_0-merror:0.003681\tvalidation_0-mlogloss:0.0311\tvalidation_1-merror:0.020546\tvalidation_1-mlogloss:0.072573\n",
      "[97]\tvalidation_0-merror:0.003418\tvalidation_0-mlogloss:0.030465\tvalidation_1-merror:0.020852\tvalidation_1-mlogloss:0.072123\n",
      "[98]\tvalidation_0-merror:0.003287\tvalidation_0-mlogloss:0.029858\tvalidation_1-merror:0.020239\tvalidation_1-mlogloss:0.071539\n",
      "[99]\tvalidation_0-merror:0.003155\tvalidation_0-mlogloss:0.029294\tvalidation_1-merror:0.020546\tvalidation_1-mlogloss:0.071107\n",
      "[100]\tvalidation_0-merror:0.003024\tvalidation_0-mlogloss:0.028808\tvalidation_1-merror:0.019933\tvalidation_1-mlogloss:0.070597\n",
      "[101]\tvalidation_0-merror:0.002892\tvalidation_0-mlogloss:0.02828\tvalidation_1-merror:0.019933\tvalidation_1-mlogloss:0.07048\n",
      "[102]\tvalidation_0-merror:0.00263\tvalidation_0-mlogloss:0.027749\tvalidation_1-merror:0.020239\tvalidation_1-mlogloss:0.070096\n",
      "[103]\tvalidation_0-merror:0.002498\tvalidation_0-mlogloss:0.027234\tvalidation_1-merror:0.020239\tvalidation_1-mlogloss:0.069741\n",
      "[104]\tvalidation_0-merror:0.002498\tvalidation_0-mlogloss:0.026733\tvalidation_1-merror:0.019933\tvalidation_1-mlogloss:0.06947\n",
      "[105]\tvalidation_0-merror:0.002367\tvalidation_0-mlogloss:0.026217\tvalidation_1-merror:0.020239\tvalidation_1-mlogloss:0.069057\n",
      "[106]\tvalidation_0-merror:0.002367\tvalidation_0-mlogloss:0.025747\tvalidation_1-merror:0.020239\tvalidation_1-mlogloss:0.06874\n",
      "[107]\tvalidation_0-merror:0.002235\tvalidation_0-mlogloss:0.025261\tvalidation_1-merror:0.019626\tvalidation_1-mlogloss:0.068388\n",
      "[108]\tvalidation_0-merror:0.002235\tvalidation_0-mlogloss:0.024865\tvalidation_1-merror:0.019319\tvalidation_1-mlogloss:0.068082\n",
      "[109]\tvalidation_0-merror:0.002235\tvalidation_0-mlogloss:0.024329\tvalidation_1-merror:0.019013\tvalidation_1-mlogloss:0.067724\n",
      "[110]\tvalidation_0-merror:0.002104\tvalidation_0-mlogloss:0.023905\tvalidation_1-merror:0.018706\tvalidation_1-mlogloss:0.067298\n",
      "[111]\tvalidation_0-merror:0.002104\tvalidation_0-mlogloss:0.023557\tvalidation_1-merror:0.018706\tvalidation_1-mlogloss:0.066981\n",
      "[112]\tvalidation_0-merror:0.001972\tvalidation_0-mlogloss:0.023046\tvalidation_1-merror:0.018706\tvalidation_1-mlogloss:0.066578\n",
      "[113]\tvalidation_0-merror:0.001841\tvalidation_0-mlogloss:0.022619\tvalidation_1-merror:0.019013\tvalidation_1-mlogloss:0.066107\n",
      "[114]\tvalidation_0-merror:0.001841\tvalidation_0-mlogloss:0.022309\tvalidation_1-merror:0.019013\tvalidation_1-mlogloss:0.065959\n",
      "[115]\tvalidation_0-merror:0.001578\tvalidation_0-mlogloss:0.021888\tvalidation_1-merror:0.018706\tvalidation_1-mlogloss:0.065634\n",
      "[116]\tvalidation_0-merror:0.001578\tvalidation_0-mlogloss:0.02152\tvalidation_1-merror:0.018706\tvalidation_1-mlogloss:0.065319\n",
      "[117]\tvalidation_0-merror:0.001578\tvalidation_0-mlogloss:0.021098\tvalidation_1-merror:0.018399\tvalidation_1-mlogloss:0.064928\n",
      "[118]\tvalidation_0-merror:0.001446\tvalidation_0-mlogloss:0.020709\tvalidation_1-merror:0.018399\tvalidation_1-mlogloss:0.064605\n",
      "[119]\tvalidation_0-merror:0.001446\tvalidation_0-mlogloss:0.020372\tvalidation_1-merror:0.018093\tvalidation_1-mlogloss:0.064333\n",
      "[120]\tvalidation_0-merror:0.001446\tvalidation_0-mlogloss:0.020068\tvalidation_1-merror:0.018093\tvalidation_1-mlogloss:0.064101\n",
      "[121]\tvalidation_0-merror:0.001315\tvalidation_0-mlogloss:0.019709\tvalidation_1-merror:0.018093\tvalidation_1-mlogloss:0.063721\n",
      "[122]\tvalidation_0-merror:0.001315\tvalidation_0-mlogloss:0.019372\tvalidation_1-merror:0.018093\tvalidation_1-mlogloss:0.063435\n",
      "[123]\tvalidation_0-merror:0.001315\tvalidation_0-mlogloss:0.019079\tvalidation_1-merror:0.018093\tvalidation_1-mlogloss:0.063232\n",
      "[124]\tvalidation_0-merror:0.001183\tvalidation_0-mlogloss:0.018784\tvalidation_1-merror:0.018093\tvalidation_1-mlogloss:0.063084\n",
      "[125]\tvalidation_0-merror:0.001183\tvalidation_0-mlogloss:0.018472\tvalidation_1-merror:0.018093\tvalidation_1-mlogloss:0.062833\n",
      "[126]\tvalidation_0-merror:0.00092\tvalidation_0-mlogloss:0.018124\tvalidation_1-merror:0.017786\tvalidation_1-mlogloss:0.062566\n",
      "[127]\tvalidation_0-merror:0.000789\tvalidation_0-mlogloss:0.017855\tvalidation_1-merror:0.017786\tvalidation_1-mlogloss:0.062423\n",
      "[128]\tvalidation_0-merror:0.000789\tvalidation_0-mlogloss:0.017563\tvalidation_1-merror:0.017786\tvalidation_1-mlogloss:0.062226\n",
      "[129]\tvalidation_0-merror:0.000789\tvalidation_0-mlogloss:0.017277\tvalidation_1-merror:0.017786\tvalidation_1-mlogloss:0.06194\n",
      "[130]\tvalidation_0-merror:0.000789\tvalidation_0-mlogloss:0.016947\tvalidation_1-merror:0.017786\tvalidation_1-mlogloss:0.061619\n"
     ]
    },
    {
     "name": "stdout",
     "output_type": "stream",
     "text": [
      "[131]\tvalidation_0-merror:0.000789\tvalidation_0-mlogloss:0.016656\tvalidation_1-merror:0.017786\tvalidation_1-mlogloss:0.061314\n",
      "[132]\tvalidation_0-merror:0.000789\tvalidation_0-mlogloss:0.016375\tvalidation_1-merror:0.017786\tvalidation_1-mlogloss:0.061074\n",
      "[133]\tvalidation_0-merror:0.000657\tvalidation_0-mlogloss:0.016062\tvalidation_1-merror:0.017786\tvalidation_1-mlogloss:0.060819\n",
      "[134]\tvalidation_0-merror:0.000526\tvalidation_0-mlogloss:0.015761\tvalidation_1-merror:0.017786\tvalidation_1-mlogloss:0.060543\n",
      "[135]\tvalidation_0-merror:0.000394\tvalidation_0-mlogloss:0.015542\tvalidation_1-merror:0.017786\tvalidation_1-mlogloss:0.060462\n",
      "[136]\tvalidation_0-merror:0.000394\tvalidation_0-mlogloss:0.015282\tvalidation_1-merror:0.017786\tvalidation_1-mlogloss:0.060086\n",
      "[137]\tvalidation_0-merror:0.000394\tvalidation_0-mlogloss:0.015072\tvalidation_1-merror:0.017786\tvalidation_1-mlogloss:0.059913\n",
      "[138]\tvalidation_0-merror:0.000394\tvalidation_0-mlogloss:0.014857\tvalidation_1-merror:0.017786\tvalidation_1-mlogloss:0.059831\n",
      "[139]\tvalidation_0-merror:0.000263\tvalidation_0-mlogloss:0.014576\tvalidation_1-merror:0.017786\tvalidation_1-mlogloss:0.059629\n",
      "[140]\tvalidation_0-merror:0.000263\tvalidation_0-mlogloss:0.014343\tvalidation_1-merror:0.017786\tvalidation_1-mlogloss:0.059426\n",
      "[141]\tvalidation_0-merror:0.000263\tvalidation_0-mlogloss:0.014148\tvalidation_1-merror:0.017786\tvalidation_1-mlogloss:0.059277\n",
      "[142]\tvalidation_0-merror:0.000263\tvalidation_0-mlogloss:0.013942\tvalidation_1-merror:0.017786\tvalidation_1-mlogloss:0.059071\n",
      "[143]\tvalidation_0-merror:0.000263\tvalidation_0-mlogloss:0.013709\tvalidation_1-merror:0.017786\tvalidation_1-mlogloss:0.058994\n",
      "[144]\tvalidation_0-merror:0.000263\tvalidation_0-mlogloss:0.013505\tvalidation_1-merror:0.017786\tvalidation_1-mlogloss:0.058815\n",
      "[145]\tvalidation_0-merror:0.000263\tvalidation_0-mlogloss:0.013302\tvalidation_1-merror:0.017479\tvalidation_1-mlogloss:0.058591\n",
      "[146]\tvalidation_0-merror:0.000263\tvalidation_0-mlogloss:0.013124\tvalidation_1-merror:0.017479\tvalidation_1-mlogloss:0.058409\n",
      "[147]\tvalidation_0-merror:0.000131\tvalidation_0-mlogloss:0.012902\tvalidation_1-merror:0.017479\tvalidation_1-mlogloss:0.05833\n",
      "[148]\tvalidation_0-merror:0.000131\tvalidation_0-mlogloss:0.012745\tvalidation_1-merror:0.017479\tvalidation_1-mlogloss:0.058146\n",
      "[149]\tvalidation_0-merror:0.000131\tvalidation_0-mlogloss:0.012559\tvalidation_1-merror:0.017479\tvalidation_1-mlogloss:0.05794\n",
      "[150]\tvalidation_0-merror:0.000131\tvalidation_0-mlogloss:0.012367\tvalidation_1-merror:0.017479\tvalidation_1-mlogloss:0.057852\n",
      "[151]\tvalidation_0-merror:0.000131\tvalidation_0-mlogloss:0.012169\tvalidation_1-merror:0.017173\tvalidation_1-mlogloss:0.057719\n",
      "[152]\tvalidation_0-merror:0.000131\tvalidation_0-mlogloss:0.011988\tvalidation_1-merror:0.017173\tvalidation_1-mlogloss:0.05757\n",
      "[153]\tvalidation_0-merror:0.000131\tvalidation_0-mlogloss:0.01182\tvalidation_1-merror:0.017173\tvalidation_1-mlogloss:0.057345\n",
      "[154]\tvalidation_0-merror:0.000131\tvalidation_0-mlogloss:0.011633\tvalidation_1-merror:0.017173\tvalidation_1-mlogloss:0.057135\n",
      "[155]\tvalidation_0-merror:0\tvalidation_0-mlogloss:0.011476\tvalidation_1-merror:0.017173\tvalidation_1-mlogloss:0.057076\n",
      "[156]\tvalidation_0-merror:0\tvalidation_0-mlogloss:0.011313\tvalidation_1-merror:0.017173\tvalidation_1-mlogloss:0.056907\n",
      "[157]\tvalidation_0-merror:0\tvalidation_0-mlogloss:0.011163\tvalidation_1-merror:0.017173\tvalidation_1-mlogloss:0.056675\n",
      "[158]\tvalidation_0-merror:0\tvalidation_0-mlogloss:0.010999\tvalidation_1-merror:0.017173\tvalidation_1-mlogloss:0.056554\n",
      "[159]\tvalidation_0-merror:0\tvalidation_0-mlogloss:0.010823\tvalidation_1-merror:0.017479\tvalidation_1-mlogloss:0.056521\n",
      "[160]\tvalidation_0-merror:0\tvalidation_0-mlogloss:0.010695\tvalidation_1-merror:0.017173\tvalidation_1-mlogloss:0.056367\n",
      "[161]\tvalidation_0-merror:0\tvalidation_0-mlogloss:0.010519\tvalidation_1-merror:0.016866\tvalidation_1-mlogloss:0.056125\n",
      "[162]\tvalidation_0-merror:0\tvalidation_0-mlogloss:0.010376\tvalidation_1-merror:0.016866\tvalidation_1-mlogloss:0.056008\n",
      "[163]\tvalidation_0-merror:0\tvalidation_0-mlogloss:0.010215\tvalidation_1-merror:0.016866\tvalidation_1-mlogloss:0.055876\n",
      "[164]\tvalidation_0-merror:0\tvalidation_0-mlogloss:0.01008\tvalidation_1-merror:0.016866\tvalidation_1-mlogloss:0.055848\n",
      "[165]\tvalidation_0-merror:0\tvalidation_0-mlogloss:0.009933\tvalidation_1-merror:0.016866\tvalidation_1-mlogloss:0.055646\n",
      "[166]\tvalidation_0-merror:0\tvalidation_0-mlogloss:0.009768\tvalidation_1-merror:0.016866\tvalidation_1-mlogloss:0.055451\n",
      "[167]\tvalidation_0-merror:0\tvalidation_0-mlogloss:0.009599\tvalidation_1-merror:0.016866\tvalidation_1-mlogloss:0.055345\n",
      "[168]\tvalidation_0-merror:0\tvalidation_0-mlogloss:0.009445\tvalidation_1-merror:0.016866\tvalidation_1-mlogloss:0.055187\n",
      "[169]\tvalidation_0-merror:0\tvalidation_0-mlogloss:0.009327\tvalidation_1-merror:0.016866\tvalidation_1-mlogloss:0.054997\n",
      "[170]\tvalidation_0-merror:0\tvalidation_0-mlogloss:0.009199\tvalidation_1-merror:0.016253\tvalidation_1-mlogloss:0.054916\n",
      "[171]\tvalidation_0-merror:0\tvalidation_0-mlogloss:0.009081\tvalidation_1-merror:0.016559\tvalidation_1-mlogloss:0.054907\n",
      "[172]\tvalidation_0-merror:0\tvalidation_0-mlogloss:0.008962\tvalidation_1-merror:0.016253\tvalidation_1-mlogloss:0.054824\n",
      "[173]\tvalidation_0-merror:0\tvalidation_0-mlogloss:0.008852\tvalidation_1-merror:0.016559\tvalidation_1-mlogloss:0.054798\n",
      "[174]\tvalidation_0-merror:0\tvalidation_0-mlogloss:0.008751\tvalidation_1-merror:0.016866\tvalidation_1-mlogloss:0.054755\n",
      "[175]\tvalidation_0-merror:0\tvalidation_0-mlogloss:0.008632\tvalidation_1-merror:0.016559\tvalidation_1-mlogloss:0.054581\n",
      "[176]\tvalidation_0-merror:0\tvalidation_0-mlogloss:0.008517\tvalidation_1-merror:0.016253\tvalidation_1-mlogloss:0.054452\n",
      "[177]\tvalidation_0-merror:0\tvalidation_0-mlogloss:0.008395\tvalidation_1-merror:0.016253\tvalidation_1-mlogloss:0.054486\n",
      "[178]\tvalidation_0-merror:0\tvalidation_0-mlogloss:0.00825\tvalidation_1-merror:0.016866\tvalidation_1-mlogloss:0.05445\n",
      "[179]\tvalidation_0-merror:0\tvalidation_0-mlogloss:0.008129\tvalidation_1-merror:0.016866\tvalidation_1-mlogloss:0.054337\n",
      "[180]\tvalidation_0-merror:0\tvalidation_0-mlogloss:0.008023\tvalidation_1-merror:0.016559\tvalidation_1-mlogloss:0.054251\n",
      "[181]\tvalidation_0-merror:0\tvalidation_0-mlogloss:0.007906\tvalidation_1-merror:0.016253\tvalidation_1-mlogloss:0.054183\n",
      "[182]\tvalidation_0-merror:0\tvalidation_0-mlogloss:0.007811\tvalidation_1-merror:0.016559\tvalidation_1-mlogloss:0.054124\n",
      "[183]\tvalidation_0-merror:0\tvalidation_0-mlogloss:0.007693\tvalidation_1-merror:0.016253\tvalidation_1-mlogloss:0.053999\n",
      "[184]\tvalidation_0-merror:0\tvalidation_0-mlogloss:0.007584\tvalidation_1-merror:0.016559\tvalidation_1-mlogloss:0.053916\n",
      "[185]\tvalidation_0-merror:0\tvalidation_0-mlogloss:0.007497\tvalidation_1-merror:0.016559\tvalidation_1-mlogloss:0.053917\n",
      "[186]\tvalidation_0-merror:0\tvalidation_0-mlogloss:0.007411\tvalidation_1-merror:0.016253\tvalidation_1-mlogloss:0.053718\n",
      "[187]\tvalidation_0-merror:0\tvalidation_0-mlogloss:0.007318\tvalidation_1-merror:0.016253\tvalidation_1-mlogloss:0.053516\n",
      "[188]\tvalidation_0-merror:0\tvalidation_0-mlogloss:0.007231\tvalidation_1-merror:0.015946\tvalidation_1-mlogloss:0.053429\n",
      "[189]\tvalidation_0-merror:0\tvalidation_0-mlogloss:0.00712\tvalidation_1-merror:0.016253\tvalidation_1-mlogloss:0.05326\n",
      "[190]\tvalidation_0-merror:0\tvalidation_0-mlogloss:0.007041\tvalidation_1-merror:0.015946\tvalidation_1-mlogloss:0.053168\n",
      "[191]\tvalidation_0-merror:0\tvalidation_0-mlogloss:0.006943\tvalidation_1-merror:0.016253\tvalidation_1-mlogloss:0.053036\n",
      "[192]\tvalidation_0-merror:0\tvalidation_0-mlogloss:0.006857\tvalidation_1-merror:0.016253\tvalidation_1-mlogloss:0.052977\n",
      "[193]\tvalidation_0-merror:0\tvalidation_0-mlogloss:0.006767\tvalidation_1-merror:0.015946\tvalidation_1-mlogloss:0.052954\n",
      "[194]\tvalidation_0-merror:0\tvalidation_0-mlogloss:0.006692\tvalidation_1-merror:0.015639\tvalidation_1-mlogloss:0.052854\n",
      "[195]\tvalidation_0-merror:0\tvalidation_0-mlogloss:0.006623\tvalidation_1-merror:0.015639\tvalidation_1-mlogloss:0.052768\n",
      "[196]\tvalidation_0-merror:0\tvalidation_0-mlogloss:0.006543\tvalidation_1-merror:0.015946\tvalidation_1-mlogloss:0.052658\n",
      "[197]\tvalidation_0-merror:0\tvalidation_0-mlogloss:0.006457\tvalidation_1-merror:0.015333\tvalidation_1-mlogloss:0.052598\n",
      "[198]\tvalidation_0-merror:0\tvalidation_0-mlogloss:0.00636\tvalidation_1-merror:0.015946\tvalidation_1-mlogloss:0.052538\n"
     ]
    },
    {
     "name": "stdout",
     "output_type": "stream",
     "text": [
      "[199]\tvalidation_0-merror:0\tvalidation_0-mlogloss:0.006272\tvalidation_1-merror:0.015946\tvalidation_1-mlogloss:0.052452\n",
      "[200]\tvalidation_0-merror:0\tvalidation_0-mlogloss:0.006207\tvalidation_1-merror:0.015946\tvalidation_1-mlogloss:0.052429\n",
      "[201]\tvalidation_0-merror:0\tvalidation_0-mlogloss:0.006137\tvalidation_1-merror:0.015946\tvalidation_1-mlogloss:0.052369\n",
      "[202]\tvalidation_0-merror:0\tvalidation_0-mlogloss:0.006063\tvalidation_1-merror:0.015946\tvalidation_1-mlogloss:0.052303\n",
      "[203]\tvalidation_0-merror:0\tvalidation_0-mlogloss:0.005979\tvalidation_1-merror:0.015639\tvalidation_1-mlogloss:0.052171\n",
      "[204]\tvalidation_0-merror:0\tvalidation_0-mlogloss:0.005905\tvalidation_1-merror:0.015639\tvalidation_1-mlogloss:0.052022\n",
      "[205]\tvalidation_0-merror:0\tvalidation_0-mlogloss:0.005826\tvalidation_1-merror:0.015639\tvalidation_1-mlogloss:0.051875\n",
      "[206]\tvalidation_0-merror:0\tvalidation_0-mlogloss:0.005759\tvalidation_1-merror:0.015026\tvalidation_1-mlogloss:0.051751\n",
      "[207]\tvalidation_0-merror:0\tvalidation_0-mlogloss:0.005683\tvalidation_1-merror:0.015026\tvalidation_1-mlogloss:0.051616\n",
      "[208]\tvalidation_0-merror:0\tvalidation_0-mlogloss:0.005616\tvalidation_1-merror:0.015026\tvalidation_1-mlogloss:0.051511\n",
      "[209]\tvalidation_0-merror:0\tvalidation_0-mlogloss:0.005552\tvalidation_1-merror:0.015026\tvalidation_1-mlogloss:0.051523\n",
      "[210]\tvalidation_0-merror:0\tvalidation_0-mlogloss:0.00549\tvalidation_1-merror:0.015026\tvalidation_1-mlogloss:0.05142\n",
      "[211]\tvalidation_0-merror:0\tvalidation_0-mlogloss:0.005411\tvalidation_1-merror:0.015026\tvalidation_1-mlogloss:0.051297\n",
      "[212]\tvalidation_0-merror:0\tvalidation_0-mlogloss:0.005357\tvalidation_1-merror:0.015026\tvalidation_1-mlogloss:0.051223\n",
      "[213]\tvalidation_0-merror:0\tvalidation_0-mlogloss:0.005285\tvalidation_1-merror:0.015333\tvalidation_1-mlogloss:0.051216\n",
      "[214]\tvalidation_0-merror:0\tvalidation_0-mlogloss:0.005213\tvalidation_1-merror:0.015026\tvalidation_1-mlogloss:0.051042\n",
      "[215]\tvalidation_0-merror:0\tvalidation_0-mlogloss:0.005157\tvalidation_1-merror:0.015026\tvalidation_1-mlogloss:0.050981\n",
      "[216]\tvalidation_0-merror:0\tvalidation_0-mlogloss:0.005101\tvalidation_1-merror:0.015026\tvalidation_1-mlogloss:0.050957\n",
      "[217]\tvalidation_0-merror:0\tvalidation_0-mlogloss:0.00504\tvalidation_1-merror:0.015026\tvalidation_1-mlogloss:0.050926\n",
      "[218]\tvalidation_0-merror:0\tvalidation_0-mlogloss:0.004982\tvalidation_1-merror:0.015026\tvalidation_1-mlogloss:0.050911\n",
      "[219]\tvalidation_0-merror:0\tvalidation_0-mlogloss:0.004921\tvalidation_1-merror:0.015026\tvalidation_1-mlogloss:0.050875\n",
      "[220]\tvalidation_0-merror:0\tvalidation_0-mlogloss:0.004862\tvalidation_1-merror:0.015026\tvalidation_1-mlogloss:0.050808\n",
      "[221]\tvalidation_0-merror:0\tvalidation_0-mlogloss:0.004813\tvalidation_1-merror:0.015026\tvalidation_1-mlogloss:0.050779\n",
      "[222]\tvalidation_0-merror:0\tvalidation_0-mlogloss:0.004763\tvalidation_1-merror:0.015333\tvalidation_1-mlogloss:0.050741\n",
      "[223]\tvalidation_0-merror:0\tvalidation_0-mlogloss:0.004704\tvalidation_1-merror:0.015026\tvalidation_1-mlogloss:0.050647\n",
      "[224]\tvalidation_0-merror:0\tvalidation_0-mlogloss:0.00465\tvalidation_1-merror:0.015026\tvalidation_1-mlogloss:0.050588\n",
      "[225]\tvalidation_0-merror:0\tvalidation_0-mlogloss:0.004608\tvalidation_1-merror:0.015333\tvalidation_1-mlogloss:0.050592\n",
      "[226]\tvalidation_0-merror:0\tvalidation_0-mlogloss:0.004559\tvalidation_1-merror:0.015333\tvalidation_1-mlogloss:0.050518\n",
      "[227]\tvalidation_0-merror:0\tvalidation_0-mlogloss:0.004519\tvalidation_1-merror:0.015333\tvalidation_1-mlogloss:0.050433\n",
      "[228]\tvalidation_0-merror:0\tvalidation_0-mlogloss:0.004471\tvalidation_1-merror:0.015026\tvalidation_1-mlogloss:0.050353\n",
      "[229]\tvalidation_0-merror:0\tvalidation_0-mlogloss:0.00442\tvalidation_1-merror:0.014719\tvalidation_1-mlogloss:0.050173\n",
      "[230]\tvalidation_0-merror:0\tvalidation_0-mlogloss:0.004377\tvalidation_1-merror:0.015026\tvalidation_1-mlogloss:0.050191\n",
      "[231]\tvalidation_0-merror:0\tvalidation_0-mlogloss:0.004336\tvalidation_1-merror:0.015333\tvalidation_1-mlogloss:0.050137\n",
      "[232]\tvalidation_0-merror:0\tvalidation_0-mlogloss:0.004291\tvalidation_1-merror:0.015026\tvalidation_1-mlogloss:0.05014\n",
      "[233]\tvalidation_0-merror:0\tvalidation_0-mlogloss:0.004249\tvalidation_1-merror:0.015026\tvalidation_1-mlogloss:0.05012\n",
      "[234]\tvalidation_0-merror:0\tvalidation_0-mlogloss:0.004201\tvalidation_1-merror:0.014719\tvalidation_1-mlogloss:0.050076\n",
      "[235]\tvalidation_0-merror:0\tvalidation_0-mlogloss:0.004156\tvalidation_1-merror:0.015333\tvalidation_1-mlogloss:0.050098\n",
      "[236]\tvalidation_0-merror:0\tvalidation_0-mlogloss:0.004113\tvalidation_1-merror:0.014719\tvalidation_1-mlogloss:0.050031\n",
      "[237]\tvalidation_0-merror:0\tvalidation_0-mlogloss:0.004077\tvalidation_1-merror:0.014413\tvalidation_1-mlogloss:0.049966\n",
      "[238]\tvalidation_0-merror:0\tvalidation_0-mlogloss:0.004033\tvalidation_1-merror:0.014413\tvalidation_1-mlogloss:0.049877\n",
      "[239]\tvalidation_0-merror:0\tvalidation_0-mlogloss:0.003987\tvalidation_1-merror:0.014719\tvalidation_1-mlogloss:0.049892\n",
      "[240]\tvalidation_0-merror:0\tvalidation_0-mlogloss:0.003942\tvalidation_1-merror:0.014413\tvalidation_1-mlogloss:0.049865\n",
      "[241]\tvalidation_0-merror:0\tvalidation_0-mlogloss:0.003906\tvalidation_1-merror:0.014413\tvalidation_1-mlogloss:0.049822\n",
      "[242]\tvalidation_0-merror:0\tvalidation_0-mlogloss:0.003857\tvalidation_1-merror:0.014413\tvalidation_1-mlogloss:0.049763\n",
      "[243]\tvalidation_0-merror:0\tvalidation_0-mlogloss:0.003814\tvalidation_1-merror:0.014719\tvalidation_1-mlogloss:0.049757\n",
      "[244]\tvalidation_0-merror:0\tvalidation_0-mlogloss:0.003778\tvalidation_1-merror:0.014719\tvalidation_1-mlogloss:0.049741\n",
      "[245]\tvalidation_0-merror:0\tvalidation_0-mlogloss:0.003746\tvalidation_1-merror:0.014413\tvalidation_1-mlogloss:0.049729\n",
      "[246]\tvalidation_0-merror:0\tvalidation_0-mlogloss:0.003713\tvalidation_1-merror:0.014719\tvalidation_1-mlogloss:0.049753\n",
      "[247]\tvalidation_0-merror:0\tvalidation_0-mlogloss:0.003671\tvalidation_1-merror:0.014719\tvalidation_1-mlogloss:0.049693\n",
      "[248]\tvalidation_0-merror:0\tvalidation_0-mlogloss:0.003629\tvalidation_1-merror:0.014413\tvalidation_1-mlogloss:0.049661\n",
      "[249]\tvalidation_0-merror:0\tvalidation_0-mlogloss:0.0036\tvalidation_1-merror:0.014413\tvalidation_1-mlogloss:0.049614\n",
      "[250]\tvalidation_0-merror:0\tvalidation_0-mlogloss:0.003571\tvalidation_1-merror:0.014413\tvalidation_1-mlogloss:0.049573\n",
      "[251]\tvalidation_0-merror:0\tvalidation_0-mlogloss:0.003541\tvalidation_1-merror:0.014413\tvalidation_1-mlogloss:0.049559\n",
      "[252]\tvalidation_0-merror:0\tvalidation_0-mlogloss:0.003505\tvalidation_1-merror:0.014413\tvalidation_1-mlogloss:0.049508\n",
      "[253]\tvalidation_0-merror:0\tvalidation_0-mlogloss:0.003474\tvalidation_1-merror:0.014413\tvalidation_1-mlogloss:0.049479\n",
      "[254]\tvalidation_0-merror:0\tvalidation_0-mlogloss:0.003436\tvalidation_1-merror:0.014719\tvalidation_1-mlogloss:0.049422\n",
      "[255]\tvalidation_0-merror:0\tvalidation_0-mlogloss:0.003407\tvalidation_1-merror:0.014719\tvalidation_1-mlogloss:0.049405\n",
      "[256]\tvalidation_0-merror:0\tvalidation_0-mlogloss:0.003377\tvalidation_1-merror:0.014719\tvalidation_1-mlogloss:0.049391\n",
      "[257]\tvalidation_0-merror:0\tvalidation_0-mlogloss:0.003348\tvalidation_1-merror:0.014719\tvalidation_1-mlogloss:0.049368\n",
      "[258]\tvalidation_0-merror:0\tvalidation_0-mlogloss:0.003316\tvalidation_1-merror:0.014719\tvalidation_1-mlogloss:0.049359\n",
      "[259]\tvalidation_0-merror:0\tvalidation_0-mlogloss:0.003283\tvalidation_1-merror:0.014719\tvalidation_1-mlogloss:0.049298\n",
      "[260]\tvalidation_0-merror:0\tvalidation_0-mlogloss:0.003251\tvalidation_1-merror:0.014719\tvalidation_1-mlogloss:0.049256\n",
      "[261]\tvalidation_0-merror:0\tvalidation_0-mlogloss:0.003227\tvalidation_1-merror:0.014719\tvalidation_1-mlogloss:0.049224\n",
      "[262]\tvalidation_0-merror:0\tvalidation_0-mlogloss:0.003194\tvalidation_1-merror:0.014719\tvalidation_1-mlogloss:0.049177\n",
      "[263]\tvalidation_0-merror:0\tvalidation_0-mlogloss:0.003166\tvalidation_1-merror:0.014719\tvalidation_1-mlogloss:0.049188\n",
      "[264]\tvalidation_0-merror:0\tvalidation_0-mlogloss:0.003136\tvalidation_1-merror:0.014719\tvalidation_1-mlogloss:0.049145\n",
      "[265]\tvalidation_0-merror:0\tvalidation_0-mlogloss:0.003111\tvalidation_1-merror:0.014719\tvalidation_1-mlogloss:0.04917\n",
      "[266]\tvalidation_0-merror:0\tvalidation_0-mlogloss:0.003085\tvalidation_1-merror:0.014719\tvalidation_1-mlogloss:0.049152\n",
      "[267]\tvalidation_0-merror:0\tvalidation_0-mlogloss:0.003059\tvalidation_1-merror:0.014719\tvalidation_1-mlogloss:0.049164\n"
     ]
    },
    {
     "name": "stdout",
     "output_type": "stream",
     "text": [
      "[268]\tvalidation_0-merror:0\tvalidation_0-mlogloss:0.00304\tvalidation_1-merror:0.014719\tvalidation_1-mlogloss:0.049174\n",
      "[269]\tvalidation_0-merror:0\tvalidation_0-mlogloss:0.003012\tvalidation_1-merror:0.014719\tvalidation_1-mlogloss:0.049101\n",
      "[270]\tvalidation_0-merror:0\tvalidation_0-mlogloss:0.002989\tvalidation_1-merror:0.014719\tvalidation_1-mlogloss:0.049075\n",
      "[271]\tvalidation_0-merror:0\tvalidation_0-mlogloss:0.002962\tvalidation_1-merror:0.014719\tvalidation_1-mlogloss:0.049008\n",
      "[272]\tvalidation_0-merror:0\tvalidation_0-mlogloss:0.002932\tvalidation_1-merror:0.014719\tvalidation_1-mlogloss:0.048987\n",
      "[273]\tvalidation_0-merror:0\tvalidation_0-mlogloss:0.002908\tvalidation_1-merror:0.014719\tvalidation_1-mlogloss:0.048968\n",
      "[274]\tvalidation_0-merror:0\tvalidation_0-mlogloss:0.002887\tvalidation_1-merror:0.014719\tvalidation_1-mlogloss:0.048976\n",
      "[275]\tvalidation_0-merror:0\tvalidation_0-mlogloss:0.002862\tvalidation_1-merror:0.014719\tvalidation_1-mlogloss:0.048938\n",
      "[276]\tvalidation_0-merror:0\tvalidation_0-mlogloss:0.002839\tvalidation_1-merror:0.014413\tvalidation_1-mlogloss:0.048828\n",
      "[277]\tvalidation_0-merror:0\tvalidation_0-mlogloss:0.002808\tvalidation_1-merror:0.014413\tvalidation_1-mlogloss:0.048825\n",
      "[278]\tvalidation_0-merror:0\tvalidation_0-mlogloss:0.002784\tvalidation_1-merror:0.014413\tvalidation_1-mlogloss:0.048805\n",
      "[279]\tvalidation_0-merror:0\tvalidation_0-mlogloss:0.002763\tvalidation_1-merror:0.014413\tvalidation_1-mlogloss:0.048861\n",
      "[280]\tvalidation_0-merror:0\tvalidation_0-mlogloss:0.002741\tvalidation_1-merror:0.014413\tvalidation_1-mlogloss:0.048878\n",
      "[281]\tvalidation_0-merror:0\tvalidation_0-mlogloss:0.00272\tvalidation_1-merror:0.014719\tvalidation_1-mlogloss:0.048844\n",
      "[282]\tvalidation_0-merror:0\tvalidation_0-mlogloss:0.0027\tvalidation_1-merror:0.014719\tvalidation_1-mlogloss:0.0488\n",
      "[283]\tvalidation_0-merror:0\tvalidation_0-mlogloss:0.002678\tvalidation_1-merror:0.014719\tvalidation_1-mlogloss:0.048831\n",
      "[284]\tvalidation_0-merror:0\tvalidation_0-mlogloss:0.002659\tvalidation_1-merror:0.014719\tvalidation_1-mlogloss:0.048875\n",
      "[285]\tvalidation_0-merror:0\tvalidation_0-mlogloss:0.002636\tvalidation_1-merror:0.014719\tvalidation_1-mlogloss:0.04891\n",
      "[286]\tvalidation_0-merror:0\tvalidation_0-mlogloss:0.002618\tvalidation_1-merror:0.014719\tvalidation_1-mlogloss:0.048918\n",
      "[287]\tvalidation_0-merror:0\tvalidation_0-mlogloss:0.002597\tvalidation_1-merror:0.014719\tvalidation_1-mlogloss:0.048952\n",
      "[288]\tvalidation_0-merror:0\tvalidation_0-mlogloss:0.002576\tvalidation_1-merror:0.014719\tvalidation_1-mlogloss:0.0489\n",
      "[289]\tvalidation_0-merror:0\tvalidation_0-mlogloss:0.002554\tvalidation_1-merror:0.014719\tvalidation_1-mlogloss:0.048906\n",
      "[290]\tvalidation_0-merror:0\tvalidation_0-mlogloss:0.00253\tvalidation_1-merror:0.014719\tvalidation_1-mlogloss:0.04886\n",
      "[291]\tvalidation_0-merror:0\tvalidation_0-mlogloss:0.002511\tvalidation_1-merror:0.014719\tvalidation_1-mlogloss:0.048875\n",
      "[292]\tvalidation_0-merror:0\tvalidation_0-mlogloss:0.002491\tvalidation_1-merror:0.014719\tvalidation_1-mlogloss:0.048826\n",
      "[293]\tvalidation_0-merror:0\tvalidation_0-mlogloss:0.002473\tvalidation_1-merror:0.014719\tvalidation_1-mlogloss:0.048747\n",
      "[294]\tvalidation_0-merror:0\tvalidation_0-mlogloss:0.002454\tvalidation_1-merror:0.014719\tvalidation_1-mlogloss:0.048726\n",
      "[295]\tvalidation_0-merror:0\tvalidation_0-mlogloss:0.002437\tvalidation_1-merror:0.014719\tvalidation_1-mlogloss:0.048714\n",
      "[296]\tvalidation_0-merror:0\tvalidation_0-mlogloss:0.002417\tvalidation_1-merror:0.014719\tvalidation_1-mlogloss:0.048673\n",
      "[297]\tvalidation_0-merror:0\tvalidation_0-mlogloss:0.002401\tvalidation_1-merror:0.014719\tvalidation_1-mlogloss:0.048678\n",
      "[298]\tvalidation_0-merror:0\tvalidation_0-mlogloss:0.002383\tvalidation_1-merror:0.014719\tvalidation_1-mlogloss:0.048658\n",
      "[299]\tvalidation_0-merror:0\tvalidation_0-mlogloss:0.002365\tvalidation_1-merror:0.014719\tvalidation_1-mlogloss:0.048582\n",
      "[300]\tvalidation_0-merror:0\tvalidation_0-mlogloss:0.002348\tvalidation_1-merror:0.014719\tvalidation_1-mlogloss:0.048559\n",
      "[301]\tvalidation_0-merror:0\tvalidation_0-mlogloss:0.002334\tvalidation_1-merror:0.014719\tvalidation_1-mlogloss:0.048571\n",
      "[302]\tvalidation_0-merror:0\tvalidation_0-mlogloss:0.002319\tvalidation_1-merror:0.014719\tvalidation_1-mlogloss:0.048549\n",
      "[303]\tvalidation_0-merror:0\tvalidation_0-mlogloss:0.002302\tvalidation_1-merror:0.014719\tvalidation_1-mlogloss:0.048548\n",
      "[304]\tvalidation_0-merror:0\tvalidation_0-mlogloss:0.002288\tvalidation_1-merror:0.014719\tvalidation_1-mlogloss:0.048558\n",
      "[305]\tvalidation_0-merror:0\tvalidation_0-mlogloss:0.002275\tvalidation_1-merror:0.014719\tvalidation_1-mlogloss:0.048504\n",
      "[306]\tvalidation_0-merror:0\tvalidation_0-mlogloss:0.002261\tvalidation_1-merror:0.014719\tvalidation_1-mlogloss:0.048491\n",
      "[307]\tvalidation_0-merror:0\tvalidation_0-mlogloss:0.002247\tvalidation_1-merror:0.014719\tvalidation_1-mlogloss:0.048532\n",
      "[308]\tvalidation_0-merror:0\tvalidation_0-mlogloss:0.002234\tvalidation_1-merror:0.014719\tvalidation_1-mlogloss:0.048547\n",
      "[309]\tvalidation_0-merror:0\tvalidation_0-mlogloss:0.002222\tvalidation_1-merror:0.014719\tvalidation_1-mlogloss:0.048538\n",
      "[310]\tvalidation_0-merror:0\tvalidation_0-mlogloss:0.002207\tvalidation_1-merror:0.014719\tvalidation_1-mlogloss:0.04851\n",
      "[311]\tvalidation_0-merror:0\tvalidation_0-mlogloss:0.002194\tvalidation_1-merror:0.014719\tvalidation_1-mlogloss:0.048503\n",
      "[312]\tvalidation_0-merror:0\tvalidation_0-mlogloss:0.00218\tvalidation_1-merror:0.014719\tvalidation_1-mlogloss:0.048543\n",
      "[313]\tvalidation_0-merror:0\tvalidation_0-mlogloss:0.002167\tvalidation_1-merror:0.014719\tvalidation_1-mlogloss:0.048549\n",
      "[314]\tvalidation_0-merror:0\tvalidation_0-mlogloss:0.002153\tvalidation_1-merror:0.014719\tvalidation_1-mlogloss:0.048529\n",
      "[315]\tvalidation_0-merror:0\tvalidation_0-mlogloss:0.00214\tvalidation_1-merror:0.014719\tvalidation_1-mlogloss:0.048539\n",
      "[316]\tvalidation_0-merror:0\tvalidation_0-mlogloss:0.002128\tvalidation_1-merror:0.015026\tvalidation_1-mlogloss:0.048523\n",
      "[317]\tvalidation_0-merror:0\tvalidation_0-mlogloss:0.002116\tvalidation_1-merror:0.014719\tvalidation_1-mlogloss:0.048483\n",
      "[318]\tvalidation_0-merror:0\tvalidation_0-mlogloss:0.002104\tvalidation_1-merror:0.015026\tvalidation_1-mlogloss:0.048453\n",
      "[319]\tvalidation_0-merror:0\tvalidation_0-mlogloss:0.002092\tvalidation_1-merror:0.015026\tvalidation_1-mlogloss:0.048449\n",
      "[320]\tvalidation_0-merror:0\tvalidation_0-mlogloss:0.002078\tvalidation_1-merror:0.015026\tvalidation_1-mlogloss:0.048467\n",
      "[321]\tvalidation_0-merror:0\tvalidation_0-mlogloss:0.002065\tvalidation_1-merror:0.015026\tvalidation_1-mlogloss:0.048445\n",
      "[322]\tvalidation_0-merror:0\tvalidation_0-mlogloss:0.002056\tvalidation_1-merror:0.015026\tvalidation_1-mlogloss:0.048426\n",
      "[323]\tvalidation_0-merror:0\tvalidation_0-mlogloss:0.002044\tvalidation_1-merror:0.015026\tvalidation_1-mlogloss:0.04837\n",
      "[324]\tvalidation_0-merror:0\tvalidation_0-mlogloss:0.002032\tvalidation_1-merror:0.015026\tvalidation_1-mlogloss:0.04836\n",
      "[325]\tvalidation_0-merror:0\tvalidation_0-mlogloss:0.002022\tvalidation_1-merror:0.015026\tvalidation_1-mlogloss:0.048383\n",
      "[326]\tvalidation_0-merror:0\tvalidation_0-mlogloss:0.002012\tvalidation_1-merror:0.015026\tvalidation_1-mlogloss:0.048374\n",
      "[327]\tvalidation_0-merror:0\tvalidation_0-mlogloss:0.001999\tvalidation_1-merror:0.015026\tvalidation_1-mlogloss:0.048377\n",
      "[328]\tvalidation_0-merror:0\tvalidation_0-mlogloss:0.001987\tvalidation_1-merror:0.015026\tvalidation_1-mlogloss:0.048351\n",
      "[329]\tvalidation_0-merror:0\tvalidation_0-mlogloss:0.001976\tvalidation_1-merror:0.015026\tvalidation_1-mlogloss:0.048348\n",
      "[330]\tvalidation_0-merror:0\tvalidation_0-mlogloss:0.001966\tvalidation_1-merror:0.015026\tvalidation_1-mlogloss:0.048363\n",
      "[331]\tvalidation_0-merror:0\tvalidation_0-mlogloss:0.001957\tvalidation_1-merror:0.015026\tvalidation_1-mlogloss:0.048298\n",
      "[332]\tvalidation_0-merror:0\tvalidation_0-mlogloss:0.001948\tvalidation_1-merror:0.015026\tvalidation_1-mlogloss:0.0483\n",
      "[333]\tvalidation_0-merror:0\tvalidation_0-mlogloss:0.001939\tvalidation_1-merror:0.015026\tvalidation_1-mlogloss:0.0483\n",
      "[334]\tvalidation_0-merror:0\tvalidation_0-mlogloss:0.001929\tvalidation_1-merror:0.015026\tvalidation_1-mlogloss:0.048306\n",
      "[335]\tvalidation_0-merror:0\tvalidation_0-mlogloss:0.00192\tvalidation_1-merror:0.015026\tvalidation_1-mlogloss:0.048326\n",
      "[336]\tvalidation_0-merror:0\tvalidation_0-mlogloss:0.001908\tvalidation_1-merror:0.015026\tvalidation_1-mlogloss:0.048294\n",
      "[337]\tvalidation_0-merror:0\tvalidation_0-mlogloss:0.001899\tvalidation_1-merror:0.015026\tvalidation_1-mlogloss:0.048311\n"
     ]
    },
    {
     "name": "stdout",
     "output_type": "stream",
     "text": [
      "[338]\tvalidation_0-merror:0\tvalidation_0-mlogloss:0.001889\tvalidation_1-merror:0.015026\tvalidation_1-mlogloss:0.048343\n",
      "[339]\tvalidation_0-merror:0\tvalidation_0-mlogloss:0.001878\tvalidation_1-merror:0.015026\tvalidation_1-mlogloss:0.04832\n",
      "[340]\tvalidation_0-merror:0\tvalidation_0-mlogloss:0.00187\tvalidation_1-merror:0.015026\tvalidation_1-mlogloss:0.048252\n",
      "[341]\tvalidation_0-merror:0\tvalidation_0-mlogloss:0.001859\tvalidation_1-merror:0.015026\tvalidation_1-mlogloss:0.048201\n",
      "[342]\tvalidation_0-merror:0\tvalidation_0-mlogloss:0.001851\tvalidation_1-merror:0.015026\tvalidation_1-mlogloss:0.048198\n",
      "[343]\tvalidation_0-merror:0\tvalidation_0-mlogloss:0.00184\tvalidation_1-merror:0.015026\tvalidation_1-mlogloss:0.048169\n",
      "[344]\tvalidation_0-merror:0\tvalidation_0-mlogloss:0.001833\tvalidation_1-merror:0.015026\tvalidation_1-mlogloss:0.048179\n",
      "[345]\tvalidation_0-merror:0\tvalidation_0-mlogloss:0.001824\tvalidation_1-merror:0.015026\tvalidation_1-mlogloss:0.048178\n",
      "[346]\tvalidation_0-merror:0\tvalidation_0-mlogloss:0.001815\tvalidation_1-merror:0.015026\tvalidation_1-mlogloss:0.048182\n",
      "[347]\tvalidation_0-merror:0\tvalidation_0-mlogloss:0.001806\tvalidation_1-merror:0.015026\tvalidation_1-mlogloss:0.048176\n",
      "[348]\tvalidation_0-merror:0\tvalidation_0-mlogloss:0.001799\tvalidation_1-merror:0.015026\tvalidation_1-mlogloss:0.048199\n",
      "[349]\tvalidation_0-merror:0\tvalidation_0-mlogloss:0.001792\tvalidation_1-merror:0.015026\tvalidation_1-mlogloss:0.048205\n",
      "[350]\tvalidation_0-merror:0\tvalidation_0-mlogloss:0.001782\tvalidation_1-merror:0.015026\tvalidation_1-mlogloss:0.048192\n",
      "[351]\tvalidation_0-merror:0\tvalidation_0-mlogloss:0.001775\tvalidation_1-merror:0.015026\tvalidation_1-mlogloss:0.048157\n",
      "[352]\tvalidation_0-merror:0\tvalidation_0-mlogloss:0.001768\tvalidation_1-merror:0.015026\tvalidation_1-mlogloss:0.048132\n",
      "[353]\tvalidation_0-merror:0\tvalidation_0-mlogloss:0.00176\tvalidation_1-merror:0.015026\tvalidation_1-mlogloss:0.04811\n",
      "[354]\tvalidation_0-merror:0\tvalidation_0-mlogloss:0.001752\tvalidation_1-merror:0.015026\tvalidation_1-mlogloss:0.048106\n",
      "[355]\tvalidation_0-merror:0\tvalidation_0-mlogloss:0.001744\tvalidation_1-merror:0.015026\tvalidation_1-mlogloss:0.04808\n",
      "[356]\tvalidation_0-merror:0\tvalidation_0-mlogloss:0.001737\tvalidation_1-merror:0.015026\tvalidation_1-mlogloss:0.048076\n",
      "[357]\tvalidation_0-merror:0\tvalidation_0-mlogloss:0.001728\tvalidation_1-merror:0.015026\tvalidation_1-mlogloss:0.048094\n",
      "[358]\tvalidation_0-merror:0\tvalidation_0-mlogloss:0.00172\tvalidation_1-merror:0.015026\tvalidation_1-mlogloss:0.048079\n",
      "[359]\tvalidation_0-merror:0\tvalidation_0-mlogloss:0.001711\tvalidation_1-merror:0.015026\tvalidation_1-mlogloss:0.048042\n",
      "[360]\tvalidation_0-merror:0\tvalidation_0-mlogloss:0.001703\tvalidation_1-merror:0.015026\tvalidation_1-mlogloss:0.04804\n",
      "[361]\tvalidation_0-merror:0\tvalidation_0-mlogloss:0.001696\tvalidation_1-merror:0.015026\tvalidation_1-mlogloss:0.048019\n",
      "[362]\tvalidation_0-merror:0\tvalidation_0-mlogloss:0.001691\tvalidation_1-merror:0.015026\tvalidation_1-mlogloss:0.048006\n",
      "[363]\tvalidation_0-merror:0\tvalidation_0-mlogloss:0.001682\tvalidation_1-merror:0.015026\tvalidation_1-mlogloss:0.048013\n",
      "[364]\tvalidation_0-merror:0\tvalidation_0-mlogloss:0.001675\tvalidation_1-merror:0.015026\tvalidation_1-mlogloss:0.047946\n",
      "[365]\tvalidation_0-merror:0\tvalidation_0-mlogloss:0.001667\tvalidation_1-merror:0.015026\tvalidation_1-mlogloss:0.047955\n",
      "[366]\tvalidation_0-merror:0\tvalidation_0-mlogloss:0.00166\tvalidation_1-merror:0.015026\tvalidation_1-mlogloss:0.047924\n",
      "[367]\tvalidation_0-merror:0\tvalidation_0-mlogloss:0.001652\tvalidation_1-merror:0.015026\tvalidation_1-mlogloss:0.047901\n",
      "[368]\tvalidation_0-merror:0\tvalidation_0-mlogloss:0.001646\tvalidation_1-merror:0.015026\tvalidation_1-mlogloss:0.047873\n",
      "[369]\tvalidation_0-merror:0\tvalidation_0-mlogloss:0.00164\tvalidation_1-merror:0.015026\tvalidation_1-mlogloss:0.047878\n",
      "[370]\tvalidation_0-merror:0\tvalidation_0-mlogloss:0.001633\tvalidation_1-merror:0.015026\tvalidation_1-mlogloss:0.047886\n",
      "[371]\tvalidation_0-merror:0\tvalidation_0-mlogloss:0.001627\tvalidation_1-merror:0.015026\tvalidation_1-mlogloss:0.04791\n",
      "[372]\tvalidation_0-merror:0\tvalidation_0-mlogloss:0.00162\tvalidation_1-merror:0.015026\tvalidation_1-mlogloss:0.047869\n",
      "[373]\tvalidation_0-merror:0\tvalidation_0-mlogloss:0.001613\tvalidation_1-merror:0.015026\tvalidation_1-mlogloss:0.047898\n",
      "[374]\tvalidation_0-merror:0\tvalidation_0-mlogloss:0.001607\tvalidation_1-merror:0.015026\tvalidation_1-mlogloss:0.047897\n",
      "[375]\tvalidation_0-merror:0\tvalidation_0-mlogloss:0.001601\tvalidation_1-merror:0.015026\tvalidation_1-mlogloss:0.047902\n",
      "[376]\tvalidation_0-merror:0\tvalidation_0-mlogloss:0.001597\tvalidation_1-merror:0.015026\tvalidation_1-mlogloss:0.047918\n",
      "[377]\tvalidation_0-merror:0\tvalidation_0-mlogloss:0.001591\tvalidation_1-merror:0.015026\tvalidation_1-mlogloss:0.047914\n",
      "[378]\tvalidation_0-merror:0\tvalidation_0-mlogloss:0.001584\tvalidation_1-merror:0.015026\tvalidation_1-mlogloss:0.047882\n",
      "[379]\tvalidation_0-merror:0\tvalidation_0-mlogloss:0.001577\tvalidation_1-merror:0.015026\tvalidation_1-mlogloss:0.047875\n",
      "[380]\tvalidation_0-merror:0\tvalidation_0-mlogloss:0.001572\tvalidation_1-merror:0.015026\tvalidation_1-mlogloss:0.047858\n",
      "[381]\tvalidation_0-merror:0\tvalidation_0-mlogloss:0.001564\tvalidation_1-merror:0.015026\tvalidation_1-mlogloss:0.047877\n",
      "[382]\tvalidation_0-merror:0\tvalidation_0-mlogloss:0.001556\tvalidation_1-merror:0.015026\tvalidation_1-mlogloss:0.047855\n",
      "[383]\tvalidation_0-merror:0\tvalidation_0-mlogloss:0.001551\tvalidation_1-merror:0.015026\tvalidation_1-mlogloss:0.047845\n",
      "[384]\tvalidation_0-merror:0\tvalidation_0-mlogloss:0.001543\tvalidation_1-merror:0.015026\tvalidation_1-mlogloss:0.04783\n",
      "[385]\tvalidation_0-merror:0\tvalidation_0-mlogloss:0.001538\tvalidation_1-merror:0.015026\tvalidation_1-mlogloss:0.047843\n",
      "[386]\tvalidation_0-merror:0\tvalidation_0-mlogloss:0.001533\tvalidation_1-merror:0.015026\tvalidation_1-mlogloss:0.047814\n",
      "[387]\tvalidation_0-merror:0\tvalidation_0-mlogloss:0.001526\tvalidation_1-merror:0.015026\tvalidation_1-mlogloss:0.04778\n",
      "[388]\tvalidation_0-merror:0\tvalidation_0-mlogloss:0.001519\tvalidation_1-merror:0.015026\tvalidation_1-mlogloss:0.047783\n",
      "[389]\tvalidation_0-merror:0\tvalidation_0-mlogloss:0.001514\tvalidation_1-merror:0.015026\tvalidation_1-mlogloss:0.047748\n",
      "[390]\tvalidation_0-merror:0\tvalidation_0-mlogloss:0.001509\tvalidation_1-merror:0.015026\tvalidation_1-mlogloss:0.047732\n",
      "[391]\tvalidation_0-merror:0\tvalidation_0-mlogloss:0.001502\tvalidation_1-merror:0.015026\tvalidation_1-mlogloss:0.047713\n",
      "[392]\tvalidation_0-merror:0\tvalidation_0-mlogloss:0.001496\tvalidation_1-merror:0.015026\tvalidation_1-mlogloss:0.047707\n",
      "[393]\tvalidation_0-merror:0\tvalidation_0-mlogloss:0.001492\tvalidation_1-merror:0.015026\tvalidation_1-mlogloss:0.047713\n",
      "[394]\tvalidation_0-merror:0\tvalidation_0-mlogloss:0.001486\tvalidation_1-merror:0.015026\tvalidation_1-mlogloss:0.047685\n",
      "[395]\tvalidation_0-merror:0\tvalidation_0-mlogloss:0.00148\tvalidation_1-merror:0.015026\tvalidation_1-mlogloss:0.04771\n",
      "[396]\tvalidation_0-merror:0\tvalidation_0-mlogloss:0.001473\tvalidation_1-merror:0.015026\tvalidation_1-mlogloss:0.0477\n",
      "[397]\tvalidation_0-merror:0\tvalidation_0-mlogloss:0.001468\tvalidation_1-merror:0.015026\tvalidation_1-mlogloss:0.047689\n",
      "[398]\tvalidation_0-merror:0\tvalidation_0-mlogloss:0.001461\tvalidation_1-merror:0.015026\tvalidation_1-mlogloss:0.047712\n",
      "[399]\tvalidation_0-merror:0\tvalidation_0-mlogloss:0.001455\tvalidation_1-merror:0.015026\tvalidation_1-mlogloss:0.047681\n",
      "[400]\tvalidation_0-merror:0\tvalidation_0-mlogloss:0.00145\tvalidation_1-merror:0.014719\tvalidation_1-mlogloss:0.047628\n",
      "[401]\tvalidation_0-merror:0\tvalidation_0-mlogloss:0.001444\tvalidation_1-merror:0.015026\tvalidation_1-mlogloss:0.047618\n",
      "[402]\tvalidation_0-merror:0\tvalidation_0-mlogloss:0.001438\tvalidation_1-merror:0.015026\tvalidation_1-mlogloss:0.047601\n",
      "[403]\tvalidation_0-merror:0\tvalidation_0-mlogloss:0.001433\tvalidation_1-merror:0.015026\tvalidation_1-mlogloss:0.047585\n",
      "[404]\tvalidation_0-merror:0\tvalidation_0-mlogloss:0.001429\tvalidation_1-merror:0.015026\tvalidation_1-mlogloss:0.047564\n",
      "[405]\tvalidation_0-merror:0\tvalidation_0-mlogloss:0.001423\tvalidation_1-merror:0.015026\tvalidation_1-mlogloss:0.047564\n",
      "[406]\tvalidation_0-merror:0\tvalidation_0-mlogloss:0.001419\tvalidation_1-merror:0.015026\tvalidation_1-mlogloss:0.047558\n",
      "[407]\tvalidation_0-merror:0\tvalidation_0-mlogloss:0.001413\tvalidation_1-merror:0.015026\tvalidation_1-mlogloss:0.047532\n"
     ]
    },
    {
     "name": "stdout",
     "output_type": "stream",
     "text": [
      "[408]\tvalidation_0-merror:0\tvalidation_0-mlogloss:0.001408\tvalidation_1-merror:0.015026\tvalidation_1-mlogloss:0.047509\n",
      "[409]\tvalidation_0-merror:0\tvalidation_0-mlogloss:0.001403\tvalidation_1-merror:0.015026\tvalidation_1-mlogloss:0.04746\n",
      "[410]\tvalidation_0-merror:0\tvalidation_0-mlogloss:0.001399\tvalidation_1-merror:0.015026\tvalidation_1-mlogloss:0.047446\n",
      "[411]\tvalidation_0-merror:0\tvalidation_0-mlogloss:0.001393\tvalidation_1-merror:0.014413\tvalidation_1-mlogloss:0.047431\n",
      "[412]\tvalidation_0-merror:0\tvalidation_0-mlogloss:0.001389\tvalidation_1-merror:0.014413\tvalidation_1-mlogloss:0.047414\n",
      "[413]\tvalidation_0-merror:0\tvalidation_0-mlogloss:0.001383\tvalidation_1-merror:0.014719\tvalidation_1-mlogloss:0.047417\n",
      "[414]\tvalidation_0-merror:0\tvalidation_0-mlogloss:0.001379\tvalidation_1-merror:0.014719\tvalidation_1-mlogloss:0.047418\n",
      "[415]\tvalidation_0-merror:0\tvalidation_0-mlogloss:0.001374\tvalidation_1-merror:0.014719\tvalidation_1-mlogloss:0.047389\n",
      "[416]\tvalidation_0-merror:0\tvalidation_0-mlogloss:0.001369\tvalidation_1-merror:0.014413\tvalidation_1-mlogloss:0.047387\n",
      "[417]\tvalidation_0-merror:0\tvalidation_0-mlogloss:0.001365\tvalidation_1-merror:0.014413\tvalidation_1-mlogloss:0.047381\n",
      "[418]\tvalidation_0-merror:0\tvalidation_0-mlogloss:0.00136\tvalidation_1-merror:0.014413\tvalidation_1-mlogloss:0.047345\n",
      "[419]\tvalidation_0-merror:0\tvalidation_0-mlogloss:0.001354\tvalidation_1-merror:0.014413\tvalidation_1-mlogloss:0.047323\n",
      "[420]\tvalidation_0-merror:0\tvalidation_0-mlogloss:0.00135\tvalidation_1-merror:0.014719\tvalidation_1-mlogloss:0.047307\n",
      "[421]\tvalidation_0-merror:0\tvalidation_0-mlogloss:0.001344\tvalidation_1-merror:0.014413\tvalidation_1-mlogloss:0.047294\n",
      "[422]\tvalidation_0-merror:0\tvalidation_0-mlogloss:0.00134\tvalidation_1-merror:0.014413\tvalidation_1-mlogloss:0.047274\n",
      "[423]\tvalidation_0-merror:0\tvalidation_0-mlogloss:0.001336\tvalidation_1-merror:0.014106\tvalidation_1-mlogloss:0.047237\n",
      "[424]\tvalidation_0-merror:0\tvalidation_0-mlogloss:0.001331\tvalidation_1-merror:0.014106\tvalidation_1-mlogloss:0.047214\n",
      "[425]\tvalidation_0-merror:0\tvalidation_0-mlogloss:0.001327\tvalidation_1-merror:0.014106\tvalidation_1-mlogloss:0.047224\n",
      "[426]\tvalidation_0-merror:0\tvalidation_0-mlogloss:0.001323\tvalidation_1-merror:0.014413\tvalidation_1-mlogloss:0.047203\n",
      "[427]\tvalidation_0-merror:0\tvalidation_0-mlogloss:0.001319\tvalidation_1-merror:0.014413\tvalidation_1-mlogloss:0.04718\n",
      "[428]\tvalidation_0-merror:0\tvalidation_0-mlogloss:0.001315\tvalidation_1-merror:0.014413\tvalidation_1-mlogloss:0.047183\n",
      "[429]\tvalidation_0-merror:0\tvalidation_0-mlogloss:0.001309\tvalidation_1-merror:0.014413\tvalidation_1-mlogloss:0.047174\n",
      "[430]\tvalidation_0-merror:0\tvalidation_0-mlogloss:0.001305\tvalidation_1-merror:0.014413\tvalidation_1-mlogloss:0.047169\n",
      "[431]\tvalidation_0-merror:0\tvalidation_0-mlogloss:0.001301\tvalidation_1-merror:0.014719\tvalidation_1-mlogloss:0.04717\n",
      "[432]\tvalidation_0-merror:0\tvalidation_0-mlogloss:0.001297\tvalidation_1-merror:0.014413\tvalidation_1-mlogloss:0.047187\n",
      "[433]\tvalidation_0-merror:0\tvalidation_0-mlogloss:0.001292\tvalidation_1-merror:0.014413\tvalidation_1-mlogloss:0.047155\n",
      "[434]\tvalidation_0-merror:0\tvalidation_0-mlogloss:0.001288\tvalidation_1-merror:0.014413\tvalidation_1-mlogloss:0.047143\n",
      "[435]\tvalidation_0-merror:0\tvalidation_0-mlogloss:0.001284\tvalidation_1-merror:0.014413\tvalidation_1-mlogloss:0.047134\n",
      "[436]\tvalidation_0-merror:0\tvalidation_0-mlogloss:0.001281\tvalidation_1-merror:0.014719\tvalidation_1-mlogloss:0.047122\n",
      "[437]\tvalidation_0-merror:0\tvalidation_0-mlogloss:0.001277\tvalidation_1-merror:0.014106\tvalidation_1-mlogloss:0.047101\n",
      "[438]\tvalidation_0-merror:0\tvalidation_0-mlogloss:0.001273\tvalidation_1-merror:0.014413\tvalidation_1-mlogloss:0.047107\n",
      "[439]\tvalidation_0-merror:0\tvalidation_0-mlogloss:0.001269\tvalidation_1-merror:0.014413\tvalidation_1-mlogloss:0.047073\n",
      "[440]\tvalidation_0-merror:0\tvalidation_0-mlogloss:0.001266\tvalidation_1-merror:0.014413\tvalidation_1-mlogloss:0.047072\n",
      "[441]\tvalidation_0-merror:0\tvalidation_0-mlogloss:0.001262\tvalidation_1-merror:0.014413\tvalidation_1-mlogloss:0.047049\n",
      "[442]\tvalidation_0-merror:0\tvalidation_0-mlogloss:0.001258\tvalidation_1-merror:0.014413\tvalidation_1-mlogloss:0.047061\n",
      "[443]\tvalidation_0-merror:0\tvalidation_0-mlogloss:0.001255\tvalidation_1-merror:0.014413\tvalidation_1-mlogloss:0.047049\n",
      "[444]\tvalidation_0-merror:0\tvalidation_0-mlogloss:0.001251\tvalidation_1-merror:0.014106\tvalidation_1-mlogloss:0.047025\n",
      "[445]\tvalidation_0-merror:0\tvalidation_0-mlogloss:0.001248\tvalidation_1-merror:0.014106\tvalidation_1-mlogloss:0.047008\n",
      "[446]\tvalidation_0-merror:0\tvalidation_0-mlogloss:0.001244\tvalidation_1-merror:0.014106\tvalidation_1-mlogloss:0.046993\n",
      "[447]\tvalidation_0-merror:0\tvalidation_0-mlogloss:0.00124\tvalidation_1-merror:0.014106\tvalidation_1-mlogloss:0.047008\n",
      "[448]\tvalidation_0-merror:0\tvalidation_0-mlogloss:0.001237\tvalidation_1-merror:0.014106\tvalidation_1-mlogloss:0.046992\n",
      "[449]\tvalidation_0-merror:0\tvalidation_0-mlogloss:0.001233\tvalidation_1-merror:0.014106\tvalidation_1-mlogloss:0.046967\n",
      "[450]\tvalidation_0-merror:0\tvalidation_0-mlogloss:0.00123\tvalidation_1-merror:0.014106\tvalidation_1-mlogloss:0.046966\n",
      "[451]\tvalidation_0-merror:0\tvalidation_0-mlogloss:0.001226\tvalidation_1-merror:0.014106\tvalidation_1-mlogloss:0.046969\n",
      "[452]\tvalidation_0-merror:0\tvalidation_0-mlogloss:0.001223\tvalidation_1-merror:0.014106\tvalidation_1-mlogloss:0.046949\n",
      "[453]\tvalidation_0-merror:0\tvalidation_0-mlogloss:0.001219\tvalidation_1-merror:0.014106\tvalidation_1-mlogloss:0.046926\n",
      "[454]\tvalidation_0-merror:0\tvalidation_0-mlogloss:0.001216\tvalidation_1-merror:0.014106\tvalidation_1-mlogloss:0.046925\n",
      "[455]\tvalidation_0-merror:0\tvalidation_0-mlogloss:0.001212\tvalidation_1-merror:0.014106\tvalidation_1-mlogloss:0.046891\n",
      "[456]\tvalidation_0-merror:0\tvalidation_0-mlogloss:0.001209\tvalidation_1-merror:0.014413\tvalidation_1-mlogloss:0.04687\n",
      "[457]\tvalidation_0-merror:0\tvalidation_0-mlogloss:0.001206\tvalidation_1-merror:0.014106\tvalidation_1-mlogloss:0.046853\n",
      "[458]\tvalidation_0-merror:0\tvalidation_0-mlogloss:0.001202\tvalidation_1-merror:0.014106\tvalidation_1-mlogloss:0.046825\n",
      "[459]\tvalidation_0-merror:0\tvalidation_0-mlogloss:0.0012\tvalidation_1-merror:0.014106\tvalidation_1-mlogloss:0.046827\n",
      "[460]\tvalidation_0-merror:0\tvalidation_0-mlogloss:0.001196\tvalidation_1-merror:0.013799\tvalidation_1-mlogloss:0.046821\n",
      "[461]\tvalidation_0-merror:0\tvalidation_0-mlogloss:0.001193\tvalidation_1-merror:0.014106\tvalidation_1-mlogloss:0.046832\n",
      "[462]\tvalidation_0-merror:0\tvalidation_0-mlogloss:0.00119\tvalidation_1-merror:0.014106\tvalidation_1-mlogloss:0.046821\n",
      "[463]\tvalidation_0-merror:0\tvalidation_0-mlogloss:0.001186\tvalidation_1-merror:0.014413\tvalidation_1-mlogloss:0.046839\n",
      "[464]\tvalidation_0-merror:0\tvalidation_0-mlogloss:0.001183\tvalidation_1-merror:0.014413\tvalidation_1-mlogloss:0.046821\n",
      "[465]\tvalidation_0-merror:0\tvalidation_0-mlogloss:0.001181\tvalidation_1-merror:0.014106\tvalidation_1-mlogloss:0.046786\n",
      "[466]\tvalidation_0-merror:0\tvalidation_0-mlogloss:0.001177\tvalidation_1-merror:0.014413\tvalidation_1-mlogloss:0.046777\n",
      "[467]\tvalidation_0-merror:0\tvalidation_0-mlogloss:0.001174\tvalidation_1-merror:0.014106\tvalidation_1-mlogloss:0.046795\n",
      "[468]\tvalidation_0-merror:0\tvalidation_0-mlogloss:0.001172\tvalidation_1-merror:0.014106\tvalidation_1-mlogloss:0.046773\n",
      "[469]\tvalidation_0-merror:0\tvalidation_0-mlogloss:0.001169\tvalidation_1-merror:0.013799\tvalidation_1-mlogloss:0.046751\n",
      "[470]\tvalidation_0-merror:0\tvalidation_0-mlogloss:0.001166\tvalidation_1-merror:0.014106\tvalidation_1-mlogloss:0.046762\n",
      "[471]\tvalidation_0-merror:0\tvalidation_0-mlogloss:0.001162\tvalidation_1-merror:0.014106\tvalidation_1-mlogloss:0.046756\n",
      "[472]\tvalidation_0-merror:0\tvalidation_0-mlogloss:0.001159\tvalidation_1-merror:0.014106\tvalidation_1-mlogloss:0.046765\n",
      "[473]\tvalidation_0-merror:0\tvalidation_0-mlogloss:0.001157\tvalidation_1-merror:0.014106\tvalidation_1-mlogloss:0.046727\n",
      "[474]\tvalidation_0-merror:0\tvalidation_0-mlogloss:0.001154\tvalidation_1-merror:0.014106\tvalidation_1-mlogloss:0.046718\n",
      "[475]\tvalidation_0-merror:0\tvalidation_0-mlogloss:0.00115\tvalidation_1-merror:0.014106\tvalidation_1-mlogloss:0.046691\n",
      "[476]\tvalidation_0-merror:0\tvalidation_0-mlogloss:0.001148\tvalidation_1-merror:0.014106\tvalidation_1-mlogloss:0.046699\n"
     ]
    },
    {
     "name": "stdout",
     "output_type": "stream",
     "text": [
      "[477]\tvalidation_0-merror:0\tvalidation_0-mlogloss:0.001144\tvalidation_1-merror:0.014106\tvalidation_1-mlogloss:0.046686\n",
      "[478]\tvalidation_0-merror:0\tvalidation_0-mlogloss:0.001141\tvalidation_1-merror:0.013799\tvalidation_1-mlogloss:0.046653\n",
      "[479]\tvalidation_0-merror:0\tvalidation_0-mlogloss:0.001138\tvalidation_1-merror:0.013799\tvalidation_1-mlogloss:0.046622\n",
      "[480]\tvalidation_0-merror:0\tvalidation_0-mlogloss:0.001135\tvalidation_1-merror:0.014106\tvalidation_1-mlogloss:0.046591\n",
      "[481]\tvalidation_0-merror:0\tvalidation_0-mlogloss:0.001133\tvalidation_1-merror:0.014106\tvalidation_1-mlogloss:0.046582\n",
      "[482]\tvalidation_0-merror:0\tvalidation_0-mlogloss:0.00113\tvalidation_1-merror:0.014106\tvalidation_1-mlogloss:0.046593\n",
      "[483]\tvalidation_0-merror:0\tvalidation_0-mlogloss:0.001128\tvalidation_1-merror:0.014106\tvalidation_1-mlogloss:0.046618\n",
      "[484]\tvalidation_0-merror:0\tvalidation_0-mlogloss:0.001125\tvalidation_1-merror:0.014106\tvalidation_1-mlogloss:0.046584\n",
      "[485]\tvalidation_0-merror:0\tvalidation_0-mlogloss:0.001121\tvalidation_1-merror:0.014106\tvalidation_1-mlogloss:0.046578\n",
      "[486]\tvalidation_0-merror:0\tvalidation_0-mlogloss:0.001119\tvalidation_1-merror:0.014106\tvalidation_1-mlogloss:0.046578\n",
      "[487]\tvalidation_0-merror:0\tvalidation_0-mlogloss:0.001116\tvalidation_1-merror:0.014106\tvalidation_1-mlogloss:0.04657\n",
      "[488]\tvalidation_0-merror:0\tvalidation_0-mlogloss:0.001113\tvalidation_1-merror:0.014106\tvalidation_1-mlogloss:0.046565\n",
      "[489]\tvalidation_0-merror:0\tvalidation_0-mlogloss:0.001111\tvalidation_1-merror:0.013799\tvalidation_1-mlogloss:0.046559\n",
      "[490]\tvalidation_0-merror:0\tvalidation_0-mlogloss:0.001108\tvalidation_1-merror:0.014106\tvalidation_1-mlogloss:0.046557\n",
      "[491]\tvalidation_0-merror:0\tvalidation_0-mlogloss:0.001105\tvalidation_1-merror:0.014106\tvalidation_1-mlogloss:0.046558\n",
      "[492]\tvalidation_0-merror:0\tvalidation_0-mlogloss:0.001102\tvalidation_1-merror:0.013799\tvalidation_1-mlogloss:0.046566\n",
      "[493]\tvalidation_0-merror:0\tvalidation_0-mlogloss:0.0011\tvalidation_1-merror:0.013799\tvalidation_1-mlogloss:0.046555\n",
      "[494]\tvalidation_0-merror:0\tvalidation_0-mlogloss:0.001097\tvalidation_1-merror:0.013799\tvalidation_1-mlogloss:0.046549\n",
      "[495]\tvalidation_0-merror:0\tvalidation_0-mlogloss:0.001095\tvalidation_1-merror:0.014106\tvalidation_1-mlogloss:0.046531\n",
      "[496]\tvalidation_0-merror:0\tvalidation_0-mlogloss:0.001092\tvalidation_1-merror:0.014106\tvalidation_1-mlogloss:0.046522\n",
      "[497]\tvalidation_0-merror:0\tvalidation_0-mlogloss:0.001089\tvalidation_1-merror:0.014106\tvalidation_1-mlogloss:0.046518\n",
      "[498]\tvalidation_0-merror:0\tvalidation_0-mlogloss:0.001087\tvalidation_1-merror:0.014106\tvalidation_1-mlogloss:0.046522\n",
      "[499]\tvalidation_0-merror:0\tvalidation_0-mlogloss:0.001084\tvalidation_1-merror:0.014106\tvalidation_1-mlogloss:0.046529\n",
      "[500]\tvalidation_0-merror:0\tvalidation_0-mlogloss:0.001082\tvalidation_1-merror:0.014106\tvalidation_1-mlogloss:0.046529\n",
      "[501]\tvalidation_0-merror:0\tvalidation_0-mlogloss:0.001079\tvalidation_1-merror:0.014106\tvalidation_1-mlogloss:0.046535\n",
      "[502]\tvalidation_0-merror:0\tvalidation_0-mlogloss:0.001077\tvalidation_1-merror:0.014106\tvalidation_1-mlogloss:0.046512\n",
      "[503]\tvalidation_0-merror:0\tvalidation_0-mlogloss:0.001074\tvalidation_1-merror:0.014106\tvalidation_1-mlogloss:0.046553\n",
      "[504]\tvalidation_0-merror:0\tvalidation_0-mlogloss:0.001071\tvalidation_1-merror:0.014106\tvalidation_1-mlogloss:0.046551\n",
      "[505]\tvalidation_0-merror:0\tvalidation_0-mlogloss:0.001069\tvalidation_1-merror:0.014106\tvalidation_1-mlogloss:0.046538\n",
      "[506]\tvalidation_0-merror:0\tvalidation_0-mlogloss:0.001067\tvalidation_1-merror:0.014106\tvalidation_1-mlogloss:0.04654\n",
      "[507]\tvalidation_0-merror:0\tvalidation_0-mlogloss:0.001065\tvalidation_1-merror:0.014106\tvalidation_1-mlogloss:0.04653\n",
      "[508]\tvalidation_0-merror:0\tvalidation_0-mlogloss:0.001063\tvalidation_1-merror:0.014106\tvalidation_1-mlogloss:0.046523\n",
      "[509]\tvalidation_0-merror:0\tvalidation_0-mlogloss:0.001061\tvalidation_1-merror:0.014106\tvalidation_1-mlogloss:0.046519\n",
      "[510]\tvalidation_0-merror:0\tvalidation_0-mlogloss:0.001058\tvalidation_1-merror:0.014106\tvalidation_1-mlogloss:0.046539\n",
      "[511]\tvalidation_0-merror:0\tvalidation_0-mlogloss:0.001056\tvalidation_1-merror:0.013799\tvalidation_1-mlogloss:0.046541\n",
      "[512]\tvalidation_0-merror:0\tvalidation_0-mlogloss:0.001054\tvalidation_1-merror:0.014106\tvalidation_1-mlogloss:0.046549\n",
      "[513]\tvalidation_0-merror:0\tvalidation_0-mlogloss:0.001052\tvalidation_1-merror:0.014106\tvalidation_1-mlogloss:0.04653\n",
      "[514]\tvalidation_0-merror:0\tvalidation_0-mlogloss:0.001049\tvalidation_1-merror:0.014106\tvalidation_1-mlogloss:0.046506\n",
      "[515]\tvalidation_0-merror:0\tvalidation_0-mlogloss:0.001048\tvalidation_1-merror:0.014106\tvalidation_1-mlogloss:0.046511\n",
      "[516]\tvalidation_0-merror:0\tvalidation_0-mlogloss:0.001045\tvalidation_1-merror:0.014106\tvalidation_1-mlogloss:0.046474\n",
      "[517]\tvalidation_0-merror:0\tvalidation_0-mlogloss:0.001043\tvalidation_1-merror:0.014106\tvalidation_1-mlogloss:0.046447\n",
      "[518]\tvalidation_0-merror:0\tvalidation_0-mlogloss:0.001041\tvalidation_1-merror:0.014106\tvalidation_1-mlogloss:0.046448\n",
      "[519]\tvalidation_0-merror:0\tvalidation_0-mlogloss:0.001039\tvalidation_1-merror:0.014106\tvalidation_1-mlogloss:0.046451\n",
      "[520]\tvalidation_0-merror:0\tvalidation_0-mlogloss:0.001036\tvalidation_1-merror:0.013799\tvalidation_1-mlogloss:0.046435\n",
      "[521]\tvalidation_0-merror:0\tvalidation_0-mlogloss:0.001034\tvalidation_1-merror:0.014106\tvalidation_1-mlogloss:0.046416\n",
      "[522]\tvalidation_0-merror:0\tvalidation_0-mlogloss:0.001032\tvalidation_1-merror:0.014106\tvalidation_1-mlogloss:0.04644\n",
      "[523]\tvalidation_0-merror:0\tvalidation_0-mlogloss:0.00103\tvalidation_1-merror:0.014106\tvalidation_1-mlogloss:0.046407\n",
      "[524]\tvalidation_0-merror:0\tvalidation_0-mlogloss:0.001028\tvalidation_1-merror:0.014106\tvalidation_1-mlogloss:0.046442\n",
      "[525]\tvalidation_0-merror:0\tvalidation_0-mlogloss:0.001026\tvalidation_1-merror:0.014106\tvalidation_1-mlogloss:0.046438\n",
      "[526]\tvalidation_0-merror:0\tvalidation_0-mlogloss:0.001024\tvalidation_1-merror:0.014106\tvalidation_1-mlogloss:0.046444\n",
      "[527]\tvalidation_0-merror:0\tvalidation_0-mlogloss:0.001022\tvalidation_1-merror:0.014106\tvalidation_1-mlogloss:0.046402\n",
      "[528]\tvalidation_0-merror:0\tvalidation_0-mlogloss:0.00102\tvalidation_1-merror:0.013799\tvalidation_1-mlogloss:0.046414\n",
      "[529]\tvalidation_0-merror:0\tvalidation_0-mlogloss:0.001018\tvalidation_1-merror:0.014106\tvalidation_1-mlogloss:0.046408\n",
      "[530]\tvalidation_0-merror:0\tvalidation_0-mlogloss:0.001016\tvalidation_1-merror:0.014106\tvalidation_1-mlogloss:0.046405\n",
      "[531]\tvalidation_0-merror:0\tvalidation_0-mlogloss:0.001014\tvalidation_1-merror:0.014106\tvalidation_1-mlogloss:0.046412\n",
      "[532]\tvalidation_0-merror:0\tvalidation_0-mlogloss:0.001012\tvalidation_1-merror:0.014106\tvalidation_1-mlogloss:0.04638\n",
      "[533]\tvalidation_0-merror:0\tvalidation_0-mlogloss:0.001011\tvalidation_1-merror:0.014106\tvalidation_1-mlogloss:0.046367\n",
      "[534]\tvalidation_0-merror:0\tvalidation_0-mlogloss:0.001009\tvalidation_1-merror:0.014106\tvalidation_1-mlogloss:0.046355\n",
      "[535]\tvalidation_0-merror:0\tvalidation_0-mlogloss:0.001007\tvalidation_1-merror:0.014106\tvalidation_1-mlogloss:0.046334\n",
      "[536]\tvalidation_0-merror:0\tvalidation_0-mlogloss:0.001005\tvalidation_1-merror:0.014106\tvalidation_1-mlogloss:0.046341\n",
      "[537]\tvalidation_0-merror:0\tvalidation_0-mlogloss:0.001003\tvalidation_1-merror:0.014106\tvalidation_1-mlogloss:0.046352\n",
      "[538]\tvalidation_0-merror:0\tvalidation_0-mlogloss:0.001001\tvalidation_1-merror:0.013799\tvalidation_1-mlogloss:0.046331\n",
      "[539]\tvalidation_0-merror:0\tvalidation_0-mlogloss:0.000999\tvalidation_1-merror:0.014106\tvalidation_1-mlogloss:0.046361\n",
      "[540]\tvalidation_0-merror:0\tvalidation_0-mlogloss:0.000998\tvalidation_1-merror:0.014106\tvalidation_1-mlogloss:0.046366\n",
      "[541]\tvalidation_0-merror:0\tvalidation_0-mlogloss:0.000996\tvalidation_1-merror:0.014106\tvalidation_1-mlogloss:0.046367\n",
      "[542]\tvalidation_0-merror:0\tvalidation_0-mlogloss:0.000994\tvalidation_1-merror:0.014106\tvalidation_1-mlogloss:0.046322\n",
      "[543]\tvalidation_0-merror:0\tvalidation_0-mlogloss:0.000992\tvalidation_1-merror:0.014106\tvalidation_1-mlogloss:0.046329\n",
      "[544]\tvalidation_0-merror:0\tvalidation_0-mlogloss:0.00099\tvalidation_1-merror:0.013799\tvalidation_1-mlogloss:0.046277\n",
      "[545]\tvalidation_0-merror:0\tvalidation_0-mlogloss:0.000989\tvalidation_1-merror:0.013799\tvalidation_1-mlogloss:0.046295\n"
     ]
    },
    {
     "name": "stdout",
     "output_type": "stream",
     "text": [
      "[546]\tvalidation_0-merror:0\tvalidation_0-mlogloss:0.000987\tvalidation_1-merror:0.013799\tvalidation_1-mlogloss:0.04632\n",
      "[547]\tvalidation_0-merror:0\tvalidation_0-mlogloss:0.000985\tvalidation_1-merror:0.013799\tvalidation_1-mlogloss:0.046337\n",
      "[548]\tvalidation_0-merror:0\tvalidation_0-mlogloss:0.000984\tvalidation_1-merror:0.013799\tvalidation_1-mlogloss:0.046327\n",
      "[549]\tvalidation_0-merror:0\tvalidation_0-mlogloss:0.000982\tvalidation_1-merror:0.013799\tvalidation_1-mlogloss:0.04633\n",
      "[550]\tvalidation_0-merror:0\tvalidation_0-mlogloss:0.00098\tvalidation_1-merror:0.013799\tvalidation_1-mlogloss:0.046309\n",
      "[551]\tvalidation_0-merror:0\tvalidation_0-mlogloss:0.000979\tvalidation_1-merror:0.013799\tvalidation_1-mlogloss:0.046298\n",
      "[552]\tvalidation_0-merror:0\tvalidation_0-mlogloss:0.000977\tvalidation_1-merror:0.013799\tvalidation_1-mlogloss:0.046297\n",
      "[553]\tvalidation_0-merror:0\tvalidation_0-mlogloss:0.000975\tvalidation_1-merror:0.013799\tvalidation_1-mlogloss:0.046324\n",
      "[554]\tvalidation_0-merror:0\tvalidation_0-mlogloss:0.000973\tvalidation_1-merror:0.013799\tvalidation_1-mlogloss:0.046298\n",
      "[555]\tvalidation_0-merror:0\tvalidation_0-mlogloss:0.000972\tvalidation_1-merror:0.013799\tvalidation_1-mlogloss:0.046271\n",
      "[556]\tvalidation_0-merror:0\tvalidation_0-mlogloss:0.00097\tvalidation_1-merror:0.013799\tvalidation_1-mlogloss:0.046294\n",
      "[557]\tvalidation_0-merror:0\tvalidation_0-mlogloss:0.000968\tvalidation_1-merror:0.014106\tvalidation_1-mlogloss:0.04631\n",
      "[558]\tvalidation_0-merror:0\tvalidation_0-mlogloss:0.000966\tvalidation_1-merror:0.014106\tvalidation_1-mlogloss:0.046313\n",
      "[559]\tvalidation_0-merror:0\tvalidation_0-mlogloss:0.000965\tvalidation_1-merror:0.014106\tvalidation_1-mlogloss:0.046315\n",
      "[560]\tvalidation_0-merror:0\tvalidation_0-mlogloss:0.000963\tvalidation_1-merror:0.013799\tvalidation_1-mlogloss:0.046298\n",
      "[561]\tvalidation_0-merror:0\tvalidation_0-mlogloss:0.000961\tvalidation_1-merror:0.013799\tvalidation_1-mlogloss:0.046299\n",
      "[562]\tvalidation_0-merror:0\tvalidation_0-mlogloss:0.00096\tvalidation_1-merror:0.013799\tvalidation_1-mlogloss:0.046315\n",
      "[563]\tvalidation_0-merror:0\tvalidation_0-mlogloss:0.000958\tvalidation_1-merror:0.013799\tvalidation_1-mlogloss:0.046312\n",
      "[564]\tvalidation_0-merror:0\tvalidation_0-mlogloss:0.000956\tvalidation_1-merror:0.013799\tvalidation_1-mlogloss:0.046308\n",
      "[565]\tvalidation_0-merror:0\tvalidation_0-mlogloss:0.000954\tvalidation_1-merror:0.013799\tvalidation_1-mlogloss:0.046304\n",
      "[566]\tvalidation_0-merror:0\tvalidation_0-mlogloss:0.000953\tvalidation_1-merror:0.013799\tvalidation_1-mlogloss:0.046285\n",
      "[567]\tvalidation_0-merror:0\tvalidation_0-mlogloss:0.000951\tvalidation_1-merror:0.013799\tvalidation_1-mlogloss:0.046263\n",
      "[568]\tvalidation_0-merror:0\tvalidation_0-mlogloss:0.000949\tvalidation_1-merror:0.013799\tvalidation_1-mlogloss:0.046262\n",
      "[569]\tvalidation_0-merror:0\tvalidation_0-mlogloss:0.000948\tvalidation_1-merror:0.013799\tvalidation_1-mlogloss:0.046256\n",
      "[570]\tvalidation_0-merror:0\tvalidation_0-mlogloss:0.000946\tvalidation_1-merror:0.013799\tvalidation_1-mlogloss:0.046237\n",
      "[571]\tvalidation_0-merror:0\tvalidation_0-mlogloss:0.000945\tvalidation_1-merror:0.013799\tvalidation_1-mlogloss:0.046213\n",
      "[572]\tvalidation_0-merror:0\tvalidation_0-mlogloss:0.000943\tvalidation_1-merror:0.013799\tvalidation_1-mlogloss:0.046227\n",
      "[573]\tvalidation_0-merror:0\tvalidation_0-mlogloss:0.000942\tvalidation_1-merror:0.013799\tvalidation_1-mlogloss:0.046246\n",
      "[574]\tvalidation_0-merror:0\tvalidation_0-mlogloss:0.00094\tvalidation_1-merror:0.013799\tvalidation_1-mlogloss:0.046239\n",
      "[575]\tvalidation_0-merror:0\tvalidation_0-mlogloss:0.000939\tvalidation_1-merror:0.013799\tvalidation_1-mlogloss:0.046224\n",
      "[576]\tvalidation_0-merror:0\tvalidation_0-mlogloss:0.000937\tvalidation_1-merror:0.013799\tvalidation_1-mlogloss:0.046237\n",
      "[577]\tvalidation_0-merror:0\tvalidation_0-mlogloss:0.000935\tvalidation_1-merror:0.013799\tvalidation_1-mlogloss:0.046225\n",
      "[578]\tvalidation_0-merror:0\tvalidation_0-mlogloss:0.000934\tvalidation_1-merror:0.013799\tvalidation_1-mlogloss:0.046222\n",
      "[579]\tvalidation_0-merror:0\tvalidation_0-mlogloss:0.000932\tvalidation_1-merror:0.013799\tvalidation_1-mlogloss:0.046208\n",
      "[580]\tvalidation_0-merror:0\tvalidation_0-mlogloss:0.000931\tvalidation_1-merror:0.013799\tvalidation_1-mlogloss:0.046224\n",
      "[581]\tvalidation_0-merror:0\tvalidation_0-mlogloss:0.000929\tvalidation_1-merror:0.013799\tvalidation_1-mlogloss:0.046213\n",
      "[582]\tvalidation_0-merror:0\tvalidation_0-mlogloss:0.000928\tvalidation_1-merror:0.013799\tvalidation_1-mlogloss:0.046204\n",
      "[583]\tvalidation_0-merror:0\tvalidation_0-mlogloss:0.000926\tvalidation_1-merror:0.013799\tvalidation_1-mlogloss:0.046177\n",
      "[584]\tvalidation_0-merror:0\tvalidation_0-mlogloss:0.000925\tvalidation_1-merror:0.013799\tvalidation_1-mlogloss:0.04619\n",
      "[585]\tvalidation_0-merror:0\tvalidation_0-mlogloss:0.000923\tvalidation_1-merror:0.013799\tvalidation_1-mlogloss:0.046192\n",
      "[586]\tvalidation_0-merror:0\tvalidation_0-mlogloss:0.000922\tvalidation_1-merror:0.013799\tvalidation_1-mlogloss:0.046205\n",
      "[587]\tvalidation_0-merror:0\tvalidation_0-mlogloss:0.00092\tvalidation_1-merror:0.013799\tvalidation_1-mlogloss:0.046185\n",
      "[588]\tvalidation_0-merror:0\tvalidation_0-mlogloss:0.000918\tvalidation_1-merror:0.013799\tvalidation_1-mlogloss:0.046178\n",
      "[589]\tvalidation_0-merror:0\tvalidation_0-mlogloss:0.000917\tvalidation_1-merror:0.013799\tvalidation_1-mlogloss:0.046193\n",
      "[590]\tvalidation_0-merror:0\tvalidation_0-mlogloss:0.000916\tvalidation_1-merror:0.013799\tvalidation_1-mlogloss:0.046189\n",
      "[591]\tvalidation_0-merror:0\tvalidation_0-mlogloss:0.000914\tvalidation_1-merror:0.013799\tvalidation_1-mlogloss:0.046168\n",
      "[592]\tvalidation_0-merror:0\tvalidation_0-mlogloss:0.000913\tvalidation_1-merror:0.013799\tvalidation_1-mlogloss:0.046164\n",
      "[593]\tvalidation_0-merror:0\tvalidation_0-mlogloss:0.000912\tvalidation_1-merror:0.013799\tvalidation_1-mlogloss:0.046196\n",
      "[594]\tvalidation_0-merror:0\tvalidation_0-mlogloss:0.00091\tvalidation_1-merror:0.013799\tvalidation_1-mlogloss:0.046204\n",
      "[595]\tvalidation_0-merror:0\tvalidation_0-mlogloss:0.000909\tvalidation_1-merror:0.013799\tvalidation_1-mlogloss:0.046201\n",
      "[596]\tvalidation_0-merror:0\tvalidation_0-mlogloss:0.000907\tvalidation_1-merror:0.013799\tvalidation_1-mlogloss:0.04619\n",
      "[597]\tvalidation_0-merror:0\tvalidation_0-mlogloss:0.000906\tvalidation_1-merror:0.013493\tvalidation_1-mlogloss:0.046204\n",
      "[598]\tvalidation_0-merror:0\tvalidation_0-mlogloss:0.000905\tvalidation_1-merror:0.013493\tvalidation_1-mlogloss:0.04619\n",
      "[599]\tvalidation_0-merror:0\tvalidation_0-mlogloss:0.000904\tvalidation_1-merror:0.013493\tvalidation_1-mlogloss:0.046203\n",
      "[600]\tvalidation_0-merror:0\tvalidation_0-mlogloss:0.000902\tvalidation_1-merror:0.013493\tvalidation_1-mlogloss:0.046238\n",
      "[601]\tvalidation_0-merror:0\tvalidation_0-mlogloss:0.000901\tvalidation_1-merror:0.013493\tvalidation_1-mlogloss:0.046251\n",
      "[602]\tvalidation_0-merror:0\tvalidation_0-mlogloss:0.000899\tvalidation_1-merror:0.013493\tvalidation_1-mlogloss:0.046221\n",
      "[603]\tvalidation_0-merror:0\tvalidation_0-mlogloss:0.000898\tvalidation_1-merror:0.013493\tvalidation_1-mlogloss:0.046232\n",
      "[604]\tvalidation_0-merror:0\tvalidation_0-mlogloss:0.000897\tvalidation_1-merror:0.013493\tvalidation_1-mlogloss:0.046236\n",
      "[605]\tvalidation_0-merror:0\tvalidation_0-mlogloss:0.000896\tvalidation_1-merror:0.013493\tvalidation_1-mlogloss:0.04624\n",
      "[606]\tvalidation_0-merror:0\tvalidation_0-mlogloss:0.000894\tvalidation_1-merror:0.013493\tvalidation_1-mlogloss:0.046239\n",
      "[607]\tvalidation_0-merror:0\tvalidation_0-mlogloss:0.000893\tvalidation_1-merror:0.013493\tvalidation_1-mlogloss:0.046232\n",
      "Stopping. Best iteration:\n",
      "[592]\tvalidation_0-merror:0\tvalidation_0-mlogloss:0.000913\tvalidation_1-merror:0.013799\tvalidation_1-mlogloss:0.046164\n",
      "\n"
     ]
    },
    {
     "data": {
      "text/plain": [
       "XGBClassifier(base_score=0.5, booster='gbtree', colsample_bylevel=1,\n",
       "              colsample_bynode=1, colsample_bytree=1, gamma=0,\n",
       "              learning_rate=0.1, max_delta_step=0, max_depth=3,\n",
       "              min_child_weight=1, missing=None, n_estimators=1000, n_jobs=1,\n",
       "              nthread=None, objective='multi:softprob', random_state=0,\n",
       "              reg_alpha=0, reg_lambda=1, scale_pos_weight=1, seed=None,\n",
       "              silent=None, subsample=1, verbosity=1)"
      ]
     },
     "execution_count": 33,
     "metadata": {},
     "output_type": "execute_result"
    }
   ],
   "source": [
    "eval_set = [(X_train, y_train), (X_test, y_test)]\n",
    "\n",
    "model = xgb.XGBClassifier(n_estimators=1000)\n",
    "#params['n_estimators'] = 300\n",
    "#model.set_params(**params)\n",
    "model.fit(X_train, y_train, early_stopping_rounds=15, eval_metric=[\"merror\", \"mlogloss\"], eval_set=eval_set, verbose=True)\n",
    "\n"
   ]
  },
  {
   "cell_type": "code",
   "execution_count": 34,
   "metadata": {},
   "outputs": [
    {
     "data": {
      "image/png": "[encoded data removed]",
      "text/plain": [
       "<Figure size 432x288 with 1 Axes>"
      ]
     },
     "metadata": {
      "needs_background": "light"
     },
     "output_type": "display_data"
    },
    {
     "data": {
      "image/png": "[encoded data removed]",
      "text/plain": [
       "<Figure size 432x288 with 1 Axes>"
      ]
     },
     "metadata": {
      "needs_background": "light"
     },
     "output_type": "display_data"
    }
   ],
   "source": [
    "# retrieve performance metrics\n",
    "results = model.evals_result()\n",
    "epochs = len(results['validation_0']['merror'])\n",
    "x_axis = range(0, epochs)\n",
    "# plot log loss\n",
    "fig, ax = pyplot.subplots()\n",
    "ax.plot(x_axis, results['validation_0']['mlogloss'], label='Train')\n",
    "ax.plot(x_axis, results['validation_1']['mlogloss'], label='Test')\n",
    "ax.legend()\n",
    "pyplot.ylabel('Log Loss')\n",
    "pyplot.title('XGBoost Log Loss')\n",
    "pyplot.show()\n",
    "# plot classification error\n",
    "fig, ax = pyplot.subplots()\n",
    "ax.plot(x_axis, results['validation_0']['merror'], label='Train')\n",
    "ax.plot(x_axis, results['validation_1']['merror'], label='Test')\n",
    "ax.legend()\n",
    "pyplot.ylabel('Classification Error')\n",
    "pyplot.title('XGBoost Classification Error')\n",
    "pyplot.show()"
   ]
  },
  {
   "cell_type": "markdown",
   "metadata": {},
   "source": [
    "uzet čemo broj iteracija jednak 20 jer nakon toga nema značajnijeg pada a dobit ćemo na brzini"
   ]
  },
  {
   "cell_type": "code",
   "execution_count": 43,
   "metadata": {},
   "outputs": [],
   "source": [
    "params['n_estimators'] = 200"
   ]
  },
  {
   "cell_type": "markdown",
   "metadata": {},
   "source": [
    "Mislim da sada stvarno mogu zaključiti da su gornja dva pristupa jednaka. Mnogo puta su mi ispadali dosta drugačiji rezultati,\n",
    "ali sam zaključila da te to zbog razlike u parametrima. Neki se drugačije zovu, neki se koriste skroz drugačije. Za sada nek \n",
    "stoje oba pristupa pa ćemo vidjeti koji je najzgodniji za korištenje na kraju. Ne znam više gdje se labele trebaju smanjit \n",
    "za 1, a gdje ne. Isprike što nisam konzistentna."
   ]
  },
  {
   "cell_type": "markdown",
   "metadata": {},
   "source": [
    "### testiranje parametara"
   ]
  },
  {
   "cell_type": "code",
   "execution_count": 44,
   "metadata": {},
   "outputs": [],
   "source": [
    "model_XGB = xgb.XGBClassifier(n_estimators =200, objective= 'multi:softprob')"
   ]
  },
  {
   "cell_type": "code",
   "execution_count": 45,
   "metadata": {},
   "outputs": [],
   "source": [
    "max_depth_range = list(range(3,10))\n",
    "\n",
    "learning_rate_range = list(range(1, 5))\n",
    "learning_rate_range = [x / 10 for x in learning_rate_range]\n",
    "#learning_rate_range.append(0.01)\n",
    "\n",
    "colsample_bytree_range = list(range(5, 10))\n",
    "colsample_bytree_range = [x / 10 for x in colsample_bytree_range]\n",
    "\n",
    "#gamma_range = list()\n",
    "#gamma_range.append(0)\n",
    "#gamma_range.append(1)\n",
    "#gamma_range.append(5)\n",
    "\n",
    "param_ranges = dict(learning_rate = learning_rate_range,\n",
    "                      max_depth=max_depth_range,\n",
    "                     colsample_bytree=colsample_bytree_range)"
   ]
  },
  {
   "cell_type": "code",
   "execution_count": 46,
   "metadata": {},
   "outputs": [
    {
     "ename": "KeyboardInterrupt",
     "evalue": "",
     "output_type": "error",
     "traceback": [
      "\u001b[1;31m---------------------------------------------------------------------------\u001b[0m",
      "\u001b[1;31mKeyboardInterrupt\u001b[0m                         Traceback (most recent call last)",
      "\u001b[1;32m<ipython-input-46-54e2b9583cc5>\u001b[0m in \u001b[0;36m<module>\u001b[1;34m\u001b[0m\n\u001b[0;32m      2\u001b[0m rand_search = RandomizedSearchCV(model_XGB, param_ranges, cv=5, scoring='accuracy', n_iter=20, \n\u001b[0;32m      3\u001b[0m                                  random_state=5, return_train_score=False, n_jobs=-1)\n\u001b[1;32m----> 4\u001b[1;33m \u001b[0mrand_search\u001b[0m\u001b[1;33m.\u001b[0m\u001b[0mfit\u001b[0m\u001b[1;33m(\u001b[0m\u001b[0mX\u001b[0m\u001b[1;33m,\u001b[0m \u001b[0my\u001b[0m\u001b[1;33m)\u001b[0m\u001b[1;33m\u001b[0m\u001b[1;33m\u001b[0m\u001b[0m\n\u001b[0m",
      "\u001b[1;32m~\\anaconda3\\lib\\site-packages\\sklearn\\model_selection\\_search.py\u001b[0m in \u001b[0;36mfit\u001b[1;34m(self, X, y, groups, **fit_params)\u001b[0m\n\u001b[0;32m    708\u001b[0m                 \u001b[1;32mreturn\u001b[0m \u001b[0mresults\u001b[0m\u001b[1;33m\u001b[0m\u001b[1;33m\u001b[0m\u001b[0m\n\u001b[0;32m    709\u001b[0m \u001b[1;33m\u001b[0m\u001b[0m\n\u001b[1;32m--> 710\u001b[1;33m             \u001b[0mself\u001b[0m\u001b[1;33m.\u001b[0m\u001b[0m_run_search\u001b[0m\u001b[1;33m(\u001b[0m\u001b[0mevaluate_candidates\u001b[0m\u001b[1;33m)\u001b[0m\u001b[1;33m\u001b[0m\u001b[1;33m\u001b[0m\u001b[0m\n\u001b[0m\u001b[0;32m    711\u001b[0m \u001b[1;33m\u001b[0m\u001b[0m\n\u001b[0;32m    712\u001b[0m         \u001b[1;31m# For multi-metric evaluation, store the best_index_, best_params_ and\u001b[0m\u001b[1;33m\u001b[0m\u001b[1;33m\u001b[0m\u001b[1;33m\u001b[0m\u001b[0m\n",
      "\u001b[1;32m~\\anaconda3\\lib\\site-packages\\sklearn\\model_selection\\_search.py\u001b[0m in \u001b[0;36m_run_search\u001b[1;34m(self, evaluate_candidates)\u001b[0m\n\u001b[0;32m   1482\u001b[0m         evaluate_candidates(ParameterSampler(\n\u001b[0;32m   1483\u001b[0m             \u001b[0mself\u001b[0m\u001b[1;33m.\u001b[0m\u001b[0mparam_distributions\u001b[0m\u001b[1;33m,\u001b[0m \u001b[0mself\u001b[0m\u001b[1;33m.\u001b[0m\u001b[0mn_iter\u001b[0m\u001b[1;33m,\u001b[0m\u001b[1;33m\u001b[0m\u001b[1;33m\u001b[0m\u001b[0m\n\u001b[1;32m-> 1484\u001b[1;33m             random_state=self.random_state))\n\u001b[0m",
      "\u001b[1;32m~\\anaconda3\\lib\\site-packages\\sklearn\\model_selection\\_search.py\u001b[0m in \u001b[0;36mevaluate_candidates\u001b[1;34m(candidate_params)\u001b[0m\n\u001b[0;32m    687\u001b[0m                                \u001b[1;32mfor\u001b[0m \u001b[0mparameters\u001b[0m\u001b[1;33m,\u001b[0m \u001b[1;33m(\u001b[0m\u001b[0mtrain\u001b[0m\u001b[1;33m,\u001b[0m \u001b[0mtest\u001b[0m\u001b[1;33m)\u001b[0m\u001b[1;33m\u001b[0m\u001b[1;33m\u001b[0m\u001b[0m\n\u001b[0;32m    688\u001b[0m                                in product(candidate_params,\n\u001b[1;32m--> 689\u001b[1;33m                                           cv.split(X, y, groups)))\n\u001b[0m\u001b[0;32m    690\u001b[0m \u001b[1;33m\u001b[0m\u001b[0m\n\u001b[0;32m    691\u001b[0m                 \u001b[1;32mif\u001b[0m \u001b[0mlen\u001b[0m\u001b[1;33m(\u001b[0m\u001b[0mout\u001b[0m\u001b[1;33m)\u001b[0m \u001b[1;33m<\u001b[0m \u001b[1;36m1\u001b[0m\u001b[1;33m:\u001b[0m\u001b[1;33m\u001b[0m\u001b[1;33m\u001b[0m\u001b[0m\n",
      "\u001b[1;32m~\\anaconda3\\lib\\site-packages\\joblib\\parallel.py\u001b[0m in \u001b[0;36m__call__\u001b[1;34m(self, iterable)\u001b[0m\n\u001b[0;32m   1015\u001b[0m \u001b[1;33m\u001b[0m\u001b[0m\n\u001b[0;32m   1016\u001b[0m             \u001b[1;32mwith\u001b[0m \u001b[0mself\u001b[0m\u001b[1;33m.\u001b[0m\u001b[0m_backend\u001b[0m\u001b[1;33m.\u001b[0m\u001b[0mretrieval_context\u001b[0m\u001b[1;33m(\u001b[0m\u001b[1;33m)\u001b[0m\u001b[1;33m:\u001b[0m\u001b[1;33m\u001b[0m\u001b[1;33m\u001b[0m\u001b[0m\n\u001b[1;32m-> 1017\u001b[1;33m                 \u001b[0mself\u001b[0m\u001b[1;33m.\u001b[0m\u001b[0mretrieve\u001b[0m\u001b[1;33m(\u001b[0m\u001b[1;33m)\u001b[0m\u001b[1;33m\u001b[0m\u001b[1;33m\u001b[0m\u001b[0m\n\u001b[0m\u001b[0;32m   1018\u001b[0m             \u001b[1;31m# Make sure that we get a last message telling us we are done\u001b[0m\u001b[1;33m\u001b[0m\u001b[1;33m\u001b[0m\u001b[1;33m\u001b[0m\u001b[0m\n\u001b[0;32m   1019\u001b[0m             \u001b[0melapsed_time\u001b[0m \u001b[1;33m=\u001b[0m \u001b[0mtime\u001b[0m\u001b[1;33m.\u001b[0m\u001b[0mtime\u001b[0m\u001b[1;33m(\u001b[0m\u001b[1;33m)\u001b[0m \u001b[1;33m-\u001b[0m \u001b[0mself\u001b[0m\u001b[1;33m.\u001b[0m\u001b[0m_start_time\u001b[0m\u001b[1;33m\u001b[0m\u001b[1;33m\u001b[0m\u001b[0m\n",
      "\u001b[1;32m~\\anaconda3\\lib\\site-packages\\joblib\\parallel.py\u001b[0m in \u001b[0;36mretrieve\u001b[1;34m(self)\u001b[0m\n\u001b[0;32m    907\u001b[0m             \u001b[1;32mtry\u001b[0m\u001b[1;33m:\u001b[0m\u001b[1;33m\u001b[0m\u001b[1;33m\u001b[0m\u001b[0m\n\u001b[0;32m    908\u001b[0m                 \u001b[1;32mif\u001b[0m \u001b[0mgetattr\u001b[0m\u001b[1;33m(\u001b[0m\u001b[0mself\u001b[0m\u001b[1;33m.\u001b[0m\u001b[0m_backend\u001b[0m\u001b[1;33m,\u001b[0m \u001b[1;34m'supports_timeout'\u001b[0m\u001b[1;33m,\u001b[0m \u001b[1;32mFalse\u001b[0m\u001b[1;33m)\u001b[0m\u001b[1;33m:\u001b[0m\u001b[1;33m\u001b[0m\u001b[1;33m\u001b[0m\u001b[0m\n\u001b[1;32m--> 909\u001b[1;33m                     \u001b[0mself\u001b[0m\u001b[1;33m.\u001b[0m\u001b[0m_output\u001b[0m\u001b[1;33m.\u001b[0m\u001b[0mextend\u001b[0m\u001b[1;33m(\u001b[0m\u001b[0mjob\u001b[0m\u001b[1;33m.\u001b[0m\u001b[0mget\u001b[0m\u001b[1;33m(\u001b[0m\u001b[0mtimeout\u001b[0m\u001b[1;33m=\u001b[0m\u001b[0mself\u001b[0m\u001b[1;33m.\u001b[0m\u001b[0mtimeout\u001b[0m\u001b[1;33m)\u001b[0m\u001b[1;33m)\u001b[0m\u001b[1;33m\u001b[0m\u001b[1;33m\u001b[0m\u001b[0m\n\u001b[0m\u001b[0;32m    910\u001b[0m                 \u001b[1;32melse\u001b[0m\u001b[1;33m:\u001b[0m\u001b[1;33m\u001b[0m\u001b[1;33m\u001b[0m\u001b[0m\n\u001b[0;32m    911\u001b[0m                     \u001b[0mself\u001b[0m\u001b[1;33m.\u001b[0m\u001b[0m_output\u001b[0m\u001b[1;33m.\u001b[0m\u001b[0mextend\u001b[0m\u001b[1;33m(\u001b[0m\u001b[0mjob\u001b[0m\u001b[1;33m.\u001b[0m\u001b[0mget\u001b[0m\u001b[1;33m(\u001b[0m\u001b[1;33m)\u001b[0m\u001b[1;33m)\u001b[0m\u001b[1;33m\u001b[0m\u001b[1;33m\u001b[0m\u001b[0m\n",
      "\u001b[1;32m~\\anaconda3\\lib\\site-packages\\joblib\\_parallel_backends.py\u001b[0m in \u001b[0;36mwrap_future_result\u001b[1;34m(future, timeout)\u001b[0m\n\u001b[0;32m    560\u001b[0m         AsyncResults.get from multiprocessing.\"\"\"\n\u001b[0;32m    561\u001b[0m         \u001b[1;32mtry\u001b[0m\u001b[1;33m:\u001b[0m\u001b[1;33m\u001b[0m\u001b[1;33m\u001b[0m\u001b[0m\n\u001b[1;32m--> 562\u001b[1;33m             \u001b[1;32mreturn\u001b[0m \u001b[0mfuture\u001b[0m\u001b[1;33m.\u001b[0m\u001b[0mresult\u001b[0m\u001b[1;33m(\u001b[0m\u001b[0mtimeout\u001b[0m\u001b[1;33m=\u001b[0m\u001b[0mtimeout\u001b[0m\u001b[1;33m)\u001b[0m\u001b[1;33m\u001b[0m\u001b[1;33m\u001b[0m\u001b[0m\n\u001b[0m\u001b[0;32m    563\u001b[0m         \u001b[1;32mexcept\u001b[0m \u001b[0mLokyTimeoutError\u001b[0m\u001b[1;33m:\u001b[0m\u001b[1;33m\u001b[0m\u001b[1;33m\u001b[0m\u001b[0m\n\u001b[0;32m    564\u001b[0m             \u001b[1;32mraise\u001b[0m \u001b[0mTimeoutError\u001b[0m\u001b[1;33m(\u001b[0m\u001b[1;33m)\u001b[0m\u001b[1;33m\u001b[0m\u001b[1;33m\u001b[0m\u001b[0m\n",
      "\u001b[1;32m~\\anaconda3\\lib\\concurrent\\futures\\_base.py\u001b[0m in \u001b[0;36mresult\u001b[1;34m(self, timeout)\u001b[0m\n\u001b[0;32m    428\u001b[0m                 \u001b[1;32mreturn\u001b[0m \u001b[0mself\u001b[0m\u001b[1;33m.\u001b[0m\u001b[0m__get_result\u001b[0m\u001b[1;33m(\u001b[0m\u001b[1;33m)\u001b[0m\u001b[1;33m\u001b[0m\u001b[1;33m\u001b[0m\u001b[0m\n\u001b[0;32m    429\u001b[0m \u001b[1;33m\u001b[0m\u001b[0m\n\u001b[1;32m--> 430\u001b[1;33m             \u001b[0mself\u001b[0m\u001b[1;33m.\u001b[0m\u001b[0m_condition\u001b[0m\u001b[1;33m.\u001b[0m\u001b[0mwait\u001b[0m\u001b[1;33m(\u001b[0m\u001b[0mtimeout\u001b[0m\u001b[1;33m)\u001b[0m\u001b[1;33m\u001b[0m\u001b[1;33m\u001b[0m\u001b[0m\n\u001b[0m\u001b[0;32m    431\u001b[0m \u001b[1;33m\u001b[0m\u001b[0m\n\u001b[0;32m    432\u001b[0m             \u001b[1;32mif\u001b[0m \u001b[0mself\u001b[0m\u001b[1;33m.\u001b[0m\u001b[0m_state\u001b[0m \u001b[1;32min\u001b[0m \u001b[1;33m[\u001b[0m\u001b[0mCANCELLED\u001b[0m\u001b[1;33m,\u001b[0m \u001b[0mCANCELLED_AND_NOTIFIED\u001b[0m\u001b[1;33m]\u001b[0m\u001b[1;33m:\u001b[0m\u001b[1;33m\u001b[0m\u001b[1;33m\u001b[0m\u001b[0m\n",
      "\u001b[1;32m~\\anaconda3\\lib\\threading.py\u001b[0m in \u001b[0;36mwait\u001b[1;34m(self, timeout)\u001b[0m\n\u001b[0;32m    294\u001b[0m         \u001b[1;32mtry\u001b[0m\u001b[1;33m:\u001b[0m    \u001b[1;31m# restore state no matter what (e.g., KeyboardInterrupt)\u001b[0m\u001b[1;33m\u001b[0m\u001b[1;33m\u001b[0m\u001b[0m\n\u001b[0;32m    295\u001b[0m             \u001b[1;32mif\u001b[0m \u001b[0mtimeout\u001b[0m \u001b[1;32mis\u001b[0m \u001b[1;32mNone\u001b[0m\u001b[1;33m:\u001b[0m\u001b[1;33m\u001b[0m\u001b[1;33m\u001b[0m\u001b[0m\n\u001b[1;32m--> 296\u001b[1;33m                 \u001b[0mwaiter\u001b[0m\u001b[1;33m.\u001b[0m\u001b[0macquire\u001b[0m\u001b[1;33m(\u001b[0m\u001b[1;33m)\u001b[0m\u001b[1;33m\u001b[0m\u001b[1;33m\u001b[0m\u001b[0m\n\u001b[0m\u001b[0;32m    297\u001b[0m                 \u001b[0mgotit\u001b[0m \u001b[1;33m=\u001b[0m \u001b[1;32mTrue\u001b[0m\u001b[1;33m\u001b[0m\u001b[1;33m\u001b[0m\u001b[0m\n\u001b[0;32m    298\u001b[0m             \u001b[1;32melse\u001b[0m\u001b[1;33m:\u001b[0m\u001b[1;33m\u001b[0m\u001b[1;33m\u001b[0m\u001b[0m\n",
      "\u001b[1;31mKeyboardInterrupt\u001b[0m: "
     ]
    }
   ],
   "source": [
    "# koristimo RandomizedSearchCV za testiranje parametara\n",
    "rand_search = RandomizedSearchCV(model_XGB, param_ranges, cv=5, scoring='accuracy', n_iter=20, \n",
    "                                 random_state=5, return_train_score=False, n_jobs=-1)\n",
    "rand_search.fit(X, y)"
   ]
  },
  {
   "cell_type": "code",
   "execution_count": null,
   "metadata": {},
   "outputs": [],
   "source": [
    "pd.set_option('display.max_colwidth', None)\n",
    "pd.DataFrame(rand_search.cv_results_)[['mean_test_score', 'params']]\n"
   ]
  },
  {
   "cell_type": "code",
   "execution_count": null,
   "metadata": {},
   "outputs": [],
   "source": [
    "# dohvaćanje najboljih parametara\n",
    "print(rand_search.best_score_)\n",
    "print(rand_search.best_params_)\n",
    "param3=rand_search.best_params_\n",
    "param3['n_estimators'] = 200\n",
    "param3['objective'] = 'multi:softprob'"
   ]
  },
  {
   "cell_type": "markdown",
   "metadata": {},
   "source": [
    "### isto samo s neg_log_loss"
   ]
  },
  {
   "cell_type": "code",
   "execution_count": 47,
   "metadata": {},
   "outputs": [
    {
     "data": {
      "text/plain": [
       "RandomizedSearchCV(cv=5, error_score=nan,\n",
       "                   estimator=XGBClassifier(base_score=0.5, booster='gbtree',\n",
       "                                           colsample_bylevel=1,\n",
       "                                           colsample_bynode=1,\n",
       "                                           colsample_bytree=1, gamma=0,\n",
       "                                           learning_rate=0.1, max_delta_step=0,\n",
       "                                           max_depth=3, min_child_weight=1,\n",
       "                                           missing=None, n_estimators=200,\n",
       "                                           n_jobs=1, nthread=None,\n",
       "                                           objective='multi:softprob',\n",
       "                                           random_state=0, reg_alpha=0,\n",
       "                                           reg_lambda=1, scale_pos_weight=1,\n",
       "                                           seed=None, silent=None, subsample=1,\n",
       "                                           verbosity=1),\n",
       "                   iid='deprecated', n_iter=20, n_jobs=-1,\n",
       "                   param_distributions={'colsample_bytree': [0.5, 0.6, 0.7, 0.8,\n",
       "                                                             0.9],\n",
       "                                        'learning_rate': [0.1, 0.2, 0.3, 0.4],\n",
       "                                        'max_depth': [3, 4, 5, 6, 7, 8, 9]},\n",
       "                   pre_dispatch='2*n_jobs', random_state=5, refit=True,\n",
       "                   return_train_score=False, scoring='neg_log_loss', verbose=0)"
      ]
     },
     "execution_count": 47,
     "metadata": {},
     "output_type": "execute_result"
    }
   ],
   "source": [
    "# koristimo RandomizedSearchCV za testiranje parametara\n",
    "# neg_log_los je bolji što je veći(suprotno od logloss). Ovdje se ne može koristiti logloss\n",
    "rand_search = RandomizedSearchCV(model_XGB, param_ranges, cv=5, scoring='neg_log_loss', n_iter=20, \n",
    "                                 random_state=5, return_train_score=False, n_jobs=-1)\n",
    "rand_search.fit(X, y)"
   ]
  },
  {
   "cell_type": "code",
   "execution_count": 48,
   "metadata": {},
   "outputs": [
    {
     "data": {
      "text/html": [
       "<div>\n",
       "<style scoped>\n",
       "    .dataframe tbody tr th:only-of-type {\n",
       "        vertical-align: middle;\n",
       "    }\n",
       "\n",
       "    .dataframe tbody tr th {\n",
       "        vertical-align: top;\n",
       "    }\n",
       "\n",
       "    .dataframe thead th {\n",
       "        text-align: right;\n",
       "    }\n",
       "</style>\n",
       "<table border=\"1\" class=\"dataframe\">\n",
       "  <thead>\n",
       "    <tr style=\"text-align: right;\">\n",
       "      <th></th>\n",
       "      <th>mean_test_score</th>\n",
       "      <th>params</th>\n",
       "    </tr>\n",
       "  </thead>\n",
       "  <tbody>\n",
       "    <tr>\n",
       "      <th>0</th>\n",
       "      <td>-0.052368</td>\n",
       "      <td>{'max_depth': 4, 'learning_rate': 0.3, 'colsample_bytree': 0.6}</td>\n",
       "    </tr>\n",
       "    <tr>\n",
       "      <th>1</th>\n",
       "      <td>-0.052364</td>\n",
       "      <td>{'max_depth': 7, 'learning_rate': 0.1, 'colsample_bytree': 0.7}</td>\n",
       "    </tr>\n",
       "    <tr>\n",
       "      <th>2</th>\n",
       "      <td>-0.053532</td>\n",
       "      <td>{'max_depth': 9, 'learning_rate': 0.3, 'colsample_bytree': 0.6}</td>\n",
       "    </tr>\n",
       "    <tr>\n",
       "      <th>3</th>\n",
       "      <td>-0.054416</td>\n",
       "      <td>{'max_depth': 8, 'learning_rate': 0.1, 'colsample_bytree': 0.9}</td>\n",
       "    </tr>\n",
       "    <tr>\n",
       "      <th>4</th>\n",
       "      <td>-0.053815</td>\n",
       "      <td>{'max_depth': 8, 'learning_rate': 0.4, 'colsample_bytree': 0.6}</td>\n",
       "    </tr>\n",
       "    <tr>\n",
       "      <th>5</th>\n",
       "      <td>-0.052424</td>\n",
       "      <td>{'max_depth': 6, 'learning_rate': 0.2, 'colsample_bytree': 0.7}</td>\n",
       "    </tr>\n",
       "    <tr>\n",
       "      <th>6</th>\n",
       "      <td>-0.053484</td>\n",
       "      <td>{'max_depth': 6, 'learning_rate': 0.2, 'colsample_bytree': 0.8}</td>\n",
       "    </tr>\n",
       "    <tr>\n",
       "      <th>7</th>\n",
       "      <td>-0.052324</td>\n",
       "      <td>{'max_depth': 5, 'learning_rate': 0.4, 'colsample_bytree': 0.5}</td>\n",
       "    </tr>\n",
       "    <tr>\n",
       "      <th>8</th>\n",
       "      <td>-0.052705</td>\n",
       "      <td>{'max_depth': 8, 'learning_rate': 0.1, 'colsample_bytree': 0.8}</td>\n",
       "    </tr>\n",
       "    <tr>\n",
       "      <th>9</th>\n",
       "      <td>-0.052984</td>\n",
       "      <td>{'max_depth': 7, 'learning_rate': 0.4, 'colsample_bytree': 0.5}</td>\n",
       "    </tr>\n",
       "    <tr>\n",
       "      <th>10</th>\n",
       "      <td>-0.054974</td>\n",
       "      <td>{'max_depth': 7, 'learning_rate': 0.3, 'colsample_bytree': 0.8}</td>\n",
       "    </tr>\n",
       "    <tr>\n",
       "      <th>11</th>\n",
       "      <td>-0.052878</td>\n",
       "      <td>{'max_depth': 3, 'learning_rate': 0.4, 'colsample_bytree': 0.5}</td>\n",
       "    </tr>\n",
       "    <tr>\n",
       "      <th>12</th>\n",
       "      <td>-0.053351</td>\n",
       "      <td>{'max_depth': 8, 'learning_rate': 0.3, 'colsample_bytree': 0.7}</td>\n",
       "    </tr>\n",
       "    <tr>\n",
       "      <th>13</th>\n",
       "      <td>-0.052011</td>\n",
       "      <td>{'max_depth': 8, 'learning_rate': 0.2, 'colsample_bytree': 0.6}</td>\n",
       "    </tr>\n",
       "    <tr>\n",
       "      <th>14</th>\n",
       "      <td>-0.050298</td>\n",
       "      <td>{'max_depth': 8, 'learning_rate': 0.2, 'colsample_bytree': 0.5}</td>\n",
       "    </tr>\n",
       "    <tr>\n",
       "      <th>15</th>\n",
       "      <td>-0.051903</td>\n",
       "      <td>{'max_depth': 4, 'learning_rate': 0.4, 'colsample_bytree': 0.6}</td>\n",
       "    </tr>\n",
       "    <tr>\n",
       "      <th>16</th>\n",
       "      <td>-0.050604</td>\n",
       "      <td>{'max_depth': 6, 'learning_rate': 0.2, 'colsample_bytree': 0.5}</td>\n",
       "    </tr>\n",
       "    <tr>\n",
       "      <th>17</th>\n",
       "      <td>-0.056540</td>\n",
       "      <td>{'max_depth': 9, 'learning_rate': 0.4, 'colsample_bytree': 0.8}</td>\n",
       "    </tr>\n",
       "    <tr>\n",
       "      <th>18</th>\n",
       "      <td>-0.056164</td>\n",
       "      <td>{'max_depth': 7, 'learning_rate': 0.4, 'colsample_bytree': 0.8}</td>\n",
       "    </tr>\n",
       "    <tr>\n",
       "      <th>19</th>\n",
       "      <td>-0.054366</td>\n",
       "      <td>{'max_depth': 7, 'learning_rate': 0.3, 'colsample_bytree': 0.7}</td>\n",
       "    </tr>\n",
       "  </tbody>\n",
       "</table>\n",
       "</div>"
      ],
      "text/plain": [
       "    mean_test_score  \\\n",
       "0         -0.052368   \n",
       "1         -0.052364   \n",
       "2         -0.053532   \n",
       "3         -0.054416   \n",
       "4         -0.053815   \n",
       "5         -0.052424   \n",
       "6         -0.053484   \n",
       "7         -0.052324   \n",
       "8         -0.052705   \n",
       "9         -0.052984   \n",
       "10        -0.054974   \n",
       "11        -0.052878   \n",
       "12        -0.053351   \n",
       "13        -0.052011   \n",
       "14        -0.050298   \n",
       "15        -0.051903   \n",
       "16        -0.050604   \n",
       "17        -0.056540   \n",
       "18        -0.056164   \n",
       "19        -0.054366   \n",
       "\n",
       "                                                             params  \n",
       "0   {'max_depth': 4, 'learning_rate': 0.3, 'colsample_bytree': 0.6}  \n",
       "1   {'max_depth': 7, 'learning_rate': 0.1, 'colsample_bytree': 0.7}  \n",
       "2   {'max_depth': 9, 'learning_rate': 0.3, 'colsample_bytree': 0.6}  \n",
       "3   {'max_depth': 8, 'learning_rate': 0.1, 'colsample_bytree': 0.9}  \n",
       "4   {'max_depth': 8, 'learning_rate': 0.4, 'colsample_bytree': 0.6}  \n",
       "5   {'max_depth': 6, 'learning_rate': 0.2, 'colsample_bytree': 0.7}  \n",
       "6   {'max_depth': 6, 'learning_rate': 0.2, 'colsample_bytree': 0.8}  \n",
       "7   {'max_depth': 5, 'learning_rate': 0.4, 'colsample_bytree': 0.5}  \n",
       "8   {'max_depth': 8, 'learning_rate': 0.1, 'colsample_bytree': 0.8}  \n",
       "9   {'max_depth': 7, 'learning_rate': 0.4, 'colsample_bytree': 0.5}  \n",
       "10  {'max_depth': 7, 'learning_rate': 0.3, 'colsample_bytree': 0.8}  \n",
       "11  {'max_depth': 3, 'learning_rate': 0.4, 'colsample_bytree': 0.5}  \n",
       "12  {'max_depth': 8, 'learning_rate': 0.3, 'colsample_bytree': 0.7}  \n",
       "13  {'max_depth': 8, 'learning_rate': 0.2, 'colsample_bytree': 0.6}  \n",
       "14  {'max_depth': 8, 'learning_rate': 0.2, 'colsample_bytree': 0.5}  \n",
       "15  {'max_depth': 4, 'learning_rate': 0.4, 'colsample_bytree': 0.6}  \n",
       "16  {'max_depth': 6, 'learning_rate': 0.2, 'colsample_bytree': 0.5}  \n",
       "17  {'max_depth': 9, 'learning_rate': 0.4, 'colsample_bytree': 0.8}  \n",
       "18  {'max_depth': 7, 'learning_rate': 0.4, 'colsample_bytree': 0.8}  \n",
       "19  {'max_depth': 7, 'learning_rate': 0.3, 'colsample_bytree': 0.7}  "
      ]
     },
     "execution_count": 48,
     "metadata": {},
     "output_type": "execute_result"
    }
   ],
   "source": [
    "pd.set_option('display.max_colwidth', None)\n",
    "pd.DataFrame(rand_search.cv_results_)[['mean_test_score', 'params']]\n"
   ]
  },
  {
   "cell_type": "code",
   "execution_count": 49,
   "metadata": {
    "scrolled": true
   },
   "outputs": [
    {
     "name": "stdout",
     "output_type": "stream",
     "text": [
      "-0.050298044719726806\n",
      "{'max_depth': 8, 'learning_rate': 0.2, 'colsample_bytree': 0.5}\n"
     ]
    }
   ],
   "source": [
    "# dohvaćanje najboljih parametara\n",
    "print(rand_search.best_score_)\n",
    "print(rand_search.best_params_)\n",
    "param4=rand_search.best_params_\n",
    "param4['n_estimators'] = 200 \n",
    "param4['objective'] = 'multi:softprob'"
   ]
  },
  {
   "cell_type": "markdown",
   "metadata": {},
   "source": [
    "Dobili smo jednak rezultat za accuracy i za logloss tako da ćemo uzeti te parametre"
   ]
  },
  {
   "cell_type": "code",
   "execution_count": 13,
   "metadata": {},
   "outputs": [],
   "source": [
    "params['learning_rate'] = 0.2\n",
    "params['max_depth'] = 8\n",
    "params['colsample_bytree'] = 0.5"
   ]
  },
  {
   "cell_type": "code",
   "execution_count": 51,
   "metadata": {
    "scrolled": true
   },
   "outputs": [
    {
     "data": {
      "text/plain": [
       "{'n_estimators': 200,\n",
       " 'learning_rate': 0.2,\n",
       " 'max_depth': 8,\n",
       " 'colsample_bytree': 0.5,\n",
       " 'objective': 'multi:softprob',\n",
       " 'eval_metric': 'mlogloss'}"
      ]
     },
     "execution_count": 51,
     "metadata": {},
     "output_type": "execute_result"
    }
   ],
   "source": [
    "params"
   ]
  },
  {
   "cell_type": "code",
   "execution_count": 52,
   "metadata": {
    "scrolled": false
   },
   "outputs": [
    {
     "name": "stdout",
     "output_type": "stream",
     "text": [
      "[0]\tvalidation_0-merror:0.027084\tvalidation_0-mlogloss:1.43419\tvalidation_1-merror:0.055198\tvalidation_1-mlogloss:1.45797\n",
      "Multiple eval metrics have been passed: 'validation_1-mlogloss' will be used for early stopping.\n",
      "\n",
      "Will train until validation_1-mlogloss hasn't improved in 15 rounds.\n",
      "[1]\tvalidation_0-merror:0.015514\tvalidation_0-mlogloss:1.08832\tvalidation_1-merror:0.035879\tvalidation_1-mlogloss:1.1213\n",
      "[2]\tvalidation_0-merror:0.010781\tvalidation_0-mlogloss:0.856848\tvalidation_1-merror:0.030052\tvalidation_1-mlogloss:0.896085\n",
      "[3]\tvalidation_0-merror:0.008151\tvalidation_0-mlogloss:0.689525\tvalidation_1-merror:0.026986\tvalidation_1-mlogloss:0.732474\n",
      "[4]\tvalidation_0-merror:0.006574\tvalidation_0-mlogloss:0.559209\tvalidation_1-merror:0.024839\tvalidation_1-mlogloss:0.605834\n",
      "[5]\tvalidation_0-merror:0.005653\tvalidation_0-mlogloss:0.459049\tvalidation_1-merror:0.025452\tvalidation_1-mlogloss:0.509006\n",
      "[6]\tvalidation_0-merror:0.004602\tvalidation_0-mlogloss:0.378173\tvalidation_1-merror:0.024226\tvalidation_1-mlogloss:0.430253\n",
      "[7]\tvalidation_0-merror:0.004076\tvalidation_0-mlogloss:0.313084\tvalidation_1-merror:0.022692\tvalidation_1-mlogloss:0.365893\n",
      "[8]\tvalidation_0-merror:0.003418\tvalidation_0-mlogloss:0.260783\tvalidation_1-merror:0.022386\tvalidation_1-mlogloss:0.314872\n",
      "[9]\tvalidation_0-merror:0.002761\tvalidation_0-mlogloss:0.217118\tvalidation_1-merror:0.021159\tvalidation_1-mlogloss:0.272258\n",
      "[10]\tvalidation_0-merror:0.002104\tvalidation_0-mlogloss:0.181351\tvalidation_1-merror:0.020239\tvalidation_1-mlogloss:0.236709\n",
      "[11]\tvalidation_0-merror:0.001446\tvalidation_0-mlogloss:0.152141\tvalidation_1-merror:0.019319\tvalidation_1-mlogloss:0.207974\n",
      "[12]\tvalidation_0-merror:0.001183\tvalidation_0-mlogloss:0.127621\tvalidation_1-merror:0.019013\tvalidation_1-mlogloss:0.183079\n",
      "[13]\tvalidation_0-merror:0.00092\tvalidation_0-mlogloss:0.107409\tvalidation_1-merror:0.018706\tvalidation_1-mlogloss:0.16301\n",
      "[14]\tvalidation_0-merror:0.000789\tvalidation_0-mlogloss:0.091012\tvalidation_1-merror:0.019319\tvalidation_1-mlogloss:0.146539\n",
      "[15]\tvalidation_0-merror:0.000263\tvalidation_0-mlogloss:0.077157\tvalidation_1-merror:0.018706\tvalidation_1-mlogloss:0.132449\n",
      "[16]\tvalidation_0-merror:0.000131\tvalidation_0-mlogloss:0.065418\tvalidation_1-merror:0.018093\tvalidation_1-mlogloss:0.120142\n",
      "[17]\tvalidation_0-merror:0.000131\tvalidation_0-mlogloss:0.055797\tvalidation_1-merror:0.018093\tvalidation_1-mlogloss:0.110081\n",
      "[18]\tvalidation_0-merror:0.000131\tvalidation_0-mlogloss:0.047918\tvalidation_1-merror:0.018706\tvalidation_1-mlogloss:0.102136\n",
      "[19]\tvalidation_0-merror:0\tvalidation_0-mlogloss:0.041351\tvalidation_1-merror:0.018399\tvalidation_1-mlogloss:0.094933\n",
      "[20]\tvalidation_0-merror:0\tvalidation_0-mlogloss:0.035705\tvalidation_1-merror:0.018399\tvalidation_1-mlogloss:0.089205\n",
      "[21]\tvalidation_0-merror:0\tvalidation_0-mlogloss:0.03113\tvalidation_1-merror:0.018706\tvalidation_1-mlogloss:0.084567\n",
      "[22]\tvalidation_0-merror:0\tvalidation_0-mlogloss:0.027114\tvalidation_1-merror:0.018399\tvalidation_1-mlogloss:0.080163\n",
      "[23]\tvalidation_0-merror:0\tvalidation_0-mlogloss:0.023722\tvalidation_1-merror:0.018399\tvalidation_1-mlogloss:0.076397\n",
      "[24]\tvalidation_0-merror:0\tvalidation_0-mlogloss:0.020898\tvalidation_1-merror:0.018399\tvalidation_1-mlogloss:0.073286\n",
      "[25]\tvalidation_0-merror:0\tvalidation_0-mlogloss:0.018524\tvalidation_1-merror:0.018093\tvalidation_1-mlogloss:0.070816\n",
      "[26]\tvalidation_0-merror:0\tvalidation_0-mlogloss:0.016501\tvalidation_1-merror:0.017786\tvalidation_1-mlogloss:0.068413\n",
      "[27]\tvalidation_0-merror:0\tvalidation_0-mlogloss:0.014733\tvalidation_1-merror:0.017786\tvalidation_1-mlogloss:0.06649\n",
      "[28]\tvalidation_0-merror:0\tvalidation_0-mlogloss:0.013247\tvalidation_1-merror:0.018093\tvalidation_1-mlogloss:0.064969\n",
      "[29]\tvalidation_0-merror:0\tvalidation_0-mlogloss:0.012044\tvalidation_1-merror:0.017479\tvalidation_1-mlogloss:0.063711\n",
      "[30]\tvalidation_0-merror:0\tvalidation_0-mlogloss:0.010891\tvalidation_1-merror:0.017479\tvalidation_1-mlogloss:0.062391\n",
      "[31]\tvalidation_0-merror:0\tvalidation_0-mlogloss:0.009931\tvalidation_1-merror:0.017786\tvalidation_1-mlogloss:0.061155\n",
      "[32]\tvalidation_0-merror:0\tvalidation_0-mlogloss:0.009098\tvalidation_1-merror:0.017479\tvalidation_1-mlogloss:0.060074\n",
      "[33]\tvalidation_0-merror:0\tvalidation_0-mlogloss:0.008366\tvalidation_1-merror:0.017173\tvalidation_1-mlogloss:0.059081\n",
      "[34]\tvalidation_0-merror:0\tvalidation_0-mlogloss:0.007734\tvalidation_1-merror:0.016866\tvalidation_1-mlogloss:0.058384\n",
      "[35]\tvalidation_0-merror:0\tvalidation_0-mlogloss:0.007163\tvalidation_1-merror:0.016866\tvalidation_1-mlogloss:0.057326\n",
      "[36]\tvalidation_0-merror:0\tvalidation_0-mlogloss:0.006679\tvalidation_1-merror:0.016253\tvalidation_1-mlogloss:0.05688\n",
      "[37]\tvalidation_0-merror:0\tvalidation_0-mlogloss:0.006252\tvalidation_1-merror:0.016253\tvalidation_1-mlogloss:0.056501\n",
      "[38]\tvalidation_0-merror:0\tvalidation_0-mlogloss:0.00585\tvalidation_1-merror:0.016559\tvalidation_1-mlogloss:0.055772\n",
      "[39]\tvalidation_0-merror:0\tvalidation_0-mlogloss:0.005474\tvalidation_1-merror:0.016253\tvalidation_1-mlogloss:0.054996\n",
      "[40]\tvalidation_0-merror:0\tvalidation_0-mlogloss:0.005174\tvalidation_1-merror:0.016253\tvalidation_1-mlogloss:0.054561\n",
      "[41]\tvalidation_0-merror:0\tvalidation_0-mlogloss:0.00491\tvalidation_1-merror:0.016253\tvalidation_1-mlogloss:0.054284\n",
      "[42]\tvalidation_0-merror:0\tvalidation_0-mlogloss:0.004672\tvalidation_1-merror:0.015946\tvalidation_1-mlogloss:0.053996\n",
      "[43]\tvalidation_0-merror:0\tvalidation_0-mlogloss:0.00444\tvalidation_1-merror:0.015639\tvalidation_1-mlogloss:0.053583\n",
      "[44]\tvalidation_0-merror:0\tvalidation_0-mlogloss:0.004232\tvalidation_1-merror:0.015639\tvalidation_1-mlogloss:0.053291\n",
      "[45]\tvalidation_0-merror:0\tvalidation_0-mlogloss:0.004049\tvalidation_1-merror:0.015639\tvalidation_1-mlogloss:0.052951\n",
      "[46]\tvalidation_0-merror:0\tvalidation_0-mlogloss:0.003874\tvalidation_1-merror:0.015946\tvalidation_1-mlogloss:0.052898\n",
      "[47]\tvalidation_0-merror:0\tvalidation_0-mlogloss:0.003723\tvalidation_1-merror:0.015639\tvalidation_1-mlogloss:0.0527\n",
      "[48]\tvalidation_0-merror:0\tvalidation_0-mlogloss:0.003583\tvalidation_1-merror:0.015333\tvalidation_1-mlogloss:0.052355\n",
      "[49]\tvalidation_0-merror:0\tvalidation_0-mlogloss:0.003452\tvalidation_1-merror:0.015946\tvalidation_1-mlogloss:0.052077\n",
      "[50]\tvalidation_0-merror:0\tvalidation_0-mlogloss:0.003321\tvalidation_1-merror:0.015639\tvalidation_1-mlogloss:0.051973\n",
      "[51]\tvalidation_0-merror:0\tvalidation_0-mlogloss:0.003206\tvalidation_1-merror:0.015639\tvalidation_1-mlogloss:0.051699\n",
      "[52]\tvalidation_0-merror:0\tvalidation_0-mlogloss:0.003099\tvalidation_1-merror:0.015639\tvalidation_1-mlogloss:0.051524\n",
      "[53]\tvalidation_0-merror:0\tvalidation_0-mlogloss:0.003004\tvalidation_1-merror:0.015639\tvalidation_1-mlogloss:0.051384\n",
      "[54]\tvalidation_0-merror:0\tvalidation_0-mlogloss:0.002906\tvalidation_1-merror:0.015639\tvalidation_1-mlogloss:0.051102\n",
      "[55]\tvalidation_0-merror:0\tvalidation_0-mlogloss:0.002827\tvalidation_1-merror:0.015639\tvalidation_1-mlogloss:0.050968\n",
      "[56]\tvalidation_0-merror:0\tvalidation_0-mlogloss:0.002746\tvalidation_1-merror:0.015639\tvalidation_1-mlogloss:0.050634\n",
      "[57]\tvalidation_0-merror:0\tvalidation_0-mlogloss:0.002677\tvalidation_1-merror:0.015639\tvalidation_1-mlogloss:0.050651\n",
      "[58]\tvalidation_0-merror:0\tvalidation_0-mlogloss:0.002604\tvalidation_1-merror:0.015639\tvalidation_1-mlogloss:0.050529\n",
      "[59]\tvalidation_0-merror:0\tvalidation_0-mlogloss:0.002538\tvalidation_1-merror:0.015639\tvalidation_1-mlogloss:0.050371\n",
      "[60]\tvalidation_0-merror:0\tvalidation_0-mlogloss:0.002476\tvalidation_1-merror:0.015333\tvalidation_1-mlogloss:0.050224\n",
      "[61]\tvalidation_0-merror:0\tvalidation_0-mlogloss:0.002419\tvalidation_1-merror:0.015333\tvalidation_1-mlogloss:0.050198\n",
      "[62]\tvalidation_0-merror:0\tvalidation_0-mlogloss:0.002366\tvalidation_1-merror:0.015333\tvalidation_1-mlogloss:0.05014\n",
      "[63]\tvalidation_0-merror:0\tvalidation_0-mlogloss:0.002315\tvalidation_1-merror:0.015333\tvalidation_1-mlogloss:0.050014\n",
      "[64]\tvalidation_0-merror:0\tvalidation_0-mlogloss:0.002266\tvalidation_1-merror:0.015026\tvalidation_1-mlogloss:0.04983\n",
      "[65]\tvalidation_0-merror:0\tvalidation_0-mlogloss:0.002218\tvalidation_1-merror:0.015026\tvalidation_1-mlogloss:0.04972\n",
      "[66]\tvalidation_0-merror:0\tvalidation_0-mlogloss:0.002173\tvalidation_1-merror:0.015026\tvalidation_1-mlogloss:0.049648\n",
      "[67]\tvalidation_0-merror:0\tvalidation_0-mlogloss:0.002135\tvalidation_1-merror:0.015026\tvalidation_1-mlogloss:0.049663\n"
     ]
    },
    {
     "name": "stdout",
     "output_type": "stream",
     "text": [
      "[68]\tvalidation_0-merror:0\tvalidation_0-mlogloss:0.002097\tvalidation_1-merror:0.015026\tvalidation_1-mlogloss:0.049606\n",
      "[69]\tvalidation_0-merror:0\tvalidation_0-mlogloss:0.00206\tvalidation_1-merror:0.015026\tvalidation_1-mlogloss:0.049465\n",
      "[70]\tvalidation_0-merror:0\tvalidation_0-mlogloss:0.002025\tvalidation_1-merror:0.015026\tvalidation_1-mlogloss:0.049487\n",
      "[71]\tvalidation_0-merror:0\tvalidation_0-mlogloss:0.001992\tvalidation_1-merror:0.015026\tvalidation_1-mlogloss:0.049365\n",
      "[72]\tvalidation_0-merror:0\tvalidation_0-mlogloss:0.001957\tvalidation_1-merror:0.015026\tvalidation_1-mlogloss:0.049365\n",
      "[73]\tvalidation_0-merror:0\tvalidation_0-mlogloss:0.001923\tvalidation_1-merror:0.015026\tvalidation_1-mlogloss:0.049379\n",
      "[74]\tvalidation_0-merror:0\tvalidation_0-mlogloss:0.001893\tvalidation_1-merror:0.015026\tvalidation_1-mlogloss:0.049353\n",
      "[75]\tvalidation_0-merror:0\tvalidation_0-mlogloss:0.001865\tvalidation_1-merror:0.015026\tvalidation_1-mlogloss:0.049297\n",
      "[76]\tvalidation_0-merror:0\tvalidation_0-mlogloss:0.001834\tvalidation_1-merror:0.015026\tvalidation_1-mlogloss:0.049304\n",
      "[77]\tvalidation_0-merror:0\tvalidation_0-mlogloss:0.001808\tvalidation_1-merror:0.015026\tvalidation_1-mlogloss:0.049337\n",
      "[78]\tvalidation_0-merror:0\tvalidation_0-mlogloss:0.001781\tvalidation_1-merror:0.015026\tvalidation_1-mlogloss:0.049423\n",
      "[79]\tvalidation_0-merror:0\tvalidation_0-mlogloss:0.001759\tvalidation_1-merror:0.015026\tvalidation_1-mlogloss:0.049401\n",
      "[80]\tvalidation_0-merror:0\tvalidation_0-mlogloss:0.001736\tvalidation_1-merror:0.015026\tvalidation_1-mlogloss:0.049337\n",
      "[81]\tvalidation_0-merror:0\tvalidation_0-mlogloss:0.001714\tvalidation_1-merror:0.015026\tvalidation_1-mlogloss:0.049366\n",
      "[82]\tvalidation_0-merror:0\tvalidation_0-mlogloss:0.00169\tvalidation_1-merror:0.015026\tvalidation_1-mlogloss:0.049286\n",
      "[83]\tvalidation_0-merror:0\tvalidation_0-mlogloss:0.001668\tvalidation_1-merror:0.015026\tvalidation_1-mlogloss:0.049279\n",
      "[84]\tvalidation_0-merror:0\tvalidation_0-mlogloss:0.001651\tvalidation_1-merror:0.015026\tvalidation_1-mlogloss:0.049242\n",
      "[85]\tvalidation_0-merror:0\tvalidation_0-mlogloss:0.001631\tvalidation_1-merror:0.015026\tvalidation_1-mlogloss:0.049283\n",
      "[86]\tvalidation_0-merror:0\tvalidation_0-mlogloss:0.001612\tvalidation_1-merror:0.014719\tvalidation_1-mlogloss:0.049255\n",
      "[87]\tvalidation_0-merror:0\tvalidation_0-mlogloss:0.001593\tvalidation_1-merror:0.014719\tvalidation_1-mlogloss:0.04922\n",
      "[88]\tvalidation_0-merror:0\tvalidation_0-mlogloss:0.001575\tvalidation_1-merror:0.014719\tvalidation_1-mlogloss:0.049121\n",
      "[89]\tvalidation_0-merror:0\tvalidation_0-mlogloss:0.001559\tvalidation_1-merror:0.014719\tvalidation_1-mlogloss:0.048977\n",
      "[90]\tvalidation_0-merror:0\tvalidation_0-mlogloss:0.001544\tvalidation_1-merror:0.015026\tvalidation_1-mlogloss:0.048909\n",
      "[91]\tvalidation_0-merror:0\tvalidation_0-mlogloss:0.001528\tvalidation_1-merror:0.015026\tvalidation_1-mlogloss:0.048907\n",
      "[92]\tvalidation_0-merror:0\tvalidation_0-mlogloss:0.001515\tvalidation_1-merror:0.015026\tvalidation_1-mlogloss:0.048944\n",
      "[93]\tvalidation_0-merror:0\tvalidation_0-mlogloss:0.001499\tvalidation_1-merror:0.015026\tvalidation_1-mlogloss:0.048916\n",
      "[94]\tvalidation_0-merror:0\tvalidation_0-mlogloss:0.001481\tvalidation_1-merror:0.015026\tvalidation_1-mlogloss:0.048845\n",
      "[95]\tvalidation_0-merror:0\tvalidation_0-mlogloss:0.001468\tvalidation_1-merror:0.015026\tvalidation_1-mlogloss:0.048821\n",
      "[96]\tvalidation_0-merror:0\tvalidation_0-mlogloss:0.001455\tvalidation_1-merror:0.015026\tvalidation_1-mlogloss:0.048838\n",
      "[97]\tvalidation_0-merror:0\tvalidation_0-mlogloss:0.001443\tvalidation_1-merror:0.015026\tvalidation_1-mlogloss:0.048867\n",
      "[98]\tvalidation_0-merror:0\tvalidation_0-mlogloss:0.001429\tvalidation_1-merror:0.015026\tvalidation_1-mlogloss:0.048794\n",
      "[99]\tvalidation_0-merror:0\tvalidation_0-mlogloss:0.001417\tvalidation_1-merror:0.015026\tvalidation_1-mlogloss:0.048771\n",
      "[100]\tvalidation_0-merror:0\tvalidation_0-mlogloss:0.001404\tvalidation_1-merror:0.015026\tvalidation_1-mlogloss:0.048835\n",
      "[101]\tvalidation_0-merror:0\tvalidation_0-mlogloss:0.001392\tvalidation_1-merror:0.015026\tvalidation_1-mlogloss:0.048751\n",
      "[102]\tvalidation_0-merror:0\tvalidation_0-mlogloss:0.00138\tvalidation_1-merror:0.015026\tvalidation_1-mlogloss:0.048781\n",
      "[103]\tvalidation_0-merror:0\tvalidation_0-mlogloss:0.00137\tvalidation_1-merror:0.015026\tvalidation_1-mlogloss:0.048788\n",
      "[104]\tvalidation_0-merror:0\tvalidation_0-mlogloss:0.001359\tvalidation_1-merror:0.015026\tvalidation_1-mlogloss:0.048787\n",
      "[105]\tvalidation_0-merror:0\tvalidation_0-mlogloss:0.001348\tvalidation_1-merror:0.015026\tvalidation_1-mlogloss:0.048683\n",
      "[106]\tvalidation_0-merror:0\tvalidation_0-mlogloss:0.001337\tvalidation_1-merror:0.015026\tvalidation_1-mlogloss:0.048659\n",
      "[107]\tvalidation_0-merror:0\tvalidation_0-mlogloss:0.001326\tvalidation_1-merror:0.015026\tvalidation_1-mlogloss:0.048633\n",
      "[108]\tvalidation_0-merror:0\tvalidation_0-mlogloss:0.001316\tvalidation_1-merror:0.015026\tvalidation_1-mlogloss:0.048655\n",
      "[109]\tvalidation_0-merror:0\tvalidation_0-mlogloss:0.001308\tvalidation_1-merror:0.015026\tvalidation_1-mlogloss:0.048625\n",
      "[110]\tvalidation_0-merror:0\tvalidation_0-mlogloss:0.001299\tvalidation_1-merror:0.015639\tvalidation_1-mlogloss:0.048591\n",
      "[111]\tvalidation_0-merror:0\tvalidation_0-mlogloss:0.00129\tvalidation_1-merror:0.015639\tvalidation_1-mlogloss:0.048552\n",
      "[112]\tvalidation_0-merror:0\tvalidation_0-mlogloss:0.001281\tvalidation_1-merror:0.015333\tvalidation_1-mlogloss:0.048636\n",
      "[113]\tvalidation_0-merror:0\tvalidation_0-mlogloss:0.001272\tvalidation_1-merror:0.015639\tvalidation_1-mlogloss:0.048632\n",
      "[114]\tvalidation_0-merror:0\tvalidation_0-mlogloss:0.001263\tvalidation_1-merror:0.015333\tvalidation_1-mlogloss:0.048616\n",
      "[115]\tvalidation_0-merror:0\tvalidation_0-mlogloss:0.001254\tvalidation_1-merror:0.015333\tvalidation_1-mlogloss:0.048589\n",
      "[116]\tvalidation_0-merror:0\tvalidation_0-mlogloss:0.001246\tvalidation_1-merror:0.015333\tvalidation_1-mlogloss:0.048563\n",
      "[117]\tvalidation_0-merror:0\tvalidation_0-mlogloss:0.001237\tvalidation_1-merror:0.015333\tvalidation_1-mlogloss:0.048604\n",
      "[118]\tvalidation_0-merror:0\tvalidation_0-mlogloss:0.001229\tvalidation_1-merror:0.015333\tvalidation_1-mlogloss:0.048636\n",
      "[119]\tvalidation_0-merror:0\tvalidation_0-mlogloss:0.001222\tvalidation_1-merror:0.015333\tvalidation_1-mlogloss:0.048553\n",
      "[120]\tvalidation_0-merror:0\tvalidation_0-mlogloss:0.001214\tvalidation_1-merror:0.015026\tvalidation_1-mlogloss:0.048451\n",
      "[121]\tvalidation_0-merror:0\tvalidation_0-mlogloss:0.001206\tvalidation_1-merror:0.015026\tvalidation_1-mlogloss:0.048475\n",
      "[122]\tvalidation_0-merror:0\tvalidation_0-mlogloss:0.0012\tvalidation_1-merror:0.015026\tvalidation_1-mlogloss:0.048466\n",
      "[123]\tvalidation_0-merror:0\tvalidation_0-mlogloss:0.001191\tvalidation_1-merror:0.015026\tvalidation_1-mlogloss:0.048471\n",
      "[124]\tvalidation_0-merror:0\tvalidation_0-mlogloss:0.001185\tvalidation_1-merror:0.015026\tvalidation_1-mlogloss:0.048458\n",
      "[125]\tvalidation_0-merror:0\tvalidation_0-mlogloss:0.001179\tvalidation_1-merror:0.015333\tvalidation_1-mlogloss:0.048417\n",
      "[126]\tvalidation_0-merror:0\tvalidation_0-mlogloss:0.001172\tvalidation_1-merror:0.015026\tvalidation_1-mlogloss:0.048357\n",
      "[127]\tvalidation_0-merror:0\tvalidation_0-mlogloss:0.001166\tvalidation_1-merror:0.015333\tvalidation_1-mlogloss:0.04836\n",
      "[128]\tvalidation_0-merror:0\tvalidation_0-mlogloss:0.001159\tvalidation_1-merror:0.015026\tvalidation_1-mlogloss:0.048366\n",
      "[129]\tvalidation_0-merror:0\tvalidation_0-mlogloss:0.001153\tvalidation_1-merror:0.015333\tvalidation_1-mlogloss:0.048377\n",
      "[130]\tvalidation_0-merror:0\tvalidation_0-mlogloss:0.001148\tvalidation_1-merror:0.015333\tvalidation_1-mlogloss:0.048325\n",
      "[131]\tvalidation_0-merror:0\tvalidation_0-mlogloss:0.001143\tvalidation_1-merror:0.015333\tvalidation_1-mlogloss:0.048308\n",
      "[132]\tvalidation_0-merror:0\tvalidation_0-mlogloss:0.001137\tvalidation_1-merror:0.015333\tvalidation_1-mlogloss:0.048288\n",
      "[133]\tvalidation_0-merror:0\tvalidation_0-mlogloss:0.001131\tvalidation_1-merror:0.015333\tvalidation_1-mlogloss:0.048307\n",
      "[134]\tvalidation_0-merror:0\tvalidation_0-mlogloss:0.001125\tvalidation_1-merror:0.015333\tvalidation_1-mlogloss:0.048276\n",
      "[135]\tvalidation_0-merror:0\tvalidation_0-mlogloss:0.00112\tvalidation_1-merror:0.015333\tvalidation_1-mlogloss:0.048282\n",
      "[136]\tvalidation_0-merror:0\tvalidation_0-mlogloss:0.001114\tvalidation_1-merror:0.015333\tvalidation_1-mlogloss:0.048307\n",
      "[137]\tvalidation_0-merror:0\tvalidation_0-mlogloss:0.001108\tvalidation_1-merror:0.015333\tvalidation_1-mlogloss:0.048282\n"
     ]
    },
    {
     "name": "stdout",
     "output_type": "stream",
     "text": [
      "[138]\tvalidation_0-merror:0\tvalidation_0-mlogloss:0.001103\tvalidation_1-merror:0.015333\tvalidation_1-mlogloss:0.048314\n",
      "[139]\tvalidation_0-merror:0\tvalidation_0-mlogloss:0.001098\tvalidation_1-merror:0.015333\tvalidation_1-mlogloss:0.048252\n",
      "[140]\tvalidation_0-merror:0\tvalidation_0-mlogloss:0.001093\tvalidation_1-merror:0.015333\tvalidation_1-mlogloss:0.04822\n",
      "[141]\tvalidation_0-merror:0\tvalidation_0-mlogloss:0.001088\tvalidation_1-merror:0.015333\tvalidation_1-mlogloss:0.048144\n",
      "[142]\tvalidation_0-merror:0\tvalidation_0-mlogloss:0.001083\tvalidation_1-merror:0.015333\tvalidation_1-mlogloss:0.048179\n",
      "[143]\tvalidation_0-merror:0\tvalidation_0-mlogloss:0.001078\tvalidation_1-merror:0.015333\tvalidation_1-mlogloss:0.048201\n",
      "[144]\tvalidation_0-merror:0\tvalidation_0-mlogloss:0.001074\tvalidation_1-merror:0.015333\tvalidation_1-mlogloss:0.048225\n",
      "[145]\tvalidation_0-merror:0\tvalidation_0-mlogloss:0.00107\tvalidation_1-merror:0.015333\tvalidation_1-mlogloss:0.048219\n",
      "[146]\tvalidation_0-merror:0\tvalidation_0-mlogloss:0.001065\tvalidation_1-merror:0.015333\tvalidation_1-mlogloss:0.048254\n",
      "[147]\tvalidation_0-merror:0\tvalidation_0-mlogloss:0.00106\tvalidation_1-merror:0.015333\tvalidation_1-mlogloss:0.048259\n",
      "[148]\tvalidation_0-merror:0\tvalidation_0-mlogloss:0.001055\tvalidation_1-merror:0.015333\tvalidation_1-mlogloss:0.048232\n",
      "[149]\tvalidation_0-merror:0\tvalidation_0-mlogloss:0.001051\tvalidation_1-merror:0.015333\tvalidation_1-mlogloss:0.048225\n",
      "[150]\tvalidation_0-merror:0\tvalidation_0-mlogloss:0.001047\tvalidation_1-merror:0.015333\tvalidation_1-mlogloss:0.04822\n",
      "[151]\tvalidation_0-merror:0\tvalidation_0-mlogloss:0.001042\tvalidation_1-merror:0.015333\tvalidation_1-mlogloss:0.048217\n",
      "[152]\tvalidation_0-merror:0\tvalidation_0-mlogloss:0.001038\tvalidation_1-merror:0.015333\tvalidation_1-mlogloss:0.048201\n",
      "[153]\tvalidation_0-merror:0\tvalidation_0-mlogloss:0.001034\tvalidation_1-merror:0.015333\tvalidation_1-mlogloss:0.048145\n",
      "[154]\tvalidation_0-merror:0\tvalidation_0-mlogloss:0.00103\tvalidation_1-merror:0.015333\tvalidation_1-mlogloss:0.048152\n",
      "[155]\tvalidation_0-merror:0\tvalidation_0-mlogloss:0.001026\tvalidation_1-merror:0.015333\tvalidation_1-mlogloss:0.048145\n",
      "[156]\tvalidation_0-merror:0\tvalidation_0-mlogloss:0.001022\tvalidation_1-merror:0.015333\tvalidation_1-mlogloss:0.048173\n",
      "Stopping. Best iteration:\n",
      "[141]\tvalidation_0-merror:0\tvalidation_0-mlogloss:0.001088\tvalidation_1-merror:0.015333\tvalidation_1-mlogloss:0.048144\n",
      "\n"
     ]
    },
    {
     "data": {
      "text/plain": [
       "XGBClassifier(base_score=0.5, booster='gbtree', colsample_bylevel=1,\n",
       "              colsample_bynode=1, colsample_bytree=0.5, eval_metric='mlogloss',\n",
       "              gamma=0, learning_rate=0.2, max_delta_step=0, max_depth=8,\n",
       "              min_child_weight=1, missing=None, n_estimators=200, n_jobs=1,\n",
       "              nthread=None, objective='multi:softprob', random_state=0,\n",
       "              reg_alpha=0, reg_lambda=1, scale_pos_weight=1, seed=None,\n",
       "              silent=None, subsample=1, verbosity=1)"
      ]
     },
     "execution_count": 52,
     "metadata": {},
     "output_type": "execute_result"
    }
   ],
   "source": [
    "model = xgb.XGBClassifier(**params)\n",
    "#params['n_estimators'] = 300\n",
    "#model.set_params(**params)\n",
    "model.fit(X_train, y_train, early_stopping_rounds=15, eval_metric=[\"merror\", \"mlogloss\"], eval_set=eval_set, verbose=True)"
   ]
  },
  {
   "cell_type": "code",
   "execution_count": 14,
   "metadata": {},
   "outputs": [],
   "source": [
    "params['n_estimators'] = 141"
   ]
  },
  {
   "cell_type": "markdown",
   "metadata": {},
   "source": [
    "<br>\n",
    "<br>"
   ]
  },
  {
   "cell_type": "markdown",
   "metadata": {},
   "source": [
    "# XGboost proveden na svim značajkama"
   ]
  },
  {
   "cell_type": "code",
   "execution_count": 54,
   "metadata": {},
   "outputs": [
    {
     "name": "stdout",
     "output_type": "stream",
     "text": [
      "Logloss:0.01212141834445314\n",
      "Accuracy:0.9957068383931309\n"
     ]
    },
    {
     "data": {
      "image/png": "[encoded data removed]",
      "text/plain": [
       "<Figure size 720x720 with 2 Axes>"
      ]
     },
     "metadata": {
      "needs_background": "light"
     },
     "output_type": "display_data"
    }
   ],
   "source": [
    "X_all=features.iloc[:,2:1695]\n",
    "X_train_all, X_test_all, y_train_all, y_test_all = train_test_split( X_all, features['Class'], test_size=0.3, random_state=seed)\n",
    "xgb_classifier = xgb.XGBClassifier()\n",
    "xgb_classifier.set_params(**params)\n",
    "xgb_classifier.fit(X_train_all, y_train_all)\n",
    "xgboost_test(xgb_classifier,X_test_all,y_test_all)\n"
   ]
  },
  {
   "cell_type": "markdown",
   "metadata": {},
   "source": [
    "### Dalje radimo na selektiranim značajkama <br>"
   ]
  },
  {
   "cell_type": "code",
   "execution_count": 27,
   "metadata": {},
   "outputs": [
    {
     "name": "stdout",
     "output_type": "stream",
     "text": [
      "Logloss:0.2265664710109492\n",
      "Accuracy:0.9846672799754677\n"
     ]
    },
    {
     "data": {
      "image/png": "[encoded data removed]",
      "text/plain": [
       "<Figure size 720x720 with 2 Axes>"
      ]
     },
     "metadata": {
      "needs_background": "light"
     },
     "output_type": "display_data"
    }
   ],
   "source": [
    "#xgboost na selektiranim značajkama\n",
    "X_train, X_test, y_train, y_test = train_test_split( X, features['Class'], test_size=0.3, random_state=seed)\n",
    "xgb_classifier = xgb.XGBClassifier()\n",
    "xgb_classifier.set_params(**params)\n",
    "xgb_classifier.fit(X_train, y_train)\n",
    "xgboost_test(xgb_classifier,X_test,y_test)"
   ]
  },
  {
   "cell_type": "markdown",
   "metadata": {},
   "source": [
    "## Pokušaji rješavanja nebalasiranosti podataka"
   ]
  },
  {
   "cell_type": "markdown",
   "metadata": {},
   "source": [
    "### dodavanje težina u XGboost"
   ]
  },
  {
   "cell_type": "code",
   "execution_count": 22,
   "metadata": {},
   "outputs": [
    {
     "name": "stdout",
     "output_type": "stream",
     "text": [
      "Logloss:0.04371702259193001\n",
      "Accuracy:0.9871205151793928\n"
     ]
    },
    {
     "data": {
      "image/png": "[encoded data removed]",
      "text/plain": [
       "<Figure size 720x720 with 2 Axes>"
      ]
     },
     "metadata": {
      "needs_background": "light"
     },
     "output_type": "display_data"
    }
   ],
   "source": [
    "#xgboost sa dodanim težinama\n",
    "X_train, X_test, y_train, y_test = train_test_split( X, features['Class'], test_size=0.3, random_state=seed)\n",
    "\n",
    "class_weights = list(class_weight.compute_class_weight('balanced', np.unique(y_train),y_train))\n",
    "w_array = np.ones(y_train.shape[0], dtype = 'float')\n",
    "for i, val in enumerate(y_train):\n",
    "    w_array[i] = class_weights[val-1]\n",
    "\n",
    "xgb_classifier = xgb.XGBClassifier()\n",
    "xgb_classifier.set_params(**params)\n",
    "xgb_classifier.fit(X_train, y_train, sample_weight=w_array)\n",
    "\n",
    "xgboost_test(xgb_classifier,X_test,y_test)"
   ]
  },
  {
   "cell_type": "markdown",
   "metadata": {},
   "source": [
    "### oversampling"
   ]
  },
  {
   "cell_type": "code",
   "execution_count": 58,
   "metadata": {},
   "outputs": [
    {
     "name": "stdout",
     "output_type": "stream",
     "text": [
      "[(1, 2036), (2, 2036), (3, 2036), (4, 2036), (5, 2036), (6, 2036), (7, 2036), (8, 2036), (9, 2036)]\n",
      "Logloss:0.04555224767021493\n",
      "Accuracy:0.9868138607789022\n"
     ]
    },
    {
     "data": {
      "image/png": "[encoded data removed]",
      "text/plain": [
       "<Figure size 720x720 with 2 Axes>"
      ]
     },
     "metadata": {
      "needs_background": "light"
     },
     "output_type": "display_data"
    }
   ],
   "source": [
    "#RandomOverSampler\n",
    "X_train, X_test, y_train, y_test = train_test_split( X, features['Class'], test_size=0.3, random_state=seed)\n",
    "ros = RandomOverSampler(random_state=0)\n",
    "X_train, y_train = ros.fit_resample(X_train, y_train)\n",
    "print(sorted(Counter(y_train).items()))\n",
    "xgb_classifier = xgb.XGBClassifier()\n",
    "xgb_classifier.set_params(**params)\n",
    "xgb_classifier.fit(X_train, y_train)\n",
    "xgboost_test(xgb_classifier,X_test,y_test)"
   ]
  },
  {
   "cell_type": "code",
   "execution_count": 59,
   "metadata": {
    "scrolled": true
   },
   "outputs": [
    {
     "name": "stdout",
     "output_type": "stream",
     "text": [
      "[(1, 2036), (2, 2036), (3, 2036), (4, 2036), (5, 2036), (6, 2036), (7, 2036), (8, 2036), (9, 2036)]\n",
      "Logloss:0.04055097794157283\n",
      "Accuracy:0.9880404783808647\n"
     ]
    },
    {
     "data": {
      "image/png": "[encoded data removed]",
      "text/plain": [
       "<Figure size 720x720 with 2 Axes>"
      ]
     },
     "metadata": {
      "needs_background": "light"
     },
     "output_type": "display_data"
    }
   ],
   "source": [
    "#SMOTE\n",
    "X_train, X_test, y_train, y_test = train_test_split( X, features['Class'], test_size=0.3, random_state=seed)\n",
    "X_train, y_train = SMOTE().fit_resample(X_train, y_train)\n",
    "print(sorted(Counter(y_train).items()))\n",
    "xgb_classifier = xgb.XGBClassifier()\n",
    "xgb_classifier.set_params(**params)\n",
    "xgb_classifier.fit(X_train, y_train)\n",
    "xgboost_test(xgb_classifier,X_test,y_test)\n"
   ]
  },
  {
   "cell_type": "code",
   "execution_count": 23,
   "metadata": {},
   "outputs": [
    {
     "name": "stdout",
     "output_type": "stream",
     "text": [
      "[(1, 2036), (2, 2036), (3, 2036), (4, 2036), (5, 2036), (6, 2036), (7, 2036), (8, 2036), (9, 2036)]\n",
      "Logloss:0.040362894546122755\n",
      "Accuracy:0.9880404783808647\n"
     ]
    },
    {
     "data": {
      "image/png": "[encoded data removed]",
      "text/plain": [
       "<Figure size 720x720 with 2 Axes>"
      ]
     },
     "metadata": {
      "needs_background": "light"
     },
     "output_type": "display_data"
    }
   ],
   "source": [
    "#SMOTE+težine\n",
    "X_train, X_test, y_train, y_test = train_test_split( X, features['Class'], test_size=0.3, random_state=seed)\n",
    "\n",
    "class_weights = list(class_weight.compute_class_weight('balanced', np.unique(y_train),y_train))\n",
    "    \n",
    "X_train, y_train = SMOTE().fit_resample(X_train, y_train)\n",
    "print(sorted(Counter(y_train).items()))\n",
    "\n",
    "w_array = np.ones(y_train.shape[0], dtype = 'float')\n",
    "for i, val in enumerate(y_train):\n",
    "    w_array[i] = class_weights[val-1]\n",
    "    \n",
    "xgb_classifier = xgb.XGBClassifier()\n",
    "xgb_classifier.set_params(**params)\n",
    "xgb_classifier.fit(X_train, y_train, sample_weight=w_array)\n",
    "\n",
    "xgboost_test(xgb_classifier,X_test,y_test)"
   ]
  },
  {
   "cell_type": "code",
   "execution_count": 16,
   "metadata": {},
   "outputs": [
    {
     "name": "stdout",
     "output_type": "stream",
     "text": [
      "[(1, 2021), (2, 2034), (3, 2036), (4, 2031), (5, 2031), (6, 2026), (7, 2040), (8, 2028), (9, 2025)]\n",
      "Logloss:0.03565455188992738\n",
      "Accuracy:0.989573750383318\n"
     ]
    },
    {
     "data": {
      "image/png": "[encoded data removed]",
      "text/plain": [
       "<Figure size 720x720 with 2 Axes>"
      ]
     },
     "metadata": {
      "needs_background": "light"
     },
     "output_type": "display_data"
    }
   ],
   "source": [
    "#ADASYN\n",
    "X_train, X_test, y_train, y_test = train_test_split( X, features['Class'], test_size=0.3, random_state=seed)\n",
    "X_train, y_train = ADASYN().fit_resample(X_train, y_train)\n",
    "print(sorted(Counter(y_train).items()))\n",
    "xgb_classifier = xgb.XGBClassifier()\n",
    "xgb_classifier.set_params(**params)\n",
    "xgb_classifier.fit(X_train, y_train)\n",
    "xgboost_test(xgb_classifier,X_test,y_test)"
   ]
  },
  {
   "cell_type": "code",
   "execution_count": 24,
   "metadata": {
    "scrolled": true
   },
   "outputs": [
    {
     "name": "stdout",
     "output_type": "stream",
     "text": [
      "[(1, 2021), (2, 2034), (3, 2036), (4, 2031), (5, 2031), (6, 2026), (7, 2040), (8, 2028), (9, 2025)]\n",
      "Logloss:0.03584118436082368\n",
      "Accuracy:0.9898804047838087\n"
     ]
    },
    {
     "data": {
      "image/png": "[encoded data removed]",
      "text/plain": [
       "<Figure size 720x720 with 2 Axes>"
      ]
     },
     "metadata": {
      "needs_background": "light"
     },
     "output_type": "display_data"
    }
   ],
   "source": [
    "#ADASYN+težine\n",
    "X_train, X_test, y_train, y_test = train_test_split( X, features['Class'], test_size=0.3, random_state=seed)\n",
    "\n",
    "class_weights = list(class_weight.compute_class_weight('balanced', np.unique(y_train),y_train))\n",
    "\n",
    "X_train, y_train = ADASYN().fit_resample(X_train, y_train)\n",
    "print(sorted(Counter(y_train).items()))\n",
    "\n",
    "w_array = np.ones(y_train.shape[0], dtype = 'float')\n",
    "for i, val in enumerate(y_train):\n",
    "    w_array[i] = class_weights[val-1]\n",
    "\n",
    "xgb_classifier = xgb.XGBClassifier()\n",
    "xgb_classifier.set_params(**params)\n",
    "xgb_classifier.fit(X_train, y_train, sample_weight=w_array)\n",
    "\n",
    "xgboost_test(xgb_classifier,X_test,y_test)"
   ]
  },
  {
   "cell_type": "markdown",
   "metadata": {},
   "source": [
    "### undersample"
   ]
  },
  {
   "cell_type": "code",
   "execution_count": 18,
   "metadata": {},
   "outputs": [
    {
     "name": "stdout",
     "output_type": "stream",
     "text": [
      "[(1, 1084), (2, 1753), (3, 30), (4, 332), (5, 30), (6, 506), (7, 278), (8, 881), (9, 706)]\n",
      "Logloss:0.055091833402209744\n",
      "Accuracy:0.983440662373505\n"
     ]
    },
    {
     "data": {
      "image/png": "[encoded data removed]",
      "text/plain": [
       "<Figure size 720x720 with 2 Axes>"
      ]
     },
     "metadata": {
      "needs_background": "light"
     },
     "output_type": "display_data"
    }
   ],
   "source": [
    "#RandomUnderSampler\n",
    "X_train, X_test, y_train, y_test = train_test_split( X, features['Class'], test_size=0.3, random_state=seed)\n",
    "undersample = RandomUnderSampler(sampling_strategy='majority')\n",
    "X_train, y_train = undersample.fit_resample(X_train, y_train)\n",
    "print(sorted(Counter(y_train).items()))\n",
    "\n",
    "xgb_classifier = xgb.XGBClassifier()\n",
    "xgb_classifier.set_params(**params)\n",
    "xgb_classifier.fit(X_train, y_train)\n",
    "xgboost_test(xgb_classifier,X_test,y_test)"
   ]
  },
  {
   "cell_type": "markdown",
   "metadata": {},
   "source": [
    "## bagging"
   ]
  },
  {
   "cell_type": "code",
   "execution_count": 20,
   "metadata": {
    "scrolled": true
   },
   "outputs": [
    {
     "name": "stdout",
     "output_type": "stream",
     "text": [
      "Logloss:0.05289978763032699\n",
      "Accuracy:0.985280588776449\n"
     ]
    },
    {
     "data": {
      "image/png": "[encoded data removed]",
      "text/plain": [
       "<Figure size 720x720 with 2 Axes>"
      ]
     },
     "metadata": {
      "needs_background": "light"
     },
     "output_type": "display_data"
    }
   ],
   "source": [
    "#BaggingClassifier iz sklearn-a, ali čini mi se da moramo koristit XGBClassifier()\n",
    "X_train, X_test, y_train, y_test = train_test_split( X, features['Class'], test_size=0.3, random_state=seed)\n",
    "exgb_classifier = xgb.XGBClassifier()\n",
    "exgb_classifier.set_params(**params)\n",
    "\n",
    "model = BaggingClassifier(base_estimator=exgb_classifier, n_estimators=10, random_state=seed)\n",
    "model.fit(X_train, y_train)\n",
    "\n",
    "xgboost_test(model,X_test,y_test)"
   ]
  },
  {
   "cell_type": "code",
   "execution_count": 25,
   "metadata": {},
   "outputs": [
    {
     "name": "stdout",
     "output_type": "stream",
     "text": [
      "[(1, 2021), (2, 2034), (3, 2036), (4, 2031), (5, 2031), (6, 2026), (7, 2040), (8, 2028), (9, 2025)]\n",
      "Logloss:0.03360313600760857\n",
      "Accuracy:0.9898804047838087\n"
     ]
    },
    {
     "data": {
      "image/png": "[encoded data removed]",
      "text/plain": [
       "<Figure size 720x720 with 2 Axes>"
      ]
     },
     "metadata": {
      "needs_background": "light"
     },
     "output_type": "display_data"
    }
   ],
   "source": [
    "#Bagging + adasyn + weights\n",
    "X_train, X_test, y_train, y_test = train_test_split( X, features['Class'], test_size=0.3, random_state=seed)\n",
    "class_weights = list(class_weight.compute_class_weight('balanced', np.unique(y_train),y_train))\n",
    "X_train, y_train = ADASYN().fit_resample(X_train, y_train)\n",
    "print(sorted(Counter(y_train).items()))\n",
    "\n",
    "w_array = np.ones(y_train.shape[0], dtype = 'float')\n",
    "for i, val in enumerate(y_train):\n",
    "    w_array[i] = class_weights[val-1]\n",
    "\n",
    "exgb_classifier = xgb.XGBClassifier()\n",
    "exgb_classifier.set_params(**params)\n",
    "\n",
    "model = BaggingClassifier(base_estimator=exgb_classifier, n_estimators=10, random_state=seed)\n",
    "model.fit(X_train, y_train,sample_weight=w_array)\n",
    "\n",
    "xgboost_test(model,X_test,y_test)"
   ]
  },
  {
   "cell_type": "markdown",
   "metadata": {},
   "source": [
    "### ručni kvazi-bagging"
   ]
  },
  {
   "cell_type": "code",
   "execution_count": 15,
   "metadata": {},
   "outputs": [],
   "source": [
    "def bagging_custom(n_bags, test_index, train_index, train_X, test_X, train_y):\n",
    "    \n",
    "    bags = n_bags#broj bag-ova\n",
    "    test_pred_prob = np.zeros((len(test_index),9))\n",
    "    for bg in range(bags):\n",
    "        #new_train_index je prvo samo izmješani train_index\n",
    "        new_train_index = random.sample(list(train_index), int(len(train_index) * 1.))\n",
    "        #dodajemo mi nasumične brojeve iz train_index (s ponavljanjem)\n",
    "        for i in range(int(len(train_index) * 1.)):\n",
    "            new_train_index.append(random.choice(train_index))\n",
    "\n",
    "        train_X=X.iloc[new_train_index,:]\n",
    "        train_y=y.iloc[new_train_index]\n",
    "\n",
    "        xgb_classifier = xgb.XGBClassifier()\n",
    "        xgb_classifier.set_params(**params)\n",
    "        xgb_classifier.fit(train_X, train_y)  \n",
    "        preds = xgb_classifier.predict_proba(test_X) \n",
    "\n",
    "        print(\"Bag \" + str(bg+1))\n",
    "        \n",
    "        #zbrajamo vjerojatnosti od svih bag-ova\n",
    "        test_pred_prob += preds\n",
    "    #izračunamo prosječne vjerojatnosti pa onda klase\n",
    "    pred_prob = test_pred_prob / bags\n",
    "    best_preds = np.asarray([np.argmax(line) for line in pred_prob])\n",
    "    return best_preds, pred_prob"
   ]
  },
  {
   "cell_type": "code",
   "execution_count": 18,
   "metadata": {},
   "outputs": [],
   "source": [
    "#bagging+xgboost+weights+adasyn\n",
    "def bagging_custom_wa(n_bags, test_index, train_index, train_X, test_X, train_y):\n",
    "    class_weights = list(class_weight.compute_class_weight('balanced', np.unique(train_y),train_y))\n",
    "    X_train, y_train = ADASYN().fit_resample(X_train, y_train)\n",
    "    \n",
    "    bags = n_bags#broj bag-ova\n",
    "    test_pred_prob = np.zeros((len(test_index),9))\n",
    "    for bg in range(bags):\n",
    "        #new_train_index je prvo samo izmješani train_index\n",
    "        new_train_index = random.sample(list(train_index), int(len(train_index) * 1.))\n",
    "        #dodajemo mi nasumične brojeve iz train_index (s ponavljanjem)\n",
    "        for i in range(int(len(train_index) * 1.)):\n",
    "            new_train_index.append(random.choice(train_index))\n",
    "\n",
    "        train_X=X.iloc[new_train_index,:]\n",
    "        train_y=y.iloc[new_train_index]\n",
    "        \n",
    "        \n",
    "        w_array = np.ones(train_y.shape[0], dtype = 'float')\n",
    "        for i, val in enumerate(train_y):\n",
    "            w_array[i] = class_weights[val-1]\n",
    "\n",
    "        xgb_classifier = xgb.XGBClassifier()\n",
    "        xgb_classifier.set_params(**params)\n",
    "        xgb_classifier.fit(train_X, train_y, sample_weight=w_array)  \n",
    "        preds = xgb_classifier.predict_proba(test_X)\n",
    "\n",
    "        print(\"Bag \" + str(bg+1))\n",
    "        \n",
    "        #zbrajamo vjerojatnosti od svih bag-ova\n",
    "        test_pred_prob += preds\n",
    "    #izračunamo prosječne vjerojatnosti pa onda klase\n",
    "    pred_prob = test_pred_prob / bags\n",
    "    best_preds = np.asarray([np.argmax(line) for line in pred_prob])\n",
    "    return best_preds, pred_prob"
   ]
  },
  {
   "cell_type": "markdown",
   "metadata": {},
   "source": [
    "### kfold"
   ]
  },
  {
   "cell_type": "code",
   "execution_count": 19,
   "metadata": {
    "scrolled": true
   },
   "outputs": [
    {
     "name": "stdout",
     "output_type": "stream",
     "text": [
      "Bag 1\n",
      "Bag 2\n",
      "Bag 3\n",
      "Bag 4\n",
      "Bag 5\n",
      "-----------------------------------\n",
      "FOLD 1\n",
      "Logloss:0.014326878746276245\n",
      "Accuracy:0.9949402023919043\n",
      "Missed! actual=2 predicted=1\n",
      "Missed! actual=3 predicted=6\n",
      "Missed! actual=4 predicted=7\n",
      "Missed! actual=5 predicted=8\n",
      "Missed! actual=8 predicted=1\n",
      "Missed! actual=8 predicted=7\n",
      "Missed! actual=8 predicted=1\n",
      "Missed! actual=8 predicted=1\n",
      "Missed! actual=8 predicted=4\n",
      "Missed! actual=9 predicted=7\n",
      "Missed! actual=9 predicted=6\n",
      "Bag 1\n",
      "Bag 2\n",
      "Bag 3\n",
      "Bag 4\n",
      "Bag 5\n",
      "-----------------------------------\n",
      "FOLD 2\n",
      "Logloss:0.01413797687033506\n",
      "Accuracy:0.9972401103955841\n",
      "Missed! actual=2 predicted=8\n",
      "Missed! actual=2 predicted=8\n",
      "Missed! actual=8 predicted=1\n",
      "Missed! actual=9 predicted=6\n",
      "Missed! actual=9 predicted=8\n",
      "Missed! actual=9 predicted=8\n",
      "Bag 1\n",
      "Bag 2\n",
      "Bag 3\n",
      "Bag 4\n",
      "Bag 5\n",
      "-----------------------------------\n",
      "FOLD 3\n",
      "Logloss:0.017290372023862716\n",
      "Accuracy:0.9944776806258628\n",
      "Missed! actual=2 predicted=8\n",
      "Missed! actual=2 predicted=6\n",
      "Missed! actual=2 predicted=5\n",
      "Missed! actual=5 predicted=6\n",
      "Missed! actual=5 predicted=6\n",
      "Missed! actual=6 predicted=7\n",
      "Missed! actual=8 predicted=7\n",
      "Missed! actual=8 predicted=1\n",
      "Missed! actual=8 predicted=1\n",
      "Missed! actual=8 predicted=6\n",
      "Missed! actual=8 predicted=1\n",
      "Missed! actual=9 predicted=6\n",
      "Bag 1\n",
      "Bag 2\n",
      "Bag 3\n",
      "Bag 4\n"
     ]
    },
    {
     "ename": "KeyboardInterrupt",
     "evalue": "",
     "output_type": "error",
     "traceback": [
      "\u001b[1;31m---------------------------------------------------------------------------\u001b[0m",
      "\u001b[1;31mKeyboardInterrupt\u001b[0m                         Traceback (most recent call last)",
      "\u001b[1;32m<ipython-input-19-80b20cb44405>\u001b[0m in \u001b[0;36m<module>\u001b[1;34m\u001b[0m\n\u001b[0;32m     17\u001b[0m     \u001b[0mtest_y\u001b[0m\u001b[1;33m=\u001b[0m\u001b[0my\u001b[0m\u001b[1;33m.\u001b[0m\u001b[0miloc\u001b[0m\u001b[1;33m[\u001b[0m\u001b[0mtest_index\u001b[0m\u001b[1;33m]\u001b[0m\u001b[1;33m\u001b[0m\u001b[1;33m\u001b[0m\u001b[0m\n\u001b[0;32m     18\u001b[0m     \u001b[1;31m#----------\u001b[0m\u001b[1;33m\u001b[0m\u001b[1;33m\u001b[0m\u001b[1;33m\u001b[0m\u001b[0m\n\u001b[1;32m---> 19\u001b[1;33m     \u001b[0mpred\u001b[0m \u001b[1;33m=\u001b[0m \u001b[0mbagging_custom_w\u001b[0m\u001b[1;33m(\u001b[0m\u001b[1;36m5\u001b[0m\u001b[1;33m,\u001b[0m \u001b[0mtest_index\u001b[0m\u001b[1;33m,\u001b[0m \u001b[0mtrain_index\u001b[0m\u001b[1;33m,\u001b[0m \u001b[0mtrain_X\u001b[0m\u001b[1;33m,\u001b[0m \u001b[0mtest_X\u001b[0m\u001b[1;33m,\u001b[0m \u001b[0mtrain_y\u001b[0m\u001b[1;33m)\u001b[0m\u001b[1;33m\u001b[0m\u001b[1;33m\u001b[0m\u001b[0m\n\u001b[0m\u001b[0;32m     20\u001b[0m     \u001b[1;31m#----------\u001b[0m\u001b[1;33m\u001b[0m\u001b[1;33m\u001b[0m\u001b[1;33m\u001b[0m\u001b[0m\n\u001b[0;32m     21\u001b[0m     \u001b[0mtest_y\u001b[0m \u001b[1;33m=\u001b[0m \u001b[1;33m[\u001b[0m\u001b[0mint\u001b[0m\u001b[1;33m(\u001b[0m\u001b[0mx\u001b[0m\u001b[1;33m-\u001b[0m\u001b[1;36m1\u001b[0m\u001b[1;33m)\u001b[0m \u001b[1;32mfor\u001b[0m \u001b[0mx\u001b[0m \u001b[1;32min\u001b[0m \u001b[0mtest_y\u001b[0m\u001b[1;33m]\u001b[0m\u001b[1;33m\u001b[0m\u001b[1;33m\u001b[0m\u001b[0m\n",
      "\u001b[1;32m<ipython-input-18-6bf319d4b21b>\u001b[0m in \u001b[0;36mbagging_custom_w\u001b[1;34m(n_bags, test_index, train_index, train_X, test_X, train_y)\u001b[0m\n\u001b[0;32m     21\u001b[0m         \u001b[0mxgb_classifier\u001b[0m \u001b[1;33m=\u001b[0m \u001b[0mxgb\u001b[0m\u001b[1;33m.\u001b[0m\u001b[0mXGBClassifier\u001b[0m\u001b[1;33m(\u001b[0m\u001b[1;33m)\u001b[0m\u001b[1;33m\u001b[0m\u001b[1;33m\u001b[0m\u001b[0m\n\u001b[0;32m     22\u001b[0m         \u001b[0mxgb_classifier\u001b[0m\u001b[1;33m.\u001b[0m\u001b[0mset_params\u001b[0m\u001b[1;33m(\u001b[0m\u001b[1;33m**\u001b[0m\u001b[0mparams\u001b[0m\u001b[1;33m)\u001b[0m\u001b[1;33m\u001b[0m\u001b[1;33m\u001b[0m\u001b[0m\n\u001b[1;32m---> 23\u001b[1;33m         \u001b[0mxgb_classifier\u001b[0m\u001b[1;33m.\u001b[0m\u001b[0mfit\u001b[0m\u001b[1;33m(\u001b[0m\u001b[0mtrain_X\u001b[0m\u001b[1;33m,\u001b[0m \u001b[0mtrain_y\u001b[0m\u001b[1;33m,\u001b[0m \u001b[0msample_weight\u001b[0m\u001b[1;33m=\u001b[0m\u001b[0mw_array\u001b[0m\u001b[1;33m)\u001b[0m\u001b[1;33m\u001b[0m\u001b[1;33m\u001b[0m\u001b[0m\n\u001b[0m\u001b[0;32m     24\u001b[0m         \u001b[0mpreds\u001b[0m \u001b[1;33m=\u001b[0m \u001b[0mxgb_classifier\u001b[0m\u001b[1;33m.\u001b[0m\u001b[0mpredict_proba\u001b[0m\u001b[1;33m(\u001b[0m\u001b[0mtest_X\u001b[0m\u001b[1;33m)\u001b[0m\u001b[1;33m\u001b[0m\u001b[1;33m\u001b[0m\u001b[0m\n\u001b[0;32m     25\u001b[0m \u001b[1;33m\u001b[0m\u001b[0m\n",
      "\u001b[1;32m~\\anaconda3\\lib\\site-packages\\xgboost\\sklearn.py\u001b[0m in \u001b[0;36mfit\u001b[1;34m(self, X, y, sample_weight, eval_set, eval_metric, early_stopping_rounds, verbose, xgb_model, sample_weight_eval_set, callbacks)\u001b[0m\n\u001b[0;32m    730\u001b[0m                               \u001b[0mevals_result\u001b[0m\u001b[1;33m=\u001b[0m\u001b[0mevals_result\u001b[0m\u001b[1;33m,\u001b[0m \u001b[0mobj\u001b[0m\u001b[1;33m=\u001b[0m\u001b[0mobj\u001b[0m\u001b[1;33m,\u001b[0m \u001b[0mfeval\u001b[0m\u001b[1;33m=\u001b[0m\u001b[0mfeval\u001b[0m\u001b[1;33m,\u001b[0m\u001b[1;33m\u001b[0m\u001b[1;33m\u001b[0m\u001b[0m\n\u001b[0;32m    731\u001b[0m                               \u001b[0mverbose_eval\u001b[0m\u001b[1;33m=\u001b[0m\u001b[0mverbose\u001b[0m\u001b[1;33m,\u001b[0m \u001b[0mxgb_model\u001b[0m\u001b[1;33m=\u001b[0m\u001b[0mxgb_model\u001b[0m\u001b[1;33m,\u001b[0m\u001b[1;33m\u001b[0m\u001b[1;33m\u001b[0m\u001b[0m\n\u001b[1;32m--> 732\u001b[1;33m                               callbacks=callbacks)\n\u001b[0m\u001b[0;32m    733\u001b[0m \u001b[1;33m\u001b[0m\u001b[0m\n\u001b[0;32m    734\u001b[0m         \u001b[0mself\u001b[0m\u001b[1;33m.\u001b[0m\u001b[0mobjective\u001b[0m \u001b[1;33m=\u001b[0m \u001b[0mxgb_options\u001b[0m\u001b[1;33m[\u001b[0m\u001b[1;34m\"objective\"\u001b[0m\u001b[1;33m]\u001b[0m\u001b[1;33m\u001b[0m\u001b[1;33m\u001b[0m\u001b[0m\n",
      "\u001b[1;32m~\\anaconda3\\lib\\site-packages\\xgboost\\training.py\u001b[0m in \u001b[0;36mtrain\u001b[1;34m(params, dtrain, num_boost_round, evals, obj, feval, maximize, early_stopping_rounds, evals_result, verbose_eval, xgb_model, callbacks, learning_rates)\u001b[0m\n\u001b[0;32m    214\u001b[0m                            \u001b[0mevals\u001b[0m\u001b[1;33m=\u001b[0m\u001b[0mevals\u001b[0m\u001b[1;33m,\u001b[0m\u001b[1;33m\u001b[0m\u001b[1;33m\u001b[0m\u001b[0m\n\u001b[0;32m    215\u001b[0m                            \u001b[0mobj\u001b[0m\u001b[1;33m=\u001b[0m\u001b[0mobj\u001b[0m\u001b[1;33m,\u001b[0m \u001b[0mfeval\u001b[0m\u001b[1;33m=\u001b[0m\u001b[0mfeval\u001b[0m\u001b[1;33m,\u001b[0m\u001b[1;33m\u001b[0m\u001b[1;33m\u001b[0m\u001b[0m\n\u001b[1;32m--> 216\u001b[1;33m                            xgb_model=xgb_model, callbacks=callbacks)\n\u001b[0m\u001b[0;32m    217\u001b[0m \u001b[1;33m\u001b[0m\u001b[0m\n\u001b[0;32m    218\u001b[0m \u001b[1;33m\u001b[0m\u001b[0m\n",
      "\u001b[1;32m~\\anaconda3\\lib\\site-packages\\xgboost\\training.py\u001b[0m in \u001b[0;36m_train_internal\u001b[1;34m(params, dtrain, num_boost_round, evals, obj, feval, xgb_model, callbacks)\u001b[0m\n\u001b[0;32m     72\u001b[0m         \u001b[1;31m# Skip the first update if it is a recovery step.\u001b[0m\u001b[1;33m\u001b[0m\u001b[1;33m\u001b[0m\u001b[1;33m\u001b[0m\u001b[0m\n\u001b[0;32m     73\u001b[0m         \u001b[1;32mif\u001b[0m \u001b[0mversion\u001b[0m \u001b[1;33m%\u001b[0m \u001b[1;36m2\u001b[0m \u001b[1;33m==\u001b[0m \u001b[1;36m0\u001b[0m\u001b[1;33m:\u001b[0m\u001b[1;33m\u001b[0m\u001b[1;33m\u001b[0m\u001b[0m\n\u001b[1;32m---> 74\u001b[1;33m             \u001b[0mbst\u001b[0m\u001b[1;33m.\u001b[0m\u001b[0mupdate\u001b[0m\u001b[1;33m(\u001b[0m\u001b[0mdtrain\u001b[0m\u001b[1;33m,\u001b[0m \u001b[0mi\u001b[0m\u001b[1;33m,\u001b[0m \u001b[0mobj\u001b[0m\u001b[1;33m)\u001b[0m\u001b[1;33m\u001b[0m\u001b[1;33m\u001b[0m\u001b[0m\n\u001b[0m\u001b[0;32m     75\u001b[0m             \u001b[0mbst\u001b[0m\u001b[1;33m.\u001b[0m\u001b[0msave_rabit_checkpoint\u001b[0m\u001b[1;33m(\u001b[0m\u001b[1;33m)\u001b[0m\u001b[1;33m\u001b[0m\u001b[1;33m\u001b[0m\u001b[0m\n\u001b[0;32m     76\u001b[0m             \u001b[0mversion\u001b[0m \u001b[1;33m+=\u001b[0m \u001b[1;36m1\u001b[0m\u001b[1;33m\u001b[0m\u001b[1;33m\u001b[0m\u001b[0m\n",
      "\u001b[1;32m~\\anaconda3\\lib\\site-packages\\xgboost\\core.py\u001b[0m in \u001b[0;36mupdate\u001b[1;34m(self, dtrain, iteration, fobj)\u001b[0m\n\u001b[0;32m   1107\u001b[0m         \u001b[1;32mif\u001b[0m \u001b[0mfobj\u001b[0m \u001b[1;32mis\u001b[0m \u001b[1;32mNone\u001b[0m\u001b[1;33m:\u001b[0m\u001b[1;33m\u001b[0m\u001b[1;33m\u001b[0m\u001b[0m\n\u001b[0;32m   1108\u001b[0m             _check_call(_LIB.XGBoosterUpdateOneIter(self.handle, ctypes.c_int(iteration),\n\u001b[1;32m-> 1109\u001b[1;33m                                                     dtrain.handle))\n\u001b[0m\u001b[0;32m   1110\u001b[0m         \u001b[1;32melse\u001b[0m\u001b[1;33m:\u001b[0m\u001b[1;33m\u001b[0m\u001b[1;33m\u001b[0m\u001b[0m\n\u001b[0;32m   1111\u001b[0m             \u001b[0mpred\u001b[0m \u001b[1;33m=\u001b[0m \u001b[0mself\u001b[0m\u001b[1;33m.\u001b[0m\u001b[0mpredict\u001b[0m\u001b[1;33m(\u001b[0m\u001b[0mdtrain\u001b[0m\u001b[1;33m)\u001b[0m\u001b[1;33m\u001b[0m\u001b[1;33m\u001b[0m\u001b[0m\n",
      "\u001b[1;31mKeyboardInterrupt\u001b[0m: "
     ]
    }
   ],
   "source": [
    "X=selected_features.iloc[:,1:187]\n",
    "y=features.iloc[:,1]\n",
    "\n",
    "kfold = StratifiedKFold(n_splits = 5, shuffle = True, random_state = 1000)\n",
    "\n",
    "predicted = []\n",
    "original = []\n",
    "log_losses = []\n",
    "accuracies = []\n",
    "fold_counter = 0\n",
    "misclassified_counter = 1\n",
    "for train_index, test_index in kfold.split(X,y):\n",
    "    fold_counter += 1\n",
    "    train_X=X.iloc[train_index,:]\n",
    "    train_y=y.iloc[train_index]\n",
    "    test_X=X.iloc[test_index,:]\n",
    "    test_y=y.iloc[test_index]\n",
    "    #----------\n",
    "    pred = bagging_custom_w(5, test_index, train_index, train_X, test_X, train_y) \n",
    "    #----------\n",
    "    test_y = [int(x-1) for x in test_y]\n",
    "    \n",
    "    score_log = log_loss(test_y,pred[1],eps=1e-15)\n",
    "    score_acc = accuracy_score(test_y, pred[0])\n",
    "\n",
    "    log_losses.append(score_log)\n",
    "    accuracies.append(score_acc)\n",
    "    \n",
    "    predicted.extend(pred[0])\n",
    "    original.extend(test_y)\n",
    "    \n",
    "    print('-----------------------------------')\n",
    "    print('FOLD '+ str(fold_counter))\n",
    "    print('Logloss:' + str(score_log))\n",
    "    print('Accuracy:' + str(score_acc))\n",
    "\n",
    "    for i in range(len(pred[0])):\n",
    "        if pred[0][i] != test_y[i]:\n",
    "            print ('Missed! ' + 'actual='+str(test_y[i]+1) + ' predicted='+str(pred[0][i]+1))\n",
    "            misclassified_counter += 1\n",
    "\n",
    "predicted = np.array(predicted)\n",
    "original = np.array(original)\n",
    "print ('===========================================')\n",
    "print('In total {} misclassified samples'.format(misclassified_counter-1))\n",
    "print('Accuracy mean : ' + str(np.mean(accuracies)))\n",
    "print('log loss mean : ' + str(np.mean(log_losses)))\n"
   ]
  },
  {
   "cell_type": "markdown",
   "metadata": {},
   "source": [
    "# kraj"
   ]
  },
  {
   "cell_type": "code",
   "execution_count": 75,
   "metadata": {},
   "outputs": [],
   "source": [
    "selected_features_test = pd.read_csv('selected_features_rfc_test_cv2.csv')"
   ]
  },
  {
   "cell_type": "code",
   "execution_count": 112,
   "metadata": {},
   "outputs": [
    {
     "name": "stdout",
     "output_type": "stream",
     "text": [
      "Bag 1\n",
      "Bag 2\n",
      "Bag 3\n",
      "Bag 4\n",
      "Bag 5\n",
      "Bag 6\n",
      "Bag 7\n",
      "Bag 8\n",
      "Bag 9\n",
      "Bag 10\n"
     ]
    }
   ],
   "source": [
    "X_test=selected_features_test.iloc[:,1:10873]\n",
    "train_index=X.iloc[:,0]\n",
    "test_index=selected_features_test.iloc[:,0]\n",
    "\n",
    "pred = bagging_custom(10, test_index, train_index, X, X_test, y) \n"
   ]
  },
  {
   "cell_type": "markdown",
   "metadata": {},
   "source": [
    "# submission\n",
    "bez headera"
   ]
  },
  {
   "cell_type": "code",
   "execution_count": 69,
   "metadata": {},
   "outputs": [],
   "source": [
    "# load Id column of testset\n",
    "md5hash_test = pd.read_csv(\"https://raw.githubusercontent.com/mateastanisic/lfs/master/md5hash_test.csv\")\n",
    "# drop first colum that was left -> fix this and save dataframe without that column\n",
    "md5hash_test.drop(['Unnamed: 0'], axis=1, inplace=True)"
   ]
  },
  {
   "cell_type": "code",
   "execution_count": 114,
   "metadata": {
    "scrolled": false
   },
   "outputs": [
    {
     "data": {
      "text/html": [
       "<div>\n",
       "<style scoped>\n",
       "    .dataframe tbody tr th:only-of-type {\n",
       "        vertical-align: middle;\n",
       "    }\n",
       "\n",
       "    .dataframe tbody tr th {\n",
       "        vertical-align: top;\n",
       "    }\n",
       "\n",
       "    .dataframe thead th {\n",
       "        text-align: right;\n",
       "    }\n",
       "</style>\n",
       "<table border=\"1\" class=\"dataframe\">\n",
       "  <thead>\n",
       "    <tr style=\"text-align: right;\">\n",
       "      <th></th>\n",
       "      <th>0</th>\n",
       "      <th>1</th>\n",
       "      <th>2</th>\n",
       "      <th>3</th>\n",
       "      <th>4</th>\n",
       "      <th>5</th>\n",
       "      <th>6</th>\n",
       "      <th>7</th>\n",
       "      <th>8</th>\n",
       "    </tr>\n",
       "  </thead>\n",
       "  <tbody>\n",
       "    <tr>\n",
       "      <th>0</th>\n",
       "      <td>0.000232</td>\n",
       "      <td>0.000235</td>\n",
       "      <td>0.000194</td>\n",
       "      <td>0.000189</td>\n",
       "      <td>0.996269</td>\n",
       "      <td>0.001132</td>\n",
       "      <td>0.000516</td>\n",
       "      <td>0.000890</td>\n",
       "      <td>0.000341</td>\n",
       "    </tr>\n",
       "    <tr>\n",
       "      <th>1</th>\n",
       "      <td>0.000069</td>\n",
       "      <td>0.000142</td>\n",
       "      <td>0.000056</td>\n",
       "      <td>0.000055</td>\n",
       "      <td>0.998794</td>\n",
       "      <td>0.000235</td>\n",
       "      <td>0.000281</td>\n",
       "      <td>0.000187</td>\n",
       "      <td>0.000183</td>\n",
       "    </tr>\n",
       "    <tr>\n",
       "      <th>2</th>\n",
       "      <td>0.000150</td>\n",
       "      <td>0.000196</td>\n",
       "      <td>0.000106</td>\n",
       "      <td>0.000145</td>\n",
       "      <td>0.998160</td>\n",
       "      <td>0.000257</td>\n",
       "      <td>0.000282</td>\n",
       "      <td>0.000514</td>\n",
       "      <td>0.000188</td>\n",
       "    </tr>\n",
       "    <tr>\n",
       "      <th>3</th>\n",
       "      <td>0.003723</td>\n",
       "      <td>0.006853</td>\n",
       "      <td>0.003120</td>\n",
       "      <td>0.004150</td>\n",
       "      <td>0.939744</td>\n",
       "      <td>0.015020</td>\n",
       "      <td>0.003415</td>\n",
       "      <td>0.019795</td>\n",
       "      <td>0.004180</td>\n",
       "    </tr>\n",
       "    <tr>\n",
       "      <th>4</th>\n",
       "      <td>0.000017</td>\n",
       "      <td>0.000014</td>\n",
       "      <td>0.999821</td>\n",
       "      <td>0.000015</td>\n",
       "      <td>0.000037</td>\n",
       "      <td>0.000026</td>\n",
       "      <td>0.000024</td>\n",
       "      <td>0.000024</td>\n",
       "      <td>0.000022</td>\n",
       "    </tr>\n",
       "    <tr>\n",
       "      <th>...</th>\n",
       "      <td>...</td>\n",
       "      <td>...</td>\n",
       "      <td>...</td>\n",
       "      <td>...</td>\n",
       "      <td>...</td>\n",
       "      <td>...</td>\n",
       "      <td>...</td>\n",
       "      <td>...</td>\n",
       "      <td>...</td>\n",
       "    </tr>\n",
       "    <tr>\n",
       "      <th>10868</th>\n",
       "      <td>0.000011</td>\n",
       "      <td>0.000009</td>\n",
       "      <td>0.999891</td>\n",
       "      <td>0.000010</td>\n",
       "      <td>0.000022</td>\n",
       "      <td>0.000015</td>\n",
       "      <td>0.000014</td>\n",
       "      <td>0.000014</td>\n",
       "      <td>0.000014</td>\n",
       "    </tr>\n",
       "    <tr>\n",
       "      <th>10869</th>\n",
       "      <td>0.000023</td>\n",
       "      <td>0.000138</td>\n",
       "      <td>0.000023</td>\n",
       "      <td>0.000043</td>\n",
       "      <td>0.000046</td>\n",
       "      <td>0.000046</td>\n",
       "      <td>0.999606</td>\n",
       "      <td>0.000048</td>\n",
       "      <td>0.000027</td>\n",
       "    </tr>\n",
       "    <tr>\n",
       "      <th>10870</th>\n",
       "      <td>0.000009</td>\n",
       "      <td>0.000009</td>\n",
       "      <td>0.999892</td>\n",
       "      <td>0.000010</td>\n",
       "      <td>0.000017</td>\n",
       "      <td>0.000016</td>\n",
       "      <td>0.000021</td>\n",
       "      <td>0.000011</td>\n",
       "      <td>0.000015</td>\n",
       "    </tr>\n",
       "    <tr>\n",
       "      <th>10871</th>\n",
       "      <td>0.000017</td>\n",
       "      <td>0.999795</td>\n",
       "      <td>0.000018</td>\n",
       "      <td>0.000011</td>\n",
       "      <td>0.000022</td>\n",
       "      <td>0.000019</td>\n",
       "      <td>0.000015</td>\n",
       "      <td>0.000031</td>\n",
       "      <td>0.000073</td>\n",
       "    </tr>\n",
       "    <tr>\n",
       "      <th>10872</th>\n",
       "      <td>0.000014</td>\n",
       "      <td>0.000014</td>\n",
       "      <td>0.000010</td>\n",
       "      <td>0.000011</td>\n",
       "      <td>0.000014</td>\n",
       "      <td>0.000029</td>\n",
       "      <td>0.000010</td>\n",
       "      <td>0.999861</td>\n",
       "      <td>0.000036</td>\n",
       "    </tr>\n",
       "  </tbody>\n",
       "</table>\n",
       "<p>10873 rows × 9 columns</p>\n",
       "</div>"
      ],
      "text/plain": [
       "              0         1         2         3         4         5         6  \\\n",
       "0      0.000232  0.000235  0.000194  0.000189  0.996269  0.001132  0.000516   \n",
       "1      0.000069  0.000142  0.000056  0.000055  0.998794  0.000235  0.000281   \n",
       "2      0.000150  0.000196  0.000106  0.000145  0.998160  0.000257  0.000282   \n",
       "3      0.003723  0.006853  0.003120  0.004150  0.939744  0.015020  0.003415   \n",
       "4      0.000017  0.000014  0.999821  0.000015  0.000037  0.000026  0.000024   \n",
       "...         ...       ...       ...       ...       ...       ...       ...   \n",
       "10868  0.000011  0.000009  0.999891  0.000010  0.000022  0.000015  0.000014   \n",
       "10869  0.000023  0.000138  0.000023  0.000043  0.000046  0.000046  0.999606   \n",
       "10870  0.000009  0.000009  0.999892  0.000010  0.000017  0.000016  0.000021   \n",
       "10871  0.000017  0.999795  0.000018  0.000011  0.000022  0.000019  0.000015   \n",
       "10872  0.000014  0.000014  0.000010  0.000011  0.000014  0.000029  0.000010   \n",
       "\n",
       "              7         8  \n",
       "0      0.000890  0.000341  \n",
       "1      0.000187  0.000183  \n",
       "2      0.000514  0.000188  \n",
       "3      0.019795  0.004180  \n",
       "4      0.000024  0.000022  \n",
       "...         ...       ...  \n",
       "10868  0.000014  0.000014  \n",
       "10869  0.000048  0.000027  \n",
       "10870  0.000011  0.000015  \n",
       "10871  0.000031  0.000073  \n",
       "10872  0.999861  0.000036  \n",
       "\n",
       "[10873 rows x 9 columns]"
      ]
     },
     "execution_count": 114,
     "metadata": {},
     "output_type": "execute_result"
    }
   ],
   "source": [
    "df = pd.DataFrame(pred[1])\n",
    "result = pd.concat([md5hash_test, df], axis=1, sort=False)\n",
    "result.to_csv('submisson.csv')"
   ]
  },
  {
   "cell_type": "code",
   "execution_count": null,
   "metadata": {},
   "outputs": [],
   "source": [
    "preds_clipped=np.clip(preds, 0.025,0.975)"
   ]
  }
 ],
 "metadata": {
  "kernelspec": {
   "display_name": "Python 3",
   "language": "python",
   "name": "python3"
  },
  "language_info": {
   "codemirror_mode": {
    "name": "ipython",
    "version": 3
   },
   "file_extension": ".py",
   "mimetype": "text/x-python",
   "name": "python",
   "nbconvert_exporter": "python",
   "pygments_lexer": "ipython3",
   "version": "3.7.6"
  }
 },
 "nbformat": 4,
 "nbformat_minor": 4
}
