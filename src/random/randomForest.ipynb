{
 "cells": [
  {
   "cell_type": "markdown",
   "metadata": {},
   "source": [
    "<h1><center> Klasifikator </center></h1>"
   ]
  },
  {
   "cell_type": "markdown",
   "metadata": {},
   "source": [
    " <center>\n",
    "    <h1><center>Microsoft malware classification</center></h1>\n",
    "    <i>Klasifikacija zlonamjernog softvera</i> \n",
    "    <br><br>\n",
    "    PRIRODOSLOVNO MATEMATIČKI FAKULTET - MATEMATIČKI ODSJEK <br>\n",
    "    <b>Lipanj 2020.</b> \n",
    "    <br><br>\n",
    "    <i>Stanišić Matea, Škrabo Petra, Terzanović Mateja, Tolja Margarita</i>  \n",
    "</center>\n",
    "\n",
    "***"
   ]
  },
  {
   "cell_type": "markdown",
   "metadata": {},
   "source": [
    "Potrebno je u anaconda prompt-u instalirati xgboost s:<br>\n",
    "<code>conda install -c anaconda py-xgboost</code>"
   ]
  },
  {
   "cell_type": "markdown",
   "metadata": {},
   "source": [
    "### Priprema"
   ]
  },
  {
   "cell_type": "code",
   "execution_count": 2,
   "metadata": {},
   "outputs": [],
   "source": [
    "# potrebni paketi\n",
    "import numpy as np\n",
    "from numpy import mean\n",
    "from numpy import std\n",
    "from numpy import loadtxt\n",
    "import pandas as pd\n",
    "import matplotlib.pyplot as plt\n",
    "import matplotlib.cm as cm\n",
    "from matplotlib import pyplot\n",
    "from IPython.core.pylabtools import figsize\n",
    "from collections import Counter\n",
    "import random\n",
    "\n",
    "import xgboost as xgb\n",
    "from xgboost import XGBClassifier\n",
    "from sklearn.metrics import precision_score, log_loss, accuracy_score\n",
    "from sklearn.model_selection import train_test_split, cross_val_score, RepeatedStratifiedKFold, StratifiedKFold, RandomizedSearchCV\n",
    "from sklearn.ensemble import RandomForestClassifier, ExtraTreesClassifier, BaggingClassifier\n",
    "from sklearn.metrics import confusion_matrix\n",
    "from imblearn.over_sampling import RandomOverSampler, SMOTE, ADASYN\n",
    "from imblearn.under_sampling import RandomUnderSampler\n",
    "from sklearn.utils import class_weight"
   ]
  },
  {
   "cell_type": "code",
   "execution_count": 3,
   "metadata": {},
   "outputs": [],
   "source": [
    "# učitavanje svih značajki iz training skupa\n",
    "features = pd.read_csv(\"https://raw.githubusercontent.com/mateastanisic/lfs/master/merged_all_features.csv\")"
   ]
  },
  {
   "cell_type": "code",
   "execution_count": 4,
   "metadata": {},
   "outputs": [],
   "source": [
    "# učitavanje svih značajki iz training skupa\n",
    "selected_features = pd.read_csv('selected_features_pca_train_cv2.csv')"
   ]
  },
  {
   "cell_type": "code",
   "execution_count": 5,
   "metadata": {},
   "outputs": [],
   "source": [
    "selected_features = selected_features[list(selected_features.columns.values[:40])]"
   ]
  },
  {
   "cell_type": "code",
   "execution_count": 5,
   "metadata": {},
   "outputs": [
    {
     "data": {
      "text/html": [
       "<div>\n",
       "<style scoped>\n",
       "    .dataframe tbody tr th:only-of-type {\n",
       "        vertical-align: middle;\n",
       "    }\n",
       "\n",
       "    .dataframe tbody tr th {\n",
       "        vertical-align: top;\n",
       "    }\n",
       "\n",
       "    .dataframe thead th {\n",
       "        text-align: right;\n",
       "    }\n",
       "</style>\n",
       "<table border=\"1\" class=\"dataframe\">\n",
       "  <thead>\n",
       "    <tr style=\"text-align: right;\">\n",
       "      <th></th>\n",
       "      <th>Id</th>\n",
       "      <th>Class</th>\n",
       "      <th>byte_1G_00</th>\n",
       "      <th>byte_1G_01</th>\n",
       "      <th>byte_1G_02</th>\n",
       "      <th>byte_1G_03</th>\n",
       "      <th>byte_1G_04</th>\n",
       "      <th>byte_1G_05</th>\n",
       "      <th>byte_1G_06</th>\n",
       "      <th>byte_1G_07</th>\n",
       "      <th>...</th>\n",
       "      <th>visualc</th>\n",
       "      <th>___security_cookie</th>\n",
       "      <th>assume</th>\n",
       "      <th>callvirtualalloc</th>\n",
       "      <th>exportedentry</th>\n",
       "      <th>hardware</th>\n",
       "      <th>hkey_current_user</th>\n",
       "      <th>hkey_local_machine</th>\n",
       "      <th>sp-analysisfailed</th>\n",
       "      <th>unableto</th>\n",
       "    </tr>\n",
       "  </thead>\n",
       "  <tbody>\n",
       "    <tr>\n",
       "      <th>0</th>\n",
       "      <td>01kcPWA9K2BOxQeS5Rju</td>\n",
       "      <td>1</td>\n",
       "      <td>21091</td>\n",
       "      <td>1213</td>\n",
       "      <td>726</td>\n",
       "      <td>817</td>\n",
       "      <td>1257</td>\n",
       "      <td>625</td>\n",
       "      <td>550</td>\n",
       "      <td>523</td>\n",
       "      <td>...</td>\n",
       "      <td>0</td>\n",
       "      <td>0</td>\n",
       "      <td>0</td>\n",
       "      <td>0</td>\n",
       "      <td>0</td>\n",
       "      <td>0</td>\n",
       "      <td>0</td>\n",
       "      <td>0</td>\n",
       "      <td>0</td>\n",
       "      <td>0</td>\n",
       "    </tr>\n",
       "    <tr>\n",
       "      <th>1</th>\n",
       "      <td>04EjIdbPV5e1XroFOpiN</td>\n",
       "      <td>1</td>\n",
       "      <td>40030</td>\n",
       "      <td>1980</td>\n",
       "      <td>1226</td>\n",
       "      <td>1193</td>\n",
       "      <td>1971</td>\n",
       "      <td>1096</td>\n",
       "      <td>961</td>\n",
       "      <td>755</td>\n",
       "      <td>...</td>\n",
       "      <td>0</td>\n",
       "      <td>0</td>\n",
       "      <td>0</td>\n",
       "      <td>0</td>\n",
       "      <td>0</td>\n",
       "      <td>0</td>\n",
       "      <td>0</td>\n",
       "      <td>0</td>\n",
       "      <td>0</td>\n",
       "      <td>0</td>\n",
       "    </tr>\n",
       "    <tr>\n",
       "      <th>2</th>\n",
       "      <td>05EeG39MTRrI6VY21DPd</td>\n",
       "      <td>1</td>\n",
       "      <td>19419</td>\n",
       "      <td>955</td>\n",
       "      <td>693</td>\n",
       "      <td>656</td>\n",
       "      <td>832</td>\n",
       "      <td>463</td>\n",
       "      <td>370</td>\n",
       "      <td>510</td>\n",
       "      <td>...</td>\n",
       "      <td>0</td>\n",
       "      <td>0</td>\n",
       "      <td>0</td>\n",
       "      <td>0</td>\n",
       "      <td>0</td>\n",
       "      <td>0</td>\n",
       "      <td>0</td>\n",
       "      <td>0</td>\n",
       "      <td>0</td>\n",
       "      <td>0</td>\n",
       "    </tr>\n",
       "    <tr>\n",
       "      <th>3</th>\n",
       "      <td>05rJTUWYAKNegBk2wE8X</td>\n",
       "      <td>1</td>\n",
       "      <td>79568</td>\n",
       "      <td>6445</td>\n",
       "      <td>3143</td>\n",
       "      <td>2517</td>\n",
       "      <td>4982</td>\n",
       "      <td>1824</td>\n",
       "      <td>2125</td>\n",
       "      <td>2964</td>\n",
       "      <td>...</td>\n",
       "      <td>0</td>\n",
       "      <td>0</td>\n",
       "      <td>2</td>\n",
       "      <td>0</td>\n",
       "      <td>0</td>\n",
       "      <td>0</td>\n",
       "      <td>0</td>\n",
       "      <td>0</td>\n",
       "      <td>0</td>\n",
       "      <td>0</td>\n",
       "    </tr>\n",
       "    <tr>\n",
       "      <th>4</th>\n",
       "      <td>0AnoOZDNbPXIr2MRBSCJ</td>\n",
       "      <td>1</td>\n",
       "      <td>25791</td>\n",
       "      <td>1202</td>\n",
       "      <td>569</td>\n",
       "      <td>750</td>\n",
       "      <td>948</td>\n",
       "      <td>456</td>\n",
       "      <td>405</td>\n",
       "      <td>517</td>\n",
       "      <td>...</td>\n",
       "      <td>0</td>\n",
       "      <td>0</td>\n",
       "      <td>0</td>\n",
       "      <td>0</td>\n",
       "      <td>0</td>\n",
       "      <td>0</td>\n",
       "      <td>0</td>\n",
       "      <td>0</td>\n",
       "      <td>0</td>\n",
       "      <td>0</td>\n",
       "    </tr>\n",
       "  </tbody>\n",
       "</table>\n",
       "<p>5 rows × 1695 columns</p>\n",
       "</div>"
      ],
      "text/plain": [
       "                     Id  Class  byte_1G_00  byte_1G_01  byte_1G_02  \\\n",
       "0  01kcPWA9K2BOxQeS5Rju      1       21091        1213         726   \n",
       "1  04EjIdbPV5e1XroFOpiN      1       40030        1980        1226   \n",
       "2  05EeG39MTRrI6VY21DPd      1       19419         955         693   \n",
       "3  05rJTUWYAKNegBk2wE8X      1       79568        6445        3143   \n",
       "4  0AnoOZDNbPXIr2MRBSCJ      1       25791        1202         569   \n",
       "\n",
       "   byte_1G_03  byte_1G_04  byte_1G_05  byte_1G_06  byte_1G_07  ...  visualc  \\\n",
       "0         817        1257         625         550         523  ...        0   \n",
       "1        1193        1971        1096         961         755  ...        0   \n",
       "2         656         832         463         370         510  ...        0   \n",
       "3        2517        4982        1824        2125        2964  ...        0   \n",
       "4         750         948         456         405         517  ...        0   \n",
       "\n",
       "   ___security_cookie  assume  callvirtualalloc  exportedentry  hardware  \\\n",
       "0                   0       0                 0              0         0   \n",
       "1                   0       0                 0              0         0   \n",
       "2                   0       0                 0              0         0   \n",
       "3                   0       2                 0              0         0   \n",
       "4                   0       0                 0              0         0   \n",
       "\n",
       "   hkey_current_user  hkey_local_machine  sp-analysisfailed  unableto  \n",
       "0                  0                   0                  0         0  \n",
       "1                  0                   0                  0         0  \n",
       "2                  0                   0                  0         0  \n",
       "3                  0                   0                  0         0  \n",
       "4                  0                   0                  0         0  \n",
       "\n",
       "[5 rows x 1695 columns]"
      ]
     },
     "execution_count": 5,
     "metadata": {},
     "output_type": "execute_result"
    }
   ],
   "source": [
    "features.head()"
   ]
  },
  {
   "cell_type": "code",
   "execution_count": 6,
   "metadata": {},
   "outputs": [
    {
     "data": {
      "text/html": [
       "<div>\n",
       "<style scoped>\n",
       "    .dataframe tbody tr th:only-of-type {\n",
       "        vertical-align: middle;\n",
       "    }\n",
       "\n",
       "    .dataframe tbody tr th {\n",
       "        vertical-align: top;\n",
       "    }\n",
       "\n",
       "    .dataframe thead th {\n",
       "        text-align: right;\n",
       "    }\n",
       "</style>\n",
       "<table border=\"1\" class=\"dataframe\">\n",
       "  <thead>\n",
       "    <tr style=\"text-align: right;\">\n",
       "      <th></th>\n",
       "      <th>Unnamed: 0</th>\n",
       "      <th>PC1</th>\n",
       "      <th>PC2</th>\n",
       "      <th>PC3</th>\n",
       "      <th>PC4</th>\n",
       "      <th>PC5</th>\n",
       "      <th>PC6</th>\n",
       "      <th>PC7</th>\n",
       "      <th>PC8</th>\n",
       "      <th>PC9</th>\n",
       "      <th>...</th>\n",
       "      <th>PC30</th>\n",
       "      <th>PC31</th>\n",
       "      <th>PC32</th>\n",
       "      <th>PC33</th>\n",
       "      <th>PC34</th>\n",
       "      <th>PC35</th>\n",
       "      <th>PC36</th>\n",
       "      <th>PC37</th>\n",
       "      <th>PC38</th>\n",
       "      <th>PC39</th>\n",
       "    </tr>\n",
       "  </thead>\n",
       "  <tbody>\n",
       "    <tr>\n",
       "      <th>0</th>\n",
       "      <td>0</td>\n",
       "      <td>1.674513</td>\n",
       "      <td>-3.059634</td>\n",
       "      <td>-3.894463</td>\n",
       "      <td>3.289645</td>\n",
       "      <td>0.150883</td>\n",
       "      <td>-1.472087</td>\n",
       "      <td>-0.024001</td>\n",
       "      <td>0.238912</td>\n",
       "      <td>0.142270</td>\n",
       "      <td>...</td>\n",
       "      <td>0.151829</td>\n",
       "      <td>-0.514771</td>\n",
       "      <td>-0.084412</td>\n",
       "      <td>0.068432</td>\n",
       "      <td>0.073591</td>\n",
       "      <td>-0.089930</td>\n",
       "      <td>0.065747</td>\n",
       "      <td>0.070795</td>\n",
       "      <td>0.097492</td>\n",
       "      <td>0.132126</td>\n",
       "    </tr>\n",
       "    <tr>\n",
       "      <th>1</th>\n",
       "      <td>1</td>\n",
       "      <td>5.906251</td>\n",
       "      <td>1.554144</td>\n",
       "      <td>-2.833053</td>\n",
       "      <td>2.938874</td>\n",
       "      <td>0.805299</td>\n",
       "      <td>-3.636518</td>\n",
       "      <td>-0.402669</td>\n",
       "      <td>0.606742</td>\n",
       "      <td>1.311709</td>\n",
       "      <td>...</td>\n",
       "      <td>0.044457</td>\n",
       "      <td>-0.284964</td>\n",
       "      <td>-0.490513</td>\n",
       "      <td>0.064460</td>\n",
       "      <td>-0.248158</td>\n",
       "      <td>0.136959</td>\n",
       "      <td>0.022552</td>\n",
       "      <td>-0.000118</td>\n",
       "      <td>0.120075</td>\n",
       "      <td>0.210595</td>\n",
       "    </tr>\n",
       "    <tr>\n",
       "      <th>2</th>\n",
       "      <td>2</td>\n",
       "      <td>3.221069</td>\n",
       "      <td>-2.617408</td>\n",
       "      <td>-3.272275</td>\n",
       "      <td>2.647972</td>\n",
       "      <td>-0.069620</td>\n",
       "      <td>-4.990653</td>\n",
       "      <td>-0.219473</td>\n",
       "      <td>1.012171</td>\n",
       "      <td>0.981318</td>\n",
       "      <td>...</td>\n",
       "      <td>-0.125125</td>\n",
       "      <td>0.254433</td>\n",
       "      <td>-0.620814</td>\n",
       "      <td>0.336074</td>\n",
       "      <td>-0.126646</td>\n",
       "      <td>0.228267</td>\n",
       "      <td>0.082945</td>\n",
       "      <td>-0.081503</td>\n",
       "      <td>0.223538</td>\n",
       "      <td>0.441006</td>\n",
       "    </tr>\n",
       "    <tr>\n",
       "      <th>3</th>\n",
       "      <td>3</td>\n",
       "      <td>18.763987</td>\n",
       "      <td>17.527091</td>\n",
       "      <td>-0.863160</td>\n",
       "      <td>0.153083</td>\n",
       "      <td>-2.711496</td>\n",
       "      <td>-0.721077</td>\n",
       "      <td>-0.585667</td>\n",
       "      <td>6.261385</td>\n",
       "      <td>-0.466834</td>\n",
       "      <td>...</td>\n",
       "      <td>0.256698</td>\n",
       "      <td>-4.040179</td>\n",
       "      <td>-5.343816</td>\n",
       "      <td>2.850072</td>\n",
       "      <td>-0.593122</td>\n",
       "      <td>0.928882</td>\n",
       "      <td>-0.029514</td>\n",
       "      <td>0.358611</td>\n",
       "      <td>1.513826</td>\n",
       "      <td>2.976356</td>\n",
       "    </tr>\n",
       "    <tr>\n",
       "      <th>4</th>\n",
       "      <td>4</td>\n",
       "      <td>1.093519</td>\n",
       "      <td>-0.463915</td>\n",
       "      <td>-3.847778</td>\n",
       "      <td>1.583634</td>\n",
       "      <td>-2.348521</td>\n",
       "      <td>-0.712134</td>\n",
       "      <td>1.890559</td>\n",
       "      <td>-1.005999</td>\n",
       "      <td>0.738036</td>\n",
       "      <td>...</td>\n",
       "      <td>0.063579</td>\n",
       "      <td>-0.321892</td>\n",
       "      <td>-0.229663</td>\n",
       "      <td>-0.044180</td>\n",
       "      <td>0.407910</td>\n",
       "      <td>0.029281</td>\n",
       "      <td>0.068431</td>\n",
       "      <td>-0.061297</td>\n",
       "      <td>0.152343</td>\n",
       "      <td>0.453407</td>\n",
       "    </tr>\n",
       "  </tbody>\n",
       "</table>\n",
       "<p>5 rows × 40 columns</p>\n",
       "</div>"
      ],
      "text/plain": [
       "   Unnamed: 0        PC1        PC2       PC3       PC4       PC5       PC6  \\\n",
       "0           0   1.674513  -3.059634 -3.894463  3.289645  0.150883 -1.472087   \n",
       "1           1   5.906251   1.554144 -2.833053  2.938874  0.805299 -3.636518   \n",
       "2           2   3.221069  -2.617408 -3.272275  2.647972 -0.069620 -4.990653   \n",
       "3           3  18.763987  17.527091 -0.863160  0.153083 -2.711496 -0.721077   \n",
       "4           4   1.093519  -0.463915 -3.847778  1.583634 -2.348521 -0.712134   \n",
       "\n",
       "        PC7       PC8       PC9  ...      PC30      PC31      PC32      PC33  \\\n",
       "0 -0.024001  0.238912  0.142270  ...  0.151829 -0.514771 -0.084412  0.068432   \n",
       "1 -0.402669  0.606742  1.311709  ...  0.044457 -0.284964 -0.490513  0.064460   \n",
       "2 -0.219473  1.012171  0.981318  ... -0.125125  0.254433 -0.620814  0.336074   \n",
       "3 -0.585667  6.261385 -0.466834  ...  0.256698 -4.040179 -5.343816  2.850072   \n",
       "4  1.890559 -1.005999  0.738036  ...  0.063579 -0.321892 -0.229663 -0.044180   \n",
       "\n",
       "       PC34      PC35      PC36      PC37      PC38      PC39  \n",
       "0  0.073591 -0.089930  0.065747  0.070795  0.097492  0.132126  \n",
       "1 -0.248158  0.136959  0.022552 -0.000118  0.120075  0.210595  \n",
       "2 -0.126646  0.228267  0.082945 -0.081503  0.223538  0.441006  \n",
       "3 -0.593122  0.928882 -0.029514  0.358611  1.513826  2.976356  \n",
       "4  0.407910  0.029281  0.068431 -0.061297  0.152343  0.453407  \n",
       "\n",
       "[5 rows x 40 columns]"
      ]
     },
     "execution_count": 6,
     "metadata": {},
     "output_type": "execute_result"
    }
   ],
   "source": [
    "selected_features.head()"
   ]
  },
  {
   "cell_type": "code",
   "execution_count": 35,
   "metadata": {},
   "outputs": [],
   "source": [
    "#postavljanje seed-a za podjelu podataka na train i test\n",
    "seed = 40"
   ]
  },
  {
   "cell_type": "code",
   "execution_count": 34,
   "metadata": {},
   "outputs": [],
   "source": [
    "X=selected_features.iloc[:,1:187]\n",
    "y=features.iloc[:,1]\n",
    "X_train, X_test, y_train, y_test = train_test_split( X, features['Class'], test_size=0.3, random_state=seed)"
   ]
  },
  {
   "cell_type": "markdown",
   "metadata": {},
   "source": [
    "### XGBClassifier"
   ]
  },
  {
   "cell_type": "code",
   "execution_count": 47,
   "metadata": {},
   "outputs": [],
   "source": [
    "def model_test(model, X_test, y_test):\n",
    "    \n",
    "    preds = model.predict_proba(X_test)\n",
    "    #preds=np.clip(preds, 0.025,0.975)\n",
    "    best_preds = model.predict(X_test)\n",
    "\n",
    "    score_log = log_loss(y_test,preds,eps=1e-15)\n",
    "    score_acc = accuracy_score(y_test, best_preds)\n",
    "\n",
    "    print('Logloss:' + str(score_log))\n",
    "    print('Accuracy:' + str(score_acc))\n",
    "\n",
    "    make_and_plot_confusion_matrix(y_test,best_preds)\n"
   ]
  },
  {
   "cell_type": "markdown",
   "metadata": {},
   "source": [
    "###  confusion matrix"
   ]
  },
  {
   "cell_type": "code",
   "execution_count": 49,
   "metadata": {},
   "outputs": [],
   "source": [
    "#funkcija koja računa i crta matricu konfuzije\n",
    "def make_and_plot_confusion_matrix(y_test, best_preds):\n",
    "    names = ['class 1', 'class 2','class 3', 'class 4', 'class 5','class 6', 'class 7', 'class 8', 'class 9']\n",
    "    cm = confusion_matrix(y_test, best_preds)\n",
    "    cm = cm.astype('float') / cm.sum(axis=1)[:, np.newaxis]\n",
    "    \n",
    "    norm_conf = []\n",
    "    for i in cm:\n",
    "        a = 0\n",
    "        tmp_arr = []\n",
    "        a = sum(i, 0)\n",
    "        for j in i:\n",
    "            tmp_arr.append(float(j)/float(a))\n",
    "        norm_conf.append(tmp_arr)\n",
    "\n",
    "    fig = plt.figure(figsize(10, 10))\n",
    "    plt.clf()\n",
    "    ax = fig.add_subplot(111)\n",
    "    ax.set_aspect(1)\n",
    "    \n",
    "    res = ax.imshow(np.array(norm_conf), cmap=plt.cm.Blues, interpolation='nearest')\n",
    "\n",
    "    width = len(cm)\n",
    "    height = len(cm[0])\n",
    "\n",
    "    for x in range(width):\n",
    "        for y in range(height):\n",
    "            ax.annotate(str(format(round(cm[x][y], 2))), xy=(y, x), horizontalalignment='center', verticalalignment='center')\n",
    "    plt.title('Confusion matrix')\n",
    "    cb = fig.colorbar(res)\n",
    "    plt.xticks(range(width), names)\n",
    "    plt.yticks(range(height), names)"
   ]
  },
  {
   "cell_type": "code",
   "execution_count": 43,
   "metadata": {},
   "outputs": [],
   "source": [
    "params['n_estimators'] = 200"
   ]
  },
  {
   "cell_type": "markdown",
   "metadata": {},
   "source": [
    "### testiranje parametara"
   ]
  },
  {
   "cell_type": "markdown",
   "metadata": {},
   "source": [
    "### isto samo s neg_log_loss"
   ]
  },
  {
   "cell_type": "code",
   "execution_count": 11,
   "metadata": {},
   "outputs": [],
   "source": [
    "model = RandomForestClassifier()"
   ]
  },
  {
   "cell_type": "code",
   "execution_count": 19,
   "metadata": {},
   "outputs": [],
   "source": [
    "bootstrap_range = [True, False]\n",
    "max_depth_range = [5, 10, 20, 30, 40, 50, 60, 70, 80, 90, 100, None]\n",
    "max_features_range = ['auto', 'sqrt']\n",
    "min_samples_leaf_range = [1, 2, 4]\n",
    "min_samples_split_range = [2, 5, 10]\n",
    "n_estimators_range = [100, 200, 400, 600]\n",
    "\n",
    "param_ranges = dict(bootstrap=bootstrap_range,\n",
    "                    max_depth=max_depth_range,\n",
    "                    max_features=max_features_range,\n",
    "                    min_samples_leaf=min_samples_leaf_range, \n",
    "                    min_samples_split=min_samples_split_range,\n",
    "                    n_estimators=n_estimators_range)"
   ]
  },
  {
   "cell_type": "code",
   "execution_count": 20,
   "metadata": {},
   "outputs": [
    {
     "data": {
      "text/plain": [
       "RandomizedSearchCV(cv=4, error_score=nan,\n",
       "                   estimator=RandomForestClassifier(bootstrap=True,\n",
       "                                                    ccp_alpha=0.0,\n",
       "                                                    class_weight=None,\n",
       "                                                    criterion='gini',\n",
       "                                                    max_depth=None,\n",
       "                                                    max_features='auto',\n",
       "                                                    max_leaf_nodes=None,\n",
       "                                                    max_samples=None,\n",
       "                                                    min_impurity_decrease=0.0,\n",
       "                                                    min_impurity_split=None,\n",
       "                                                    min_samples_leaf=1,\n",
       "                                                    min_samples_split=2,\n",
       "                                                    min_weight_fraction_leaf=0.0,\n",
       "                                                    n_estimators=100,\n",
       "                                                    n_jobs...\n",
       "                   iid='deprecated', n_iter=30, n_jobs=-1,\n",
       "                   param_distributions={'bootstrap': [True, False],\n",
       "                                        'max_depth': [5, 10, 20, 30, 40, 50, 60,\n",
       "                                                      70, 80, 90, 100, None],\n",
       "                                        'max_features': ['auto', 'sqrt'],\n",
       "                                        'min_samples_leaf': [1, 2, 4],\n",
       "                                        'min_samples_split': [2, 5, 10],\n",
       "                                        'n_estimators': [100, 200, 400, 600]},\n",
       "                   pre_dispatch='2*n_jobs', random_state=5, refit=True,\n",
       "                   return_train_score=False, scoring='neg_log_loss', verbose=0)"
      ]
     },
     "execution_count": 20,
     "metadata": {},
     "output_type": "execute_result"
    }
   ],
   "source": [
    "# koristimo RandomizedSearchCV za testiranje parametara\n",
    "# neg_log_los je bolji što je veći(suprotno od logloss). Ovdje se ne može koristiti logloss\n",
    "rand_search = RandomizedSearchCV(model, param_ranges, cv=4, scoring='neg_log_loss', n_iter=30, \n",
    "                                 random_state=5, return_train_score=False, n_jobs=-1)\n",
    "rand_search.fit(X, y)"
   ]
  },
  {
   "cell_type": "code",
   "execution_count": 21,
   "metadata": {},
   "outputs": [
    {
     "data": {
      "text/html": [
       "<div>\n",
       "<style scoped>\n",
       "    .dataframe tbody tr th:only-of-type {\n",
       "        vertical-align: middle;\n",
       "    }\n",
       "\n",
       "    .dataframe tbody tr th {\n",
       "        vertical-align: top;\n",
       "    }\n",
       "\n",
       "    .dataframe thead th {\n",
       "        text-align: right;\n",
       "    }\n",
       "</style>\n",
       "<table border=\"1\" class=\"dataframe\">\n",
       "  <thead>\n",
       "    <tr style=\"text-align: right;\">\n",
       "      <th></th>\n",
       "      <th>mean_test_score</th>\n",
       "      <th>params</th>\n",
       "    </tr>\n",
       "  </thead>\n",
       "  <tbody>\n",
       "    <tr>\n",
       "      <th>0</th>\n",
       "      <td>-0.097419</td>\n",
       "      <td>{'n_estimators': 200, 'min_samples_split': 2, 'min_samples_leaf': 2, 'max_features': 'auto', 'max_depth': None, 'bootstrap': True}</td>\n",
       "    </tr>\n",
       "    <tr>\n",
       "      <th>1</th>\n",
       "      <td>-0.380832</td>\n",
       "      <td>{'n_estimators': 400, 'min_samples_split': 2, 'min_samples_leaf': 2, 'max_features': 'sqrt', 'max_depth': 5, 'bootstrap': True}</td>\n",
       "    </tr>\n",
       "    <tr>\n",
       "      <th>2</th>\n",
       "      <td>-0.081359</td>\n",
       "      <td>{'n_estimators': 600, 'min_samples_split': 5, 'min_samples_leaf': 2, 'max_features': 'auto', 'max_depth': 40, 'bootstrap': False}</td>\n",
       "    </tr>\n",
       "    <tr>\n",
       "      <th>3</th>\n",
       "      <td>-0.093788</td>\n",
       "      <td>{'n_estimators': 200, 'min_samples_split': 2, 'min_samples_leaf': 4, 'max_features': 'auto', 'max_depth': 40, 'bootstrap': False}</td>\n",
       "    </tr>\n",
       "    <tr>\n",
       "      <th>4</th>\n",
       "      <td>-0.117801</td>\n",
       "      <td>{'n_estimators': 600, 'min_samples_split': 10, 'min_samples_leaf': 4, 'max_features': 'auto', 'max_depth': 50, 'bootstrap': True}</td>\n",
       "    </tr>\n",
       "    <tr>\n",
       "      <th>5</th>\n",
       "      <td>-0.118403</td>\n",
       "      <td>{'n_estimators': 100, 'min_samples_split': 10, 'min_samples_leaf': 4, 'max_features': 'sqrt', 'max_depth': 20, 'bootstrap': True}</td>\n",
       "    </tr>\n",
       "    <tr>\n",
       "      <th>6</th>\n",
       "      <td>-0.094881</td>\n",
       "      <td>{'n_estimators': 100, 'min_samples_split': 2, 'min_samples_leaf': 4, 'max_features': 'auto', 'max_depth': 70, 'bootstrap': False}</td>\n",
       "    </tr>\n",
       "    <tr>\n",
       "      <th>7</th>\n",
       "      <td>-0.078766</td>\n",
       "      <td>{'n_estimators': 100, 'min_samples_split': 2, 'min_samples_leaf': 1, 'max_features': 'auto', 'max_depth': 30, 'bootstrap': False}</td>\n",
       "    </tr>\n",
       "    <tr>\n",
       "      <th>8</th>\n",
       "      <td>-0.087188</td>\n",
       "      <td>{'n_estimators': 100, 'min_samples_split': 10, 'min_samples_leaf': 1, 'max_features': 'sqrt', 'max_depth': 50, 'bootstrap': False}</td>\n",
       "    </tr>\n",
       "    <tr>\n",
       "      <th>9</th>\n",
       "      <td>-0.101458</td>\n",
       "      <td>{'n_estimators': 100, 'min_samples_split': 5, 'min_samples_leaf': 1, 'max_features': 'sqrt', 'max_depth': 10, 'bootstrap': False}</td>\n",
       "    </tr>\n",
       "    <tr>\n",
       "      <th>10</th>\n",
       "      <td>-0.121347</td>\n",
       "      <td>{'n_estimators': 100, 'min_samples_split': 10, 'min_samples_leaf': 4, 'max_features': 'auto', 'max_depth': 60, 'bootstrap': True}</td>\n",
       "    </tr>\n",
       "    <tr>\n",
       "      <th>11</th>\n",
       "      <td>-0.098345</td>\n",
       "      <td>{'n_estimators': 200, 'min_samples_split': 5, 'min_samples_leaf': 2, 'max_features': 'sqrt', 'max_depth': 30, 'bootstrap': True}</td>\n",
       "    </tr>\n",
       "    <tr>\n",
       "      <th>12</th>\n",
       "      <td>-0.083639</td>\n",
       "      <td>{'n_estimators': 200, 'min_samples_split': 2, 'min_samples_leaf': 1, 'max_features': 'auto', 'max_depth': 30, 'bootstrap': False}</td>\n",
       "    </tr>\n",
       "    <tr>\n",
       "      <th>13</th>\n",
       "      <td>-0.377529</td>\n",
       "      <td>{'n_estimators': 600, 'min_samples_split': 5, 'min_samples_leaf': 1, 'max_features': 'auto', 'max_depth': 5, 'bootstrap': False}</td>\n",
       "    </tr>\n",
       "    <tr>\n",
       "      <th>14</th>\n",
       "      <td>-0.118420</td>\n",
       "      <td>{'n_estimators': 200, 'min_samples_split': 10, 'min_samples_leaf': 4, 'max_features': 'auto', 'max_depth': None, 'bootstrap': True}</td>\n",
       "    </tr>\n",
       "    <tr>\n",
       "      <th>15</th>\n",
       "      <td>-0.098592</td>\n",
       "      <td>{'n_estimators': 400, 'min_samples_split': 5, 'min_samples_leaf': 2, 'max_features': 'sqrt', 'max_depth': 40, 'bootstrap': True}</td>\n",
       "    </tr>\n",
       "    <tr>\n",
       "      <th>16</th>\n",
       "      <td>-0.080126</td>\n",
       "      <td>{'n_estimators': 200, 'min_samples_split': 2, 'min_samples_leaf': 2, 'max_features': 'sqrt', 'max_depth': 50, 'bootstrap': False}</td>\n",
       "    </tr>\n",
       "    <tr>\n",
       "      <th>17</th>\n",
       "      <td>-0.089247</td>\n",
       "      <td>{'n_estimators': 200, 'min_samples_split': 5, 'min_samples_leaf': 2, 'max_features': 'sqrt', 'max_depth': 20, 'bootstrap': False}</td>\n",
       "    </tr>\n",
       "    <tr>\n",
       "      <th>18</th>\n",
       "      <td>-0.108912</td>\n",
       "      <td>{'n_estimators': 400, 'min_samples_split': 10, 'min_samples_leaf': 2, 'max_features': 'sqrt', 'max_depth': 40, 'bootstrap': True}</td>\n",
       "    </tr>\n",
       "    <tr>\n",
       "      <th>19</th>\n",
       "      <td>-0.086157</td>\n",
       "      <td>{'n_estimators': 400, 'min_samples_split': 10, 'min_samples_leaf': 1, 'max_features': 'auto', 'max_depth': 30, 'bootstrap': False}</td>\n",
       "    </tr>\n",
       "    <tr>\n",
       "      <th>20</th>\n",
       "      <td>-0.089857</td>\n",
       "      <td>{'n_estimators': 200, 'min_samples_split': 2, 'min_samples_leaf': 1, 'max_features': 'auto', 'max_depth': 60, 'bootstrap': True}</td>\n",
       "    </tr>\n",
       "    <tr>\n",
       "      <th>21</th>\n",
       "      <td>-0.114521</td>\n",
       "      <td>{'n_estimators': 400, 'min_samples_split': 2, 'min_samples_leaf': 2, 'max_features': 'auto', 'max_depth': 10, 'bootstrap': True}</td>\n",
       "    </tr>\n",
       "    <tr>\n",
       "      <th>22</th>\n",
       "      <td>-0.118049</td>\n",
       "      <td>{'n_estimators': 600, 'min_samples_split': 10, 'min_samples_leaf': 4, 'max_features': 'sqrt', 'max_depth': 70, 'bootstrap': True}</td>\n",
       "    </tr>\n",
       "    <tr>\n",
       "      <th>23</th>\n",
       "      <td>-0.075741</td>\n",
       "      <td>{'n_estimators': 200, 'min_samples_split': 2, 'min_samples_leaf': 1, 'max_features': 'sqrt', 'max_depth': 60, 'bootstrap': False}</td>\n",
       "    </tr>\n",
       "    <tr>\n",
       "      <th>24</th>\n",
       "      <td>-0.098257</td>\n",
       "      <td>{'n_estimators': 600, 'min_samples_split': 2, 'min_samples_leaf': 1, 'max_features': 'sqrt', 'max_depth': 10, 'bootstrap': False}</td>\n",
       "    </tr>\n",
       "    <tr>\n",
       "      <th>25</th>\n",
       "      <td>-0.101541</td>\n",
       "      <td>{'n_estimators': 100, 'min_samples_split': 5, 'min_samples_leaf': 2, 'max_features': 'sqrt', 'max_depth': 70, 'bootstrap': True}</td>\n",
       "    </tr>\n",
       "    <tr>\n",
       "      <th>26</th>\n",
       "      <td>-0.110236</td>\n",
       "      <td>{'n_estimators': 100, 'min_samples_split': 10, 'min_samples_leaf': 2, 'max_features': 'auto', 'max_depth': 90, 'bootstrap': True}</td>\n",
       "    </tr>\n",
       "    <tr>\n",
       "      <th>27</th>\n",
       "      <td>-0.109057</td>\n",
       "      <td>{'n_estimators': 600, 'min_samples_split': 10, 'min_samples_leaf': 2, 'max_features': 'auto', 'max_depth': 70, 'bootstrap': True}</td>\n",
       "    </tr>\n",
       "    <tr>\n",
       "      <th>28</th>\n",
       "      <td>-0.093703</td>\n",
       "      <td>{'n_estimators': 200, 'min_samples_split': 5, 'min_samples_leaf': 4, 'max_features': 'sqrt', 'max_depth': 30, 'bootstrap': False}</td>\n",
       "    </tr>\n",
       "    <tr>\n",
       "      <th>29</th>\n",
       "      <td>-0.090049</td>\n",
       "      <td>{'n_estimators': 400, 'min_samples_split': 10, 'min_samples_leaf': 2, 'max_features': 'auto', 'max_depth': 40, 'bootstrap': False}</td>\n",
       "    </tr>\n",
       "  </tbody>\n",
       "</table>\n",
       "</div>"
      ],
      "text/plain": [
       "    mean_test_score  \\\n",
       "0         -0.097419   \n",
       "1         -0.380832   \n",
       "2         -0.081359   \n",
       "3         -0.093788   \n",
       "4         -0.117801   \n",
       "5         -0.118403   \n",
       "6         -0.094881   \n",
       "7         -0.078766   \n",
       "8         -0.087188   \n",
       "9         -0.101458   \n",
       "10        -0.121347   \n",
       "11        -0.098345   \n",
       "12        -0.083639   \n",
       "13        -0.377529   \n",
       "14        -0.118420   \n",
       "15        -0.098592   \n",
       "16        -0.080126   \n",
       "17        -0.089247   \n",
       "18        -0.108912   \n",
       "19        -0.086157   \n",
       "20        -0.089857   \n",
       "21        -0.114521   \n",
       "22        -0.118049   \n",
       "23        -0.075741   \n",
       "24        -0.098257   \n",
       "25        -0.101541   \n",
       "26        -0.110236   \n",
       "27        -0.109057   \n",
       "28        -0.093703   \n",
       "29        -0.090049   \n",
       "\n",
       "                                                                                                                                 params  \n",
       "0    {'n_estimators': 200, 'min_samples_split': 2, 'min_samples_leaf': 2, 'max_features': 'auto', 'max_depth': None, 'bootstrap': True}  \n",
       "1       {'n_estimators': 400, 'min_samples_split': 2, 'min_samples_leaf': 2, 'max_features': 'sqrt', 'max_depth': 5, 'bootstrap': True}  \n",
       "2     {'n_estimators': 600, 'min_samples_split': 5, 'min_samples_leaf': 2, 'max_features': 'auto', 'max_depth': 40, 'bootstrap': False}  \n",
       "3     {'n_estimators': 200, 'min_samples_split': 2, 'min_samples_leaf': 4, 'max_features': 'auto', 'max_depth': 40, 'bootstrap': False}  \n",
       "4     {'n_estimators': 600, 'min_samples_split': 10, 'min_samples_leaf': 4, 'max_features': 'auto', 'max_depth': 50, 'bootstrap': True}  \n",
       "5     {'n_estimators': 100, 'min_samples_split': 10, 'min_samples_leaf': 4, 'max_features': 'sqrt', 'max_depth': 20, 'bootstrap': True}  \n",
       "6     {'n_estimators': 100, 'min_samples_split': 2, 'min_samples_leaf': 4, 'max_features': 'auto', 'max_depth': 70, 'bootstrap': False}  \n",
       "7     {'n_estimators': 100, 'min_samples_split': 2, 'min_samples_leaf': 1, 'max_features': 'auto', 'max_depth': 30, 'bootstrap': False}  \n",
       "8    {'n_estimators': 100, 'min_samples_split': 10, 'min_samples_leaf': 1, 'max_features': 'sqrt', 'max_depth': 50, 'bootstrap': False}  \n",
       "9     {'n_estimators': 100, 'min_samples_split': 5, 'min_samples_leaf': 1, 'max_features': 'sqrt', 'max_depth': 10, 'bootstrap': False}  \n",
       "10    {'n_estimators': 100, 'min_samples_split': 10, 'min_samples_leaf': 4, 'max_features': 'auto', 'max_depth': 60, 'bootstrap': True}  \n",
       "11     {'n_estimators': 200, 'min_samples_split': 5, 'min_samples_leaf': 2, 'max_features': 'sqrt', 'max_depth': 30, 'bootstrap': True}  \n",
       "12    {'n_estimators': 200, 'min_samples_split': 2, 'min_samples_leaf': 1, 'max_features': 'auto', 'max_depth': 30, 'bootstrap': False}  \n",
       "13     {'n_estimators': 600, 'min_samples_split': 5, 'min_samples_leaf': 1, 'max_features': 'auto', 'max_depth': 5, 'bootstrap': False}  \n",
       "14  {'n_estimators': 200, 'min_samples_split': 10, 'min_samples_leaf': 4, 'max_features': 'auto', 'max_depth': None, 'bootstrap': True}  \n",
       "15     {'n_estimators': 400, 'min_samples_split': 5, 'min_samples_leaf': 2, 'max_features': 'sqrt', 'max_depth': 40, 'bootstrap': True}  \n",
       "16    {'n_estimators': 200, 'min_samples_split': 2, 'min_samples_leaf': 2, 'max_features': 'sqrt', 'max_depth': 50, 'bootstrap': False}  \n",
       "17    {'n_estimators': 200, 'min_samples_split': 5, 'min_samples_leaf': 2, 'max_features': 'sqrt', 'max_depth': 20, 'bootstrap': False}  \n",
       "18    {'n_estimators': 400, 'min_samples_split': 10, 'min_samples_leaf': 2, 'max_features': 'sqrt', 'max_depth': 40, 'bootstrap': True}  \n",
       "19   {'n_estimators': 400, 'min_samples_split': 10, 'min_samples_leaf': 1, 'max_features': 'auto', 'max_depth': 30, 'bootstrap': False}  \n",
       "20     {'n_estimators': 200, 'min_samples_split': 2, 'min_samples_leaf': 1, 'max_features': 'auto', 'max_depth': 60, 'bootstrap': True}  \n",
       "21     {'n_estimators': 400, 'min_samples_split': 2, 'min_samples_leaf': 2, 'max_features': 'auto', 'max_depth': 10, 'bootstrap': True}  \n",
       "22    {'n_estimators': 600, 'min_samples_split': 10, 'min_samples_leaf': 4, 'max_features': 'sqrt', 'max_depth': 70, 'bootstrap': True}  \n",
       "23    {'n_estimators': 200, 'min_samples_split': 2, 'min_samples_leaf': 1, 'max_features': 'sqrt', 'max_depth': 60, 'bootstrap': False}  \n",
       "24    {'n_estimators': 600, 'min_samples_split': 2, 'min_samples_leaf': 1, 'max_features': 'sqrt', 'max_depth': 10, 'bootstrap': False}  \n",
       "25     {'n_estimators': 100, 'min_samples_split': 5, 'min_samples_leaf': 2, 'max_features': 'sqrt', 'max_depth': 70, 'bootstrap': True}  \n",
       "26    {'n_estimators': 100, 'min_samples_split': 10, 'min_samples_leaf': 2, 'max_features': 'auto', 'max_depth': 90, 'bootstrap': True}  \n",
       "27    {'n_estimators': 600, 'min_samples_split': 10, 'min_samples_leaf': 2, 'max_features': 'auto', 'max_depth': 70, 'bootstrap': True}  \n",
       "28    {'n_estimators': 200, 'min_samples_split': 5, 'min_samples_leaf': 4, 'max_features': 'sqrt', 'max_depth': 30, 'bootstrap': False}  \n",
       "29   {'n_estimators': 400, 'min_samples_split': 10, 'min_samples_leaf': 2, 'max_features': 'auto', 'max_depth': 40, 'bootstrap': False}  "
      ]
     },
     "execution_count": 21,
     "metadata": {},
     "output_type": "execute_result"
    }
   ],
   "source": [
    "pd.set_option('display.max_colwidth', None)\n",
    "pd.DataFrame(rand_search.cv_results_)[['mean_test_score', 'params']]\n"
   ]
  },
  {
   "cell_type": "code",
   "execution_count": 43,
   "metadata": {
    "scrolled": true
   },
   "outputs": [
    {
     "name": "stdout",
     "output_type": "stream",
     "text": [
      "-0.07574089883042273\n",
      "{'n_estimators': 200, 'min_samples_split': 2, 'min_samples_leaf': 1, 'max_features': 'sqrt', 'max_depth': 60, 'bootstrap': False, 'objective': 'multi:softprob'}\n"
     ]
    }
   ],
   "source": [
    "# dohvaćanje najboljih parametara\n",
    "print(rand_search.best_score_)\n",
    "print(rand_search.best_params_)\n",
    "#param4=rand_search.best_params_"
   ]
  },
  {
   "cell_type": "markdown",
   "metadata": {},
   "source": [
    "Dobili smo jednak rezultat za accuracy i za logloss tako da ćemo uzeti te parametre"
   ]
  },
  {
   "cell_type": "code",
   "execution_count": 28,
   "metadata": {},
   "outputs": [],
   "source": [
    "params=param4"
   ]
  },
  {
   "cell_type": "code",
   "execution_count": 25,
   "metadata": {
    "scrolled": true
   },
   "outputs": [
    {
     "data": {
      "text/plain": [
       "{'n_estimators': 200,\n",
       " 'min_samples_split': 2,\n",
       " 'min_samples_leaf': 1,\n",
       " 'max_features': 'sqrt',\n",
       " 'max_depth': 60,\n",
       " 'bootstrap': False,\n",
       " 'objective': 'multi:softprob'}"
      ]
     },
     "execution_count": 25,
     "metadata": {},
     "output_type": "execute_result"
    }
   ],
   "source": [
    "params"
   ]
  },
  {
   "cell_type": "markdown",
   "metadata": {},
   "source": [
    "<br>\n",
    "<br>"
   ]
  },
  {
   "cell_type": "code",
   "execution_count": 73,
   "metadata": {},
   "outputs": [
    {
     "name": "stdout",
     "output_type": "stream",
     "text": [
      "Logloss:0.06798612000724681\n",
      "Accuracy:0.9871205151793928\n"
     ]
    },
    {
     "data": {
      "image/png": "[encoded data removed]",
      "text/plain": [
       "<Figure size 720x720 with 2 Axes>"
      ]
     },
     "metadata": {
      "needs_background": "light"
     },
     "output_type": "display_data"
    }
   ],
   "source": [
    "params={'n_estimators': 200,\n",
    "    'min_samples_split': 2,\n",
    "    'min_samples_leaf': 1,\n",
    "    'max_features': 'sqrt',\n",
    "    'max_depth': 60,\n",
    "    'bootstrap': False}\n",
    "\n",
    "#xgboost na selektiranim značajkama\n",
    "X_train, X_test, y_train, y_test = train_test_split( X, features['Class'], test_size=0.3, random_state=seed)\n",
    "rf = RandomForestClassifier(**params)\n",
    "rf.fit(X_train, y_train)\n",
    "model_test(rf,X_test,y_test)"
   ]
  },
  {
   "cell_type": "markdown",
   "metadata": {},
   "source": [
    "## Pokušaji rješavanja nebalasiranosti podataka"
   ]
  },
  {
   "cell_type": "markdown",
   "metadata": {},
   "source": [
    "### oversampling"
   ]
  },
  {
   "cell_type": "code",
   "execution_count": 60,
   "metadata": {},
   "outputs": [
    {
     "name": "stdout",
     "output_type": "stream",
     "text": [
      "[(1, 2036), (2, 2036), (3, 2036), (4, 2036), (5, 2036), (6, 2036), (7, 2036), (8, 2036), (9, 2036)]\n",
      "Logloss:0.06942285292990785\n",
      "Accuracy:0.9862005519779209\n"
     ]
    },
    {
     "data": {
      "image/png": "[encoded data removed]",
      "text/plain": [
       "<Figure size 720x720 with 2 Axes>"
      ]
     },
     "metadata": {
      "needs_background": "light"
     },
     "output_type": "display_data"
    }
   ],
   "source": [
    "#RandomOverSampler\n",
    "X_train, X_test, y_train, y_test = train_test_split( X, features['Class'], test_size=0.3, random_state=seed)\n",
    "ros = RandomOverSampler(random_state=0)\n",
    "X_train, y_train = ros.fit_resample(X_train, y_train)\n",
    "print(sorted(Counter(y_train).items()))\n",
    "rf = RandomForestClassifier(**params)\n",
    "rf.fit(X_train, y_train)\n",
    "model_test(rf,X_test,y_test)"
   ]
  },
  {
   "cell_type": "code",
   "execution_count": 61,
   "metadata": {
    "scrolled": true
   },
   "outputs": [
    {
     "name": "stdout",
     "output_type": "stream",
     "text": [
      "[(1, 2036), (2, 2036), (3, 2036), (4, 2036), (5, 2036), (6, 2036), (7, 2036), (8, 2036), (9, 2036)]\n",
      "Logloss:0.0658734234794313\n",
      "Accuracy:0.9883471327813554\n"
     ]
    },
    {
     "data": {
      "image/png": "[encoded data removed]",
      "text/plain": [
       "<Figure size 720x720 with 2 Axes>"
      ]
     },
     "metadata": {
      "needs_background": "light"
     },
     "output_type": "display_data"
    }
   ],
   "source": [
    "#SMOTE\n",
    "X_train, X_test, y_train, y_test = train_test_split( X, features['Class'], test_size=0.3, random_state=seed)\n",
    "X_train, y_train = SMOTE().fit_resample(X_train, y_train)\n",
    "print(sorted(Counter(y_train).items()))\n",
    "rf = RandomForestClassifier(**params)\n",
    "rf.fit(X_train, y_train)\n",
    "model_test(rf,X_test,y_test)\n"
   ]
  },
  {
   "cell_type": "code",
   "execution_count": 63,
   "metadata": {},
   "outputs": [
    {
     "name": "stdout",
     "output_type": "stream",
     "text": [
      "[(1, 2021), (2, 2034), (3, 2036), (4, 2031), (5, 2031), (6, 2026), (7, 2040), (8, 2028), (9, 2025)]\n",
      "Logloss:0.07434448517509806\n",
      "Accuracy:0.9892670959828274\n"
     ]
    },
    {
     "data": {
      "image/png": "[encoded data removed]",
      "text/plain": [
       "<Figure size 720x720 with 2 Axes>"
      ]
     },
     "metadata": {
      "needs_background": "light"
     },
     "output_type": "display_data"
    }
   ],
   "source": [
    "#ADASYN\n",
    "X_train, X_test, y_train, y_test = train_test_split( X, features['Class'], test_size=0.3, random_state=seed)\n",
    "X_train, y_train = ADASYN().fit_resample(X_train, y_train)\n",
    "print(sorted(Counter(y_train).items()))\n",
    "rf = RandomForestClassifier(**params)\n",
    "rf.fit(X_train, y_train)\n",
    "model_test(rf,X_test,y_test)"
   ]
  },
  {
   "cell_type": "markdown",
   "metadata": {},
   "source": [
    "### undersample"
   ]
  },
  {
   "cell_type": "code",
   "execution_count": 64,
   "metadata": {},
   "outputs": [
    {
     "name": "stdout",
     "output_type": "stream",
     "text": [
      "[(1, 1084), (2, 1753), (3, 30), (4, 332), (5, 30), (6, 506), (7, 278), (8, 881), (9, 706)]\n",
      "Logloss:0.1107437042134844\n",
      "Accuracy:0.9855872431769396\n"
     ]
    },
    {
     "data": {
      "image/png": "[encoded data removed]",
      "text/plain": [
       "<Figure size 720x720 with 2 Axes>"
      ]
     },
     "metadata": {
      "needs_background": "light"
     },
     "output_type": "display_data"
    }
   ],
   "source": [
    "#RandomUnderSampler\n",
    "X_train, X_test, y_train, y_test = train_test_split( X, features['Class'], test_size=0.3, random_state=seed)\n",
    "undersample = RandomUnderSampler(sampling_strategy='majority')\n",
    "X_train, y_train = undersample.fit_resample(X_train, y_train)\n",
    "print(sorted(Counter(y_train).items()))\n",
    "\n",
    "rf = RandomForestClassifier(**params)\n",
    "rf.fit(X_train, y_train)\n",
    "model_test(rf,X_test,y_test)"
   ]
  },
  {
   "cell_type": "markdown",
   "metadata": {},
   "source": [
    "## bagging"
   ]
  },
  {
   "cell_type": "code",
   "execution_count": 66,
   "metadata": {
    "scrolled": true
   },
   "outputs": [
    {
     "name": "stdout",
     "output_type": "stream",
     "text": [
      "Logloss:0.0820260096371637\n",
      "Accuracy:0.9868138607789022\n"
     ]
    },
    {
     "data": {
      "image/png": "[encoded data removed]",
      "text/plain": [
       "<Figure size 720x720 with 2 Axes>"
      ]
     },
     "metadata": {
      "needs_background": "light"
     },
     "output_type": "display_data"
    }
   ],
   "source": [
    "#BaggingClassifier iz sklearn-a, ali čini mi se da moramo koristit XGBClassifier()\n",
    "X_train, X_test, y_train, y_test = train_test_split( X, features['Class'], test_size=0.3, random_state=seed)\n",
    "\n",
    "rf = RandomForestClassifier(**params)\n",
    "\n",
    "model = BaggingClassifier(base_estimator=rf, n_estimators=10, random_state=seed)\n",
    "model.fit(X_train, y_train)\n",
    "\n",
    "model_test(model,X_test,y_test)"
   ]
  },
  {
   "cell_type": "markdown",
   "metadata": {},
   "source": [
    "### ručni kvazi-bagging"
   ]
  },
  {
   "cell_type": "code",
   "execution_count": 71,
   "metadata": {},
   "outputs": [],
   "source": [
    "def bagging_custom(n_bags, test_index, train_index, train_X, test_X, train_y):\n",
    "    \n",
    "    bags = n_bags#broj bag-ova\n",
    "    test_pred_prob = np.zeros((len(test_index),9))\n",
    "    for bg in range(bags):\n",
    "        #new_train_index je prvo samo izmješani train_index\n",
    "        new_train_index = random.sample(list(train_index), int(len(train_index) * 1.))\n",
    "        #dodajemo mi nasumične brojeve iz train_index (s ponavljanjem)\n",
    "        for i in range(int(len(train_index) * 1.)):\n",
    "            new_train_index.append(random.choice(train_index))\n",
    "\n",
    "        train_X=X.iloc[new_train_index,:]\n",
    "        train_y=y.iloc[new_train_index]\n",
    "\n",
    "        rf = RandomForestClassifier(**params)\n",
    "        rf.fit(X_train, y_train)\n",
    "\n",
    "        preds = rf.predict_proba(test_X) \n",
    "\n",
    "        print(\"Bag \" + str(bg+1))\n",
    "        \n",
    "        #zbrajamo vjerojatnosti od svih bag-ova\n",
    "        test_pred_prob += preds\n",
    "    #izračunamo prosječne vjerojatnosti pa onda klase\n",
    "    pred_prob = test_pred_prob / bags\n",
    "    best_preds = np.asarray([np.argmax(line) for line in pred_prob])\n",
    "    return best_preds, pred_prob"
   ]
  },
  {
   "cell_type": "markdown",
   "metadata": {},
   "source": [
    "### kfold"
   ]
  },
  {
   "cell_type": "code",
   "execution_count": 72,
   "metadata": {
    "scrolled": true
   },
   "outputs": [
    {
     "name": "stdout",
     "output_type": "stream",
     "text": [
      "Bag 1\n",
      "Bag 2\n",
      "Bag 3\n",
      "Bag 4\n",
      "Bag 5\n",
      "-----------------------------------\n",
      "FOLD 1\n",
      "Logloss:0.020138355309742527\n",
      "Accuracy:0.9958601655933763\n",
      "Missed! actual=4 predicted=2\n",
      "Missed! actual=5 predicted=6\n",
      "Missed! actual=5 predicted=4\n",
      "Missed! actual=8 predicted=9\n",
      "Missed! actual=8 predicted=1\n",
      "Missed! actual=8 predicted=1\n",
      "Missed! actual=8 predicted=1\n",
      "Missed! actual=8 predicted=1\n",
      "Missed! actual=9 predicted=1\n",
      "Bag 1\n",
      "Bag 2\n"
     ]
    },
    {
     "ename": "KeyboardInterrupt",
     "evalue": "",
     "output_type": "error",
     "traceback": [
      "\u001b[1;31m---------------------------------------------------------------------------\u001b[0m",
      "\u001b[1;31mKeyboardInterrupt\u001b[0m                         Traceback (most recent call last)",
      "\u001b[1;32m<ipython-input-72-9d2bceefcb42>\u001b[0m in \u001b[0;36m<module>\u001b[1;34m\u001b[0m\n\u001b[0;32m     17\u001b[0m     \u001b[0mtest_y\u001b[0m\u001b[1;33m=\u001b[0m\u001b[0my\u001b[0m\u001b[1;33m.\u001b[0m\u001b[0miloc\u001b[0m\u001b[1;33m[\u001b[0m\u001b[0mtest_index\u001b[0m\u001b[1;33m]\u001b[0m\u001b[1;33m\u001b[0m\u001b[1;33m\u001b[0m\u001b[0m\n\u001b[0;32m     18\u001b[0m     \u001b[1;31m#----------\u001b[0m\u001b[1;33m\u001b[0m\u001b[1;33m\u001b[0m\u001b[1;33m\u001b[0m\u001b[0m\n\u001b[1;32m---> 19\u001b[1;33m     \u001b[0mpred\u001b[0m \u001b[1;33m=\u001b[0m \u001b[0mbagging_custom\u001b[0m\u001b[1;33m(\u001b[0m\u001b[1;36m5\u001b[0m\u001b[1;33m,\u001b[0m \u001b[0mtest_index\u001b[0m\u001b[1;33m,\u001b[0m \u001b[0mtrain_index\u001b[0m\u001b[1;33m,\u001b[0m \u001b[0mtrain_X\u001b[0m\u001b[1;33m,\u001b[0m \u001b[0mtest_X\u001b[0m\u001b[1;33m,\u001b[0m \u001b[0mtrain_y\u001b[0m\u001b[1;33m)\u001b[0m\u001b[1;33m\u001b[0m\u001b[1;33m\u001b[0m\u001b[0m\n\u001b[0m\u001b[0;32m     20\u001b[0m     \u001b[1;31m#----------\u001b[0m\u001b[1;33m\u001b[0m\u001b[1;33m\u001b[0m\u001b[1;33m\u001b[0m\u001b[0m\n\u001b[0;32m     21\u001b[0m     \u001b[0mtest_y\u001b[0m \u001b[1;33m=\u001b[0m \u001b[1;33m[\u001b[0m\u001b[0mint\u001b[0m\u001b[1;33m(\u001b[0m\u001b[0mx\u001b[0m\u001b[1;33m-\u001b[0m\u001b[1;36m1\u001b[0m\u001b[1;33m)\u001b[0m \u001b[1;32mfor\u001b[0m \u001b[0mx\u001b[0m \u001b[1;32min\u001b[0m \u001b[0mtest_y\u001b[0m\u001b[1;33m]\u001b[0m\u001b[1;33m\u001b[0m\u001b[1;33m\u001b[0m\u001b[0m\n",
      "\u001b[1;32m<ipython-input-71-1910867aab1e>\u001b[0m in \u001b[0;36mbagging_custom\u001b[1;34m(n_bags, test_index, train_index, train_X, test_X, train_y)\u001b[0m\n\u001b[0;32m     15\u001b[0m         \u001b[0mrf\u001b[0m \u001b[1;33m=\u001b[0m \u001b[0mRandomForestClassifier\u001b[0m\u001b[1;33m(\u001b[0m\u001b[1;33m)\u001b[0m\u001b[1;33m\u001b[0m\u001b[1;33m\u001b[0m\u001b[0m\n\u001b[0;32m     16\u001b[0m         \u001b[0mrf\u001b[0m\u001b[1;33m.\u001b[0m\u001b[0mset_params\u001b[0m\u001b[1;33m(\u001b[0m\u001b[1;33m**\u001b[0m\u001b[0mparams\u001b[0m\u001b[1;33m)\u001b[0m\u001b[1;33m\u001b[0m\u001b[1;33m\u001b[0m\u001b[0m\n\u001b[1;32m---> 17\u001b[1;33m         \u001b[0mrf\u001b[0m\u001b[1;33m.\u001b[0m\u001b[0mfit\u001b[0m\u001b[1;33m(\u001b[0m\u001b[0mX_train\u001b[0m\u001b[1;33m,\u001b[0m \u001b[0my_train\u001b[0m\u001b[1;33m)\u001b[0m\u001b[1;33m\u001b[0m\u001b[1;33m\u001b[0m\u001b[0m\n\u001b[0m\u001b[0;32m     18\u001b[0m \u001b[1;33m\u001b[0m\u001b[0m\n\u001b[0;32m     19\u001b[0m         \u001b[0mpreds\u001b[0m \u001b[1;33m=\u001b[0m \u001b[0mrf\u001b[0m\u001b[1;33m.\u001b[0m\u001b[0mpredict_proba\u001b[0m\u001b[1;33m(\u001b[0m\u001b[0mtest_X\u001b[0m\u001b[1;33m)\u001b[0m\u001b[1;33m\u001b[0m\u001b[1;33m\u001b[0m\u001b[0m\n",
      "\u001b[1;32m~\\anaconda3\\lib\\site-packages\\sklearn\\ensemble\\_forest.py\u001b[0m in \u001b[0;36mfit\u001b[1;34m(self, X, y, sample_weight)\u001b[0m\n\u001b[0;32m    381\u001b[0m                     \u001b[0mverbose\u001b[0m\u001b[1;33m=\u001b[0m\u001b[0mself\u001b[0m\u001b[1;33m.\u001b[0m\u001b[0mverbose\u001b[0m\u001b[1;33m,\u001b[0m \u001b[0mclass_weight\u001b[0m\u001b[1;33m=\u001b[0m\u001b[0mself\u001b[0m\u001b[1;33m.\u001b[0m\u001b[0mclass_weight\u001b[0m\u001b[1;33m,\u001b[0m\u001b[1;33m\u001b[0m\u001b[1;33m\u001b[0m\u001b[0m\n\u001b[0;32m    382\u001b[0m                     n_samples_bootstrap=n_samples_bootstrap)\n\u001b[1;32m--> 383\u001b[1;33m                 for i, t in enumerate(trees))\n\u001b[0m\u001b[0;32m    384\u001b[0m \u001b[1;33m\u001b[0m\u001b[0m\n\u001b[0;32m    385\u001b[0m             \u001b[1;31m# Collect newly grown trees\u001b[0m\u001b[1;33m\u001b[0m\u001b[1;33m\u001b[0m\u001b[1;33m\u001b[0m\u001b[0m\n",
      "\u001b[1;32m~\\anaconda3\\lib\\site-packages\\joblib\\parallel.py\u001b[0m in \u001b[0;36m__call__\u001b[1;34m(self, iterable)\u001b[0m\n\u001b[0;32m   1005\u001b[0m                 \u001b[0mself\u001b[0m\u001b[1;33m.\u001b[0m\u001b[0m_iterating\u001b[0m \u001b[1;33m=\u001b[0m \u001b[0mself\u001b[0m\u001b[1;33m.\u001b[0m\u001b[0m_original_iterator\u001b[0m \u001b[1;32mis\u001b[0m \u001b[1;32mnot\u001b[0m \u001b[1;32mNone\u001b[0m\u001b[1;33m\u001b[0m\u001b[1;33m\u001b[0m\u001b[0m\n\u001b[0;32m   1006\u001b[0m \u001b[1;33m\u001b[0m\u001b[0m\n\u001b[1;32m-> 1007\u001b[1;33m             \u001b[1;32mwhile\u001b[0m \u001b[0mself\u001b[0m\u001b[1;33m.\u001b[0m\u001b[0mdispatch_one_batch\u001b[0m\u001b[1;33m(\u001b[0m\u001b[0miterator\u001b[0m\u001b[1;33m)\u001b[0m\u001b[1;33m:\u001b[0m\u001b[1;33m\u001b[0m\u001b[1;33m\u001b[0m\u001b[0m\n\u001b[0m\u001b[0;32m   1008\u001b[0m                 \u001b[1;32mpass\u001b[0m\u001b[1;33m\u001b[0m\u001b[1;33m\u001b[0m\u001b[0m\n\u001b[0;32m   1009\u001b[0m \u001b[1;33m\u001b[0m\u001b[0m\n",
      "\u001b[1;32m~\\anaconda3\\lib\\site-packages\\joblib\\parallel.py\u001b[0m in \u001b[0;36mdispatch_one_batch\u001b[1;34m(self, iterator)\u001b[0m\n\u001b[0;32m    833\u001b[0m                 \u001b[1;32mreturn\u001b[0m \u001b[1;32mFalse\u001b[0m\u001b[1;33m\u001b[0m\u001b[1;33m\u001b[0m\u001b[0m\n\u001b[0;32m    834\u001b[0m             \u001b[1;32melse\u001b[0m\u001b[1;33m:\u001b[0m\u001b[1;33m\u001b[0m\u001b[1;33m\u001b[0m\u001b[0m\n\u001b[1;32m--> 835\u001b[1;33m                 \u001b[0mself\u001b[0m\u001b[1;33m.\u001b[0m\u001b[0m_dispatch\u001b[0m\u001b[1;33m(\u001b[0m\u001b[0mtasks\u001b[0m\u001b[1;33m)\u001b[0m\u001b[1;33m\u001b[0m\u001b[1;33m\u001b[0m\u001b[0m\n\u001b[0m\u001b[0;32m    836\u001b[0m                 \u001b[1;32mreturn\u001b[0m \u001b[1;32mTrue\u001b[0m\u001b[1;33m\u001b[0m\u001b[1;33m\u001b[0m\u001b[0m\n\u001b[0;32m    837\u001b[0m \u001b[1;33m\u001b[0m\u001b[0m\n",
      "\u001b[1;32m~\\anaconda3\\lib\\site-packages\\joblib\\parallel.py\u001b[0m in \u001b[0;36m_dispatch\u001b[1;34m(self, batch)\u001b[0m\n\u001b[0;32m    752\u001b[0m         \u001b[1;32mwith\u001b[0m \u001b[0mself\u001b[0m\u001b[1;33m.\u001b[0m\u001b[0m_lock\u001b[0m\u001b[1;33m:\u001b[0m\u001b[1;33m\u001b[0m\u001b[1;33m\u001b[0m\u001b[0m\n\u001b[0;32m    753\u001b[0m             \u001b[0mjob_idx\u001b[0m \u001b[1;33m=\u001b[0m \u001b[0mlen\u001b[0m\u001b[1;33m(\u001b[0m\u001b[0mself\u001b[0m\u001b[1;33m.\u001b[0m\u001b[0m_jobs\u001b[0m\u001b[1;33m)\u001b[0m\u001b[1;33m\u001b[0m\u001b[1;33m\u001b[0m\u001b[0m\n\u001b[1;32m--> 754\u001b[1;33m             \u001b[0mjob\u001b[0m \u001b[1;33m=\u001b[0m \u001b[0mself\u001b[0m\u001b[1;33m.\u001b[0m\u001b[0m_backend\u001b[0m\u001b[1;33m.\u001b[0m\u001b[0mapply_async\u001b[0m\u001b[1;33m(\u001b[0m\u001b[0mbatch\u001b[0m\u001b[1;33m,\u001b[0m \u001b[0mcallback\u001b[0m\u001b[1;33m=\u001b[0m\u001b[0mcb\u001b[0m\u001b[1;33m)\u001b[0m\u001b[1;33m\u001b[0m\u001b[1;33m\u001b[0m\u001b[0m\n\u001b[0m\u001b[0;32m    755\u001b[0m             \u001b[1;31m# A job can complete so quickly than its callback is\u001b[0m\u001b[1;33m\u001b[0m\u001b[1;33m\u001b[0m\u001b[1;33m\u001b[0m\u001b[0m\n\u001b[0;32m    756\u001b[0m             \u001b[1;31m# called before we get here, causing self._jobs to\u001b[0m\u001b[1;33m\u001b[0m\u001b[1;33m\u001b[0m\u001b[1;33m\u001b[0m\u001b[0m\n",
      "\u001b[1;32m~\\anaconda3\\lib\\site-packages\\joblib\\_parallel_backends.py\u001b[0m in \u001b[0;36mapply_async\u001b[1;34m(self, func, callback)\u001b[0m\n\u001b[0;32m    207\u001b[0m     \u001b[1;32mdef\u001b[0m \u001b[0mapply_async\u001b[0m\u001b[1;33m(\u001b[0m\u001b[0mself\u001b[0m\u001b[1;33m,\u001b[0m \u001b[0mfunc\u001b[0m\u001b[1;33m,\u001b[0m \u001b[0mcallback\u001b[0m\u001b[1;33m=\u001b[0m\u001b[1;32mNone\u001b[0m\u001b[1;33m)\u001b[0m\u001b[1;33m:\u001b[0m\u001b[1;33m\u001b[0m\u001b[1;33m\u001b[0m\u001b[0m\n\u001b[0;32m    208\u001b[0m         \u001b[1;34m\"\"\"Schedule a func to be run\"\"\"\u001b[0m\u001b[1;33m\u001b[0m\u001b[1;33m\u001b[0m\u001b[0m\n\u001b[1;32m--> 209\u001b[1;33m         \u001b[0mresult\u001b[0m \u001b[1;33m=\u001b[0m \u001b[0mImmediateResult\u001b[0m\u001b[1;33m(\u001b[0m\u001b[0mfunc\u001b[0m\u001b[1;33m)\u001b[0m\u001b[1;33m\u001b[0m\u001b[1;33m\u001b[0m\u001b[0m\n\u001b[0m\u001b[0;32m    210\u001b[0m         \u001b[1;32mif\u001b[0m \u001b[0mcallback\u001b[0m\u001b[1;33m:\u001b[0m\u001b[1;33m\u001b[0m\u001b[1;33m\u001b[0m\u001b[0m\n\u001b[0;32m    211\u001b[0m             \u001b[0mcallback\u001b[0m\u001b[1;33m(\u001b[0m\u001b[0mresult\u001b[0m\u001b[1;33m)\u001b[0m\u001b[1;33m\u001b[0m\u001b[1;33m\u001b[0m\u001b[0m\n",
      "\u001b[1;32m~\\anaconda3\\lib\\site-packages\\joblib\\_parallel_backends.py\u001b[0m in \u001b[0;36m__init__\u001b[1;34m(self, batch)\u001b[0m\n\u001b[0;32m    588\u001b[0m         \u001b[1;31m# Don't delay the application, to avoid keeping the input\u001b[0m\u001b[1;33m\u001b[0m\u001b[1;33m\u001b[0m\u001b[1;33m\u001b[0m\u001b[0m\n\u001b[0;32m    589\u001b[0m         \u001b[1;31m# arguments in memory\u001b[0m\u001b[1;33m\u001b[0m\u001b[1;33m\u001b[0m\u001b[1;33m\u001b[0m\u001b[0m\n\u001b[1;32m--> 590\u001b[1;33m         \u001b[0mself\u001b[0m\u001b[1;33m.\u001b[0m\u001b[0mresults\u001b[0m \u001b[1;33m=\u001b[0m \u001b[0mbatch\u001b[0m\u001b[1;33m(\u001b[0m\u001b[1;33m)\u001b[0m\u001b[1;33m\u001b[0m\u001b[1;33m\u001b[0m\u001b[0m\n\u001b[0m\u001b[0;32m    591\u001b[0m \u001b[1;33m\u001b[0m\u001b[0m\n\u001b[0;32m    592\u001b[0m     \u001b[1;32mdef\u001b[0m \u001b[0mget\u001b[0m\u001b[1;33m(\u001b[0m\u001b[0mself\u001b[0m\u001b[1;33m)\u001b[0m\u001b[1;33m:\u001b[0m\u001b[1;33m\u001b[0m\u001b[1;33m\u001b[0m\u001b[0m\n",
      "\u001b[1;32m~\\anaconda3\\lib\\site-packages\\joblib\\parallel.py\u001b[0m in \u001b[0;36m__call__\u001b[1;34m(self)\u001b[0m\n\u001b[0;32m    254\u001b[0m         \u001b[1;32mwith\u001b[0m \u001b[0mparallel_backend\u001b[0m\u001b[1;33m(\u001b[0m\u001b[0mself\u001b[0m\u001b[1;33m.\u001b[0m\u001b[0m_backend\u001b[0m\u001b[1;33m,\u001b[0m \u001b[0mn_jobs\u001b[0m\u001b[1;33m=\u001b[0m\u001b[0mself\u001b[0m\u001b[1;33m.\u001b[0m\u001b[0m_n_jobs\u001b[0m\u001b[1;33m)\u001b[0m\u001b[1;33m:\u001b[0m\u001b[1;33m\u001b[0m\u001b[1;33m\u001b[0m\u001b[0m\n\u001b[0;32m    255\u001b[0m             return [func(*args, **kwargs)\n\u001b[1;32m--> 256\u001b[1;33m                     for func, args, kwargs in self.items]\n\u001b[0m\u001b[0;32m    257\u001b[0m \u001b[1;33m\u001b[0m\u001b[0m\n\u001b[0;32m    258\u001b[0m     \u001b[1;32mdef\u001b[0m \u001b[0m__len__\u001b[0m\u001b[1;33m(\u001b[0m\u001b[0mself\u001b[0m\u001b[1;33m)\u001b[0m\u001b[1;33m:\u001b[0m\u001b[1;33m\u001b[0m\u001b[1;33m\u001b[0m\u001b[0m\n",
      "\u001b[1;32m~\\anaconda3\\lib\\site-packages\\joblib\\parallel.py\u001b[0m in \u001b[0;36m<listcomp>\u001b[1;34m(.0)\u001b[0m\n\u001b[0;32m    254\u001b[0m         \u001b[1;32mwith\u001b[0m \u001b[0mparallel_backend\u001b[0m\u001b[1;33m(\u001b[0m\u001b[0mself\u001b[0m\u001b[1;33m.\u001b[0m\u001b[0m_backend\u001b[0m\u001b[1;33m,\u001b[0m \u001b[0mn_jobs\u001b[0m\u001b[1;33m=\u001b[0m\u001b[0mself\u001b[0m\u001b[1;33m.\u001b[0m\u001b[0m_n_jobs\u001b[0m\u001b[1;33m)\u001b[0m\u001b[1;33m:\u001b[0m\u001b[1;33m\u001b[0m\u001b[1;33m\u001b[0m\u001b[0m\n\u001b[0;32m    255\u001b[0m             return [func(*args, **kwargs)\n\u001b[1;32m--> 256\u001b[1;33m                     for func, args, kwargs in self.items]\n\u001b[0m\u001b[0;32m    257\u001b[0m \u001b[1;33m\u001b[0m\u001b[0m\n\u001b[0;32m    258\u001b[0m     \u001b[1;32mdef\u001b[0m \u001b[0m__len__\u001b[0m\u001b[1;33m(\u001b[0m\u001b[0mself\u001b[0m\u001b[1;33m)\u001b[0m\u001b[1;33m:\u001b[0m\u001b[1;33m\u001b[0m\u001b[1;33m\u001b[0m\u001b[0m\n",
      "\u001b[1;32m~\\anaconda3\\lib\\site-packages\\sklearn\\ensemble\\_forest.py\u001b[0m in \u001b[0;36m_parallel_build_trees\u001b[1;34m(tree, forest, X, y, sample_weight, tree_idx, n_trees, verbose, class_weight, n_samples_bootstrap)\u001b[0m\n\u001b[0;32m    165\u001b[0m         \u001b[0mtree\u001b[0m\u001b[1;33m.\u001b[0m\u001b[0mfit\u001b[0m\u001b[1;33m(\u001b[0m\u001b[0mX\u001b[0m\u001b[1;33m,\u001b[0m \u001b[0my\u001b[0m\u001b[1;33m,\u001b[0m \u001b[0msample_weight\u001b[0m\u001b[1;33m=\u001b[0m\u001b[0mcurr_sample_weight\u001b[0m\u001b[1;33m,\u001b[0m \u001b[0mcheck_input\u001b[0m\u001b[1;33m=\u001b[0m\u001b[1;32mFalse\u001b[0m\u001b[1;33m)\u001b[0m\u001b[1;33m\u001b[0m\u001b[1;33m\u001b[0m\u001b[0m\n\u001b[0;32m    166\u001b[0m     \u001b[1;32melse\u001b[0m\u001b[1;33m:\u001b[0m\u001b[1;33m\u001b[0m\u001b[1;33m\u001b[0m\u001b[0m\n\u001b[1;32m--> 167\u001b[1;33m         \u001b[0mtree\u001b[0m\u001b[1;33m.\u001b[0m\u001b[0mfit\u001b[0m\u001b[1;33m(\u001b[0m\u001b[0mX\u001b[0m\u001b[1;33m,\u001b[0m \u001b[0my\u001b[0m\u001b[1;33m,\u001b[0m \u001b[0msample_weight\u001b[0m\u001b[1;33m=\u001b[0m\u001b[0msample_weight\u001b[0m\u001b[1;33m,\u001b[0m \u001b[0mcheck_input\u001b[0m\u001b[1;33m=\u001b[0m\u001b[1;32mFalse\u001b[0m\u001b[1;33m)\u001b[0m\u001b[1;33m\u001b[0m\u001b[1;33m\u001b[0m\u001b[0m\n\u001b[0m\u001b[0;32m    168\u001b[0m \u001b[1;33m\u001b[0m\u001b[0m\n\u001b[0;32m    169\u001b[0m     \u001b[1;32mreturn\u001b[0m \u001b[0mtree\u001b[0m\u001b[1;33m\u001b[0m\u001b[1;33m\u001b[0m\u001b[0m\n",
      "\u001b[1;32m~\\anaconda3\\lib\\site-packages\\sklearn\\tree\\_classes.py\u001b[0m in \u001b[0;36mfit\u001b[1;34m(self, X, y, sample_weight, check_input, X_idx_sorted)\u001b[0m\n\u001b[0;32m    875\u001b[0m             \u001b[0msample_weight\u001b[0m\u001b[1;33m=\u001b[0m\u001b[0msample_weight\u001b[0m\u001b[1;33m,\u001b[0m\u001b[1;33m\u001b[0m\u001b[1;33m\u001b[0m\u001b[0m\n\u001b[0;32m    876\u001b[0m             \u001b[0mcheck_input\u001b[0m\u001b[1;33m=\u001b[0m\u001b[0mcheck_input\u001b[0m\u001b[1;33m,\u001b[0m\u001b[1;33m\u001b[0m\u001b[1;33m\u001b[0m\u001b[0m\n\u001b[1;32m--> 877\u001b[1;33m             X_idx_sorted=X_idx_sorted)\n\u001b[0m\u001b[0;32m    878\u001b[0m         \u001b[1;32mreturn\u001b[0m \u001b[0mself\u001b[0m\u001b[1;33m\u001b[0m\u001b[1;33m\u001b[0m\u001b[0m\n\u001b[0;32m    879\u001b[0m \u001b[1;33m\u001b[0m\u001b[0m\n",
      "\u001b[1;32m~\\anaconda3\\lib\\site-packages\\sklearn\\tree\\_classes.py\u001b[0m in \u001b[0;36mfit\u001b[1;34m(self, X, y, sample_weight, check_input, X_idx_sorted)\u001b[0m\n\u001b[0;32m    365\u001b[0m                                            min_impurity_split)\n\u001b[0;32m    366\u001b[0m \u001b[1;33m\u001b[0m\u001b[0m\n\u001b[1;32m--> 367\u001b[1;33m         \u001b[0mbuilder\u001b[0m\u001b[1;33m.\u001b[0m\u001b[0mbuild\u001b[0m\u001b[1;33m(\u001b[0m\u001b[0mself\u001b[0m\u001b[1;33m.\u001b[0m\u001b[0mtree_\u001b[0m\u001b[1;33m,\u001b[0m \u001b[0mX\u001b[0m\u001b[1;33m,\u001b[0m \u001b[0my\u001b[0m\u001b[1;33m,\u001b[0m \u001b[0msample_weight\u001b[0m\u001b[1;33m,\u001b[0m \u001b[0mX_idx_sorted\u001b[0m\u001b[1;33m)\u001b[0m\u001b[1;33m\u001b[0m\u001b[1;33m\u001b[0m\u001b[0m\n\u001b[0m\u001b[0;32m    368\u001b[0m \u001b[1;33m\u001b[0m\u001b[0m\n\u001b[0;32m    369\u001b[0m         \u001b[1;32mif\u001b[0m \u001b[0mself\u001b[0m\u001b[1;33m.\u001b[0m\u001b[0mn_outputs_\u001b[0m \u001b[1;33m==\u001b[0m \u001b[1;36m1\u001b[0m \u001b[1;32mand\u001b[0m \u001b[0mis_classifier\u001b[0m\u001b[1;33m(\u001b[0m\u001b[0mself\u001b[0m\u001b[1;33m)\u001b[0m\u001b[1;33m:\u001b[0m\u001b[1;33m\u001b[0m\u001b[1;33m\u001b[0m\u001b[0m\n",
      "\u001b[1;31mKeyboardInterrupt\u001b[0m: "
     ]
    }
   ],
   "source": [
    "X=selected_features.iloc[:,1:187]\n",
    "y=features.iloc[:,1]\n",
    "\n",
    "kfold = StratifiedKFold(n_splits = 5, shuffle = True, random_state = 1000)\n",
    "\n",
    "predicted = []\n",
    "original = []\n",
    "log_losses = []\n",
    "accuracies = []\n",
    "fold_counter = 0\n",
    "misclassified_counter = 1\n",
    "for train_index, test_index in kfold.split(X,y):\n",
    "    fold_counter += 1\n",
    "    train_X=X.iloc[train_index,:]\n",
    "    train_y=y.iloc[train_index]\n",
    "    test_X=X.iloc[test_index,:]\n",
    "    test_y=y.iloc[test_index]\n",
    "    #----------\n",
    "    pred = bagging_custom(5, test_index, train_index, train_X, test_X, train_y) \n",
    "    #----------\n",
    "    test_y = [int(x-1) for x in test_y]\n",
    "    \n",
    "    score_log = log_loss(test_y,pred[1],eps=1e-15)\n",
    "    score_acc = accuracy_score(test_y, pred[0])\n",
    "\n",
    "    log_losses.append(score_log)\n",
    "    accuracies.append(score_acc)\n",
    "    \n",
    "    predicted.extend(pred[0])\n",
    "    original.extend(test_y)\n",
    "    \n",
    "    print('-----------------------------------')\n",
    "    print('FOLD '+ str(fold_counter))\n",
    "    print('Logloss:' + str(score_log))\n",
    "    print('Accuracy:' + str(score_acc))\n",
    "\n",
    "    for i in range(len(pred[0])):\n",
    "        if pred[0][i] != test_y[i]:\n",
    "            print ('Missed! ' + 'actual='+str(test_y[i]+1) + ' predicted='+str(pred[0][i]+1))\n",
    "            misclassified_counter += 1\n",
    "\n",
    "predicted = np.array(predicted)\n",
    "original = np.array(original)\n",
    "print ('===========================================')\n",
    "print('In total {} misclassified samples'.format(misclassified_counter-1))\n",
    "print('Accuracy mean : ' + str(np.mean(accuracies)))\n",
    "print('log loss mean : ' + str(np.mean(log_losses)))\n"
   ]
  },
  {
   "cell_type": "markdown",
   "metadata": {},
   "source": [
    "# kraj"
   ]
  },
  {
   "cell_type": "code",
   "execution_count": 75,
   "metadata": {},
   "outputs": [],
   "source": [
    "selected_features_test = pd.read_csv('selected_features_rfc_test_cv2.csv')"
   ]
  },
  {
   "cell_type": "code",
   "execution_count": 112,
   "metadata": {},
   "outputs": [
    {
     "name": "stdout",
     "output_type": "stream",
     "text": [
      "Bag 1\n",
      "Bag 2\n",
      "Bag 3\n",
      "Bag 4\n",
      "Bag 5\n",
      "Bag 6\n",
      "Bag 7\n",
      "Bag 8\n",
      "Bag 9\n",
      "Bag 10\n"
     ]
    }
   ],
   "source": [
    "X_test=selected_features_test.iloc[:,1:10873]\n",
    "train_index=X.iloc[:,0]\n",
    "test_index=selected_features_test.iloc[:,0]\n",
    "\n",
    "pred = bagging_custom(10, test_index, train_index, X, X_test, y) \n"
   ]
  },
  {
   "cell_type": "markdown",
   "metadata": {},
   "source": [
    "# submission\n",
    "bez headera"
   ]
  },
  {
   "cell_type": "code",
   "execution_count": 69,
   "metadata": {},
   "outputs": [],
   "source": [
    "# load Id column of testset\n",
    "md5hash_test = pd.read_csv(\"https://raw.githubusercontent.com/mateastanisic/lfs/master/md5hash_test.csv\")\n",
    "# drop first colum that was left -> fix this and save dataframe without that column\n",
    "md5hash_test.drop(['Unnamed: 0'], axis=1, inplace=True)"
   ]
  },
  {
   "cell_type": "code",
   "execution_count": 114,
   "metadata": {
    "scrolled": false
   },
   "outputs": [
    {
     "data": {
      "text/html": [
       "<div>\n",
       "<style scoped>\n",
       "    .dataframe tbody tr th:only-of-type {\n",
       "        vertical-align: middle;\n",
       "    }\n",
       "\n",
       "    .dataframe tbody tr th {\n",
       "        vertical-align: top;\n",
       "    }\n",
       "\n",
       "    .dataframe thead th {\n",
       "        text-align: right;\n",
       "    }\n",
       "</style>\n",
       "<table border=\"1\" class=\"dataframe\">\n",
       "  <thead>\n",
       "    <tr style=\"text-align: right;\">\n",
       "      <th></th>\n",
       "      <th>0</th>\n",
       "      <th>1</th>\n",
       "      <th>2</th>\n",
       "      <th>3</th>\n",
       "      <th>4</th>\n",
       "      <th>5</th>\n",
       "      <th>6</th>\n",
       "      <th>7</th>\n",
       "      <th>8</th>\n",
       "    </tr>\n",
       "  </thead>\n",
       "  <tbody>\n",
       "    <tr>\n",
       "      <th>0</th>\n",
       "      <td>0.000232</td>\n",
       "      <td>0.000235</td>\n",
       "      <td>0.000194</td>\n",
       "      <td>0.000189</td>\n",
       "      <td>0.996269</td>\n",
       "      <td>0.001132</td>\n",
       "      <td>0.000516</td>\n",
       "      <td>0.000890</td>\n",
       "      <td>0.000341</td>\n",
       "    </tr>\n",
       "    <tr>\n",
       "      <th>1</th>\n",
       "      <td>0.000069</td>\n",
       "      <td>0.000142</td>\n",
       "      <td>0.000056</td>\n",
       "      <td>0.000055</td>\n",
       "      <td>0.998794</td>\n",
       "      <td>0.000235</td>\n",
       "      <td>0.000281</td>\n",
       "      <td>0.000187</td>\n",
       "      <td>0.000183</td>\n",
       "    </tr>\n",
       "    <tr>\n",
       "      <th>2</th>\n",
       "      <td>0.000150</td>\n",
       "      <td>0.000196</td>\n",
       "      <td>0.000106</td>\n",
       "      <td>0.000145</td>\n",
       "      <td>0.998160</td>\n",
       "      <td>0.000257</td>\n",
       "      <td>0.000282</td>\n",
       "      <td>0.000514</td>\n",
       "      <td>0.000188</td>\n",
       "    </tr>\n",
       "    <tr>\n",
       "      <th>3</th>\n",
       "      <td>0.003723</td>\n",
       "      <td>0.006853</td>\n",
       "      <td>0.003120</td>\n",
       "      <td>0.004150</td>\n",
       "      <td>0.939744</td>\n",
       "      <td>0.015020</td>\n",
       "      <td>0.003415</td>\n",
       "      <td>0.019795</td>\n",
       "      <td>0.004180</td>\n",
       "    </tr>\n",
       "    <tr>\n",
       "      <th>4</th>\n",
       "      <td>0.000017</td>\n",
       "      <td>0.000014</td>\n",
       "      <td>0.999821</td>\n",
       "      <td>0.000015</td>\n",
       "      <td>0.000037</td>\n",
       "      <td>0.000026</td>\n",
       "      <td>0.000024</td>\n",
       "      <td>0.000024</td>\n",
       "      <td>0.000022</td>\n",
       "    </tr>\n",
       "    <tr>\n",
       "      <th>...</th>\n",
       "      <td>...</td>\n",
       "      <td>...</td>\n",
       "      <td>...</td>\n",
       "      <td>...</td>\n",
       "      <td>...</td>\n",
       "      <td>...</td>\n",
       "      <td>...</td>\n",
       "      <td>...</td>\n",
       "      <td>...</td>\n",
       "    </tr>\n",
       "    <tr>\n",
       "      <th>10868</th>\n",
       "      <td>0.000011</td>\n",
       "      <td>0.000009</td>\n",
       "      <td>0.999891</td>\n",
       "      <td>0.000010</td>\n",
       "      <td>0.000022</td>\n",
       "      <td>0.000015</td>\n",
       "      <td>0.000014</td>\n",
       "      <td>0.000014</td>\n",
       "      <td>0.000014</td>\n",
       "    </tr>\n",
       "    <tr>\n",
       "      <th>10869</th>\n",
       "      <td>0.000023</td>\n",
       "      <td>0.000138</td>\n",
       "      <td>0.000023</td>\n",
       "      <td>0.000043</td>\n",
       "      <td>0.000046</td>\n",
       "      <td>0.000046</td>\n",
       "      <td>0.999606</td>\n",
       "      <td>0.000048</td>\n",
       "      <td>0.000027</td>\n",
       "    </tr>\n",
       "    <tr>\n",
       "      <th>10870</th>\n",
       "      <td>0.000009</td>\n",
       "      <td>0.000009</td>\n",
       "      <td>0.999892</td>\n",
       "      <td>0.000010</td>\n",
       "      <td>0.000017</td>\n",
       "      <td>0.000016</td>\n",
       "      <td>0.000021</td>\n",
       "      <td>0.000011</td>\n",
       "      <td>0.000015</td>\n",
       "    </tr>\n",
       "    <tr>\n",
       "      <th>10871</th>\n",
       "      <td>0.000017</td>\n",
       "      <td>0.999795</td>\n",
       "      <td>0.000018</td>\n",
       "      <td>0.000011</td>\n",
       "      <td>0.000022</td>\n",
       "      <td>0.000019</td>\n",
       "      <td>0.000015</td>\n",
       "      <td>0.000031</td>\n",
       "      <td>0.000073</td>\n",
       "    </tr>\n",
       "    <tr>\n",
       "      <th>10872</th>\n",
       "      <td>0.000014</td>\n",
       "      <td>0.000014</td>\n",
       "      <td>0.000010</td>\n",
       "      <td>0.000011</td>\n",
       "      <td>0.000014</td>\n",
       "      <td>0.000029</td>\n",
       "      <td>0.000010</td>\n",
       "      <td>0.999861</td>\n",
       "      <td>0.000036</td>\n",
       "    </tr>\n",
       "  </tbody>\n",
       "</table>\n",
       "<p>10873 rows × 9 columns</p>\n",
       "</div>"
      ],
      "text/plain": [
       "              0         1         2         3         4         5         6  \\\n",
       "0      0.000232  0.000235  0.000194  0.000189  0.996269  0.001132  0.000516   \n",
       "1      0.000069  0.000142  0.000056  0.000055  0.998794  0.000235  0.000281   \n",
       "2      0.000150  0.000196  0.000106  0.000145  0.998160  0.000257  0.000282   \n",
       "3      0.003723  0.006853  0.003120  0.004150  0.939744  0.015020  0.003415   \n",
       "4      0.000017  0.000014  0.999821  0.000015  0.000037  0.000026  0.000024   \n",
       "...         ...       ...       ...       ...       ...       ...       ...   \n",
       "10868  0.000011  0.000009  0.999891  0.000010  0.000022  0.000015  0.000014   \n",
       "10869  0.000023  0.000138  0.000023  0.000043  0.000046  0.000046  0.999606   \n",
       "10870  0.000009  0.000009  0.999892  0.000010  0.000017  0.000016  0.000021   \n",
       "10871  0.000017  0.999795  0.000018  0.000011  0.000022  0.000019  0.000015   \n",
       "10872  0.000014  0.000014  0.000010  0.000011  0.000014  0.000029  0.000010   \n",
       "\n",
       "              7         8  \n",
       "0      0.000890  0.000341  \n",
       "1      0.000187  0.000183  \n",
       "2      0.000514  0.000188  \n",
       "3      0.019795  0.004180  \n",
       "4      0.000024  0.000022  \n",
       "...         ...       ...  \n",
       "10868  0.000014  0.000014  \n",
       "10869  0.000048  0.000027  \n",
       "10870  0.000011  0.000015  \n",
       "10871  0.000031  0.000073  \n",
       "10872  0.999861  0.000036  \n",
       "\n",
       "[10873 rows x 9 columns]"
      ]
     },
     "execution_count": 114,
     "metadata": {},
     "output_type": "execute_result"
    }
   ],
   "source": [
    "df = pd.DataFrame(pred[1])\n",
    "result = pd.concat([md5hash_test, df], axis=1, sort=False)\n",
    "result.to_csv('submisson.csv')"
   ]
  },
  {
   "cell_type": "code",
   "execution_count": null,
   "metadata": {},
   "outputs": [],
   "source": [
    "preds_clipped=np.clip(preds, 0.025,0.975)"
   ]
  }
 ],
 "metadata": {
  "kernelspec": {
   "display_name": "Python 3",
   "language": "python",
   "name": "python3"
  },
  "language_info": {
   "codemirror_mode": {
    "name": "ipython",
    "version": 3
   },
   "file_extension": ".py",
   "mimetype": "text/x-python",
   "name": "python",
   "nbconvert_exporter": "python",
   "pygments_lexer": "ipython3",
   "version": "3.7.6"
  }
 },
 "nbformat": 4,
 "nbformat_minor": 4
}
